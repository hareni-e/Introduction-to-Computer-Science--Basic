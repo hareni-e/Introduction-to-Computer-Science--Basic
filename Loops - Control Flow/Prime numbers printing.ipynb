{
 "cells": [
  {
   "cell_type": "markdown",
   "id": "8aa51be7-aa44-4728-bf96-57d10d55713c",
   "metadata": {},
   "source": [
    "### Prime Numbers\n",
    "#### Write a program to print all prime numbers between 1 and 100.\n"
   ]
  },
  {
   "cell_type": "code",
   "execution_count": 5,
   "id": "872ed444-4a9e-42b5-b54b-ae45c3977de4",
   "metadata": {},
   "outputs": [],
   "source": [
    "i = 10\n",
    "for x in range(2,3):\n",
    "    if i % x == 0:\n",
    "        break\n",
    "else:\n",
    "    print(i, \"is prime number\")"
   ]
  },
  {
   "cell_type": "code",
   "execution_count": 9,
   "id": "d3c1f17c-cef9-472f-99f0-4cf579ad0001",
   "metadata": {},
   "outputs": [
    {
     "name": "stdout",
     "output_type": "stream",
     "text": [
      "5 is a prime number\n"
     ]
    }
   ],
   "source": [
    "i = 5 \n",
    "for x in range(2, i):  \n",
    "    if i % x == 0:  \n",
    "        print(i, \"is NOT a prime number\")  \n",
    "        break  \n",
    "else:  \n",
    "    print(i, \"is a prime number\")  "
   ]
  },
  {
   "cell_type": "code",
   "execution_count": 14,
   "id": "4df51c19-17b5-4fc7-94a1-d53fd61d286b",
   "metadata": {},
   "outputs": [
    {
     "name": "stdout",
     "output_type": "stream",
     "text": [
      "2\n",
      "3\n",
      "5\n",
      "7\n",
      "11\n",
      "13\n",
      "17\n",
      "19\n",
      "23\n",
      "29\n",
      "31\n",
      "37\n",
      "41\n",
      "43\n",
      "47\n",
      "53\n",
      "59\n",
      "61\n",
      "67\n",
      "71\n",
      "73\n",
      "79\n",
      "83\n",
      "89\n",
      "97\n"
     ]
    }
   ],
   "source": [
    "\n",
    "for i in range(2,101):\n",
    "    for x in range(2, i):  \n",
    "        if i % x == 0:  \n",
    "            #print(i, \"is NOT a prime number\")  \n",
    "            break  \n",
    "    else:  \n",
    "        print(i)  "
   ]
  },
  {
   "cell_type": "code",
   "execution_count": null,
   "id": "8cc11109-5624-44ec-9cb3-38b3ed025455",
   "metadata": {},
   "outputs": [],
   "source": []
  }
 ],
 "metadata": {
  "kernelspec": {
   "display_name": "Python 3 (ipykernel)",
   "language": "python",
   "name": "python3"
  },
  "language_info": {
   "codemirror_mode": {
    "name": "ipython",
    "version": 3
   },
   "file_extension": ".py",
   "mimetype": "text/x-python",
   "name": "python",
   "nbconvert_exporter": "python",
   "pygments_lexer": "ipython3",
   "version": "3.12.9"
  }
 },
 "nbformat": 4,
 "nbformat_minor": 5
}
