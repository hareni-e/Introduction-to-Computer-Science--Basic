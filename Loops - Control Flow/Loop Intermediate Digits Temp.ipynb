{
 "cells": [
  {
   "cell_type": "markdown",
   "id": "6ca0894f-a1e2-4b90-a363-e12f4ae01e9e",
   "metadata": {},
   "source": [
    "# Intermediate-Level Loop Exercises\n",
    "\n",
    "## 1. Sum of Digits\n",
    "Write a program that takes a number as input and calculates the sum of its digits.  \n",
    "**Example:**  \n",
    "`Input: 1234 → Output: 10 (1+2+3+4)`\n",
    "\n"
   ]
  },
  {
   "cell_type": "code",
   "execution_count": null,
   "id": "79a60932-7ba8-4257-8a51-917c07481267",
   "metadata": {},
   "outputs": [],
   "source": []
  },
  {
   "cell_type": "markdown",
   "id": "0c27907e-7b49-4f25-a36f-963674a5b616",
   "metadata": {},
   "source": [
    "## 2. Reverse a Number\n",
    "Write a program that takes a number and prints its reverse.  \n",
    "**Example:**  \n",
    "`Input: 1234 → Output: 4321`\n",
    "\n"
   ]
  },
  {
   "cell_type": "code",
   "execution_count": null,
   "id": "8f41b53e-d492-46de-857a-aab1a57c7758",
   "metadata": {},
   "outputs": [],
   "source": []
  },
  {
   "cell_type": "code",
   "execution_count": null,
   "id": "2b4ec0b0-68c0-4f98-9f2a-186b58e18bc5",
   "metadata": {},
   "outputs": [],
   "source": []
  },
  {
   "cell_type": "markdown",
   "id": "4d17be3c-0262-45e7-bfde-20c38ebccc66",
   "metadata": {},
   "source": [
    "## 3. Count Even and Odd Digits\n",
    "Write a program to count how many even and odd digits are present in a given number.  \n",
    "**Example:**  \n",
    "`Input: 123456 → Output: Even: 3, Odd: 3`\n",
    "\n",
    "\n"
   ]
  },
  {
   "cell_type": "code",
   "execution_count": null,
   "id": "ede8c6db-3a30-4b0b-942e-72640d05c89f",
   "metadata": {},
   "outputs": [],
   "source": []
  },
  {
   "cell_type": "markdown",
   "id": "c273ff75-11c7-431c-a9fa-42bd625963ca",
   "metadata": {},
   "source": [
    "## 4. Find the Largest and Smallest Digit in a Number\n",
    "Write a program that finds the largest and smallest digit in a given number.  \n",
    "**Example:**  \n",
    "`Input: 87946 → Output: Largest: 9, Smallest: 4`\n",
    "\n"
   ]
  },
  {
   "cell_type": "code",
   "execution_count": null,
   "id": "00d49284-e4eb-43c4-a934-b4cb993cb154",
   "metadata": {},
   "outputs": [],
   "source": []
  },
  {
   "cell_type": "markdown",
   "id": "1a756d9e-73f9-4092-bee1-a2c99efaa8cb",
   "metadata": {},
   "source": [
    "## 5. Check for a Palindrome Number\n",
    "Write a program to check if a given number is a palindrome (reads the same forward and backward).  \n",
    "**Example:**  \n",
    "`Input: 121 → Output: Palindrome`\n",
    "\n"
   ]
  },
  {
   "cell_type": "code",
   "execution_count": null,
   "id": "654e409a-6fa0-401b-8bf6-50510d5edbb6",
   "metadata": {},
   "outputs": [],
   "source": []
  },
  {
   "cell_type": "markdown",
   "id": "1fe0ecac-5b63-4ebc-b784-3a1d85eaacf8",
   "metadata": {},
   "source": [
    "## 6. Sum of Series\n",
    "Write a program to compute the sum of the following series up to `n` terms:  \n",
    "\\[\n",
    "1 + \\frac{1}{2} + \\frac{1}{3} + \\frac{1}{4} + ... + \\frac{1}{n}\n",
    "\\]\n"
   ]
  },
  {
   "cell_type": "code",
   "execution_count": null,
   "id": "07322401-adaa-4d78-a7d8-902540eb20cd",
   "metadata": {},
   "outputs": [],
   "source": []
  },
  {
   "cell_type": "markdown",
   "id": "500f1279-3f0b-4e38-8b10-6ec3a4e01985",
   "metadata": {},
   "source": [
    "## 7. Count Digits in a Number\n",
    "Write a program that takes a number as input and counts the total number of digits in that number.  \n",
    "**Example:**  \n",
    "`Input: 987654 → Output: 6`"
   ]
  },
  {
   "cell_type": "code",
   "execution_count": null,
   "id": "2d4abff0-7f40-413e-92a5-083afc935b27",
   "metadata": {},
   "outputs": [],
   "source": []
  },
  {
   "cell_type": "code",
   "execution_count": null,
   "id": "db7bd31c-b6b2-4533-8883-51b8dbe310e9",
   "metadata": {},
   "outputs": [],
   "source": []
  }
 ],
 "metadata": {
  "kernelspec": {
   "display_name": "Python 3 (ipykernel)",
   "language": "python",
   "name": "python3"
  },
  "language_info": {
   "codemirror_mode": {
    "name": "ipython",
    "version": 3
   },
   "file_extension": ".py",
   "mimetype": "text/x-python",
   "name": "python",
   "nbconvert_exporter": "python",
   "pygments_lexer": "ipython3",
   "version": "3.12.8"
  }
 },
 "nbformat": 4,
 "nbformat_minor": 5
}
