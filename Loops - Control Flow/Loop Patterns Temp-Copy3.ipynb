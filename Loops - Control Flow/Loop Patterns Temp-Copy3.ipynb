{
 "cells": [
  {
   "cell_type": "markdown",
   "id": "4ccb66d9-9c86-45b2-a853-221216bb7259",
   "metadata": {},
   "source": [
    "# Python Practice Questions for Printing Number Patterns and Pyramids\n",
    "\n",
    "## Basic Level\n",
    "\n",
    "### 1. Right-Angled Triangle (Numbers)\n",
    "Write a Python program to print a right-angled triangle using numbers:\n",
    "```python\n",
    "1\n",
    "1 2\n",
    "1 2 3\n",
    "1 2 3 4\n",
    "1 2 3 4 5\n"
   ]
  },
  {
   "cell_type": "code",
   "execution_count": null,
   "id": "b679c36f-6147-42d5-b287-011bee4b853a",
   "metadata": {},
   "outputs": [],
   "source": []
  },
  {
   "cell_type": "code",
   "execution_count": 7,
   "id": "0f1c8b58-7aa3-471b-928e-c00c02056fb5",
   "metadata": {},
   "outputs": [
    {
     "name": "stdout",
     "output_type": "stream",
     "text": [
      "1 \n",
      "1 2 \n",
      "1 2 3 \n",
      "1 2 3 4 \n",
      "1 2 3 4 5 \n"
     ]
    }
   ],
   "source": [
    "n = 5\n",
    "def right_angled(n):\n",
    "    for i in range(1,n+1):\n",
    "        for j in range(1,i+1):\n",
    "            print(j, end = \" \")\n",
    "        print()\n",
    "\n",
    "right_angled(n)"
   ]
  },
  {
   "cell_type": "markdown",
   "id": "4f394245-0347-412b-8446-de5b8f0068a9",
   "metadata": {},
   "source": [
    "### 2. Right-Angled Triangle (Stars)\n",
    "\n",
    "```python\n",
    "*\n",
    "**\n",
    "***\n",
    "****\n",
    "*****\n"
   ]
  },
  {
   "cell_type": "code",
   "execution_count": 8,
   "id": "510c4324-b6ff-43dc-82e3-131e8b4a7b38",
   "metadata": {},
   "outputs": [
    {
     "name": "stdout",
     "output_type": "stream",
     "text": [
      "*\n",
      "**\n",
      "***\n",
      "****\n",
      "*****\n"
     ]
    }
   ],
   "source": [
    "n = 5\n",
    "for i  in range(1,n+1):\n",
    "    for j in range(1,i+1):\n",
    "        print(\"*\",end = \"\")\n",
    "    print()\n",
    "        "
   ]
  },
  {
   "cell_type": "markdown",
   "id": "98587eb8-cdc5-418a-b8a0-651c650f2f8e",
   "metadata": {},
   "source": [
    "### 2. Right-Angled Triangle (Stars)\n",
    "\n",
    "```python\n",
    "*\n",
    "**\n",
    "***\n",
    "****\n",
    "*****\n"
   ]
  },
  {
   "cell_type": "code",
   "execution_count": null,
   "id": "770f4b96-e78a-46ec-976d-ab70fd5d9f21",
   "metadata": {},
   "outputs": [],
   "source": []
  },
  {
   "cell_type": "markdown",
   "id": "cd3cacde-c6d3-4a53-ae05-aa64814735d3",
   "metadata": {},
   "source": [
    "### 3. Inverted Right-Angled Triangle (Numbers)\n",
    "Write a Python program to print an inverted right-angled triangle using numbers:\n",
    "\n",
    "```python\n",
    "5 4 3 2 1\n",
    "4 3 2 1\n",
    "3 2 1\n",
    "2 1\n",
    "1\n"
   ]
  },
  {
   "cell_type": "code",
   "execution_count": 11,
   "id": "f705f050-29f7-4dfb-bcc8-d6f7bc7398ed",
   "metadata": {},
   "outputs": [
    {
     "name": "stdout",
     "output_type": "stream",
     "text": [
      "5 4 3 2 1 \n",
      "4 3 2 1 \n",
      "3 2 1 \n",
      "2 1 \n",
      "1 \n"
     ]
    }
   ],
   "source": [
    "n = 5\n",
    "for i in range(n,0,-1):\n",
    "    for j in range(i,0,-1):\n",
    "        print(j,end = \" \")\n",
    "    print()"
   ]
  },
  {
   "cell_type": "markdown",
   "id": "e708e5a6-0631-4c48-abcf-5c7ba8149884",
   "metadata": {},
   "source": [
    "### 4. Number Pyramid\n",
    "Write a Python program to print a pyramid using numbers:\n",
    "\n",
    "```python\n",
    "    1\n",
    "   1 2 1\n",
    "  1 2 3 2 1\n",
    " 1 2 3 4 3 2 1\n",
    "1 2 3 4 5 4 3 2 1\n",
    "\n",
    "\n"
   ]
  },
  {
   "cell_type": "code",
   "execution_count": 18,
   "id": "2adde56d-21d1-4bdc-a052-0c8b690c230e",
   "metadata": {},
   "outputs": [
    {
     "name": "stdout",
     "output_type": "stream",
     "text": [
      "          1 \n",
      "        1 2 1 \n",
      "      1 2 3 2 1 \n",
      "    1 2 3 4 3 2 1 \n",
      "  1 2 3 4 5 4 3 2 1 \n"
     ]
    }
   ],
   "source": [
    "n = 5\n",
    "for x in range(1,n+1):\n",
    "    for i in range((n+1)-x):\n",
    "        print(\" \",end = \" \")\n",
    "    for j in range(1,x):\n",
    "        print(j,end = \" \")\n",
    "    for k in range(x,0,-1):\n",
    "        print(k,end = \" \")\n",
    "    print()\n",
    "        "
   ]
  },
  {
   "cell_type": "markdown",
   "id": "46bd51bf-d835-4d21-94db-18552325aec1",
   "metadata": {},
   "source": [
    "### 5. Inverted Pyramid (Stars)\n",
    "Write a Python program to print an inverted pyramid using stars:\n",
    "\n",
    "```python\n",
    "*****\n",
    " ****\n",
    "  ***\n",
    "   **\n",
    "    *\n",
    "\n"
   ]
  },
  {
   "cell_type": "code",
   "execution_count": 25,
   "id": "ae579665-b8fe-4acc-afda-95cf2d50c8aa",
   "metadata": {},
   "outputs": [
    {
     "name": "stdout",
     "output_type": "stream",
     "text": [
      " *****\n",
      "  ****\n",
      "   ***\n",
      "    **\n",
      "     *\n"
     ]
    }
   ],
   "source": [
    "n = 5\n",
    "for x in range(1,n+1):\n",
    "    for i in range(1,x+1):\n",
    "        print(\" \", end = \"\")\n",
    "    for j in range((n+1)-x):\n",
    "        print(\"*\", end = \"\")\n",
    "    print()"
   ]
  },
  {
   "cell_type": "markdown",
   "id": "b58c0b99-d816-4d41-8e25-5edbfefaea64",
   "metadata": {},
   "source": [
    "### 6. Full Pyramid (Stars)\n",
    "Write a Python program to print a full pyramid using stars:\n",
    "\n",
    "```python\n",
    "    *\n",
    "   ***\n",
    "  *****\n",
    " *******\n",
    "*********\n",
    "\n"
   ]
  },
  {
   "cell_type": "code",
   "execution_count": 29,
   "id": "06fd5710-6595-43af-816a-11795a7ccbe5",
   "metadata": {},
   "outputs": [
    {
     "name": "stdout",
     "output_type": "stream",
     "text": [
      "     *\n",
      "    ***\n",
      "   *****\n",
      "  *******\n",
      " *********\n"
     ]
    }
   ],
   "source": [
    "n = 5\n",
    "for x in range(1,n+1):\n",
    "    for i in range((n+1)-x):\n",
    "        print(\" \",end = \"\")\n",
    "    for j in range(2 * x-1):\n",
    "        print(\"*\", end = \"\")\n",
    "    print()"
   ]
  },
  {
   "cell_type": "markdown",
   "id": "319158cc-aa22-4a66-a497-cb8d714d868d",
   "metadata": {},
   "source": [
    "### 7. Diamond Shape (Stars)\n",
    "\n",
    "```python\n",
    "    *\n",
    "   ***\n",
    "  *****\n",
    " *******\n",
    "*********\n",
    " *******\n",
    "  *****\n",
    "   ***\n",
    "    *\n",
    "\n"
   ]
  },
  {
   "cell_type": "code",
   "execution_count": 34,
   "id": "cf2f6e8d-0c03-4256-995e-d3e5417a46fe",
   "metadata": {},
   "outputs": [
    {
     "name": "stdout",
     "output_type": "stream",
     "text": [
      "    *\n",
      "   ***\n",
      "  *****\n",
      " *******\n",
      "*********\n",
      " *******\n",
      "  *****\n",
      "   ***\n",
      "    *\n"
     ]
    }
   ],
   "source": [
    "n = 5\n",
    "for x in range(1,n+1):\n",
    "    for i in range(n-x):\n",
    "        print(\" \",end = \"\")\n",
    "    for j in range(2 * x-1):\n",
    "        print(\"*\", end = \"\")\n",
    "    print()\n",
    "\n",
    "for z in range(n-1,0,-1):\n",
    "    for h in range(n-z):\n",
    "        print(\" \", end = \"\")\n",
    "    for k in range(2 * z-1):\n",
    "        print(\"*\",end = \"\")\n",
    "    print()"
   ]
  },
  {
   "cell_type": "markdown",
   "id": "63f3abe9-179e-4805-8a01-e3a039053b36",
   "metadata": {},
   "source": [
    "### 8. Floyd's Triangle\n",
    "Write a Python program to print Floyd's Triangle, which consists of numbers in the following pattern:\n",
    "```python\n",
    "1\n",
    "2 3\n",
    "4 5 6\n",
    "7 8 9 10\n",
    "11 12 13 14 15\n",
    "\n"
   ]
  },
  {
   "cell_type": "code",
   "execution_count": 74,
   "id": "617507ee-fab9-474d-9bca-f4c07e9297de",
   "metadata": {},
   "outputs": [
    {
     "name": "stdout",
     "output_type": "stream",
     "text": [
      "1 \n",
      "2 3 \n",
      "4 5 6 \n",
      "7 8 9 10 \n",
      "11 12 13 14 15 \n"
     ]
    }
   ],
   "source": [
    "n = 5\n",
    "num = 1\n",
    "for i in range(1,n+1):\n",
    "    for j in range(1,i+1):\n",
    "        print(num, end = \" \")\n",
    "        num += 1\n",
    "    print()"
   ]
  },
  {
   "cell_type": "markdown",
   "id": "5408b395-03db-4dd0-a5db-dc7846e512cf",
   "metadata": {},
   "source": [
    "### 9. Square of Numbers\n",
    "\n",
    "Write a Python program to print the following pattern of square numbers\n",
    "\n",
    "```python\n",
    "1 4 9 16 25\n",
    "36 49 64 81 100\n",
    "121 144 169 196 225\n",
    "\n"
   ]
  },
  {
   "cell_type": "code",
   "execution_count": null,
   "id": "41dab4dc-8e46-4a9b-8ef3-a5f861ca1876",
   "metadata": {},
   "outputs": [],
   "source": []
  },
  {
   "cell_type": "markdown",
   "id": "f087a474-6cc0-4119-a454-87ad3774beda",
   "metadata": {},
   "source": [
    "### 10.Hollow Square (Stars)\n",
    "\n",
    "Write a Python program to print a hollow square using stars\n",
    "\n",
    "```python\n",
    "*****\n",
    "*   *\n",
    "*   *\n",
    "*   *\n",
    "*****\n",
    "\n"
   ]
  },
  {
   "cell_type": "code",
   "execution_count": 92,
   "id": "0ca82b02-cc0a-4579-a126-78b4d6757061",
   "metadata": {},
   "outputs": [
    {
     "name": "stdout",
     "output_type": "stream",
     "text": [
      "****\n",
      "111*\n",
      "111*\n",
      "111*\n",
      "****\n"
     ]
    }
   ],
   "source": [
    "n = 5\n",
    "for i in range(1,n+1):\n",
    "    for j in range(3):\n",
    "        if i == 1 or i == n:\n",
    "            print(\"*\",end = \"\")\n",
    "        else:\n",
    "            print(1,end = \"\")\n",
    "    print(\"*\")\n",
    "    #print()"
   ]
  },
  {
   "cell_type": "markdown",
   "id": "9ffd8716-99bc-49f6-8970-3d0b6a7d1dd9",
   "metadata": {},
   "source": [
    "### 11.Hollow Right-Angled Triangle (Stars)\n",
    "\n",
    "Write a Python program to print a hollow right-angled triangle using stars\n",
    "\n",
    "```python\n",
    "*\n",
    "**\n",
    "* *\n",
    "*  *\n",
    "*****\n",
    "\n"
   ]
  },
  {
   "cell_type": "code",
   "execution_count": null,
   "id": "882cb7e7-34ea-42a1-9abb-09b736952bb9",
   "metadata": {},
   "outputs": [],
   "source": []
  },
  {
   "cell_type": "markdown",
   "id": "cae60aa7-c96e-4ead-9f01-719ce409d3a0",
   "metadata": {},
   "source": [
    "### 12. Odd Number Pyramid\n",
    "\n",
    "Write a Python program to print a pyramid of odd numbers:\n",
    "\n",
    "```python\n",
    "    1\n",
    "   135\n",
    "  13579\n",
    " 1357911\n",
    "135791113\n",
    "\n"
   ]
  },
  {
   "cell_type": "code",
   "execution_count": null,
   "id": "1d2481a0-ba5f-445c-a067-e7511561158d",
   "metadata": {},
   "outputs": [],
   "source": []
  },
  {
   "cell_type": "markdown",
   "id": "dad98184-d1e3-4264-b892-119b1bd0630b",
   "metadata": {},
   "source": [
    "### 13.Inverted Number Pyramid\n",
    "\n",
    "Write a Python program to print an inverted pyramid of numbers:\n",
    "\n",
    "```python\n",
    "12345\n",
    "1234\n",
    "123\n",
    "12\n",
    "1\n"
   ]
  },
  {
   "cell_type": "code",
   "execution_count": null,
   "id": "c17e2bac-9e94-42f9-a033-65d08cb8b9f8",
   "metadata": {},
   "outputs": [],
   "source": []
  },
  {
   "cell_type": "markdown",
   "id": "efc95809-5ff9-4815-9dad-c8cac9eef423",
   "metadata": {},
   "source": [
    "### 2. Right-Angled Triangle (Stars)\n",
    "\n",
    "```python\n",
    "*\n",
    "**\n",
    "***\n",
    "****\n",
    "*****\n"
   ]
  },
  {
   "cell_type": "code",
   "execution_count": null,
   "id": "02b7d223-4bbd-4d76-b723-79ae2ca04935",
   "metadata": {},
   "outputs": [],
   "source": []
  },
  {
   "cell_type": "markdown",
   "id": "71aa7437-bb50-4bb5-9870-335642e8ccac",
   "metadata": {},
   "source": [
    "### 2. Right-Angled Triangle (Stars)\n",
    "\n",
    "```python\n",
    "*\n",
    "**\n",
    "***\n",
    "****\n",
    "*****\n"
   ]
  },
  {
   "cell_type": "code",
   "execution_count": null,
   "id": "28915087-156a-40d5-b0cf-3c3fdab92015",
   "metadata": {},
   "outputs": [],
   "source": []
  },
  {
   "cell_type": "markdown",
   "id": "ace59c51-b0ce-41e5-bc6b-ae0e8f83e739",
   "metadata": {},
   "source": [
    "### 15. Butterfly Pattern (Stars)\n",
    "\n",
    "Write a Python program to print a butterfly pattern using stars:\n",
    "\n",
    "```python\n",
    "*       *\n",
    "**     **\n",
    "***   ***\n",
    "**** ****\n",
    "********\n",
    "**** ****\n",
    "***   ***\n",
    "**     **\n",
    "*       *\n"
   ]
  },
  {
   "cell_type": "code",
   "execution_count": null,
   "id": "a38544c4-728d-480f-9626-57cf67bb1d70",
   "metadata": {},
   "outputs": [],
   "source": []
  }
 ],
 "metadata": {
  "kernelspec": {
   "display_name": "Python 3 (ipykernel)",
   "language": "python",
   "name": "python3"
  },
  "language_info": {
   "codemirror_mode": {
    "name": "ipython",
    "version": 3
   },
   "file_extension": ".py",
   "mimetype": "text/x-python",
   "name": "python",
   "nbconvert_exporter": "python",
   "pygments_lexer": "ipython3",
   "version": "3.12.9"
  }
 },
 "nbformat": 4,
 "nbformat_minor": 5
}
