{
 "cells": [
  {
   "cell_type": "code",
   "execution_count": 1,
   "id": "5ca3c30f-5629-4a41-86f3-0758fe97693f",
   "metadata": {},
   "outputs": [
    {
     "data": {
      "text/plain": [
       "True"
      ]
     },
     "execution_count": 1,
     "metadata": {},
     "output_type": "execute_result"
    }
   ],
   "source": [
    "\"ba\" > \"aaa\""
   ]
  },
  {
   "cell_type": "code",
   "execution_count": 2,
   "id": "21027aa3-75ec-4eca-9c15-0f8be7703c02",
   "metadata": {},
   "outputs": [
    {
     "data": {
      "text/plain": [
       "True"
      ]
     },
     "execution_count": 2,
     "metadata": {},
     "output_type": "execute_result"
    }
   ],
   "source": [
    "\"ABCC\" < \"ACB\""
   ]
  },
  {
   "cell_type": "code",
   "execution_count": 5,
   "id": "6c3a7e6e-39f0-4677-b227-b4776c71f3e4",
   "metadata": {},
   "outputs": [
    {
     "name": "stdout",
     "output_type": "stream",
     "text": [
      "True\n"
     ]
    }
   ],
   "source": [
    "people = [{\"name\": \"Alice\", \"age\": 25}, {\"name\": \"Bob\", \"age\": 30}, {\"name\": \"Charlie\", \"age\": 35}]\n",
    "for i in people:\n",
    "    if \"Bob\" in i.values():\n",
    "        print(True)\n",
    "        \n",
    "    "
   ]
  },
  {
   "cell_type": "code",
   "execution_count": 6,
   "id": "56fd868c-9626-403b-af53-8ea3e09da6bb",
   "metadata": {},
   "outputs": [
    {
     "name": "stdout",
     "output_type": "stream",
     "text": [
      "dict_values(['Alice', 25])\n"
     ]
    }
   ],
   "source": [
    "i = {\"name\": \"Alice\", \"age\": 25}\n",
    "print(i.values())"
   ]
  },
  {
   "cell_type": "code",
   "execution_count": 7,
   "id": "5550b191-ad02-43ff-96be-efdc3ccbe1f0",
   "metadata": {},
   "outputs": [
    {
     "name": "stdout",
     "output_type": "stream",
     "text": [
      "True\n"
     ]
    }
   ],
   "source": [
    "tuples = [(1, 2), (2, 3), (3, 4)]\n",
    "for tup in tuples:\n",
    "    if tup == (2,3):\n",
    "        print(True)"
   ]
  },
  {
   "cell_type": "code",
   "execution_count": 10,
   "id": "8d0530b8-77e0-4916-9f1e-b2920ba71a05",
   "metadata": {},
   "outputs": [
    {
     "name": "stdout",
     "output_type": "stream",
     "text": [
      "False\n"
     ]
    }
   ],
   "source": [
    "s = {\"cat\", \"dog\", \"bird\"}\n",
    "if \"dog\" in s:\n",
    "    print(True)\n",
    "else:\n",
    "    print(\"False\")"
   ]
  },
  {
   "cell_type": "code",
   "execution_count": 36,
   "id": "f7099ab3-1dde-49c9-b2a0-3290a2555895",
   "metadata": {},
   "outputs": [
    {
     "name": "stdout",
     "output_type": "stream",
     "text": [
      "True\n"
     ]
    }
   ],
   "source": [
    "students = {\n",
    "    \"Alice\": {\"Math\": 90, \"English\": 85},\n",
    "    \"Bob\": {\"Math\": 80, \"English\": 88},\n",
    "    \"Charlie\": {\"Math\": 95, \"English\": 92}\n",
    "}\n",
    "\n",
    "for student in students:\n",
    "    if \"Math\" in students[student].keys():\n",
    "        print(True)\n",
    "        break\n",
    "    "
   ]
  },
  {
   "cell_type": "code",
   "execution_count": 37,
   "id": "280083a4-2659-45d9-9311-dde5647c23a0",
   "metadata": {},
   "outputs": [
    {
     "ename": "AttributeError",
     "evalue": "'int' object has no attribute 'values'",
     "output_type": "error",
     "traceback": [
      "\u001b[0;31m---------------------------------------------------------------------------\u001b[0m",
      "\u001b[0;31mAttributeError\u001b[0m                            Traceback (most recent call last)",
      "Cell \u001b[0;32mIn[37], line 2\u001b[0m\n\u001b[1;32m      1\u001b[0m Alice \u001b[38;5;241m=\u001b[39m {\u001b[38;5;124m\"\u001b[39m\u001b[38;5;124mMath\u001b[39m\u001b[38;5;124m\"\u001b[39m: \u001b[38;5;241m90\u001b[39m, \u001b[38;5;124m\"\u001b[39m\u001b[38;5;124mEnglish\u001b[39m\u001b[38;5;124m\"\u001b[39m: \u001b[38;5;241m85\u001b[39m}\n\u001b[0;32m----> 2\u001b[0m \u001b[38;5;28mprint\u001b[39m(\u001b[43mAlice\u001b[49m\u001b[43m[\u001b[49m\u001b[38;5;124;43m\"\u001b[39;49m\u001b[38;5;124;43mMath\u001b[39;49m\u001b[38;5;124;43m\"\u001b[39;49m\u001b[43m]\u001b[49m\u001b[38;5;241;43m.\u001b[39;49m\u001b[43mvalues\u001b[49m())\n",
      "\u001b[0;31mAttributeError\u001b[0m: 'int' object has no attribute 'values'"
     ]
    }
   ],
   "source": [
    "Alice = {\"Math\": 90, \"English\": 85}\n",
    "print(Alice[\"Math\"].values())"
   ]
  },
  {
   "cell_type": "code",
   "execution_count": null,
   "id": "8abec11d-4f51-4911-a091-0b098eb7356a",
   "metadata": {},
   "outputs": [],
   "source": []
  }
 ],
 "metadata": {
  "kernelspec": {
   "display_name": "Python 3 (ipykernel)",
   "language": "python",
   "name": "python3"
  },
  "language_info": {
   "codemirror_mode": {
    "name": "ipython",
    "version": 3
   },
   "file_extension": ".py",
   "mimetype": "text/x-python",
   "name": "python",
   "nbconvert_exporter": "python",
   "pygments_lexer": "ipython3",
   "version": "3.12.8"
  }
 },
 "nbformat": 4,
 "nbformat_minor": 5
}
