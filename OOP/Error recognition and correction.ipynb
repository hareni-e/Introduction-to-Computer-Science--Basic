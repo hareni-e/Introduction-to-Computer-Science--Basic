{
 "cells": [
  {
   "cell_type": "raw",
   "id": "6fa62432-7a82-4d00-81a2-d97295858050",
   "metadata": {},
   "source": [
    "a = 5\n",
    "b = \"4.5\"\n",
    "c = a + b\n",
    "# Syntax error"
   ]
  },
  {
   "cell_type": "raw",
   "id": "586c2068-8ca8-415c-acc2-62d69384d4dd",
   "metadata": {},
   "source": [
    "str = \"Hello\"\n",
    "str2 = 10\n",
    "print(str + str2)\n",
    "#Syntax Error"
   ]
  },
  {
   "cell_type": "code",
   "execution_count": 2,
   "id": "caf8c394-4041-4655-827f-0cac54db91d3",
   "metadata": {},
   "outputs": [
    {
     "name": "stdout",
     "output_type": "stream",
     "text": [
      "Hello\n"
     ]
    }
   ],
   "source": [
    "str = \"Hello\"\n",
    "print(str)"
   ]
  },
  {
   "cell_type": "raw",
   "id": "d3989fc7-e3fc-443d-ae99-78e25f07e32e",
   "metadata": {},
   "source": [
    "str = \"Hello\"\n",
    "str[2] = \"r\"\n",
    "# Strings are immutable = syntax error (Compiler error)"
   ]
  },
  {
   "cell_type": "raw",
   "id": "4a13e78a-e080-4b6b-b8b4-c86a0182e569",
   "metadata": {},
   "source": [
    "a = (1,2,3)\n",
    "a[1] = 15\n",
    "# Tuples are immutable = syntax/compile error"
   ]
  },
  {
   "cell_type": "raw",
   "id": "cfa2904b-6e51-4995-8f2f-f2188d9a3a0f",
   "metadata": {},
   "source": [
    "a = \"10\"\n",
    "b = \"13\"\n",
    "print(\"The sum is\", a + b)\n",
    "# Logical error = output = 1013 instead of the actual sum."
   ]
  },
  {
   "cell_type": "raw",
   "id": "aed6096a-6aca-4562-a0f7-d46eedf5eac9",
   "metadata": {},
   "source": [
    "str = \"Hello\"\n",
    "str.replace('e','r')\n",
    "print(\"Replaced string is,\", str)\n",
    "\n",
    "# Runtime error - doesn't throw an error but not executed. "
   ]
  },
  {
   "cell_type": "code",
   "execution_count": 5,
   "id": "8937d388-193f-4976-9feb-f827e3ad6959",
   "metadata": {},
   "outputs": [
    {
     "name": "stdout",
     "output_type": "stream",
     "text": [
      "Replaced string is, Hrllo\n"
     ]
    }
   ],
   "source": [
    "str = \"Hello\"\n",
    "str = str.replace('e','r')\n",
    "print(\"Replaced string is,\", str)\n",
    "\n",
    "# Overwriting the string with a new value - not replacing it. "
   ]
  },
  {
   "cell_type": "code",
   "execution_count": null,
   "id": "f0b3255e-4e3e-4e27-9612-5683ad4afbd9",
   "metadata": {},
   "outputs": [],
   "source": []
  }
 ],
 "metadata": {
  "kernelspec": {
   "display_name": "Python 3 (ipykernel)",
   "language": "python",
   "name": "python3"
  },
  "language_info": {
   "codemirror_mode": {
    "name": "ipython",
    "version": 3
   },
   "file_extension": ".py",
   "mimetype": "text/x-python",
   "name": "python",
   "nbconvert_exporter": "python",
   "pygments_lexer": "ipython3",
   "version": "3.12.9"
  }
 },
 "nbformat": 4,
 "nbformat_minor": 5
}
