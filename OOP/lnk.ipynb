{
 "cells": [
  {
   "cell_type": "markdown",
   "id": "8e048833-f722-4530-a624-783788cef894",
   "metadata": {},
   "source": [
    "https://chatgpt.com/share/67df2db5-faa0-8006-b53d-5df6ccece4b5"
   ]
  },
  {
   "cell_type": "code",
   "execution_count": null,
   "id": "91cd5cad-9964-484c-8f2e-e20ef17b427a",
   "metadata": {},
   "outputs": [],
   "source": []
  }
 ],
 "metadata": {
  "kernelspec": {
   "display_name": "Python 3 (ipykernel)",
   "language": "python",
   "name": "python3"
  },
  "language_info": {
   "codemirror_mode": {
    "name": "ipython",
    "version": 3
   },
   "file_extension": ".py",
   "mimetype": "text/x-python",
   "name": "python",
   "nbconvert_exporter": "python",
   "pygments_lexer": "ipython3",
   "version": "3.12.9"
  }
 },
 "nbformat": 4,
 "nbformat_minor": 5
}
