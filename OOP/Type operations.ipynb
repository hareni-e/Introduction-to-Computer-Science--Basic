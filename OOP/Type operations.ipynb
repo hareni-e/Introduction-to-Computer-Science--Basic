{
 "cells": [
  {
   "cell_type": "markdown",
   "id": "0d39a19a-ad2f-401c-90bd-ddf201e709ff",
   "metadata": {},
   "source": [
    "# Exercise 1: Practice @property\n",
    "\n",
    "## Problem:\n",
    "Create a class `Circle` that has a private attribute `_radius`. Write a getter and setter for the radius using the `@property` decorator. Additionally, implement a `@property` method for calculating the `area` of the circle, which will return the area based on the radius. The setter for the radius should ensure the radius is always positive, and the getter should return the current radius.\n",
    "\n",
    "```python\n",
    "class Circle:\n",
    "    def __init__(self, radius):\n",
    "        self._radius = radius\n",
    "\n",
    "    @property\n",
    "    def radius(self):\n",
    "        return self._radius\n",
    "\n",
    "    @radius.setter\n",
    "    def radius(self, value):\n",
    "        if value > 0:\n",
    "            self._radius = value\n",
    "        else:\n",
    "            raise ValueError(\"Radius must be positive.\")\n",
    "\n",
    "    @property\n",
    "    def area(self):\n",
    "        return 3.14159 * (self._radius ** 2)\n",
    "\n",
    "# Test the class\n",
    "circle = Circle(5)\n",
    "print(circle.area)  # Should print the area\n",
    "circle.radius = 10  # Modify the radius\n",
    "print(circle.area)  # Should print the new area\n"
   ]
  },
  {
   "cell_type": "code",
   "execution_count": null,
   "id": "c89d0159-fbbc-48c8-8844-6be2e865b5aa",
   "metadata": {},
   "outputs": [],
   "source": []
  }
 ],
 "metadata": {
  "kernelspec": {
   "display_name": "Python 3 (ipykernel)",
   "language": "python",
   "name": "python3"
  },
  "language_info": {
   "codemirror_mode": {
    "name": "ipython",
    "version": 3
   },
   "file_extension": ".py",
   "mimetype": "text/x-python",
   "name": "python",
   "nbconvert_exporter": "python",
   "pygments_lexer": "ipython3",
   "version": "3.12.9"
  }
 },
 "nbformat": 4,
 "nbformat_minor": 5
}
