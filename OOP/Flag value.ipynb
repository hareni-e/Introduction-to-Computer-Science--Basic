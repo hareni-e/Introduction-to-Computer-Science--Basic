{
 "cells": [
  {
   "cell_type": "markdown",
   "id": "eda2af02-e203-467d-9628-a477a3f94d76",
   "metadata": {},
   "source": [
    "### Flag Value and Continue"
   ]
  },
  {
   "cell_type": "code",
   "execution_count": 7,
   "id": "a8557afb-55de-463b-b614-6d0201632149",
   "metadata": {},
   "outputs": [
    {
     "name": "stdout",
     "output_type": "stream",
     "text": [
      "False\n"
     ]
    }
   ],
   "source": [
    "def is_prim(n):\n",
    "    is_prime = True\n",
    "    for i in range(2, n-1):\n",
    "        if n % i != 0:\n",
    "            continue\n",
    "        else:\n",
    "            is_prime = False\n",
    "    return is_prime\n",
    "        \n",
    "print(is_prim(8))"
   ]
  }
 ],
 "metadata": {
  "kernelspec": {
   "display_name": "Python 3 (ipykernel)",
   "language": "python",
   "name": "python3"
  },
  "language_info": {
   "codemirror_mode": {
    "name": "ipython",
    "version": 3
   },
   "file_extension": ".py",
   "mimetype": "text/x-python",
   "name": "python",
   "nbconvert_exporter": "python",
   "pygments_lexer": "ipython3",
   "version": "3.12.9"
  }
 },
 "nbformat": 4,
 "nbformat_minor": 5
}
