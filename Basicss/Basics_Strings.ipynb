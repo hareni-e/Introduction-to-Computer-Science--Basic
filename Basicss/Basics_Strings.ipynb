{
 "cells": [
  {
   "cell_type": "markdown",
   "id": "b115319a-bcf3-46d1-b47f-1aaf23ae2d94",
   "metadata": {},
   "source": [
    "string = pallindrome"
   ]
  },
  {
   "cell_type": "code",
   "execution_count": null,
   "id": "6ea7a859-74df-4c84-a25f-6567800ad379",
   "metadata": {},
   "outputs": [],
   "source": [
    "def palli(word):\n",
    "    for \n",
    "\n",
    "\n",
    "\n",
    "\n",
    "\n",
    "w = \"Mom\"\n",
    "print(palli(w))"
   ]
  },
  {
   "cell_type": "code",
   "execution_count": 25,
   "id": "f9dfcc35-d733-45f8-b025-4e2b3bab63d5",
   "metadata": {},
   "outputs": [
    {
     "name": "stdout",
     "output_type": "stream",
     "text": [
      "Is pallindrome\n"
     ]
    }
   ],
   "source": [
    "word = \"MOM\"\n",
    "lower = \"\"\n",
    "reverse = \"\"\n",
    "    \n",
    "\n",
    "                 \n",
    "for i in range(len(word)-1,-1,-1):\n",
    "    reverse += word[i]\n",
    "    \n",
    "if reverse == word:\n",
    "    print(\"Is pallindrome\")\n",
    "else:\n",
    "    print(\"Not pallindrome\")"
   ]
  },
  {
   "cell_type": "code",
   "execution_count": 22,
   "id": "0aaa9a05-4429-4d5b-a459-80b66e905398",
   "metadata": {},
   "outputs": [
    {
     "name": "stdout",
     "output_type": "stream",
     "text": [
      "mom\n"
     ]
    }
   ],
   "source": [
    "word = \"Mom\"\n",
    "lower = \"\"\n",
    "reverse = \"\"\n",
    "    \n",
    "for letter in word:\n",
    "    if 64 < ord(letter) < 91:\n",
    "        lower += chr(ord(letter) + 32)\n",
    "    else:\n",
    "        lower += letter\n",
    "print(lower) "
   ]
  },
  {
   "cell_type": "code",
   "execution_count": 20,
   "id": "82d3dba6-459b-4e95-b625-4ca8234b203f",
   "metadata": {},
   "outputs": [
    {
     "data": {
      "text/plain": [
       "90"
      ]
     },
     "execution_count": 20,
     "metadata": {},
     "output_type": "execute_result"
    }
   ],
   "source": [
    "ord(\"Z\")"
   ]
  },
  {
   "cell_type": "code",
   "execution_count": 1,
   "id": "dcd58fa0-285a-437e-9961-09f991dac2fa",
   "metadata": {},
   "outputs": [
    {
     "name": "stdout",
     "output_type": "stream",
     "text": [
      "Is pallindrome\n"
     ]
    }
   ],
   "source": [
    "word = \"Mom\"\n",
    "lower = \"\"\n",
    "reverse = \"\"\n",
    "    \n",
    "for letter in word:\n",
    "    if 64 < ord(letter) < 91:\n",
    "        lower += chr(ord(letter) + 32)\n",
    "    else:\n",
    "        lower += letter\n",
    " \n",
    "\n",
    "for i in range(len(lower)-1,-1,-1):\n",
    "    reverse += lower[i]\n",
    "\n",
    "\n",
    "if reverse == lower:\n",
    "    print(\"Is pallindrome\")\n",
    "else:\n",
    "    print(\"Not pallindrome\")"
   ]
  },
  {
   "cell_type": "code",
   "execution_count": null,
   "id": "39b56155-468e-41c8-9301-86bc66a80e3b",
   "metadata": {},
   "outputs": [],
   "source": []
  },
  {
   "cell_type": "code",
   "execution_count": null,
   "id": "7716b8b2-54cc-4925-b1b2-8c7dc529a564",
   "metadata": {},
   "outputs": [],
   "source": []
  }
 ],
 "metadata": {
  "kernelspec": {
   "display_name": "Python 3 (ipykernel)",
   "language": "python",
   "name": "python3"
  },
  "language_info": {
   "codemirror_mode": {
    "name": "ipython",
    "version": 3
   },
   "file_extension": ".py",
   "mimetype": "text/x-python",
   "name": "python",
   "nbconvert_exporter": "python",
   "pygments_lexer": "ipython3",
   "version": "3.12.9"
  }
 },
 "nbformat": 4,
 "nbformat_minor": 5
}
