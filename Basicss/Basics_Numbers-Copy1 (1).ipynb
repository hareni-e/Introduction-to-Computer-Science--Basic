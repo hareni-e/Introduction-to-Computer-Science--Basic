{
 "cells": [
  {
   "cell_type": "markdown",
   "id": "e044032f-5a5c-485b-8cec-9e904dee3146",
   "metadata": {},
   "source": [
    "### Basics to know"
   ]
  },
  {
   "cell_type": "markdown",
   "id": "120bee5a-2027-4ac9-9db7-cf21d7619503",
   "metadata": {},
   "source": [
    "#### 1. Numbers"
   ]
  },
  {
   "cell_type": "markdown",
   "id": "04d5eafe-1663-45fe-8a65-0bd667a555a5",
   "metadata": {},
   "source": [
    "##### 1. Number of digits of a number"
   ]
  },
  {
   "cell_type": "code",
   "execution_count": 1,
   "id": "3d23d5e7-1c77-4508-9f31-1ec617574b18",
   "metadata": {},
   "outputs": [
    {
     "name": "stdout",
     "output_type": "stream",
     "text": [
      "No. of digits in 3456 = 4\n"
     ]
    }
   ],
   "source": [
    "n = 3456\n",
    "num = n\n",
    "count = 0\n",
    "\n",
    "while n > 0:\n",
    "    n //= 10 # Removes last digit\n",
    "    count += 1\n",
    "\n",
    "print(f\"No. of digits in {num} = {count}\")"
   ]
  },
  {
   "cell_type": "code",
   "execution_count": null,
   "id": "79335973-3e3d-4ed1-bf6c-90a72e4ddce5",
   "metadata": {},
   "outputs": [],
   "source": []
  },
  {
   "cell_type": "markdown",
   "id": "cb481268-cdba-4831-b922-0a300110773f",
   "metadata": {},
   "source": [
    "##### 2. Sum of digits of a number"
   ]
  },
  {
   "cell_type": "code",
   "execution_count": 2,
   "id": "a8d8065a-7af7-45a3-91b5-c5a1f3944d54",
   "metadata": {},
   "outputs": [
    {
     "name": "stdout",
     "output_type": "stream",
     "text": [
      "No. of digits in 3456 = 4\n",
      "Sum = 18\n"
     ]
    }
   ],
   "source": [
    "n = 3456\n",
    "num = n\n",
    "count = 0\n",
    "suM = 0\n",
    "\n",
    "while n > 0:\n",
    "    suM += n % 10 # Gives last digit of number\n",
    "    count += 1\n",
    "    n //= 10\n",
    "\n",
    "print(f\"\"\"No. of digits in {num} = {count}\n",
    "Sum = {suM}\"\"\")\n",
    "\n",
    "\n"
   ]
  },
  {
   "cell_type": "code",
   "execution_count": 3,
   "id": "3e2419dc-7e1d-4a33-ae97-30ef7c6cf433",
   "metadata": {},
   "outputs": [
    {
     "data": {
      "text/plain": [
       "6"
      ]
     },
     "execution_count": 3,
     "metadata": {},
     "output_type": "execute_result"
    }
   ],
   "source": [
    "3456 % 10"
   ]
  },
  {
   "cell_type": "code",
   "execution_count": 4,
   "id": "187425bc-9433-4cba-a8d0-4d0efefdbd68",
   "metadata": {},
   "outputs": [
    {
     "data": {
      "text/plain": [
       "345"
      ]
     },
     "execution_count": 4,
     "metadata": {},
     "output_type": "execute_result"
    }
   ],
   "source": [
    "3456 // 10"
   ]
  },
  {
   "cell_type": "markdown",
   "id": "9297d031-8001-4c78-ae9e-9a2f10be5b2f",
   "metadata": {},
   "source": [
    "##### 3. Reverse Digits of a number"
   ]
  },
  {
   "cell_type": "code",
   "execution_count": 5,
   "id": "184b1f1f-00f6-440d-b2fd-3fef79cb0279",
   "metadata": {},
   "outputs": [
    {
     "name": "stdout",
     "output_type": "stream",
     "text": [
      "3\n",
      "444\n"
     ]
    }
   ],
   "source": [
    "n = 444\n",
    "num = n\n",
    "count = 0\n",
    "\n",
    "while n > 0:\n",
    "    n //= 10\n",
    "    count += 1\n",
    "print(count)\n",
    "\n",
    "n = num\n",
    "number = 0\n",
    "while n > 0:\n",
    "    d = n % 10 \n",
    "    number += d * (10 ** (count - 1))\n",
    "    n //= 10\n",
    "    count -= 1\n",
    "    \n",
    "print(number)"
   ]
  },
  {
   "cell_type": "code",
   "execution_count": 6,
   "id": "35efad89-6cd7-4333-87a9-4a8f911fdf4c",
   "metadata": {},
   "outputs": [
    {
     "name": "stdout",
     "output_type": "stream",
     "text": [
      "3\n",
      "314\n"
     ]
    }
   ],
   "source": [
    "n = 413\n",
    "num = n\n",
    "count = 0\n",
    "while n > 0:\n",
    "    n //= 10\n",
    "    count += 1\n",
    "print(count)\n",
    "\n",
    "n = num\n",
    "number = 0\n",
    "\n",
    "while n > 0:\n",
    "    d = n % 10\n",
    "    number += d * (10 ** (count-1))\n",
    "    n //= 10\n",
    "    count -= 1\n",
    "print(number)"
   ]
  },
  {
   "cell_type": "code",
   "execution_count": 7,
   "id": "a8692d7c-4765-44c3-82b2-61a3755fb628",
   "metadata": {},
   "outputs": [
    {
     "data": {
      "text/plain": [
       "2"
      ]
     },
     "execution_count": 7,
     "metadata": {},
     "output_type": "execute_result"
    }
   ],
   "source": [
    "25 // 10"
   ]
  },
  {
   "cell_type": "code",
   "execution_count": 8,
   "id": "90c9f9e6-41cc-4294-a17c-828b192a9222",
   "metadata": {},
   "outputs": [
    {
     "data": {
      "text/plain": [
       "5"
      ]
     },
     "execution_count": 8,
     "metadata": {},
     "output_type": "execute_result"
    }
   ],
   "source": [
    "25 % 10"
   ]
  },
  {
   "cell_type": "code",
   "execution_count": 9,
   "id": "cab12581-7f33-46ee-88c2-7d61d203e680",
   "metadata": {},
   "outputs": [
    {
     "data": {
      "text/plain": [
       "50"
      ]
     },
     "execution_count": 9,
     "metadata": {},
     "output_type": "execute_result"
    }
   ],
   "source": [
    "0 + 5 * (10 ** (2 - 1))"
   ]
  },
  {
   "cell_type": "markdown",
   "id": "ef035ee3-bc03-48f4-b669-976f9eff8bb4",
   "metadata": {},
   "source": [
    "##### 4. Remove even digits or access digits of a number."
   ]
  },
  {
   "cell_type": "code",
   "execution_count": 10,
   "id": "dae663d4-f717-4892-b648-4b2698ba2c24",
   "metadata": {},
   "outputs": [
    {
     "name": "stdout",
     "output_type": "stream",
     "text": [
      "3\n"
     ]
    }
   ],
   "source": [
    "n = 234\n",
    "result = 0\n",
    "place = 1\n",
    "\n",
    "while n > 0:\n",
    "    d = n % 10\n",
    "    if d % 2 != 0:\n",
    "        result += d * place\n",
    "        place *= 10\n",
    "    n //= 10\n",
    "    \n",
    "print(result)"
   ]
  },
  {
   "cell_type": "code",
   "execution_count": 11,
   "id": "1b63ee04-f9b3-498f-8978-d94758c6383d",
   "metadata": {},
   "outputs": [],
   "source": [
    "n = 234\n"
   ]
  },
  {
   "cell_type": "code",
   "execution_count": null,
   "id": "66d674e0-60c0-4f75-851e-9b91a80cf9f8",
   "metadata": {},
   "outputs": [],
   "source": []
  },
  {
   "cell_type": "markdown",
   "id": "155324b2-5d28-4db3-890b-db7be550c375",
   "metadata": {},
   "source": [
    "##### 5. Largest digit of a number"
   ]
  },
  {
   "cell_type": "code",
   "execution_count": 12,
   "id": "87b16bed-0229-46cb-a117-00328e2341a1",
   "metadata": {},
   "outputs": [
    {
     "name": "stdout",
     "output_type": "stream",
     "text": [
      "Largest digit is = 4\n"
     ]
    }
   ],
   "source": [
    "n = 234\n",
    "largest = 0\n",
    "\n",
    "while n > 0:\n",
    "    d = n % 10\n",
    "    count += 1\n",
    "    if d > largest:\n",
    "        largest = d\n",
    "    n //= 10\n",
    "print(\"Largest digit is =\",largest)"
   ]
  },
  {
   "cell_type": "code",
   "execution_count": null,
   "id": "9cd37ace-0d45-4943-8907-e72737365619",
   "metadata": {},
   "outputs": [],
   "source": []
  },
  {
   "cell_type": "markdown",
   "id": "25d583de-4028-4805-b902-c452969dbd11",
   "metadata": {},
   "source": [
    "##### 6. Smallest digit of a number"
   ]
  },
  {
   "cell_type": "code",
   "execution_count": 13,
   "id": "1cdcb964-48d4-4ac3-9c92-9222f74d185c",
   "metadata": {},
   "outputs": [
    {
     "ename": "SyntaxError",
     "evalue": "expected ':' (3839603562.py, line 6)",
     "output_type": "error",
     "traceback": [
      "  \u001b[36mCell\u001b[39m\u001b[36m \u001b[39m\u001b[32mIn[13]\u001b[39m\u001b[32m, line 6\u001b[39m\n\u001b[31m    \u001b[39m\u001b[31mif d\u001b[39m\n         ^\n\u001b[31mSyntaxError\u001b[39m\u001b[31m:\u001b[39m expected ':'\n"
     ]
    }
   ],
   "source": [
    "n = 234\n",
    "smallest = 0\n",
    "\n",
    "while n > 0:\n",
    "    d = n % 10\n",
    "    if d "
   ]
  },
  {
   "cell_type": "code",
   "execution_count": null,
   "id": "9de67b7d-bf99-4402-9157-c422906a3561",
   "metadata": {},
   "outputs": [],
   "source": []
  },
  {
   "cell_type": "markdown",
   "id": "c091e4b6-7fd6-440d-97ac-fc045346e862",
   "metadata": {},
   "source": [
    "##### 7. Replace digit with string"
   ]
  },
  {
   "cell_type": "code",
   "execution_count": null,
   "id": "18ced350-59d9-4457-be93-3d55730c231b",
   "metadata": {},
   "outputs": [],
   "source": []
  },
  {
   "cell_type": "code",
   "execution_count": null,
   "id": "626f8f33-7004-460f-a5bd-53cdb6fbec4f",
   "metadata": {},
   "outputs": [],
   "source": []
  },
  {
   "cell_type": "markdown",
   "id": "34b63c30-cfef-4c5e-91ee-8b0893aee984",
   "metadata": {},
   "source": [
    "##### 8. Check if prime"
   ]
  },
  {
   "cell_type": "code",
   "execution_count": null,
   "id": "118e663e-ea6e-4434-ac91-825847a8940c",
   "metadata": {},
   "outputs": [],
   "source": []
  },
  {
   "cell_type": "code",
   "execution_count": null,
   "id": "1910c50e-07cb-4ec6-a62d-967c97245982",
   "metadata": {},
   "outputs": [],
   "source": []
  },
  {
   "cell_type": "markdown",
   "id": "3ac3173d-0283-4b1e-ad92-aac0fb49a1bf",
   "metadata": {},
   "source": [
    "##### 9. Check odd or even"
   ]
  },
  {
   "cell_type": "code",
   "execution_count": null,
   "id": "153db0d0-61fe-41be-81a8-55eae81b3ff9",
   "metadata": {},
   "outputs": [],
   "source": []
  },
  {
   "cell_type": "code",
   "execution_count": null,
   "id": "ce83fb38-750d-4131-9b77-d0da263eef09",
   "metadata": {},
   "outputs": [],
   "source": []
  },
  {
   "cell_type": "markdown",
   "id": "b7954428-d0ca-43a2-9bed-fd06a742a571",
   "metadata": {},
   "source": [
    "##### 10. Occurances of a digit of a number"
   ]
  },
  {
   "cell_type": "code",
   "execution_count": null,
   "id": "31727b6a-ae2d-43b4-aa6f-1bc1f98d38ba",
   "metadata": {},
   "outputs": [],
   "source": []
  },
  {
   "cell_type": "code",
   "execution_count": null,
   "id": "9061cbc0-bb14-437f-9c94-ece32459a76b",
   "metadata": {},
   "outputs": [],
   "source": []
  },
  {
   "cell_type": "markdown",
   "id": "33a18c7a-8c75-4ce8-90ac-5d4adf639d37",
   "metadata": {},
   "source": [
    "##### 11. Frequency of each digit of a number."
   ]
  },
  {
   "cell_type": "code",
   "execution_count": null,
   "id": "97b6cc06-4e27-448c-99c0-c48b7b64e151",
   "metadata": {},
   "outputs": [],
   "source": []
  },
  {
   "cell_type": "code",
   "execution_count": null,
   "id": "1c9bfdd7-50d4-43cf-802f-a466aad3af37",
   "metadata": {},
   "outputs": [],
   "source": []
  },
  {
   "cell_type": "markdown",
   "id": "aaf81472-7a5d-4864-bc2f-84c95a39556f",
   "metadata": {},
   "source": [
    "##### 12. Amstrong number check"
   ]
  },
  {
   "cell_type": "code",
   "execution_count": null,
   "id": "79ba691c-165b-4f43-becc-28b0098618db",
   "metadata": {},
   "outputs": [],
   "source": []
  },
  {
   "cell_type": "code",
   "execution_count": null,
   "id": "3c0b7b27-e7d9-46ad-bb96-62a33f083359",
   "metadata": {},
   "outputs": [],
   "source": []
  },
  {
   "cell_type": "markdown",
   "id": "d91a80af-511a-4852-847c-ae41f44ebb1b",
   "metadata": {},
   "source": [
    "##### 13. Pallindrome number check"
   ]
  },
  {
   "cell_type": "code",
   "execution_count": null,
   "id": "52a41182-e23e-47d4-b1a4-cf7814906c2e",
   "metadata": {},
   "outputs": [],
   "source": []
  },
  {
   "cell_type": "code",
   "execution_count": null,
   "id": "a9f68d4b-2122-4cc6-8790-2e6d8e06299c",
   "metadata": {},
   "outputs": [],
   "source": []
  },
  {
   "cell_type": "markdown",
   "id": "b4615ccb-dd22-4200-8314-1984bac317fd",
   "metadata": {},
   "source": [
    "##### 14. Perfect number check"
   ]
  },
  {
   "cell_type": "code",
   "execution_count": null,
   "id": "c6717947-033e-4365-b207-d6963c634484",
   "metadata": {},
   "outputs": [],
   "source": []
  },
  {
   "cell_type": "code",
   "execution_count": null,
   "id": "ac435bb8-40d8-4af1-ad8a-ab352d63e272",
   "metadata": {},
   "outputs": [],
   "source": []
  }
 ],
 "metadata": {
  "kernelspec": {
   "display_name": "Python 3 (ipykernel)",
   "language": "python",
   "name": "python3"
  },
  "language_info": {
   "codemirror_mode": {
    "name": "ipython",
    "version": 3
   },
   "file_extension": ".py",
   "mimetype": "text/x-python",
   "name": "python",
   "nbconvert_exporter": "python",
   "pygments_lexer": "ipython3",
   "version": "3.12.9"
  }
 },
 "nbformat": 4,
 "nbformat_minor": 5
}
