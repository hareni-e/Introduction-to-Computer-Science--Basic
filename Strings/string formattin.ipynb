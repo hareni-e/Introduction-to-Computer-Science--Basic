{
 "cells": [
  {
   "cell_type": "code",
   "execution_count": 1,
   "id": "37056e3d-cb80-438e-90f9-1329f8d1031a",
   "metadata": {},
   "outputs": [
    {
     "name": "stdout",
     "output_type": "stream",
     "text": [
      "Hello, John!\n"
     ]
    }
   ],
   "source": [
    " print(\"Hello, %s!\" % \"John\")"
   ]
  },
  {
   "cell_type": "code",
   "execution_count": 3,
   "id": "29a5978d-463d-4381-b3bb-59da50d67103",
   "metadata": {},
   "outputs": [
    {
     "name": "stdout",
     "output_type": "stream",
     "text": [
      "Hello Alice!, I am 9 years old.\n"
     ]
    }
   ],
   "source": [
    "greet = \"Hello %s!, I am %s years old.\"\n",
    "print(greet % (\"Alice\",9))"
   ]
  },
  {
   "cell_type": "code",
   "execution_count": 4,
   "id": "d3055f3a-a2f7-4b79-9b81-f955bf0c2314",
   "metadata": {},
   "outputs": [
    {
     "name": "stdout",
     "output_type": "stream",
     "text": [
      "Hello Alice, I am 9 years old.\n"
     ]
    }
   ],
   "source": [
    "greet = \"Hello {0}, I am {1} years old.\"\n",
    "print(greet.format (\"Alice\",9))"
   ]
  },
  {
   "cell_type": "code",
   "execution_count": 6,
   "id": "3892fc33-cc4d-4b92-b56e-7ad6dbbe30ff",
   "metadata": {},
   "outputs": [
    {
     "name": "stdout",
     "output_type": "stream",
     "text": [
      "Hello Alice, I am 9 years old.\n"
     ]
    }
   ],
   "source": [
    "greet = \"Hello {x}, I am {y} years old.\"\n",
    "print(greet.format (x = \"Alice\", y = 9))"
   ]
  },
  {
   "cell_type": "code",
   "execution_count": 8,
   "id": "28fcacd2-cb2b-43c1-95bb-ceea87f9f5e1",
   "metadata": {},
   "outputs": [],
   "source": [
    "# Place holders"
   ]
  },
  {
   "cell_type": "code",
   "execution_count": 21,
   "id": "0c3177c8-c3fc-4623-bebf-84b633f8461a",
   "metadata": {},
   "outputs": [
    {
     "name": "stdout",
     "output_type": "stream",
     "text": [
      "| Left       |       Hart |    Last    |\n",
      "| __________ | __________ | __________ |\n",
      "| 10         |         20 |     30     |\n"
     ]
    }
   ],
   "source": [
    "columns = \"| {0:<10} | {1:>10} | {2:^10} |\"\n",
    "print(columns.format(\"Left\", \"Hart\", \"Last\"))\n",
    "print(columns.format(\"_\" * 10, \"_\" * 10, \"_\" * 10))\n",
    "print(columns.format(10, 20, 30))"
   ]
  },
  {
   "cell_type": "code",
   "execution_count": 22,
   "id": "6ea34d41-6576-445e-9b20-4f215f208e6c",
   "metadata": {},
   "outputs": [
    {
     "name": "stdout",
     "output_type": "stream",
     "text": [
      "|    Left    |    Hart    |    Last    |\n",
      "| __________ | __________ | __________ |\n",
      "|     10     |     20     |     30     |\n"
     ]
    }
   ],
   "source": [
    "columns = \"| {0:^10} | {1:^10} | {2:^10} |\"\n",
    "print(columns.format(\"Left\",\"Hart\", \"Last\"))\n",
    "print(columns.format(\"_\" * 10, \"_\" * 10, \"_\" * 10))\n",
    "print(columns.format(10, 20, 30))"
   ]
  },
  {
   "cell_type": "code",
   "execution_count": 27,
   "id": "76837ea1-0cb6-4d47-b7b1-a9609d49a2e0",
   "metadata": {},
   "outputs": [
    {
     "name": "stdout",
     "output_type": "stream",
     "text": [
      "|  First   |   Mid    |   End    |\n"
     ]
    }
   ],
   "source": [
    "columns = \"|{0:^10}|{1:^10}|{2:^10}|\"\n",
    "heading = columns.format(\"First\",\"Mid\",\"End\")\n",
    "print(heading)"
   ]
  },
  {
   "cell_type": "code",
   "execution_count": 28,
   "id": "2a55086d-2d6c-45d7-9f15-0752f7928224",
   "metadata": {},
   "outputs": [
    {
     "name": "stdout",
     "output_type": "stream",
     "text": [
      "   Hi\n"
     ]
    }
   ],
   "source": [
    "print(\"{:>5}\".format(\"Hi\"))"
   ]
  },
  {
   "cell_type": "code",
   "execution_count": 2,
   "id": "33d4815e-4bdf-466a-a3e8-d8623cc9b14b",
   "metadata": {},
   "outputs": [
    {
     "data": {
      "text/plain": [
       "True"
      ]
     },
     "execution_count": 2,
     "metadata": {},
     "output_type": "execute_result"
    }
   ],
   "source": [
    "\"ab\" not in \"ba\" > \"ab\""
   ]
  },
  {
   "cell_type": "code",
   "execution_count": 3,
   "id": "de1e9265-dd74-4d92-93f8-7ddb1b176740",
   "metadata": {},
   "outputs": [
    {
     "name": "stdout",
     "output_type": "stream",
     "text": [
      "4573\n"
     ]
    }
   ],
   "source": [
    "print(\"45\" + \"73\")"
   ]
  },
  {
   "cell_type": "code",
   "execution_count": 8,
   "id": "5d7a01fa-913c-4799-8496-a316e1d7433e",
   "metadata": {},
   "outputs": [
    {
     "name": "stdout",
     "output_type": "stream",
     "text": [
      "She said \"Hi!\"\n"
     ]
    }
   ],
   "source": [
    "print(\"She said \\\"Hi!\\\"\")"
   ]
  },
  {
   "cell_type": "code",
   "execution_count": 10,
   "id": "174a9de2-6bb8-4faf-a5d4-bf34a6463ca9",
   "metadata": {},
   "outputs": [
    {
     "name": "stdout",
     "output_type": "stream",
     "text": [
      "She said \"Hi!\\cat\" \n"
     ]
    }
   ],
   "source": [
    "print(\"She said \\\"Hi!\\\\cat\\\" \")"
   ]
  },
  {
   "cell_type": "code",
   "execution_count": 12,
   "id": "751cf14e-a950-48d2-86d6-04e03ff22776",
   "metadata": {},
   "outputs": [
    {
     "data": {
      "text/plain": [
       "False"
      ]
     },
     "execution_count": 12,
     "metadata": {},
     "output_type": "execute_result"
    }
   ],
   "source": [
    "1 + 3 * 2 ** - 2 // 3 >= True < False or not True != False and True"
   ]
  },
  {
   "cell_type": "code",
   "execution_count": null,
   "id": "312a516d-c208-4452-a6de-d929c36c612a",
   "metadata": {},
   "outputs": [],
   "source": [
    "a + b < c + d < e + f"
   ]
  },
  {
   "cell_type": "code",
   "execution_count": 15,
   "id": "08548150-fe5a-41f6-a50a-da9e5db2a988",
   "metadata": {},
   "outputs": [
    {
     "name": "stdout",
     "output_type": "stream",
     "text": [
      "Hello!\n"
     ]
    }
   ],
   "source": [
    "print(\"Hello!\"[-100:92]) "
   ]
  },
  {
   "cell_type": "code",
   "execution_count": 16,
   "id": "21cb4e0c-252b-488f-9cee-355667e8ca7b",
   "metadata": {},
   "outputs": [
    {
     "name": "stdout",
     "output_type": "stream",
     "text": [
      "!le\n"
     ]
    }
   ],
   "source": [
    "print(\"Hello!\"[100::-2]) "
   ]
  },
  {
   "cell_type": "code",
   "execution_count": 19,
   "id": "d8322c63-1eb4-4382-8074-1a3859e0ef2c",
   "metadata": {},
   "outputs": [
    {
     "name": "stdout",
     "output_type": "stream",
     "text": [
      "\n"
     ]
    }
   ],
   "source": [
    "print(\"Hello!\"[100:-2]) "
   ]
  },
  {
   "cell_type": "code",
   "execution_count": 20,
   "id": "b03d3ecb-8d81-4f33-b989-e12912d73376",
   "metadata": {},
   "outputs": [
    {
     "name": "stdout",
     "output_type": "stream",
     "text": [
      "True\n"
     ]
    }
   ],
   "source": [
    "print(\"ABCC\" < \"ACB\")"
   ]
  },
  {
   "cell_type": "code",
   "execution_count": 24,
   "id": "9d7c8cfc-6f9f-4a8b-a949-d952d6f5f835",
   "metadata": {},
   "outputs": [
    {
     "name": "stdout",
     "output_type": "stream",
     "text": [
      "True\n"
     ]
    }
   ],
   "source": [
    "print(\"ABCC\" < \"ABCE\")"
   ]
  },
  {
   "cell_type": "code",
   "execution_count": 26,
   "id": "f576e625-a565-4526-977d-7fafabe569a9",
   "metadata": {},
   "outputs": [
    {
     "name": "stdout",
     "output_type": "stream",
     "text": [
      "True\n"
     ]
    }
   ],
   "source": [
    "print(not \"a\" in \"aa\" > \"bb\")"
   ]
  },
  {
   "cell_type": "code",
   "execution_count": 30,
   "id": "b0376721-85cd-4b18-b30e-26248153fcd9",
   "metadata": {},
   "outputs": [
    {
     "name": "stdout",
     "output_type": "stream",
     "text": [
      "True\n"
     ]
    }
   ],
   "source": [
    "print(\"a\" in \"aa\")"
   ]
  },
  {
   "cell_type": "code",
   "execution_count": 32,
   "id": "9b0acf2d-3492-4efc-85ed-47d3dee2c5da",
   "metadata": {},
   "outputs": [
    {
     "data": {
      "text/plain": [
       "False"
      ]
     },
     "execution_count": 32,
     "metadata": {},
     "output_type": "execute_result"
    }
   ],
   "source": [
    "\"aa\" > \"bb\""
   ]
  },
  {
   "cell_type": "code",
   "execution_count": 33,
   "id": "93cbd8ec-5231-44ed-9c34-8a95a099216d",
   "metadata": {},
   "outputs": [
    {
     "data": {
      "text/plain": [
       "True"
      ]
     },
     "execution_count": 33,
     "metadata": {},
     "output_type": "execute_result"
    }
   ],
   "source": [
    "\"a\" in \"aa\""
   ]
  },
  {
   "cell_type": "code",
   "execution_count": 34,
   "id": "e21652d6-9775-4783-89fd-959b292d8bd7",
   "metadata": {},
   "outputs": [
    {
     "data": {
      "text/plain": [
       "True"
      ]
     },
     "execution_count": 34,
     "metadata": {},
     "output_type": "execute_result"
    }
   ],
   "source": [
    "\"\" in \"h\""
   ]
  },
  {
   "cell_type": "code",
   "execution_count": 36,
   "id": "4590a948-315d-49f7-b849-2bf4286236c4",
   "metadata": {},
   "outputs": [
    {
     "data": {
      "text/plain": [
       "True"
      ]
     },
     "execution_count": 36,
     "metadata": {},
     "output_type": "execute_result"
    }
   ],
   "source": [
    "\"h\" in \"h\""
   ]
  },
  {
   "cell_type": "code",
   "execution_count": 27,
   "id": "d558c510-10b8-449f-9419-404757722897",
   "metadata": {},
   "outputs": [
    {
     "name": "stdout",
     "output_type": "stream",
     "text": [
      "False\n"
     ]
    }
   ],
   "source": [
    "print(not \"a\" in \"aa\")"
   ]
  },
  {
   "cell_type": "code",
   "execution_count": 28,
   "id": "10d9c695-f331-4781-8430-3a7092cf21ca",
   "metadata": {},
   "outputs": [
    {
     "name": "stdout",
     "output_type": "stream",
     "text": [
      "False\n"
     ]
    }
   ],
   "source": [
    "print(\"aa\" > \"bb\")"
   ]
  },
  {
   "cell_type": "code",
   "execution_count": 29,
   "id": "89daf00b-40ce-4b8f-a40a-fcab8833b072",
   "metadata": {},
   "outputs": [
    {
     "name": "stdout",
     "output_type": "stream",
     "text": [
      "False\n"
     ]
    }
   ],
   "source": [
    "print(\"a\" not in \"aa\" > \"bb\")"
   ]
  },
  {
   "cell_type": "code",
   "execution_count": 37,
   "id": "c81d266f-9917-4b1d-9479-4f18bdb015ef",
   "metadata": {},
   "outputs": [
    {
     "data": {
      "text/plain": [
       "False"
      ]
     },
     "execution_count": 37,
     "metadata": {},
     "output_type": "execute_result"
    }
   ],
   "source": [
    "\"a\" in \"aa\" > \"bb\""
   ]
  },
  {
   "cell_type": "code",
   "execution_count": 43,
   "id": "c61685f7-b872-4062-b347-552cf3bb8d07",
   "metadata": {},
   "outputs": [
    {
     "name": "stdout",
     "output_type": "stream",
     "text": [
      "a 1\n",
      "b 2\n",
      "a 3\n",
      "3\n"
     ]
    }
   ],
   "source": [
    "message = \"abacaba\"\n",
    "s = \"aba\"\n",
    "count = 0\n",
    "for i in s:\n",
    "    if i in message:\n",
    "        count += 1\n",
    "        (print(i,count))\n",
    "print(count)"
   ]
  },
  {
   "cell_type": "code",
   "execution_count": 45,
   "id": "745e9218-110f-4b9a-a49c-a46d434f596e",
   "metadata": {},
   "outputs": [
    {
     "name": "stdout",
     "output_type": "stream",
     "text": [
      "He\n"
     ]
    }
   ],
   "source": [
    "print(1 * \"He\")"
   ]
  },
  {
   "cell_type": "code",
   "execution_count": 56,
   "id": "5993c8c3-f3a9-45dd-9c70-595837992472",
   "metadata": {},
   "outputs": [
    {
     "data": {
      "text/plain": [
       "''"
      ]
     },
     "execution_count": 56,
     "metadata": {},
     "output_type": "execute_result"
    }
   ],
   "source": [
    "\"Hellooo\"[5:-1:-2]"
   ]
  },
  {
   "cell_type": "code",
   "execution_count": null,
   "id": "1b6b6105-a208-4309-9784-b0ea2cda797e",
   "metadata": {},
   "outputs": [],
   "source": []
  }
 ],
 "metadata": {
  "kernelspec": {
   "display_name": "Python 3 (ipykernel)",
   "language": "python",
   "name": "python3"
  },
  "language_info": {
   "codemirror_mode": {
    "name": "ipython",
    "version": 3
   },
   "file_extension": ".py",
   "mimetype": "text/x-python",
   "name": "python",
   "nbconvert_exporter": "python",
   "pygments_lexer": "ipython3",
   "version": "3.12.9"
  }
 },
 "nbformat": 4,
 "nbformat_minor": 5
}
