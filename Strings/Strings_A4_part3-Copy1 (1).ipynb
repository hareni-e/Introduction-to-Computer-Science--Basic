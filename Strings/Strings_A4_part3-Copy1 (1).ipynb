{
 "cells": [
  {
   "cell_type": "markdown",
   "id": "c90ee870",
   "metadata": {},
   "source": [
    "Before you turn this problem in, make sure everything runs as expected. First, **restart the kernel** (in the menubar, select Kernel $\\rightarrow$ Restart) and then **run all cells** (in the menubar, select Cell $\\rightarrow$ Run All).\n",
    "\n",
    "Make sure you fill in any place that says `YOUR CODE HERE` or \"YOUR ANSWER HERE\", as well as your name and collaborators below:"
   ]
  },
  {
   "cell_type": "code",
   "execution_count": null,
   "id": "52deb652",
   "metadata": {},
   "outputs": [],
   "source": [
    "NAME = \"\"\n",
    "COLLABORATORS = \"\""
   ]
  },
  {
   "cell_type": "markdown",
   "id": "2db23731",
   "metadata": {},
   "source": [
    "---"
   ]
  },
  {
   "cell_type": "markdown",
   "id": "ca8091e0",
   "metadata": {
    "deletable": false,
    "editable": false,
    "nbgrader": {
     "cell_type": "markdown",
     "checksum": "3ddb3f34f4d98fba185b1917452dfd04",
     "grade": false,
     "grade_id": "cell-3d197568bda9a78f",
     "locked": true,
     "schema_version": 3,
     "solution": false,
     "task": false
    }
   },
   "source": [
    "# Text Processing\n",
    "\n",
    "Many text editors can perform basic manipulations with text, such as searching and/or replacing characters or substrings. Recall how we have edited a Python program in the [part 3 of Assignment #2](../assignment02/part3.ipynb).\n",
    "In this part we perform some simple operations with text using Python conditions.\n",
    "\n",
    "In some of the tasks below, you are asked to write a function that returns the given text where specified characters were replaced with the underscore `_`. Usually you are asked to replace all *vowels*, i.e., letters: `a`, `e`, `i`, `o`, `u`, in the given text. For example, for the text\n",
    "\n",
    "```\n",
    "Hello World!\n",
    "```\n",
    "your function should return:\n",
    "\n",
    "```\n",
    "H_ll_ W_rld!\n",
    "```\n",
    "\n",
    "Some parts of the functions are already provided for your convenience. **Please do not remove or modify these parts!** Please carefully read the instruction for each task.\n",
    "\n",
    "**Important: As always you are only allowed to use features that were covered up to this point in the lecture, i.e. are part of lecture 7! This means you are not allowed to use build-in functions that operate on strings, execpt for `len()`, `ord()`, `chr()` and `<str>.format()` (as well as f-strings).**"
   ]
  },
  {
   "cell_type": "markdown",
   "id": "1aa4af32",
   "metadata": {
    "deletable": false,
    "editable": false,
    "nbgrader": {
     "cell_type": "markdown",
     "checksum": "9673359790ed8e142a836c89b394a3cc",
     "grade": false,
     "grade_id": "cell-f30bfecbbd5ec293",
     "locked": true,
     "schema_version": 3,
     "solution": false,
     "task": false
    }
   },
   "source": [
    "## Task (2P.)\n",
    "\n",
    "Copy the provided `text` to the returned variable `new_string` after replacing each vowel with a dash (`-`) using an `if-else` statement with a **single condition**, that consists of a single `in` operator."
   ]
  },
  {
   "cell_type": "code",
   "execution_count": 5,
   "id": "9d5fd898",
   "metadata": {
    "deletable": false,
    "nbgrader": {
     "cell_type": "code",
     "checksum": "db6f78ca8957d2474799afe343be2b79",
     "grade": false,
     "grade_id": "cell-38241276a7919b5a",
     "locked": false,
     "schema_version": 3,
     "solution": true,
     "task": false
    }
   },
   "outputs": [],
   "source": [
    "def vowels(text):\n",
    "    new_string = \"\"\n",
    "    for c in text:\n",
    "      if c in \"AEIOUaeiou\":  \n",
    "            new_string += \"-\"  \n",
    "      else:\n",
    "        new_string += c    \n",
    "\n",
    "    return new_string"
   ]
  },
  {
   "cell_type": "code",
   "execution_count": 20,
   "id": "059545de-337f-42e0-80e4-50926c1cf885",
   "metadata": {},
   "outputs": [],
   "source": [
    "def vowels(text): #Text = Hello World\n",
    "    new_string = \"\"\n",
    "    vowels = \"aeiouAEIOU\"\n",
    "    for x in text:\n",
    "        if x in vowels:\n",
    "            new_string += \"_\"\n",
    "        else:\n",
    "            new_string += x\n",
    "    return new_string\n",
    "    \n",
    "#string = \"Hello World\"\n",
    "#vowels(string)\n"
   ]
  },
  {
   "cell_type": "code",
   "execution_count": 21,
   "id": "269e6c6a",
   "metadata": {
    "deletable": false,
    "editable": false,
    "nbgrader": {
     "cell_type": "code",
     "checksum": "5f4409c6a0b2dfd4fb48adbb0f8c3534",
     "grade": true,
     "grade_id": "cell-f2db875188f9b58e",
     "locked": true,
     "points": 2,
     "schema_version": 3,
     "solution": false,
     "task": false
    }
   },
   "outputs": [
    {
     "ename": "AssertionError",
     "evalue": "value of vowels(\"Hello World\") is not correct",
     "output_type": "error",
     "traceback": [
      "\u001b[0;31m---------------------------------------------------------------------------\u001b[0m",
      "\u001b[0;31mAssertionError\u001b[0m                            Traceback (most recent call last)",
      "Cell \u001b[0;32mIn[21], line 5\u001b[0m\n\u001b[1;32m      3\u001b[0m \u001b[38;5;28;01massert\u001b[39;00m \u001b[38;5;28mstr\u001b[39m(\u001b[38;5;28mtype\u001b[39m(vowels(\u001b[38;5;124m\"\u001b[39m\u001b[38;5;124mHello World\u001b[39m\u001b[38;5;124m\"\u001b[39m))) \u001b[38;5;241m==\u001b[39m \u001b[38;5;124m\"\"\"\u001b[39m\u001b[38;5;124m<class \u001b[39m\u001b[38;5;124m'\u001b[39m\u001b[38;5;124mstr\u001b[39m\u001b[38;5;124m'\u001b[39m\u001b[38;5;124m>\u001b[39m\u001b[38;5;124m\"\"\"\u001b[39m, \u001b[38;5;124m\"\"\"\u001b[39m\u001b[38;5;124mtype of vowels(\u001b[39m\u001b[38;5;130;01m\\\"\u001b[39;00m\u001b[38;5;124mHello World\u001b[39m\u001b[38;5;130;01m\\\"\u001b[39;00m\u001b[38;5;124m) is not str. vowels(\u001b[39m\u001b[38;5;130;01m\\\"\u001b[39;00m\u001b[38;5;124mHello World\u001b[39m\u001b[38;5;130;01m\\\"\u001b[39;00m\u001b[38;5;124m) should be an str\u001b[39m\u001b[38;5;124m\"\"\"\u001b[39m\n\u001b[1;32m      4\u001b[0m \u001b[38;5;28;01massert\u001b[39;00m \u001b[38;5;28mstr\u001b[39m(\u001b[38;5;28mlen\u001b[39m(vowels(\u001b[38;5;124m\"\u001b[39m\u001b[38;5;124mHello World\u001b[39m\u001b[38;5;124m\"\u001b[39m))) \u001b[38;5;241m==\u001b[39m \u001b[38;5;124m\"\"\"\u001b[39m\u001b[38;5;124m11\u001b[39m\u001b[38;5;124m\"\"\"\u001b[39m, \u001b[38;5;124m\"\"\"\u001b[39m\u001b[38;5;124mlength of vowels(\u001b[39m\u001b[38;5;130;01m\\\"\u001b[39;00m\u001b[38;5;124mHello World\u001b[39m\u001b[38;5;130;01m\\\"\u001b[39;00m\u001b[38;5;124m) is not correct\u001b[39m\u001b[38;5;124m\"\"\"\u001b[39m\n\u001b[0;32m----> 5\u001b[0m \u001b[38;5;28;01massert\u001b[39;00m \u001b[38;5;28mstr\u001b[39m(vowels(\u001b[38;5;124m\"\u001b[39m\u001b[38;5;124mHello World\u001b[39m\u001b[38;5;124m\"\u001b[39m)\u001b[38;5;241m.\u001b[39mlower()) \u001b[38;5;241m==\u001b[39m \u001b[38;5;124m\"\"\"\u001b[39m\u001b[38;5;124mh-ll- w-rld\u001b[39m\u001b[38;5;124m\"\"\"\u001b[39m, \u001b[38;5;124m\"\"\"\u001b[39m\u001b[38;5;124mvalue of vowels(\u001b[39m\u001b[38;5;130;01m\\\"\u001b[39;00m\u001b[38;5;124mHello World\u001b[39m\u001b[38;5;130;01m\\\"\u001b[39;00m\u001b[38;5;124m) is not correct\u001b[39m\u001b[38;5;124m\"\"\"\u001b[39m\n\u001b[1;32m      6\u001b[0m \u001b[38;5;28;01massert\u001b[39;00m \u001b[38;5;28mstr\u001b[39m(vowels(\u001b[38;5;124m\"\u001b[39m\u001b[38;5;124mHello World\u001b[39m\u001b[38;5;124m\"\u001b[39m)) \u001b[38;5;241m==\u001b[39m \u001b[38;5;124m\"\"\"\u001b[39m\u001b[38;5;124mH-ll- W-rld\u001b[39m\u001b[38;5;124m\"\"\"\u001b[39m, \u001b[38;5;124m\"\"\"\u001b[39m\u001b[38;5;124mcorrect string value of vowels(\u001b[39m\u001b[38;5;130;01m\\\"\u001b[39;00m\u001b[38;5;124mHello World\u001b[39m\u001b[38;5;130;01m\\\"\u001b[39;00m\u001b[38;5;124m) but incorrect case of letters\u001b[39m\u001b[38;5;124m\"\"\"\u001b[39m\n\u001b[1;32m      8\u001b[0m \u001b[38;5;28mprint\u001b[39m(\u001b[38;5;124m'\u001b[39m\u001b[38;5;124mSuccess!\u001b[39m\u001b[38;5;124m'\u001b[39m)\n",
      "\u001b[0;31mAssertionError\u001b[0m: value of vowels(\"Hello World\") is not correct"
     ]
    }
   ],
   "source": [
    "# This tests your implementation:\n",
    "from hashlib import sha1\n",
    "assert str(type(vowels(\"Hello World\"))) == \"\"\"<class 'str'>\"\"\", \"\"\"type of vowels(\\\"Hello World\\\") is not str. vowels(\\\"Hello World\\\") should be an str\"\"\"\n",
    "assert str(len(vowels(\"Hello World\"))) == \"\"\"11\"\"\", \"\"\"length of vowels(\\\"Hello World\\\") is not correct\"\"\"\n",
    "assert str(vowels(\"Hello World\").lower()) == \"\"\"h-ll- w-rld\"\"\", \"\"\"value of vowels(\\\"Hello World\\\") is not correct\"\"\"\n",
    "assert str(vowels(\"Hello World\")) == \"\"\"H-ll- W-rld\"\"\", \"\"\"correct string value of vowels(\\\"Hello World\\\") but incorrect case of letters\"\"\"\n",
    "\n",
    "print('Success!')"
   ]
  },
  {
   "cell_type": "markdown",
   "id": "7b0192ad",
   "metadata": {
    "deletable": false,
    "editable": false,
    "nbgrader": {
     "cell_type": "markdown",
     "checksum": "3cabcd79257c8b39750520ba6526b935",
     "grade": false,
     "grade_id": "cell-2c9974a6a2115184",
     "locked": true,
     "schema_version": 3,
     "solution": false,
     "task": false
    }
   },
   "source": [
    "## Task (2P.)\n",
    "\n",
    "Copy the provided `text` to the returned variable `new_string` after replacing each **letter appearing in the given string** `replace` with a dash. Note: you should replace the text given in the variable `text`, *not* the text in `replace`.\n",
    "\n",
    "\n",
    "*Warning:* Your program should work **regardless** which letters are given in the `replace` string, and even if no letters are provided at all (when `replace` is the empty string)."
   ]
  },
  {
   "cell_type": "code",
   "execution_count": 8,
   "id": "c4170bc8",
   "metadata": {
    "deletable": false,
    "nbgrader": {
     "cell_type": "code",
     "checksum": "7dcfd231c3a5b970ecf1dd571397abbb",
     "grade": false,
     "grade_id": "cell-dba35b06c5e38d24",
     "locked": false,
     "schema_version": 3,
     "solution": true,
     "task": false
    }
   },
   "outputs": [],
   "source": [
    "def general_replace(text, replace):\n",
    "    new_string = \"\"\n",
    "    for c in text:\n",
    "        if c in replace:\n",
    "            new_string += \"-\"\n",
    "        else:\n",
    "            new_string += c\n",
    "    return new_string\n"
   ]
  },
  {
   "cell_type": "code",
   "execution_count": 9,
   "id": "e0fd2521",
   "metadata": {
    "deletable": false,
    "editable": false,
    "nbgrader": {
     "cell_type": "code",
     "checksum": "c3636f1b553c9dd1f103b1775060a472",
     "grade": true,
     "grade_id": "cell-ea7b28540a173711",
     "locked": true,
     "points": 2,
     "schema_version": 3,
     "solution": false,
     "task": false
    }
   },
   "outputs": [
    {
     "name": "stdout",
     "output_type": "stream",
     "text": [
      "Success!\n"
     ]
    }
   ],
   "source": [
    "# This tests your implementation:\n",
    "from hashlib import sha1\n",
    "assert str(type(general_replace(\"Hello World\", \"aeiou\"))) == \"\"\"<class 'str'>\"\"\", \"\"\"type of general_replace(\\\"Hello World\\\", \\\"aeiou\\\") is not str. general_replace(\\\"Hello World\\\", \\\"aeiou\\\") should be an str\"\"\"\n",
    "assert str(len(general_replace(\"Hello World\", \"aeiou\"))) == \"\"\"11\"\"\", \"\"\"length of general_replace(\\\"Hello World\\\", \\\"aeiou\\\") is not correct\"\"\"\n",
    "assert str(general_replace(\"Hello World\", \"aeiou\").lower()) == \"\"\"h-ll- w-rld\"\"\", \"\"\"value of general_replace(\\\"Hello World\\\", \\\"aeiou\\\") is not correct\"\"\"\n",
    "assert str(general_replace(\"Hello World\", \"aeiou\")) == \"\"\"H-ll- W-rld\"\"\", \"\"\"correct string value of general_replace(\\\"Hello World\\\", \\\"aeiou\\\") but incorrect case of letters\"\"\"\n",
    "\n",
    "print('Success!')"
   ]
  },
  {
   "cell_type": "markdown",
   "id": "8a90613a",
   "metadata": {
    "deletable": false,
    "editable": false,
    "nbgrader": {
     "cell_type": "markdown",
     "checksum": "536c3c67dd8bc5ef02d6fc29c64bfa26",
     "grade": false,
     "grade_id": "cell-4d23e71f95dea791",
     "locked": true,
     "schema_version": 3,
     "solution": false,
     "task": false
    }
   },
   "source": [
    "## Task (1P.)\n",
    "\n",
    "For the given string `text` return a string that consists of `n`-times the original string, for example for \"a\" and 5 you should return \"aaaaa\"."
   ]
  },
  {
   "cell_type": "code",
   "execution_count": 12,
   "id": "e156db25",
   "metadata": {
    "deletable": false,
    "nbgrader": {
     "cell_type": "code",
     "checksum": "caab6baa67643de7a723831538f9738c",
     "grade": false,
     "grade_id": "cell-27137fae67d5c4b5",
     "locked": false,
     "schema_version": 3,
     "solution": true,
     "task": false
    }
   },
   "outputs": [],
   "source": [
    "def repeat(text, n):\n",
    "    return (text*n)"
   ]
  },
  {
   "cell_type": "code",
   "execution_count": 13,
   "id": "df100c2c",
   "metadata": {
    "deletable": false,
    "editable": false,
    "nbgrader": {
     "cell_type": "code",
     "checksum": "274e0139fac1ade5b3959c9433ee48df",
     "grade": true,
     "grade_id": "cell-8defb15d0b45d3f9",
     "locked": true,
     "points": 1,
     "schema_version": 3,
     "solution": false,
     "task": false
    }
   },
   "outputs": [
    {
     "name": "stdout",
     "output_type": "stream",
     "text": [
      "Success!\n"
     ]
    }
   ],
   "source": [
    "# This tests your implementation:\n",
    "from hashlib import sha1\n",
    "assert str(type(repeat(\"a\", 5))) == \"\"\"<class 'str'>\"\"\", \"\"\"type of repeat(\\\"a\\\", 5) is not str. repeat(\\\"a\\\", 5) should be an str\"\"\"\n",
    "assert str(len(repeat(\"a\", 5))) == \"\"\"5\"\"\", \"\"\"length of repeat(\\\"a\\\", 5) is not correct\"\"\"\n",
    "assert str(repeat(\"a\", 5).lower()) == \"\"\"aaaaa\"\"\", \"\"\"value of repeat(\\\"a\\\", 5) is not correct\"\"\"\n",
    "assert str(repeat(\"a\", 5)) == \"\"\"aaaaa\"\"\", \"\"\"correct string value of repeat(\\\"a\\\", 5) but incorrect case of letters\"\"\"\n",
    "\n",
    "print('Success!')"
   ]
  },
  {
   "cell_type": "markdown",
   "id": "257697df",
   "metadata": {
    "deletable": false,
    "editable": false,
    "nbgrader": {
     "cell_type": "markdown",
     "checksum": "d021b7cbe371c7497f23a4fa3203732c",
     "grade": false,
     "grade_id": "cell-6de949ee1541a5ad",
     "locked": true,
     "schema_version": 3,
     "solution": false,
     "task": false
    }
   },
   "source": [
    "## Task (2P.)\n",
    "\n",
    "For the given input `text`, check whether the string in `text` is the same as its reverse (the string read backwards). For example, your function should return `True` for \"level\" but not for \"lever\".\n",
    "\n",
    "*Hint: You can use slice notation for the reversing.*"
   ]
  },
  {
   "cell_type": "code",
   "execution_count": 15,
   "id": "eedf0f59-73d3-4499-9e6f-a5b9e97de12f",
   "metadata": {},
   "outputs": [
    {
     "name": "stdin",
     "output_type": "stream",
     "text": [
      "What is the word to reverse? ty\n"
     ]
    },
    {
     "name": "stdout",
     "output_type": "stream",
     "text": [
      "yt\n"
     ]
    }
   ],
   "source": [
    "text = input(\"What is the word to reverse?\")\n",
    "print(text[::-1])"
   ]
  },
  {
   "cell_type": "code",
   "execution_count": 22,
   "id": "304c0d9a",
   "metadata": {
    "deletable": false,
    "nbgrader": {
     "cell_type": "code",
     "checksum": "c9b3d49901475af39a1c8d833e90001c",
     "grade": false,
     "grade_id": "cell-d848906595b1a870",
     "locked": false,
     "schema_version": 3,
     "solution": true,
     "task": false
    }
   },
   "outputs": [
    {
     "data": {
      "text/plain": [
       "False"
      ]
     },
     "execution_count": 22,
     "metadata": {},
     "output_type": "execute_result"
    }
   ],
   "source": [
    "def backwards_equality(text):\n",
    "    reverse = text[::-1]\n",
    "    if reverse == text:\n",
    "        return True\n",
    "    else:\n",
    "        return False\n",
    "        \n",
    "backwards_equality(\"lever\")\n"
   ]
  },
  {
   "cell_type": "code",
   "execution_count": 18,
   "id": "d1355eca",
   "metadata": {
    "deletable": false,
    "editable": false,
    "nbgrader": {
     "cell_type": "code",
     "checksum": "67686990c1a5ce1cc8eec2b300b905b5",
     "grade": true,
     "grade_id": "cell-20b294b518a836b2",
     "locked": true,
     "points": 2,
     "schema_version": 3,
     "solution": false,
     "task": false
    }
   },
   "outputs": [
    {
     "name": "stdout",
     "output_type": "stream",
     "text": [
      "Success!\n"
     ]
    }
   ],
   "source": [
    "# This tests your implementation:\n",
    "from hashlib import sha1\n",
    "assert str(type(backwards_equality(\"level\"))) == \"\"\"<class 'bool'>\"\"\", \"\"\"type of backwards_equality(\\\"level\\\") is not bool. backwards_equality(\\\"level\\\") should be a bool\"\"\"\n",
    "assert str(backwards_equality(\"level\")) == \"\"\"True\"\"\", \"\"\"boolean value of backwards_equality(\\\"level\\\") is not correct\"\"\"\n",
    "\n",
    "assert str(type(backwards_equality(\"lever\"))) == \"\"\"<class 'bool'>\"\"\", \"\"\"type of backwards_equality(\\\"lever\\\") is not bool. backwards_equality(\\\"lever\\\") should be a bool\"\"\"\n",
    "assert str(backwards_equality(\"lever\")) == \"\"\"False\"\"\", \"\"\"boolean value of backwards_equality(\\\"lever\\\") is not correct\"\"\"\n",
    "\n",
    "print('Success!')"
   ]
  },
  {
   "cell_type": "markdown",
   "id": "c6df7307",
   "metadata": {
    "deletable": false,
    "editable": false,
    "nbgrader": {
     "cell_type": "markdown",
     "checksum": "b7e4bf6114b211165217fc7130fd699c",
     "grade": false,
     "grade_id": "cell-5bf8e830776a1064",
     "locked": true,
     "schema_version": 3,
     "solution": false,
     "task": false
    }
   },
   "source": [
    "## Task (2P.)\n",
    "\n",
    "In the return variable `new_string`, return a string where the substring of the given string `s` between the indices `start` and `end` (inclusive) is reversed, while the rest of the string remains unchanged.  \n",
    "\n",
    "**Make sure that your function returns a reasonable result for every input (assume `start` and `end` are valid indices, and `start <= end`).**\n",
    "\n",
    "*Hint: Use string slicing and indexing.*"
   ]
  },
  {
   "cell_type": "code",
   "execution_count": 30,
   "id": "3ba0dabb",
   "metadata": {
    "deletable": false,
    "nbgrader": {
     "cell_type": "code",
     "checksum": "607e7709d1b8ba1d59029057d02636a3",
     "grade": false,
     "grade_id": "cell-70c2a1b68e7165d8",
     "locked": false,
     "schema_version": 3,
     "solution": true,
     "task": false
    }
   },
   "outputs": [
    {
     "data": {
      "text/plain": [
       "'W ol'"
      ]
     },
     "execution_count": 30,
     "metadata": {},
     "output_type": "execute_result"
    }
   ],
   "source": [
    "def reverse_substring(s, start, end):\n",
    "    substring = s[start : end + 1]\n",
    "    new_string = substring[::-1]\n",
    "    return new_string\n",
    "\n",
    "reverse_substring(\"Hello World!\", 3, 6)"
   ]
  },
  {
   "cell_type": "code",
   "execution_count": 31,
   "id": "a425cb35",
   "metadata": {
    "deletable": false,
    "editable": false,
    "nbgrader": {
     "cell_type": "code",
     "checksum": "9142a5d1328eaa4954c32006501367e8",
     "grade": true,
     "grade_id": "cell-c793f233248fc05c",
     "locked": true,
     "points": 2,
     "schema_version": 3,
     "solution": false,
     "task": false
    }
   },
   "outputs": [
    {
     "ename": "AssertionError",
     "evalue": "length of reverse_substring(\"Hello World!\", 3, 6) is not correct",
     "output_type": "error",
     "traceback": [
      "\u001b[0;31m---------------------------------------------------------------------------\u001b[0m",
      "\u001b[0;31mAssertionError\u001b[0m                            Traceback (most recent call last)",
      "Cell \u001b[0;32mIn[31], line 4\u001b[0m\n\u001b[1;32m      2\u001b[0m \u001b[38;5;28;01mfrom\u001b[39;00m \u001b[38;5;21;01mhashlib\u001b[39;00m \u001b[38;5;28;01mimport\u001b[39;00m sha1\n\u001b[1;32m      3\u001b[0m \u001b[38;5;28;01massert\u001b[39;00m \u001b[38;5;28mstr\u001b[39m(\u001b[38;5;28mtype\u001b[39m(reverse_substring(\u001b[38;5;124m\"\u001b[39m\u001b[38;5;124mHello World!\u001b[39m\u001b[38;5;124m\"\u001b[39m, \u001b[38;5;241m3\u001b[39m, \u001b[38;5;241m6\u001b[39m))) \u001b[38;5;241m==\u001b[39m \u001b[38;5;124m\"\"\"\u001b[39m\u001b[38;5;124m<class \u001b[39m\u001b[38;5;124m'\u001b[39m\u001b[38;5;124mstr\u001b[39m\u001b[38;5;124m'\u001b[39m\u001b[38;5;124m>\u001b[39m\u001b[38;5;124m\"\"\"\u001b[39m, \u001b[38;5;124m\"\"\"\u001b[39m\u001b[38;5;124mtype of reverse_substring(\u001b[39m\u001b[38;5;130;01m\\\"\u001b[39;00m\u001b[38;5;124mHello World!\u001b[39m\u001b[38;5;130;01m\\\"\u001b[39;00m\u001b[38;5;124m, 3, 6) is not str. reverse_substring(\u001b[39m\u001b[38;5;130;01m\\\"\u001b[39;00m\u001b[38;5;124mHello World!\u001b[39m\u001b[38;5;130;01m\\\"\u001b[39;00m\u001b[38;5;124m, 3, 6) should be an str\u001b[39m\u001b[38;5;124m\"\"\"\u001b[39m\n\u001b[0;32m----> 4\u001b[0m \u001b[38;5;28;01massert\u001b[39;00m \u001b[38;5;28mstr\u001b[39m(\u001b[38;5;28mlen\u001b[39m(reverse_substring(\u001b[38;5;124m\"\u001b[39m\u001b[38;5;124mHello World!\u001b[39m\u001b[38;5;124m\"\u001b[39m, \u001b[38;5;241m3\u001b[39m, \u001b[38;5;241m6\u001b[39m))) \u001b[38;5;241m==\u001b[39m \u001b[38;5;124m\"\"\"\u001b[39m\u001b[38;5;124m12\u001b[39m\u001b[38;5;124m\"\"\"\u001b[39m, \u001b[38;5;124m\"\"\"\u001b[39m\u001b[38;5;124mlength of reverse_substring(\u001b[39m\u001b[38;5;130;01m\\\"\u001b[39;00m\u001b[38;5;124mHello World!\u001b[39m\u001b[38;5;130;01m\\\"\u001b[39;00m\u001b[38;5;124m, 3, 6) is not correct\u001b[39m\u001b[38;5;124m\"\"\"\u001b[39m\n\u001b[1;32m      5\u001b[0m \u001b[38;5;28;01massert\u001b[39;00m \u001b[38;5;28mstr\u001b[39m(reverse_substring(\u001b[38;5;124m\"\u001b[39m\u001b[38;5;124mHello World!\u001b[39m\u001b[38;5;124m\"\u001b[39m, \u001b[38;5;241m3\u001b[39m, \u001b[38;5;241m6\u001b[39m)\u001b[38;5;241m.\u001b[39mlower()) \u001b[38;5;241m==\u001b[39m \u001b[38;5;124m\"\"\"\u001b[39m\u001b[38;5;124mhelw olorld!\u001b[39m\u001b[38;5;124m\"\"\"\u001b[39m, \u001b[38;5;124m\"\"\"\u001b[39m\u001b[38;5;124mvalue of reverse_substring(\u001b[39m\u001b[38;5;130;01m\\\"\u001b[39;00m\u001b[38;5;124mHello World!\u001b[39m\u001b[38;5;130;01m\\\"\u001b[39;00m\u001b[38;5;124m, 3, 6) is not correct\u001b[39m\u001b[38;5;124m\"\"\"\u001b[39m\n\u001b[1;32m      6\u001b[0m \u001b[38;5;28;01massert\u001b[39;00m \u001b[38;5;28mstr\u001b[39m(reverse_substring(\u001b[38;5;124m\"\u001b[39m\u001b[38;5;124mHello World!\u001b[39m\u001b[38;5;124m\"\u001b[39m, \u001b[38;5;241m3\u001b[39m, \u001b[38;5;241m6\u001b[39m)) \u001b[38;5;241m==\u001b[39m \u001b[38;5;124m\"\"\"\u001b[39m\u001b[38;5;124mHelW olorld!\u001b[39m\u001b[38;5;124m\"\"\"\u001b[39m, \u001b[38;5;124m\"\"\"\u001b[39m\u001b[38;5;124mcorrect string value of reverse_substring(\u001b[39m\u001b[38;5;130;01m\\\"\u001b[39;00m\u001b[38;5;124mHello World!\u001b[39m\u001b[38;5;130;01m\\\"\u001b[39;00m\u001b[38;5;124m, 3, 6) but incorrect case of letters\u001b[39m\u001b[38;5;124m\"\"\"\u001b[39m\n",
      "\u001b[0;31mAssertionError\u001b[0m: length of reverse_substring(\"Hello World!\", 3, 6) is not correct"
     ]
    }
   ],
   "source": [
    "# This tests your implementation:\n",
    "from hashlib import sha1\n",
    "assert str(type(reverse_substring(\"Hello World!\", 3, 6))) == \"\"\"<class 'str'>\"\"\", \"\"\"type of reverse_substring(\\\"Hello World!\\\", 3, 6) is not str. reverse_substring(\\\"Hello World!\\\", 3, 6) should be an str\"\"\"\n",
    "assert str(len(reverse_substring(\"Hello World!\", 3, 6))) == \"\"\"12\"\"\", \"\"\"length of reverse_substring(\\\"Hello World!\\\", 3, 6) is not correct\"\"\"\n",
    "assert str(reverse_substring(\"Hello World!\", 3, 6).lower()) == \"\"\"helw olorld!\"\"\", \"\"\"value of reverse_substring(\\\"Hello World!\\\", 3, 6) is not correct\"\"\"\n",
    "assert str(reverse_substring(\"Hello World!\", 3, 6)) == \"\"\"HelW olorld!\"\"\", \"\"\"correct string value of reverse_substring(\\\"Hello World!\\\", 3, 6) but incorrect case of letters\"\"\"\n",
    "\n",
    "assert str(type(reverse_substring(\"Hi\", 0, 1))) == \"\"\"<class 'str'>\"\"\", \"\"\"type of reverse_substring(\\\"Hi\\\", 0, 1) is not str. reverse_substring(\\\"Hi\\\", 0, 1) should be an str\"\"\"\n",
    "assert str(len(reverse_substring(\"Hi\", 0, 1))) == \"\"\"2\"\"\", \"\"\"length of reverse_substring(\\\"Hi\\\", 0, 1) is not correct\"\"\"\n",
    "assert str(reverse_substring(\"Hi\", 0, 1).lower()) == \"\"\"ih\"\"\", \"\"\"value of reverse_substring(\\\"Hi\\\", 0, 1) is not correct\"\"\"\n",
    "assert str(reverse_substring(\"Hi\", 0, 1)) == \"\"\"iH\"\"\", \"\"\"correct string value of reverse_substring(\\\"Hi\\\", 0, 1) but incorrect case of letters\"\"\"\n",
    "\n",
    "print('Success!')"
   ]
  },
  {
   "cell_type": "markdown",
   "id": "4920f177",
   "metadata": {
    "deletable": false,
    "editable": false,
    "nbgrader": {
     "cell_type": "markdown",
     "checksum": "bed27fe047c3630798b9b47263018047",
     "grade": false,
     "grade_id": "cell-b548426becd8d222",
     "locked": true,
     "schema_version": 3,
     "solution": false,
     "task": false
    }
   },
   "source": [
    "## Task (2P.)\n",
    "\n",
    "Write a function, that given two strings `text1` and `text2`, checks whether they are equal if case is ignored, so \"hELLO\" should be equal to \"HellO\".\n",
    "\n",
    "*Remember that you are not allowed to use build-in string methods such as `s.isupper()`.*\n",
    "\n",
    "*Hint: Use lexicographic comparison.*\n",
    "\n",
    "*Hint: Remember `break` and `continue`.*"
   ]
  },
  {
   "cell_type": "code",
   "execution_count": 32,
   "id": "bf5bab41",
   "metadata": {
    "deletable": false,
    "nbgrader": {
     "cell_type": "code",
     "checksum": "9d9bf022b6f8d4db72226a10e1c7be45",
     "grade": false,
     "grade_id": "cell-8a5009af8b821f0f",
     "locked": false,
     "schema_version": 3,
     "solution": true,
     "task": false
    }
   },
   "outputs": [],
   "source": [
    "def equal_without_case(text1, text2):\n",
    "    if len(text1) != len(text2):\n",
    "        return False\n",
    "    for c1, c2 in zip(text1, text2):\n",
    "        if c1.lower() != c2.lower():\n",
    "            return False\n",
    "    return True\n"
   ]
  },
  {
   "cell_type": "code",
   "execution_count": 33,
   "id": "12b80b80",
   "metadata": {
    "deletable": false,
    "editable": false,
    "nbgrader": {
     "cell_type": "code",
     "checksum": "d2d1d0e4822ac588538e89ffd0994fab",
     "grade": true,
     "grade_id": "cell-81dbc76ec9ba6ce1",
     "locked": true,
     "points": 2,
     "schema_version": 3,
     "solution": false,
     "task": false
    }
   },
   "outputs": [
    {
     "name": "stdout",
     "output_type": "stream",
     "text": [
      "Success!\n"
     ]
    }
   ],
   "source": [
    "# This tests your implementation:\n",
    "from hashlib import sha1\n",
    "assert str(type(equal_without_case(\"hELLO\", \"HellO\"))) == \"\"\"<class 'bool'>\"\"\", \"\"\"type of equal_without_case(\\\"hELLO\\\", \\\"HellO\\\") is not bool. equal_without_case(\\\"hELLO\\\", \\\"HellO\\\") should be a bool\"\"\"\n",
    "assert str(equal_without_case(\"hELLO\", \"HellO\")) == \"\"\"True\"\"\", \"\"\"boolean value of equal_without_case(\\\"hELLO\\\", \\\"HellO\\\") is not correct\"\"\"\n",
    "\n",
    "assert str(type(equal_without_case(\"hello\", \"HELLO\"))) == \"\"\"<class 'bool'>\"\"\", \"\"\"type of equal_without_case(\\\"hello\\\", \\\"HELLO\\\") is not bool. equal_without_case(\\\"hello\\\", \\\"HELLO\\\") should be a bool\"\"\"\n",
    "assert str(equal_without_case(\"hello\", \"HELLO\")) == \"\"\"True\"\"\", \"\"\"boolean value of equal_without_case(\\\"hello\\\", \\\"HELLO\\\") is not correct\"\"\"\n",
    "\n",
    "print('Success!')"
   ]
  },
  {
   "cell_type": "markdown",
   "id": "88899557",
   "metadata": {
    "deletable": false,
    "editable": false,
    "nbgrader": {
     "cell_type": "markdown",
     "checksum": "8ad24d13fc9fd3a732423e6af3325074",
     "grade": false,
     "grade_id": "cell-95b4e71fa9955892",
     "locked": true,
     "schema_version": 3,
     "solution": false,
     "task": false
    }
   },
   "source": [
    "## Task (2P.)\n",
    "\n",
    "In this task, you are meant to re-create simple [ASCII art](https://en.wikipedia.org/wiki/ASCII_art).  \n",
    "Write a function that returns the following pattern for different given heights:\n",
    "\n",
    "### Example Height = 10\n",
    "\n",
    "```\n",
    "*        *\n",
    " *      *\n",
    "  *    *\n",
    "   *  *\n",
    "++++++++++\n",
    "   *  *\n",
    "  *    *\n",
    " *      *\n",
    "*        *\n",
    "```\n",
    "\n",
    "### Example Height = 7\n",
    "\n",
    "```\n",
    "*     *\n",
    " *   *\n",
    "  * *\n",
    "+++++++\n",
    "  * *\n",
    " *   *\n",
    "*     *\n",
    "```\n",
    "\n",
    "The function should receive the height as an input and return a string containing the pattern.\n",
    "\n",
    "**Hints**:\n",
    "1. To add a new line to a string `s`, use `s += \"\\n\"`. To see the resulting string formatted correctly, you must use `print(s)`; evaluating `s` alone won’t display the line breaks correctly in JupyterHub.\n",
    "2. Treat even and odd heights differently to maintain symmetry, as seen in the examples.\n",
    "3. The lowest height for which the function must produce a meaningful string is `3`."
   ]
  },
  {
   "cell_type": "code",
   "execution_count": null,
   "id": "8feaa503",
   "metadata": {
    "deletable": false,
    "nbgrader": {
     "cell_type": "code",
     "checksum": "1f3d6baa50aef0337f80f5099b788d19",
     "grade": false,
     "grade_id": "cell-2d0414bef2c32926",
     "locked": false,
     "schema_version": 3,
     "solution": true,
     "task": false
    }
   },
   "outputs": [],
   "source": [
    "def generate_pattern(height):\n",
    "    pattern = \"\"\n",
    "# YOUR SOLUTION HERE\n",
    "    return pattern"
   ]
  },
  {
   "cell_type": "code",
   "execution_count": null,
   "id": "7a244dc7-4dec-41f0-9212-96cdcc28c063",
   "metadata": {
    "deletable": false,
    "editable": false,
    "nbgrader": {
     "cell_type": "code",
     "checksum": "dff6922de42c96f221cf63ff90de26a1",
     "grade": true,
     "grade_id": "cell-1a8eb14a86a88b76",
     "locked": true,
     "points": 2,
     "schema_version": 3,
     "solution": false,
     "task": false
    }
   },
   "outputs": [],
   "source": [
    "# This tests your implementation:\n",
    "from hashlib import sha1\n",
    "assert str(type(generate_pattern(10))) == \"\"\"<class 'str'>\"\"\", \"\"\"type of generate_pattern(10) is not str. generate_pattern(10) should be an str\"\"\"\n",
    "assert str(len(generate_pattern(10))) == \"\"\"87\"\"\", \"\"\"length of generate_pattern(10) is not correct\"\"\"\n",
    "assert str(generate_pattern(10).lower()) == \"\"\"*        *\\n *      *\\n  *    *\\n   *  *\\n++++++++++\\n   *  *\\n  *    *\\n *      *\\n*        *\\n\"\"\", \"\"\"value of generate_pattern(10) is not correct\"\"\"\n",
    "assert str(generate_pattern(10)) == \"\"\"*        *\\n *      *\\n  *    *\\n   *  *\\n++++++++++\\n   *  *\\n  *    *\\n *      *\\n*        *\\n\"\"\", \"\"\"correct string value of generate_pattern(10) but incorrect case of letters\"\"\"\n",
    "\n",
    "assert str(type(generate_pattern(6))) == \"\"\"<class 'str'>\"\"\", \"\"\"type of generate_pattern(6) is not str. generate_pattern(6) should be an str\"\"\"\n",
    "assert str(len(generate_pattern(6))) == \"\"\"33\"\"\", \"\"\"length of generate_pattern(6) is not correct\"\"\"\n",
    "assert str(generate_pattern(6).lower()) == \"\"\"*    *\\n *  *\\n++++++\\n *  *\\n*    *\\n\"\"\", \"\"\"value of generate_pattern(6) is not correct\"\"\"\n",
    "assert str(generate_pattern(6)) == \"\"\"*    *\\n *  *\\n++++++\\n *  *\\n*    *\\n\"\"\", \"\"\"correct string value of generate_pattern(6) but incorrect case of letters\"\"\"\n",
    "\n",
    "assert str(type(generate_pattern(3))) == \"\"\"<class 'str'>\"\"\", \"\"\"type of generate_pattern(3) is not str. generate_pattern(3) should be an str\"\"\"\n",
    "assert str(len(generate_pattern(3))) == \"\"\"12\"\"\", \"\"\"length of generate_pattern(3) is not correct\"\"\"\n",
    "assert str(generate_pattern(3).lower()) == \"\"\"* *\\n+++\\n* *\\n\"\"\", \"\"\"value of generate_pattern(3) is not correct\"\"\"\n",
    "assert str(generate_pattern(3)) == \"\"\"* *\\n+++\\n* *\\n\"\"\", \"\"\"correct string value of generate_pattern(3) but incorrect case of letters\"\"\"\n",
    "\n",
    "print('Success!')"
   ]
  }
 ],
 "metadata": {
  "hide_input": false,
  "kernelspec": {
   "display_name": "Python 3 (ipykernel)",
   "language": "python",
   "name": "python3"
  },
  "language_info": {
   "codemirror_mode": {
    "name": "ipython",
    "version": 3
   },
   "file_extension": ".py",
   "mimetype": "text/x-python",
   "name": "python",
   "nbconvert_exporter": "python",
   "pygments_lexer": "ipython3",
   "version": "3.12.9"
  },
  "toc": {
   "base_numbering": 1,
   "nav_menu": {},
   "number_sections": true,
   "sideBar": true,
   "skip_h1_title": false,
   "title_cell": "Table of Contents",
   "title_sidebar": "Contents",
   "toc_cell": false,
   "toc_position": {},
   "toc_section_display": true,
   "toc_window_display": false
  }
 },
 "nbformat": 4,
 "nbformat_minor": 5
}
