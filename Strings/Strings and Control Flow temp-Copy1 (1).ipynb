{
 "cells": [
  {
   "cell_type": "markdown",
   "id": "0b4f831e-d4bd-4f46-bbf5-630358ea32a2",
   "metadata": {},
   "source": [
    "## **Python String Exercises (Beginner to Advanced)**\n",
    "\n",
    "### **Beginner Level: Basic String Manipulation**\n",
    "\n"
   ]
  },
  {
   "cell_type": "markdown",
   "id": "433e47e0-8618-46c6-800e-d4a4561440bb",
   "metadata": {},
   "source": [
    "#### **1. Concatenation**\n",
    "Write a program that takes two strings as input and prints them concatenated together.\n",
    "\n"
   ]
  },
  {
   "cell_type": "code",
   "execution_count": 4,
   "id": "6b65e102-9abf-4e16-b845-68b9912b54e1",
   "metadata": {},
   "outputs": [
    {
     "name": "stdin",
     "output_type": "stream",
     "text": [
      "Enter string 1 Har\n",
      "Enter String 2 eni\n"
     ]
    },
    {
     "name": "stdout",
     "output_type": "stream",
     "text": [
      "Hareni\n"
     ]
    }
   ],
   "source": [
    "s1 = input(\"Enter string 1\")\n",
    "s2 = input(\"Enter String 2\")\n",
    "print(s1 + s2)\n"
   ]
  },
  {
   "cell_type": "markdown",
   "id": "91b94423-cbd1-4ecc-b2c5-ff71fb9689db",
   "metadata": {},
   "source": [
    "#### **2. String Indexing & Slicing**\n",
    "- Print the first and last character of a given string.\n",
    "- Print a substring containing only the first 5 characters.\n",
    "\n"
   ]
  },
  {
   "cell_type": "code",
   "execution_count": 9,
   "id": "a58beab4-eb41-4be3-99fe-d6b6b5a3751f",
   "metadata": {},
   "outputs": [
    {
     "name": "stdout",
     "output_type": "stream",
     "text": [
      "Hello world!\n",
      "H !\n",
      "Hello\n"
     ]
    }
   ],
   "source": [
    "s = \"Hello world!\"\n",
    "print(s[0:len(s)])\n",
    "print(s[0],s[len(s)-1])\n",
    "print(s[0:5])"
   ]
  },
  {
   "cell_type": "code",
   "execution_count": null,
   "id": "30101996-0cd5-47ec-8d3f-1fa5b5be299a",
   "metadata": {},
   "outputs": [],
   "source": []
  },
  {
   "cell_type": "markdown",
   "id": "ab6ccc81-127f-48a0-835a-1d7ce453391e",
   "metadata": {},
   "source": [
    "#### **3. String Methods**\n",
    "Convert a given string to:\n",
    "- Uppercase\n",
    "- Lowercase\n",
    "- Title case (first letter capitalized)\n",
    "\n"
   ]
  },
  {
   "cell_type": "code",
   "execution_count": 33,
   "id": "fbe1d7e3-28cd-4418-90d6-471dc4725e4e",
   "metadata": {},
   "outputs": [
    {
     "name": "stdout",
     "output_type": "stream",
     "text": [
      "HELLO\n"
     ]
    }
   ],
   "source": [
    "s = \"HELLO\"\n",
    "up = \"\"\n",
    "for i in s:\n",
    "    if 65 <= ord(i) < 91:\n",
    "        up += i\n",
    "    else:\n",
    "        num = ord(i)\n",
    "        up += chr(num - 32)\n",
    "print(up)"
   ]
  },
  {
   "cell_type": "code",
   "execution_count": 42,
   "id": "fdf110eb-dfef-41dc-b9f4-8507630e769f",
   "metadata": {},
   "outputs": [
    {
     "name": "stdout",
     "output_type": "stream",
     "text": [
      "hello\n"
     ]
    }
   ],
   "source": [
    "s = \"hELlo\"\n",
    "lo = \"\"\n",
    "for i in s:\n",
    "    if 97 <= ord(i) < 123:\n",
    "        lo += i\n",
    "    else:\n",
    "        num = ord(i)\n",
    "        lo += chr(num + 32)\n",
    "print(lo)"
   ]
  },
  {
   "cell_type": "code",
   "execution_count": 29,
   "id": "002ebc38-910e-4d09-9a70-f983afc3d69c",
   "metadata": {},
   "outputs": [
    {
     "name": "stdout",
     "output_type": "stream",
     "text": [
      "Hello\n"
     ]
    }
   ],
   "source": [
    "s = \"helLo\"\n",
    "lo = \"\"\n",
    "f = \"\"\n",
    "\n",
    "for i in s:\n",
    "    if 65 <= ord(i) < 91:\n",
    "        i = chr(ord(i) + 32)\n",
    "        lo += i\n",
    "    else:\n",
    "        lo += i\n",
    "        \n",
    "for x in lo:\n",
    "    if x == lo[0]:\n",
    "        f += chr(ord(lo[0]) - 32)\n",
    "    else:\n",
    "        f += x\n",
    "    \n",
    "  # 90 <= ord(lo[0]) < 123:\n",
    "   #     f += chr(ord(lo[0]) + 32)\n",
    "    #else:\n",
    "     #   pass\n",
    "       \n",
    "print(f)"
   ]
  },
  {
   "cell_type": "code",
   "execution_count": 39,
   "id": "7c0f9ac1-0c2d-4736-82eb-f274b0788424",
   "metadata": {},
   "outputs": [
    {
     "data": {
      "text/plain": [
       "123"
      ]
     },
     "execution_count": 39,
     "metadata": {},
     "output_type": "execute_result"
    }
   ],
   "source": [
    "97 + 26"
   ]
  },
  {
   "cell_type": "code",
   "execution_count": 25,
   "id": "e70a2b7a-da13-447f-9419-87cf3520d3e0",
   "metadata": {},
   "outputs": [
    {
     "data": {
      "text/plain": [
       "104"
      ]
     },
     "execution_count": 25,
     "metadata": {},
     "output_type": "execute_result"
    }
   ],
   "source": [
    "ord(\"h\")"
   ]
  },
  {
   "cell_type": "code",
   "execution_count": 15,
   "id": "4a0d4ca0-b4d3-432c-add0-29441b4f5cb1",
   "metadata": {},
   "outputs": [
    {
     "data": {
      "text/plain": [
       "122"
      ]
     },
     "execution_count": 15,
     "metadata": {},
     "output_type": "execute_result"
    }
   ],
   "source": [
    "90 + 32"
   ]
  },
  {
   "cell_type": "code",
   "execution_count": 16,
   "id": "e89c929f-8666-4899-8f18-19d0d1a94337",
   "metadata": {},
   "outputs": [
    {
     "data": {
      "text/plain": [
       "'z'"
      ]
     },
     "execution_count": 16,
     "metadata": {},
     "output_type": "execute_result"
    }
   ],
   "source": [
    "chr(122)"
   ]
  },
  {
   "cell_type": "code",
   "execution_count": 13,
   "id": "d262222f-8884-40f1-9b3a-0856e943be95",
   "metadata": {},
   "outputs": [
    {
     "data": {
      "text/plain": [
       "65"
      ]
     },
     "execution_count": 13,
     "metadata": {},
     "output_type": "execute_result"
    }
   ],
   "source": [
    "ord(\"A\")"
   ]
  },
  {
   "cell_type": "markdown",
   "id": "3dc1e243-7f52-40fb-96b6-3283ddf058bb",
   "metadata": {},
   "source": [
    "#### **4. Find and Replace**\n",
    "- Replace all occurrences of the word **\"apple\"** with **\"orange\"** in a given string.\n",
    "\n",
    "---\n",
    "\n"
   ]
  },
  {
   "cell_type": "code",
   "execution_count": 60,
   "id": "cce5d9ee-8a6a-4dbb-b3eb-fedeb7bda15a",
   "metadata": {},
   "outputs": [
    {
     "ename": "SyntaxError",
     "evalue": "invalid syntax (2577668744.py, line 10)",
     "output_type": "error",
     "traceback": [
      "\u001b[0;36m  Cell \u001b[0;32mIn[60], line 10\u001b[0;36m\u001b[0m\n\u001b[0;31m    l = ord(i) l = 104\u001b[0m\n\u001b[0m               ^\u001b[0m\n\u001b[0;31mSyntaxError\u001b[0m\u001b[0;31m:\u001b[0m invalid syntax\n"
     ]
    }
   ],
   "source": [
    "s = '''he is going to get an apple watch, \n",
    "at the apple store. \n",
    "The apple watch is called an iWatch.'''\n",
    "w = \"apple\"\n",
    "r = \"orange\"\n",
    "check = \"\" #Storing the collected word into a temporary variable\n",
    "d = 0\n",
    "\n",
    "for i in s: # i = h\n",
    "    l = ord(i) # l = 104\n",
    "    while l != 32: # passes l != 32 # \n",
    "        check += i #check = \"h\" \n",
    "        d += 1 # d = 1\n",
    "        l = 0 #l reset to 0\n",
    "        n = s[d] #s[d] = n = \"e\"\n",
    "        l += ord(n) # l = 0 + ord(e) l = 101 \n",
    "        \n",
    "print(check)\n"
   ]
  },
  {
   "cell_type": "code",
   "execution_count": 108,
   "id": "f17964a3-49e9-4c39-9204-4d4f984ac936",
   "metadata": {},
   "outputs": [
    {
     "name": "stdout",
     "output_type": "stream",
     "text": [
      "he is going to get an orange watch, \n",
      "at the orange store. \n",
      "The orange watch is called an iWatch.\n"
     ]
    }
   ],
   "source": [
    "s = '''he is going to get an apple watch, \n",
    "at the apple store. \n",
    "The apple watch is called an iWatch.'''\n",
    "w = \"apple\"\n",
    "r = \"orange\"\n",
    "check = \"\" #Storing the collected word into a temporary variable\n",
    "p = \" \" # p is space\n",
    "new = \"\" # creating new string to add the sentence with the replaced word. \n",
    "\n",
    "\n",
    "for i in s:\n",
    "    if i != p:\n",
    "        check += i\n",
    "    else:\n",
    "        if check == w:\n",
    "            new += r + \" \"\n",
    "        else:\n",
    "            new += check + \" \"\n",
    "        #print(check,\"-\", new)\n",
    "        check = \"\"\n",
    "    \n",
    "if check == w:\n",
    "    new += r\n",
    "else:\n",
    "    new += check\n",
    "\n",
    "print(new)\n",
    "        "
   ]
  },
  {
   "cell_type": "code",
   "execution_count": 59,
   "id": "11cba2f9-81fd-4d34-9761-09828af7ef50",
   "metadata": {},
   "outputs": [
    {
     "data": {
      "text/plain": [
       "101"
      ]
     },
     "execution_count": 59,
     "metadata": {},
     "output_type": "execute_result"
    }
   ],
   "source": [
    "ord(\"e\")"
   ]
  },
  {
   "cell_type": "code",
   "execution_count": 57,
   "id": "e2a0ab40-c332-443e-ab81-a2b56a7109e9",
   "metadata": {},
   "outputs": [
    {
     "data": {
      "text/plain": [
       "104"
      ]
     },
     "execution_count": 57,
     "metadata": {},
     "output_type": "execute_result"
    }
   ],
   "source": [
    "ord(\"h\")"
   ]
  },
  {
   "cell_type": "code",
   "execution_count": 56,
   "id": "15d803f4-275b-45cb-ae22-1fd072bc0d1b",
   "metadata": {},
   "outputs": [
    {
     "data": {
      "text/plain": [
       "101"
      ]
     },
     "execution_count": 56,
     "metadata": {},
     "output_type": "execute_result"
    }
   ],
   "source": [
    "ord(\"e\")"
   ]
  },
  {
   "cell_type": "markdown",
   "id": "3da31e35-af5b-44cb-a0dd-171d6b2456f1",
   "metadata": {},
   "source": [
    "### **Intermediate Level: Loops with Strings**\n",
    "\n",
    "#### **5. Iterate Over a String**\n",
    "Write a program that prints each character of a string on a new line.\n",
    "\n"
   ]
  },
  {
   "cell_type": "code",
   "execution_count": 1,
   "id": "809e9905-b095-4241-baa9-8d2044d5050c",
   "metadata": {},
   "outputs": [
    {
     "name": "stdout",
     "output_type": "stream",
     "text": [
      "H\n",
      "e\n",
      "l\n",
      "l\n",
      "o\n"
     ]
    }
   ],
   "source": [
    "s = \"Hello\"\n",
    "for i in s:\n",
    "    print(i)"
   ]
  },
  {
   "cell_type": "code",
   "execution_count": null,
   "id": "bfa79428-c7b6-470a-a763-1f6b35ee2497",
   "metadata": {},
   "outputs": [],
   "source": []
  },
  {
   "cell_type": "markdown",
   "id": "1e0cbb7b-e65f-49d5-a087-a404b6c65274",
   "metadata": {},
   "source": [
    "#### **6. Count Vowels in a String**\n",
    "Write a function that counts the number of vowels (`a, e, i, o, u`) in a string.\n",
    "\n"
   ]
  },
  {
   "cell_type": "code",
   "execution_count": 3,
   "id": "5f1d3221-41d6-4cb1-a819-9827fdb11425",
   "metadata": {},
   "outputs": [
    {
     "name": "stdout",
     "output_type": "stream",
     "text": [
      "4\n"
     ]
    }
   ],
   "source": [
    "s = \"I am a dog\"\n",
    "count = 0\n",
    "vowels = \"aeiouAEIOU\"\n",
    "for i in s:\n",
    "    if i in vowels:\n",
    "        count += 1\n",
    "    else:\n",
    "        pass\n",
    "print(count)"
   ]
  },
  {
   "cell_type": "code",
   "execution_count": null,
   "id": "f75cd625-bd0e-42ed-97c6-f2edaf2f1bb0",
   "metadata": {},
   "outputs": [],
   "source": [
    "s = \"I am a dog\"\n",
    "count = 0\n",
    "vowels = \"aeiou\"\n",
    "for i in s:\n",
    "    if i in vowels:\n",
    "        count += 1\n",
    "    else:\n",
    "        pass\n",
    "print(count)"
   ]
  },
  {
   "cell_type": "code",
   "execution_count": 5,
   "id": "c8dda22b-3d2f-412d-8e18-ac10ab0159b6",
   "metadata": {},
   "outputs": [
    {
     "data": {
      "text/plain": [
       "97"
      ]
     },
     "execution_count": 5,
     "metadata": {},
     "output_type": "execute_result"
    }
   ],
   "source": [
    "ord(\"a\")"
   ]
  },
  {
   "cell_type": "code",
   "execution_count": 28,
   "id": "11b07b6f-ff7c-4d55-b525-83f9b5be949b",
   "metadata": {},
   "outputs": [
    {
     "name": "stdout",
     "output_type": "stream",
     "text": [
      "\n",
      "4\n"
     ]
    }
   ],
   "source": [
    "s = \"i am a dog\"\n",
    "count = 0\n",
    "vowels = \"aeiou\"\n",
    "ns = \"\"\n",
    "for i in s:\n",
    "    i = (chr(ord(i) - 32))\n",
    "    if i in vowels.upper():\n",
    "        count += 1\n",
    "    else:\n",
    "        pass\n",
    "print(ns)\n",
    "print(count)"
   ]
  },
  {
   "cell_type": "code",
   "execution_count": null,
   "id": "5f8d5b16-1248-4ad5-8208-b06ebddbed13",
   "metadata": {},
   "outputs": [],
   "source": []
  },
  {
   "cell_type": "code",
   "execution_count": 8,
   "id": "72282121-2b7c-4748-a763-96c2fe25663e",
   "metadata": {},
   "outputs": [
    {
     "name": "stdout",
     "output_type": "stream",
     "text": [
      "H\n"
     ]
    }
   ],
   "source": [
    "i = \"h\"\n",
    "ns = (chr(ord(i) - 32))\n",
    "print(ns)"
   ]
  },
  {
   "cell_type": "code",
   "execution_count": 13,
   "id": "12c4279a-8f31-4db1-a846-279e35f91ea1",
   "metadata": {},
   "outputs": [
    {
     "name": "stdout",
     "output_type": "stream",
     "text": [
      "AEIOU\n"
     ]
    }
   ],
   "source": [
    "vowels = \"aeiou\"\n",
    "print(vowels.upper())"
   ]
  },
  {
   "cell_type": "markdown",
   "id": "9c3e557b-89a2-443f-bd2d-98572dd2bf71",
   "metadata": {},
   "source": [
    "#### **7. Reverse a String Using a Loop**\n",
    "Write a program to reverse a string manually using a loop.\n",
    "\n"
   ]
  },
  {
   "cell_type": "code",
   "execution_count": 29,
   "id": "aac56d6e-45c3-410e-886a-ec73f867b0ec",
   "metadata": {},
   "outputs": [
    {
     "ename": "IndexError",
     "evalue": "string index out of range",
     "output_type": "error",
     "traceback": [
      "\u001b[0;31m---------------------------------------------------------------------------\u001b[0m",
      "\u001b[0;31mIndexError\u001b[0m                                Traceback (most recent call last)",
      "Cell \u001b[0;32mIn[29], line 3\u001b[0m\n\u001b[1;32m      1\u001b[0m s \u001b[38;5;241m=\u001b[39m \u001b[38;5;124m\"\u001b[39m\u001b[38;5;124mCome\u001b[39m\u001b[38;5;124m\"\u001b[39m\n\u001b[1;32m      2\u001b[0m \u001b[38;5;28;01mfor\u001b[39;00m i \u001b[38;5;129;01min\u001b[39;00m \u001b[38;5;28mrange\u001b[39m(\u001b[38;5;28mlen\u001b[39m(s),\u001b[38;5;241m0\u001b[39m,\u001b[38;5;241m-\u001b[39m\u001b[38;5;241m1\u001b[39m):\n\u001b[0;32m----> 3\u001b[0m     \u001b[38;5;28mprint\u001b[39m(\u001b[43ms\u001b[49m\u001b[43m[\u001b[49m\u001b[43mi\u001b[49m\u001b[43m]\u001b[49m)\n",
      "\u001b[0;31mIndexError\u001b[0m: string index out of range"
     ]
    }
   ],
   "source": [
    "s = \"Come\"\n",
    "for i in range(len(s),0,-1):\n",
    "    print(s[i])"
   ]
  },
  {
   "cell_type": "code",
   "execution_count": 39,
   "id": "0bd96cad-d5a4-4760-8f2e-dd4c7a57c3d0",
   "metadata": {},
   "outputs": [
    {
     "name": "stdout",
     "output_type": "stream",
     "text": [
      "e\n",
      "m\n",
      "o\n",
      "C\n"
     ]
    }
   ],
   "source": [
    "s = \"Come\"\n",
    "for i in range(len(s)-1,-1,-1):\n",
    "    print(s[i])"
   ]
  },
  {
   "cell_type": "code",
   "execution_count": 44,
   "id": "6e15d942-0e9a-4c58-9aeb-7cf0c57e18c3",
   "metadata": {},
   "outputs": [
    {
     "name": "stdout",
     "output_type": "stream",
     "text": [
      "C\n"
     ]
    }
   ],
   "source": [
    "s = \"Come\"\n",
    "print(s[-(len(s))])"
   ]
  },
  {
   "cell_type": "markdown",
   "id": "e027b969-5251-4a14-81ba-fc216eb15998",
   "metadata": {},
   "source": [
    "#### **8. Check if a String is a Palindrome**\n",
    "Write a function to check if a given string is a palindrome (same forward and backward).\n",
    "\n"
   ]
  },
  {
   "cell_type": "code",
   "execution_count": 78,
   "id": "886f438b-f4e3-41e6-b963-722a62933e9e",
   "metadata": {},
   "outputs": [
    {
     "name": "stdout",
     "output_type": "stream",
     "text": [
      "mNm is a Pallindrome.\n"
     ]
    }
   ],
   "source": [
    "s = \"mNm\"\n",
    "s1 = \"\"\n",
    "reverse = \"\"\n",
    "for i in s:\n",
    "    if 97 <= ord(i) < 122:\n",
    "        i = chr(ord(i) - 32)\n",
    "        s1 += i\n",
    "    else:\n",
    "        s1 += i\n",
    "\n",
    "for x in range(len(s1)-1,-1,-1):\n",
    "    reverse += s1[x]\n",
    "\n",
    "if reverse == s1:\n",
    "    print(f\"{s} is a Pallindrome.\")\n",
    "else:\n",
    "    print(f\"{s} is not a Pallindrome.\")\n",
    "        \n",
    "    "
   ]
  },
  {
   "cell_type": "code",
   "execution_count": 83,
   "id": "6f95f130-df1b-43b9-a06e-ad545f165b45",
   "metadata": {},
   "outputs": [
    {
     "name": "stdout",
     "output_type": "stream",
     "text": [
      "Mam I am is not a Pallindrome.\n"
     ]
    }
   ],
   "source": [
    "s = \"Mam I am\"\n",
    "s1 = \"\"\n",
    "reverse = \"\"\n",
    "for i in s:\n",
    "    if 97 <= ord(i) <= 122:\n",
    "        i = chr(ord(i) - 32)\n",
    "        s1 += i\n",
    "    else:\n",
    "        s1 += i\n",
    "\n",
    "for x in range(len(s1)-1,-1,-1):\n",
    "    reverse += s1[x]\n",
    "\n",
    "if reverse == s1:\n",
    "    print(f\"{s} is a Pallindrome.\")\n",
    "else:\n",
    "    print(f\"{s} is not a Pallindrome.\")\n",
    "        \n",
    "    "
   ]
  },
  {
   "cell_type": "markdown",
   "id": "c17c2b82-0b86-4217-ba60-fbd17c0f196c",
   "metadata": {},
   "source": [
    "\n",
    "#### **9. Find the Longest Word in a Sentence**\n",
    "Write a function that takes a sentence as input and returns the longest word.\n",
    "\n",
    "---\n",
    "\n"
   ]
  },
  {
   "cell_type": "code",
   "execution_count": 134,
   "id": "0acc8c47-6634-4094-927c-314e7bc2e6ba",
   "metadata": {},
   "outputs": [
    {
     "name": "stdout",
     "output_type": "stream",
     "text": [
      "Longest word in this sentence = Schekjnolisjh\n"
     ]
    }
   ],
   "source": [
    "s  = \"I was not a part of Schekjnolisjh\"\n",
    "check = \"\"\n",
    "p = \" \"\n",
    "longest_word = \"\"\n",
    "\n",
    "for i in s:\n",
    "    if i != p:\n",
    "        check += i\n",
    "    else:\n",
    "        if len(check) > len(longest_word):\n",
    "            longest_word = check\n",
    "            \n",
    "        elif len(check) == len(longest_word):\n",
    "            longest_word1 = check\n",
    "\n",
    "        check = \"\"\n",
    "\n",
    "if len(check) > len(longest_word): # To check the last word\n",
    "    longest_word = check\n",
    "    print(f\"Longest word in this sentence = {longest_word}\")\n",
    "else:\n",
    "    print(f\"Longest word in this sentence = {longest_word}\")\n",
    "\n",
    "    "
   ]
  },
  {
   "cell_type": "code",
   "execution_count": 131,
   "id": "fcba95a7-00fc-4198-8403-f0166d22b8a5",
   "metadata": {},
   "outputs": [],
   "source": [
    "s  = \"I was not a part of Red food.\""
   ]
  },
  {
   "cell_type": "code",
   "execution_count": null,
   "id": "6a391640-95bb-4dd4-91e8-e86e05d2abb4",
   "metadata": {},
   "outputs": [],
   "source": []
  },
  {
   "cell_type": "code",
   "execution_count": null,
   "id": "cf78e620-f20a-46bc-b711-d48d16fafb92",
   "metadata": {},
   "outputs": [],
   "source": []
  },
  {
   "cell_type": "code",
   "execution_count": 135,
   "id": "b0df46ce-862e-4d88-acb9-764c0842f6cd",
   "metadata": {},
   "outputs": [
    {
     "ename": "SyntaxError",
     "evalue": "invalid syntax (3515231096.py, line 20)",
     "output_type": "error",
     "traceback": [
      "\u001b[0;36m  Cell \u001b[0;32mIn[135], line 20\u001b[0;36m\u001b[0m\n\u001b[0;31m    if len(longest_word) > (len(check):\u001b[0m\n\u001b[0m                                      ^\u001b[0m\n\u001b[0;31mSyntaxError\u001b[0m\u001b[0;31m:\u001b[0m invalid syntax\n"
     ]
    }
   ],
   "source": [
    "s  = \"I was not a part of Germany's or Indianish food.\"\n",
    "check = \"\"\n",
    "p = \" \"\n",
    "longest_word = \"\"\n",
    "\n",
    "for i in s:\n",
    "    if i != p:\n",
    "        check += i\n",
    "    else:\n",
    "        if len(check) > len(longest_word):\n",
    "            longest_word = check\n",
    "            check = \"\"\n",
    "        elif len(check) == len(longest_word):\n",
    "            longest_word1 = check\n",
    "        \n",
    "        else:\n",
    "            check = \"\"\n",
    "        check = \"\"\n",
    "\n",
    "if len(longest_word) > (len(check):\n",
    "    print(f\"Longest word in this sentence = {longest_word}\")\n",
    "elif len(longest_word) == len(longest_word1):\n",
    "    print(f\"Longest words in this sentence are = {longest_word} and {longest_word1}\")\n",
    "\n",
    "    "
   ]
  },
  {
   "cell_type": "code",
   "execution_count": 137,
   "id": "f01af1df-62df-43f1-89a2-52a22c071adf",
   "metadata": {},
   "outputs": [
    {
     "name": "stdout",
     "output_type": "stream",
     "text": [
      "Longest word in this sentence = Schekjnolisjh\n"
     ]
    }
   ],
   "source": [
    "s  = \"I was not a part of Schekjnolisjh\"\n",
    "check = \"\"\n",
    "p = \" \"\n",
    "longest_word = \"\"\n",
    "\n",
    "for i in s:\n",
    "    if i != p:\n",
    "        check += i\n",
    "    else:\n",
    "        if len(check) > len(longest_word):\n",
    "            longest_word = check\n",
    "        check = \"\"\n",
    "\n",
    "if len(check) > len(longest_word): # To check the last word\n",
    "    longest_word = check\n",
    "print(f\"Longest word in this sentence = {longest_word}\")\n",
    "    "
   ]
  },
  {
   "cell_type": "markdown",
   "id": "7d5a4378-e759-46e1-8037-22e49ebe17c4",
   "metadata": {},
   "source": [
    "### **Advanced Level: Control Flow with Strings**\n",
    "\n",
    "#### **10. Word Frequency Counter**\n",
    "Count the occurrences of each word in a sentence and store the result in a dictionary.\n",
    "\n"
   ]
  },
  {
   "cell_type": "code",
   "execution_count": 12,
   "id": "b57ee6e4-f417-453a-bb4f-1bee971fe562",
   "metadata": {},
   "outputs": [
    {
     "name": "stdout",
     "output_type": "stream",
     "text": [
      "Iamanapple,applewasagoodgirl\n"
     ]
    }
   ],
   "source": [
    " s = \"I am an apple, apple was a good girl\"\n",
    "check = \"\"\n",
    "p = \" \"\n",
    "count = 0\n",
    "for i in s:\n",
    "    if i != p:\n",
    "        check += i\n",
    "    else:\n",
    "        for x in check:\n",
    "            if check == s:\n",
    "                count += 1\n",
    "            \n",
    "print(check)"
   ]
  },
  {
   "cell_type": "code",
   "execution_count": null,
   "id": "f55ce321-ddfe-4536-9774-d9614127f7a9",
   "metadata": {},
   "outputs": [],
   "source": []
  },
  {
   "cell_type": "markdown",
   "id": "be977326-2a7a-4480-980f-be4910d6eefd",
   "metadata": {},
   "source": [
    "#### **11. Extract Digits from a String**\n",
    "Write a function that extracts only the digits from a given string.\n",
    "\n"
   ]
  },
  {
   "cell_type": "code",
   "execution_count": 45,
   "id": "9f00ae53-3fcc-4d7c-a985-0b8f2b43075f",
   "metadata": {},
   "outputs": [
    {
     "name": "stdout",
     "output_type": "stream",
     "text": [
      "['3', '5']\n"
     ]
    }
   ],
   "source": [
    "def dig(s):\n",
    "    digs = []\n",
    "    for i in s:\n",
    "        if 48 <= ord(i) < 58: #ASCII character for digits 0 to 9\n",
    "            digs += i\n",
    "    print(digs)\n",
    "    \n",
    "s = \"He3 5Dg\"\n",
    "dig(s)"
   ]
  },
  {
   "cell_type": "code",
   "execution_count": 31,
   "id": "18baadc7-e2da-40e3-8db5-02782e0027e6",
   "metadata": {},
   "outputs": [
    {
     "data": {
      "text/plain": [
       "str"
      ]
     },
     "execution_count": 31,
     "metadata": {},
     "output_type": "execute_result"
    }
   ],
   "source": [
    "s = \"3\"\n",
    "type(s)"
   ]
  },
  {
   "cell_type": "code",
   "execution_count": 51,
   "id": "3e94f62b-74b9-46ef-b90d-743164db0c10",
   "metadata": {},
   "outputs": [
    {
     "data": {
      "text/plain": [
       "48"
      ]
     },
     "execution_count": 51,
     "metadata": {},
     "output_type": "execute_result"
    }
   ],
   "source": [
    "ord(\"0\")"
   ]
  },
  {
   "cell_type": "code",
   "execution_count": 3,
   "id": "6dabcc5b-3ae5-486d-9cc1-448018795056",
   "metadata": {},
   "outputs": [
    {
     "data": {
      "text/plain": [
       "'Z'"
      ]
     },
     "execution_count": 3,
     "metadata": {},
     "output_type": "execute_result"
    }
   ],
   "source": [
    "chr(90)"
   ]
  },
  {
   "cell_type": "code",
   "execution_count": 43,
   "id": "6a45c2d3-af8d-4e98-8016-2de60fe5ae4c",
   "metadata": {},
   "outputs": [
    {
     "data": {
      "text/plain": [
       "97"
      ]
     },
     "execution_count": 43,
     "metadata": {},
     "output_type": "execute_result"
    }
   ],
   "source": [
    "65 + 32"
   ]
  },
  {
   "cell_type": "markdown",
   "id": "80759d50-e88c-4d39-aa77-564878676c34",
   "metadata": {},
   "source": [
    "#### **12. Remove Special Characters from a String**\n",
    "Write a function that removes special characters (e.g., `@, !, #, $, %`) from a string.\n",
    "\n"
   ]
  },
  {
   "cell_type": "code",
   "execution_count": 52,
   "id": "0ae4ed78-c5c2-4163-8869-5966180bc815",
   "metadata": {},
   "outputs": [
    {
     "name": "stdout",
     "output_type": "stream",
     "text": [
      "Hello9\n"
     ]
    }
   ],
   "source": [
    "def specialRemove(s):\n",
    "    ns = \"\"\n",
    "    for i in s:\n",
    "        if (65 <= ord(i) <= 90) or (97 <= ord(i) <= 122) or (48 <= ord(i) <= 57) :\n",
    "            ns += i\n",
    "    return ns\n",
    "\n",
    "t = \"He§llo9$\"\n",
    "a = specialRemove(t)\n",
    "print(a)"
   ]
  },
  {
   "cell_type": "code",
   "execution_count": null,
   "id": "6ca37121-4201-4ec9-9a0a-d45fe176d925",
   "metadata": {},
   "outputs": [],
   "source": []
  },
  {
   "cell_type": "markdown",
   "id": "c16b7933-6c8a-4934-8637-ade96f67228b",
   "metadata": {},
   "source": [
    "#### **13. Check for Anagrams**\n",
    "Write a function that checks if two strings are anagrams (contain the same characters in a different order).\n",
    "\n"
   ]
  },
  {
   "cell_type": "code",
   "execution_count": 59,
   "id": "46271978-63d7-447f-af74-28f815975157",
   "metadata": {},
   "outputs": [
    {
     "name": "stdout",
     "output_type": "stream",
     "text": [
      "None\n"
     ]
    }
   ],
   "source": [
    "def anagrams(s,t):\n",
    "    letters = \"\"\n",
    "    for i in s: # i = s\n",
    "        if len(s) == len(t): # If both words are the same length\n",
    "            for x in t: # x = a, x = r, x = t, x = s\n",
    "                    if i == t: # False....... when x = s = True\n",
    "                        letters += \"\" # letters = s\n",
    "                    else: #move to the next\n",
    "                        continue\n",
    "        else:\n",
    "            False\n",
    "\n",
    "\n",
    "s = \"star\"\n",
    "t = \"arts\"\n",
    "print(anagrams(s,t))"
   ]
  },
  {
   "cell_type": "code",
   "execution_count": 121,
   "id": "1363ba33-9c4b-4f4b-a653-b978a3551226",
   "metadata": {},
   "outputs": [
    {
     "name": "stdout",
     "output_type": "stream",
     "text": [
      "star and arts are Anagrams.\n",
      "True\n"
     ]
    }
   ],
   "source": [
    "def anagrams(s,t):\n",
    "    v = t\n",
    "    if len(s) == len(t): # If both words are the same length\n",
    "        for i in s: # i = s, i = t, \n",
    "            if i in t: # s in t = True , t in t = True \n",
    "                t = t.replace(i,\"\",1) # letters = $$$$\n",
    "        \n",
    "                \n",
    "        if t == \"\" :\n",
    "            print(f\"{s} and {v} are Anagrams.\")\n",
    "            return True\n",
    "        else:\n",
    "            print(f\"{s} and {v} are not Anagrams.\")\n",
    "            return False\n",
    "            \n",
    "    else:\n",
    "        return False\n",
    "\n",
    "    #if t == \"\":\n",
    "     #   return True\n",
    "    #else:\n",
    "     #   return False\n",
    "\n",
    "\n",
    "    \n",
    "\n",
    "s = \"star\"\n",
    "t = \"arts\"\n",
    "print(anagrams(s,t))"
   ]
  },
  {
   "cell_type": "code",
   "execution_count": 94,
   "id": "fce34a91-eea0-44cf-b221-d8910d48323f",
   "metadata": {},
   "outputs": [
    {
     "name": "stdout",
     "output_type": "stream",
     "text": [
      "Hallo\n",
      "Haglo\n"
     ]
    }
   ],
   "source": [
    "g = \"Hallo\"\n",
    "print(g)\n",
    "g = g.replace(\"l\", \"g\", 1)  # Replaces the first occurrence of 'l' with an empty string\n",
    "print(g)"
   ]
  },
  {
   "cell_type": "markdown",
   "id": "f7727c3a-dc1d-4e07-a6dd-6d03622c6dc9",
   "metadata": {},
   "source": [
    "Star and Arts"
   ]
  },
  {
   "cell_type": "markdown",
   "id": "dd81540f-8428-4536-8bfc-8f4d75b87d9a",
   "metadata": {},
   "source": [
    "#### **14. Capitalize Every Alternate Letter in a String**\n",
    "Write a function that capitalizes every alternate letter in a given string.\n",
    "\n"
   ]
  },
  {
   "cell_type": "code",
   "execution_count": 22,
   "id": "5a4fbeee-b134-44ff-83a0-d8f278ef3728",
   "metadata": {},
   "outputs": [
    {
     "name": "stdout",
     "output_type": "stream",
     "text": [
      "H",
      "",
      "",
      "",
      "\n"
     ]
    }
   ],
   "source": [
    "def Cap(s):\n",
    "    ns = \"\"\n",
    "    for i in range(0,len(s),2):\n",
    "        if i == 0:\n",
    "            if 65 <= ord(s[i]) < 91:\n",
    "                ns += s[i]\n",
    "            else:\n",
    "              ns += chr(ord(s[i]) - 32)\n",
    "        else:\n",
    "            for x in range(1,len(s)):\n",
    "                if 65 <= ord(s[x]) < 91:\n",
    "                    ns += s[x]\n",
    "                else:\n",
    "                    ns += chr(ord(s[i]) + 32)\n",
    "              \n",
    "\n",
    "\n",
    "\n",
    "s = \"Hello\"\n",
    "print(Cap(s))\n"
   ]
  },
  {
   "cell_type": "code",
   "execution_count": 83,
   "id": "5525b796-ca04-4f93-a15f-01084fd3be87",
   "metadata": {},
   "outputs": [
    {
     "name": "stdout",
     "output_type": "stream",
     "text": [
      "HeLlO\n"
     ]
    }
   ],
   "source": [
    "def Cap(s):\n",
    "    ns = \"\"\n",
    "    cap = \"\"\n",
    "    for i in s:\n",
    "            if 97 <= ord(i) < 122:\n",
    "                ns += i\n",
    "            else:\n",
    "              ns += chr(ord(i) + 32)\n",
    "    #return ns\n",
    "        \n",
    "    for x in range(0,len(ns)): # Every alternate letter. \n",
    "        if x % 2 == 0:\n",
    "            cap += chr(ord(ns[x]) - 32)\n",
    "        else:\n",
    "            cap += ns[x]\n",
    "    \n",
    "    return cap\n",
    "\n",
    "\n",
    "\n",
    "s = \"Hello\"\n",
    "print(Cap(s))\n"
   ]
  },
  {
   "cell_type": "code",
   "execution_count": 118,
   "id": "5ffefda3-09ae-454b-b3de-775a543a9eaf",
   "metadata": {},
   "outputs": [
    {
     "name": "stdout",
     "output_type": "stream",
     "text": [
      "HeLlO\n"
     ]
    }
   ],
   "source": [
    "def Cap(s):\n",
    "    ns = \"\"\n",
    "    for x in range(len(s)): # Every alternate letter. \n",
    "        if x % 2 == 0: # x = 0, x % 2 = 0\n",
    "            if 97 <= ord(s[x]) < 123: #s[x] = s[0] = \"h\" if lowercase already\n",
    "               ns += chr(ord(s[x]) - 32) # convert to upper case and add it to new string.\n",
    "            else: #if it is uppercase\n",
    "                ns += s[x] #leave as is and add it to new string\n",
    "        else: #If x = 1\n",
    "            if 65 <= ord(s[x]) < 91: # if uppercase\n",
    "                ns += chr(ord(s[x]) + 32) \n",
    "            else:\n",
    "                ns += s[x]\n",
    "    \n",
    "    return ns\n",
    "\n",
    "\n",
    "s = \"Hello\"\n",
    "print(Cap(s))\n"
   ]
  },
  {
   "cell_type": "code",
   "execution_count": 130,
   "id": "bcef6f65-91b3-4c0f-bdc8-f9039b6d6fa9",
   "metadata": {},
   "outputs": [
    {
     "name": "stdout",
     "output_type": "stream",
     "text": [
      "HeLlO\n"
     ]
    }
   ],
   "source": [
    "def Cap(s):\n",
    "    ns = \"\"\n",
    "    for x in range(len(s)): # Every alternate letter. \n",
    "        if x % 2 == 0: # x = 0, x % 2 = 0\n",
    "            if 97 <= ord(s[x]) < 123: #s[x] = s[0] = \"h\" if lowercase already\n",
    "               ns += chr(ord(s[x]) - 32) # convert to upper case and add it to new string.\n",
    "            else: #if it is uppercase\n",
    "                ns += s[x] #leave as is and add it to new string\n",
    "        else: #If x = 1\n",
    "            if 65 <= ord(s[x]) < 91: # if uppercase\n",
    "                ns += chr(ord(s[x]) + 32) \n",
    "            else:\n",
    "                ns += s[x]\n",
    "    \n",
    "    return ns\n",
    "\n",
    "\n",
    "s = \"hEllo\"\n",
    "print(Cap(s))\n"
   ]
  },
  {
   "cell_type": "code",
   "execution_count": 131,
   "id": "2c980803-2235-4ec0-986a-79e7cfdc3677",
   "metadata": {},
   "outputs": [
    {
     "name": "stdout",
     "output_type": "stream",
     "text": [
      "eLlO\n"
     ]
    }
   ],
   "source": [
    "def Cap(s):\n",
    "    ns = \"\"\n",
    "    for x in range(0,len(s)): # Every alternate letter. \n",
    "        if x % 2 == 0: # x = 0, x % 2 = 0\n",
    "            if 97 <= ord(s[x]) < 123: #s[x] = s[0] = \"h\"\n",
    "               ns += chr(ord(s[x]) - 32)\n",
    "            #else:\n",
    "             #  pass \n",
    "        else:\n",
    "            ns += s[x]\n",
    "    \n",
    "    return ns\n",
    "\n",
    "\n",
    "s = \"Hello\"\n",
    "print(Cap(s))\n"
   ]
  },
  {
   "cell_type": "code",
   "execution_count": 59,
   "id": "b316d678-4ee9-4dd1-a1ab-6e5387e16198",
   "metadata": {},
   "outputs": [
    {
     "data": {
      "text/plain": [
       "1"
      ]
     },
     "execution_count": 59,
     "metadata": {},
     "output_type": "execute_result"
    }
   ],
   "source": [
    "1 % 2"
   ]
  },
  {
   "cell_type": "code",
   "execution_count": 50,
   "id": "7ceb0336-baea-481c-8209-43ec3045c586",
   "metadata": {},
   "outputs": [
    {
     "name": "stdout",
     "output_type": "stream",
     "text": [
      "hello\n",
      "0 h\n",
      "1 e\n",
      "2 l\n",
      "3 l\n",
      "4 o\n",
      "HeLlO\n"
     ]
    }
   ],
   "source": [
    "s = \"Hello\"\n",
    "ns = \"\"\n",
    "\n",
    "for i in s:\n",
    "        if 97 <= ord(i) < 122:\n",
    "             ns += i\n",
    "        else:\n",
    "            ns += chr(ord(i) + 32)\n",
    "print(ns)\n",
    "\n",
    "cap = \"\"\n",
    "\n",
    "for x in range(0,len(ns)):\n",
    "    print(x,ns[x])\n",
    "    if x % 2 == 0:\n",
    "        cap += chr(ord(ns[x]) - 32)\n",
    "    #cap += chr(ord(ns[x]) + 32)\n",
    "    else:\n",
    "        cap += ns[x]\n",
    "print(cap)"
   ]
  },
  {
   "cell_type": "code",
   "execution_count": 42,
   "id": "08af498a-1ce9-4897-a58b-d7d9e21c8376",
   "metadata": {},
   "outputs": [
    {
     "data": {
      "text/plain": [
       "104"
      ]
     },
     "execution_count": 42,
     "metadata": {},
     "output_type": "execute_result"
    }
   ],
   "source": [
    "ord(\"h\")"
   ]
  },
  {
   "cell_type": "code",
   "execution_count": 25,
   "id": "56a70b11-6513-4d71-a23e-d6252de2e9a0",
   "metadata": {},
   "outputs": [
    {
     "data": {
      "text/plain": [
       "'z'"
      ]
     },
     "execution_count": 25,
     "metadata": {},
     "output_type": "execute_result"
    }
   ],
   "source": [
    "chr(90 + 32)"
   ]
  },
  {
   "cell_type": "code",
   "execution_count": 7,
   "id": "f5e65b5a-7325-43e7-996e-27eeda7a0c0f",
   "metadata": {},
   "outputs": [
    {
     "name": "stdout",
     "output_type": "stream",
     "text": [
      "e\n",
      "l\n",
      "l\n",
      "o\n"
     ]
    }
   ],
   "source": [
    "s = \"Hello\"\n",
    "\n",
    "    print(s[x])"
   ]
  },
  {
   "cell_type": "code",
   "execution_count": null,
   "id": "bce6a14e-47eb-4ce6-8358-781776dfa21c",
   "metadata": {},
   "outputs": [],
   "source": []
  },
  {
   "cell_type": "markdown",
   "id": "fedbd768-be88-4aed-958a-5e173bd7b222",
   "metadata": {},
   "source": [
    "#### **15. Find the Most Common Character in a String**\n",
    "Write a function that finds and returns the most frequently occurring character in a string.\n",
    "\n",
    "---\n"
   ]
  },
  {
   "cell_type": "code",
   "execution_count": 182,
   "id": "b5e39099-e3c9-4432-a162-1d1120dc5bf0",
   "metadata": {},
   "outputs": [
    {
     "name": "stdout",
     "output_type": "stream",
     "text": [
      "y 2\n"
     ]
    }
   ],
   "source": [
    "s = \"Synonym\"\n",
    "maxChar = \"\"\n",
    "maxCount = 0\n",
    "\n",
    "for x in s: # x = h\n",
    "    count = 0\n",
    "    for y in s: # y = h (1st h)\n",
    "        if y == x:\n",
    "            count += 1\n",
    "    if count > maxCount:\n",
    "        maxCount = count\n",
    "        maxChar = x\n",
    "        \n",
    "print(maxChar, maxCount)\n",
    "            \n"
   ]
  },
  {
   "cell_type": "code",
   "execution_count": 180,
   "id": "b6604a42-f590-41c3-b2c2-26e2c00bfc7a",
   "metadata": {},
   "outputs": [
    {
     "name": "stdout",
     "output_type": "stream",
     "text": [
      "iteration: 1\n",
      "s = hlo\n",
      "i = h\n",
      "x = h\n",
      "{'h': 2}\n",
      "x = l\n",
      "x = o\n",
      "iteration: 2\n",
      "s = lo\n",
      "i = h\n",
      "x = l\n",
      "x = o\n",
      "iteration: 3\n",
      "s = o\n",
      "i = l\n",
      "x = o\n",
      "iteration: 4\n",
      "s = \n",
      "i = o\n",
      "{'h': 2, 'l': 2}\n"
     ]
    }
   ],
   "source": [
    "s = \"hhlo\"\n",
    "count = 1\n",
    "ts = s\n",
    "iteration = 0\n",
    "dicts = {}\n",
    "for i in s: # i = h, s = hhllo, i = h, i = l\n",
    "    iteration += 1\n",
    "    s = s.replace(i,\"\",count) # s = \n",
    "    print(\"iteration:\",iteration)\n",
    "    print(\"s =\", s)\n",
    "    print(\"i =\", i)\n",
    "    for x in s: # s = \"hllo\", x = h\n",
    "        print(\"x =\",x)\n",
    "        if x == i: #if h = h\n",
    "            count += 1 # count = 2\n",
    "            dicts[i] = count # {h : 2}\n",
    "            print(dicts)\n",
    "        else:\n",
    "           dicts[i] = count\n",
    "        \n",
    "        \n",
    "print(dicts)\n"
   ]
  },
  {
   "cell_type": "code",
   "execution_count": 169,
   "id": "4b6780ef-b13b-4a0a-98bb-4a8386029a45",
   "metadata": {},
   "outputs": [
    {
     "name": "stdout",
     "output_type": "stream",
     "text": [
      "iteration: 1\n",
      "s = hhlo\n",
      "i = h\n",
      "x = h\n",
      "{'h': 2}\n",
      "x = h\n",
      "{'h': 3}\n",
      "x = l\n",
      "x = o\n",
      "iteration: 2\n",
      "s = lo\n",
      "i = h\n",
      "x = l\n",
      "x = o\n",
      "iteration: 3\n",
      "s = lo\n",
      "i = l\n",
      "x = l\n",
      "{'h': 3, 'l': 4}\n",
      "x = o\n",
      "iteration: 4\n",
      "s = lo\n",
      "i = o\n",
      "x = l\n",
      "x = o\n",
      "{'h': 3, 'l': 4, 'o': 5}\n",
      "{'h': 3, 'l': 4, 'o': 5}\n"
     ]
    }
   ],
   "source": [
    "s = \"hhlo\"\n",
    "count = 1\n",
    "ts = s\n",
    "iteration = 0\n",
    "dicts = {}\n",
    "for i in s: # i = h, s = hhllo, i = h, i = l\n",
    "    if i in dicts:\n",
    "       s = s.replace(i,\"\",count) \n",
    "    iteration += 1\n",
    "     # s = \n",
    "    print(\"iteration:\",iteration)\n",
    "    print(\"s =\", s)\n",
    "    print(\"i =\", i)\n",
    "    for x in s: # s = \"hllo\", x = h\n",
    "        print(\"x =\",x)\n",
    "        if x == i: #if h = h\n",
    "            count += 1 # count = 2\n",
    "            dicts[i] = count # {h : 2}\n",
    "            print(dicts)\n",
    "        else:\n",
    "           dicts[i] = count\n",
    "        \n",
    "        \n",
    "print(dicts)\n"
   ]
  },
  {
   "cell_type": "code",
   "execution_count": null,
   "id": "422f5215-658b-4209-9d85-5afa6a832873",
   "metadata": {},
   "outputs": [],
   "source": []
  },
  {
   "cell_type": "code",
   "execution_count": 181,
   "id": "5c266ca6-13d5-4495-9639-8cb4cb7469e3",
   "metadata": {},
   "outputs": [
    {
     "name": "stdout",
     "output_type": "stream",
     "text": [
      "{'h': 2, 'l': 3}\n"
     ]
    }
   ],
   "source": [
    "s = \"hhllo\"\n",
    "count = 1\n",
    "dicts = {}\n",
    "for i in s: # i = h\n",
    "    s = s.replace(i,\"\",1)\n",
    "    for x in s: # s = \"hllo\", x = h\n",
    "        if x == i: #if h = h\n",
    "            count += 1 # count = 2\n",
    "            dicts[i] = count\n",
    "        else:\n",
    "           dicts[i] = count\n",
    "print(dicts)\n"
   ]
  },
  {
   "cell_type": "code",
   "execution_count": 172,
   "id": "9893506f-9646-4444-9e0d-4a731156fb7d",
   "metadata": {},
   "outputs": [
    {
     "name": "stdout",
     "output_type": "stream",
     "text": [
      "iteration: 1\n",
      "s_temp = hlo\n",
      "i = h\n",
      "x = h\n",
      "dicts = {'h': 2}\n",
      "x = l\n",
      "x = o\n",
      "iteration: 2\n",
      "s_temp = lo\n",
      "i = h\n",
      "x = l\n",
      "x = o\n",
      "iteration: 3\n",
      "s_temp = hho\n",
      "i = l\n",
      "x = h\n",
      "x = h\n",
      "x = o\n",
      "iteration: 4\n",
      "s_temp = hhl\n",
      "i = o\n",
      "x = h\n",
      "x = h\n",
      "x = l\n",
      "Final dicts: {'h': 1, 'l': 1, 'o': 1}\n"
     ]
    }
   ],
   "source": [
    "s = \"hhlo\"\n",
    "count = 1\n",
    "iteration = 0\n",
    "dicts = {}\n",
    "\n",
    "# Outer loop to iterate through the string\n",
    "for i in s:  # 'i' is the current character in the outer loop\n",
    "    iteration += 1\n",
    "    s_temp = s  # We use a temporary variable to preserve the original string\n",
    "\n",
    "    # Replace the current character 'i' from the string\n",
    "    s_temp = s_temp.replace(i, \"\", count)\n",
    "\n",
    "    print(\"iteration:\", iteration)\n",
    "    print(\"s_temp =\", s_temp)\n",
    "    print(\"i =\", i)\n",
    "    \n",
    "    # Initialize the count for this character\n",
    "    count = 1\n",
    "\n",
    "    # Loop through the modified string and count the occurrences of 'i'\n",
    "    for x in s_temp:  # 'x' is each character in the modified string\n",
    "        print(\"x =\", x)\n",
    "        if x == i:  # If 'x' matches 'i'\n",
    "            count += 1  # Increment the count for 'i'\n",
    "            dicts[i] = count  # Update the dictionary with the new count\n",
    "            print(\"dicts =\", dicts)\n",
    "        else:\n",
    "            dicts[i] = count  # Otherwise, store the current count for 'i'\n",
    "\n",
    "# Print the final result\n",
    "print(\"Final dicts:\", dicts)\n"
   ]
  },
  {
   "cell_type": "code",
   "execution_count": 150,
   "id": "39f1d5ff-4b2b-41dc-b9d3-bb9f5d340dac",
   "metadata": {},
   "outputs": [
    {
     "name": "stdout",
     "output_type": "stream",
     "text": [
      "{'h': 1, 'l': 1, 'o': 1}\n"
     ]
    }
   ],
   "source": [
    "s = \"hhllo\"\n",
    "\n",
    "dicts = {}\n",
    "for i in s: # i = h\n",
    "    s = s.replace(i,\"\",1)\n",
    "    count = 1\n",
    "    if i in s: # s = \"hllo\", x = h #if h = h\n",
    "        count += 1 # count = 2\n",
    "        dicts[i] = count\n",
    "    else:\n",
    "       dicts[i] = count\n",
    "\n",
    "        \n",
    "print(dicts)\n"
   ]
  },
  {
   "cell_type": "code",
   "execution_count": 151,
   "id": "04379eb2-7d74-4f6d-a15a-6eb73e2ad431",
   "metadata": {},
   "outputs": [
    {
     "name": "stdout",
     "output_type": "stream",
     "text": [
      "{'h': 1, 'l': 1, 'o': 1}\n"
     ]
    }
   ],
   "source": [
    "s = \"hhllo\"\n",
    "dicts = {}\n",
    "\n",
    "for i in s:  # iterate through each character in the string\n",
    "    count = 1  # initialize count to 1 for the first occurrence of the character\n",
    "    s = s.replace(i, \"\", 1)  # remove the first occurrence of 'i'\n",
    "    \n",
    "    if i in s:  # if 'i' appears again in the string\n",
    "        count += 1  # increment the count\n",
    "        dicts[i] = count  # store the count in the dictionary\n",
    "    else:\n",
    "        dicts[i] = count  # store the count for the last occurrence\n",
    "\n",
    "print(dicts)\n"
   ]
  },
  {
   "cell_type": "code",
   "execution_count": 152,
   "id": "0175e712-0621-4380-ac74-f80a0ef845d5",
   "metadata": {},
   "outputs": [
    {
     "name": "stdout",
     "output_type": "stream",
     "text": [
      "{'h': 3, 'l': 3, 'o': 2}\n"
     ]
    }
   ],
   "source": [
    "s = \"hhllo\"\n",
    "\n",
    "dicts = {}\n",
    "original_s = s  # Keep the original string intact\n",
    "\n",
    "for i in original_s:  # Iterate through each character in the string\n",
    "    if i not in dicts:  # Check if the character has already been counted\n",
    "        count = 1  # Initialize count for the character\n",
    "\n",
    "        s = original_s  # Reset the string to its original value\n",
    "        \n",
    "        # Loop through the remaining occurrences of the character\n",
    "        for x in s:\n",
    "            if x == i:  # Check if the character matches\n",
    "                count += 1  # Increment count\n",
    "        dicts[i] = count  # Store the count in the dictionary\n",
    "\n",
    "print(dicts)\n"
   ]
  },
  {
   "cell_type": "code",
   "execution_count": 153,
   "id": "89f706ec-18e8-4671-ad99-afc3c7e3b490",
   "metadata": {},
   "outputs": [
    {
     "name": "stdout",
     "output_type": "stream",
     "text": [
      "{'h': 2, 'l': 2, 'o': 1}\n"
     ]
    }
   ],
   "source": [
    "s = \"hhllo\"\n",
    "\n",
    "dicts = {}\n",
    "\n",
    "# Iterate through each character in the string\n",
    "for i in s:  \n",
    "    if i not in dicts:  # Only process the character if it's not in the dictionary already\n",
    "        count = 1  # Start the count for this character\n",
    "\n",
    "        # Make a copy of the string to avoid modifying the original string in the loop\n",
    "        remaining_string = s.replace(i, \"\", 1)  # Remove the first occurrence of 'i'\n",
    "        \n",
    "        # Now count the remaining occurrences of 'i' in the string\n",
    "        while i in remaining_string:\n",
    "            count += 1\n",
    "            remaining_string = remaining_string.replace(i, \"\", 1)  # Remove one more occurrence of 'i'\n",
    "        \n",
    "        dicts[i] = count  # Store the final count in the dictionary\n",
    "\n",
    "print(dicts)\n"
   ]
  },
  {
   "cell_type": "markdown",
   "id": "d905baff-213c-4f27-b213-5ba2ff43ea5d",
   "metadata": {},
   "source": [
    "#### **16. Slicing**\n",
    "\n",
    "Copy the provided `text` to the returned variable `new_string` after replacing each vowel with a dash (`-`) using an `if-else` statement with a **single condition**, that consists of a single `in` operator."
   ]
  },
  {
   "cell_type": "code",
   "execution_count": 184,
   "id": "3f205c14-be41-4d81-84bd-42a82dd9f7ac",
   "metadata": {},
   "outputs": [
    {
     "name": "stdout",
     "output_type": "stream",
     "text": [
      "H-ll-\n"
     ]
    }
   ],
   "source": [
    "text = \"Hello\"\n",
    "new_string = \"\"\n",
    "vowel = \"aeiouAEIOU\"\n",
    "for i in text:\n",
    "    if i in vowel:\n",
    "        new_string += \"-\"\n",
    "    else:\n",
    "        new_string += i\n",
    "print(new_string)"
   ]
  },
  {
   "cell_type": "code",
   "execution_count": null,
   "id": "7904e82a-81b9-446d-a7f3-ed3325b50e06",
   "metadata": {},
   "outputs": [],
   "source": []
  },
  {
   "cell_type": "code",
   "execution_count": null,
   "id": "74ee349a-c5f3-409b-adc8-435e0dab4d06",
   "metadata": {},
   "outputs": [],
   "source": []
  },
  {
   "cell_type": "markdown",
   "id": "535fad55-9357-496e-838f-ab9786706006",
   "metadata": {
    "editable": false,
    "nbgrader": {
     "cell_type": "markdown",
     "checksum": "9673359790ed8e142a836c89b394a3cc",
     "grade": false,
     "grade_id": "cell-f30bfecbbd5ec293",
     "locked": true,
     "schema_version": 3,
     "solution": false,
     "task": false
    }
   },
   "source": [
    "## Task (2P.)\n",
    "\n",
    "Copy the provided `text` to the returned variable `new_string` after replacing each vowel with a dash (`-`) using an `if-else` statement with a **single condition**, that consists of a single `in` operator."
   ]
  },
  {
   "cell_type": "code",
   "execution_count": 191,
   "id": "86a3256e-1df4-46f4-9f68-06e650b97158",
   "metadata": {
    "nbgrader": {
     "cell_type": "code",
     "checksum": "db6f78ca8957d2474799afe343be2b79",
     "grade": false,
     "grade_id": "cell-38241276a7919b5a",
     "locked": false,
     "schema_version": 3,
     "solution": true,
     "task": false
    }
   },
   "outputs": [
    {
     "name": "stdout",
     "output_type": "stream",
     "text": [
      "H-ll- W-rld\n"
     ]
    }
   ],
   "source": [
    "def vowels(text):\n",
    "  \n",
    "    new_string = \"\"\n",
    "    vowel = \"aeiouAEIOU\"\n",
    "    for i in text:\n",
    "        if i in vowel:\n",
    "            new_string += \"-\"\n",
    "        else:\n",
    "            new_string += i\n",
    "    return new_string\n",
    "\n",
    "text = \"Hello World\"\n",
    "\n",
    "print(vowels(text))"
   ]
  },
  {
   "cell_type": "code",
   "execution_count": 192,
   "id": "7d5e9211-09ee-46de-aae9-1c7305ac1895",
   "metadata": {
    "editable": false,
    "nbgrader": {
     "cell_type": "code",
     "checksum": "5f4409c6a0b2dfd4fb48adbb0f8c3534",
     "grade": true,
     "grade_id": "cell-f2db875188f9b58e",
     "locked": true,
     "points": 2,
     "schema_version": 3,
     "solution": false,
     "task": false
    }
   },
   "outputs": [
    {
     "name": "stdout",
     "output_type": "stream",
     "text": [
      "Success!\n"
     ]
    }
   ],
   "source": [
    "# This tests your implementation:\n",
    "from hashlib import sha1\n",
    "assert str(type(vowels(\"Hello World\"))) == \"\"\"<class 'str'>\"\"\", \"\"\"type of vowels(\\\"Hello World\\\") is not str. vowels(\\\"Hello World\\\") should be an str\"\"\"\n",
    "assert str(len(vowels(\"Hello World\"))) == \"\"\"11\"\"\", \"\"\"length of vowels(\\\"Hello World\\\") is not correct\"\"\"\n",
    "assert str(vowels(\"Hello World\").lower()) == \"\"\"h-ll- w-rld\"\"\", \"\"\"value of vowels(\\\"Hello World\\\") is not correct\"\"\"\n",
    "assert str(vowels(\"Hello World\")) == \"\"\"H-ll- W-rld\"\"\", \"\"\"correct string value of vowels(\\\"Hello World\\\") but incorrect case of letters\"\"\"\n",
    "\n",
    "print('Success!')"
   ]
  },
  {
   "cell_type": "markdown",
   "id": "bb75b51d-9597-42fa-9574-d0ba0e44d3cc",
   "metadata": {
    "editable": false,
    "nbgrader": {
     "cell_type": "markdown",
     "checksum": "3cabcd79257c8b39750520ba6526b935",
     "grade": false,
     "grade_id": "cell-2c9974a6a2115184",
     "locked": true,
     "schema_version": 3,
     "solution": false,
     "task": false
    }
   },
   "source": [
    "## Task (2P.)\n",
    "\n",
    "Copy the provided `text` to the returned variable `new_string` after replacing each **letter appearing in the given string** `replace` with a dash. Note: you should replace the text given in the variable `text`, *not* the text in `replace`.\n",
    "\n",
    "\n",
    "*Warning:* Your program should work **regardless** which letters are given in the `replace` string, and even if no letters are provided at all (when `replace` is the empty string)."
   ]
  },
  {
   "cell_type": "code",
   "execution_count": 208,
   "id": "1a794463-78c7-4bfc-99e7-041939a224a8",
   "metadata": {
    "nbgrader": {
     "cell_type": "code",
     "checksum": "7dcfd231c3a5b970ecf1dd571397abbb",
     "grade": false,
     "grade_id": "cell-dba35b06c5e38d24",
     "locked": false,
     "schema_version": 3,
     "solution": true,
     "task": false
    }
   },
   "outputs": [
    {
     "name": "stdout",
     "output_type": "stream",
     "text": [
      "Hello World\n"
     ]
    }
   ],
   "source": [
    "def general_replace(text, replace):\n",
    "    new_string = \"\"\n",
    "    for i in text:\n",
    "        if i in replace:\n",
    "            new_string += \"-\"\n",
    "        else:\n",
    "            new_string += i\n",
    "    return new_string\n",
    "\n",
    "text = \"Hello World\"\n",
    "replace = \"\"\n",
    "print(general_replace(text, replace))"
   ]
  },
  {
   "cell_type": "code",
   "execution_count": 195,
   "id": "4672830e-4c5b-42de-bf9f-5d8e40337a83",
   "metadata": {
    "editable": false,
    "nbgrader": {
     "cell_type": "code",
     "checksum": "c3636f1b553c9dd1f103b1775060a472",
     "grade": true,
     "grade_id": "cell-ea7b28540a173711",
     "locked": true,
     "points": 2,
     "schema_version": 3,
     "solution": false,
     "task": false
    }
   },
   "outputs": [
    {
     "name": "stdout",
     "output_type": "stream",
     "text": [
      "Success!\n"
     ]
    }
   ],
   "source": [
    "# This tests your implementation:\n",
    "from hashlib import sha1\n",
    "assert str(type(general_replace(\"Hello World\", \"aeiou\"))) == \"\"\"<class 'str'>\"\"\", \"\"\"type of general_replace(\\\"Hello World\\\", \\\"aeiou\\\") is not str. general_replace(\\\"Hello World\\\", \\\"aeiou\\\") should be an str\"\"\"\n",
    "assert str(len(general_replace(\"Hello World\", \"aeiou\"))) == \"\"\"11\"\"\", \"\"\"length of general_replace(\\\"Hello World\\\", \\\"aeiou\\\") is not correct\"\"\"\n",
    "assert str(general_replace(\"Hello World\", \"aeiou\").lower()) == \"\"\"h-ll- w-rld\"\"\", \"\"\"value of general_replace(\\\"Hello World\\\", \\\"aeiou\\\") is not correct\"\"\"\n",
    "assert str(general_replace(\"Hello World\", \"aeiou\")) == \"\"\"H-ll- W-rld\"\"\", \"\"\"correct string value of general_replace(\\\"Hello World\\\", \\\"aeiou\\\") but incorrect case of letters\"\"\"\n",
    "\n",
    "print('Success!')"
   ]
  },
  {
   "cell_type": "markdown",
   "id": "40417168-5947-4122-aec7-51312e46b29d",
   "metadata": {
    "editable": false,
    "nbgrader": {
     "cell_type": "markdown",
     "checksum": "536c3c67dd8bc5ef02d6fc29c64bfa26",
     "grade": false,
     "grade_id": "cell-4d23e71f95dea791",
     "locked": true,
     "schema_version": 3,
     "solution": false,
     "task": false
    }
   },
   "source": [
    "## Task (1P.)\n",
    "\n",
    "For the given string `text` return a string that consists of `n`-times the original string, for example for \"a\" and 5 you should return \"aaaaa\"."
   ]
  },
  {
   "cell_type": "code",
   "execution_count": 197,
   "id": "55391e87-800f-4269-8ecb-71f8b93a5c04",
   "metadata": {
    "nbgrader": {
     "cell_type": "code",
     "checksum": "caab6baa67643de7a723831538f9738c",
     "grade": false,
     "grade_id": "cell-27137fae67d5c4b5",
     "locked": false,
     "schema_version": 3,
     "solution": true,
     "task": false
    }
   },
   "outputs": [
    {
     "name": "stdout",
     "output_type": "stream",
     "text": [
      "aaaaa\n"
     ]
    }
   ],
   "source": [
    "def repeat(text, n):\n",
    "    return (text * n)\n",
    "\n",
    "print(repeat(\"a\", 5))"
   ]
  },
  {
   "cell_type": "code",
   "execution_count": 198,
   "id": "55834639-d85d-4315-9d60-034a14ecb268",
   "metadata": {
    "editable": false,
    "nbgrader": {
     "cell_type": "code",
     "checksum": "274e0139fac1ade5b3959c9433ee48df",
     "grade": true,
     "grade_id": "cell-8defb15d0b45d3f9",
     "locked": true,
     "points": 1,
     "schema_version": 3,
     "solution": false,
     "task": false
    }
   },
   "outputs": [
    {
     "name": "stdout",
     "output_type": "stream",
     "text": [
      "Success!\n"
     ]
    }
   ],
   "source": [
    "# This tests your implementation:\n",
    "from hashlib import sha1\n",
    "assert str(type(repeat(\"a\", 5))) == \"\"\"<class 'str'>\"\"\", \"\"\"type of repeat(\\\"a\\\", 5) is not str. repeat(\\\"a\\\", 5) should be an str\"\"\"\n",
    "assert str(len(repeat(\"a\", 5))) == \"\"\"5\"\"\", \"\"\"length of repeat(\\\"a\\\", 5) is not correct\"\"\"\n",
    "assert str(repeat(\"a\", 5).lower()) == \"\"\"aaaaa\"\"\", \"\"\"value of repeat(\\\"a\\\", 5) is not correct\"\"\"\n",
    "assert str(repeat(\"a\", 5)) == \"\"\"aaaaa\"\"\", \"\"\"correct string value of repeat(\\\"a\\\", 5) but incorrect case of letters\"\"\"\n",
    "\n",
    "print('Success!')"
   ]
  },
  {
   "cell_type": "markdown",
   "id": "e949e021-503c-4fc5-9ea9-1c7f9794e651",
   "metadata": {
    "editable": false,
    "nbgrader": {
     "cell_type": "markdown",
     "checksum": "d021b7cbe371c7497f23a4fa3203732c",
     "grade": false,
     "grade_id": "cell-6de949ee1541a5ad",
     "locked": true,
     "schema_version": 3,
     "solution": false,
     "task": false
    }
   },
   "source": [
    "## Task (2P.)\n",
    "\n",
    "For the given input `text`, check whether the string in `text` is the same as its reverse (the string read backwards). For example, your function should return `True` for \"level\" but not for \"lever\".\n",
    "\n",
    "*Hint: You can use slice notation for the reversing.*"
   ]
  },
  {
   "cell_type": "code",
   "execution_count": 206,
   "id": "f66540fe-c79f-44da-974d-25859c780633",
   "metadata": {
    "nbgrader": {
     "cell_type": "code",
     "checksum": "c9b3d49901475af39a1c8d833e90001c",
     "grade": false,
     "grade_id": "cell-d848906595b1a870",
     "locked": false,
     "schema_version": 3,
     "solution": true,
     "task": false
    }
   },
   "outputs": [
    {
     "name": "stdout",
     "output_type": "stream",
     "text": [
      "True\n"
     ]
    }
   ],
   "source": [
    "def backwards_equality(text):\n",
    "    reverse = \"\"\n",
    "    for i in range(len(text)-1,-1,-1):\n",
    "        reverse += text[i]\n",
    "    if reverse == text:\n",
    "        return True\n",
    "    else:\n",
    "        return False\n",
    "\n",
    "\n",
    "\n",
    "\n",
    "\n",
    "\n",
    "\n",
    "text = \"level\"\n",
    "print(backwards_equality(text))"
   ]
  },
  {
   "cell_type": "code",
   "execution_count": 207,
   "id": "3efa0ef7-a04c-4d5e-8b6b-5468b0a22fe3",
   "metadata": {
    "editable": false,
    "nbgrader": {
     "cell_type": "code",
     "checksum": "67686990c1a5ce1cc8eec2b300b905b5",
     "grade": true,
     "grade_id": "cell-20b294b518a836b2",
     "locked": true,
     "points": 2,
     "schema_version": 3,
     "solution": false,
     "task": false
    }
   },
   "outputs": [
    {
     "name": "stdout",
     "output_type": "stream",
     "text": [
      "Success!\n"
     ]
    }
   ],
   "source": [
    "# This tests your implementation:\n",
    "from hashlib import sha1\n",
    "assert str(type(backwards_equality(\"level\"))) == \"\"\"<class 'bool'>\"\"\", \"\"\"type of backwards_equality(\\\"level\\\") is not bool. backwards_equality(\\\"level\\\") should be a bool\"\"\"\n",
    "assert str(backwards_equality(\"level\")) == \"\"\"True\"\"\", \"\"\"boolean value of backwards_equality(\\\"level\\\") is not correct\"\"\"\n",
    "\n",
    "assert str(type(backwards_equality(\"lever\"))) == \"\"\"<class 'bool'>\"\"\", \"\"\"type of backwards_equality(\\\"lever\\\") is not bool. backwards_equality(\\\"lever\\\") should be a bool\"\"\"\n",
    "assert str(backwards_equality(\"lever\")) == \"\"\"False\"\"\", \"\"\"boolean value of backwards_equality(\\\"lever\\\") is not correct\"\"\"\n",
    "\n",
    "print('Success!')"
   ]
  },
  {
   "cell_type": "markdown",
   "id": "f5192e0b-0c38-423a-bdae-8a099dfaa1d3",
   "metadata": {
    "editable": false,
    "nbgrader": {
     "cell_type": "markdown",
     "checksum": "b7e4bf6114b211165217fc7130fd699c",
     "grade": false,
     "grade_id": "cell-5bf8e830776a1064",
     "locked": true,
     "schema_version": 3,
     "solution": false,
     "task": false
    }
   },
   "source": [
    "## Task (2P.)\n",
    "\n",
    "In the return variable `new_string`, return a string where the substring of the given string `s` between the indices `start` and `end` (inclusive) is reversed, while the rest of the string remains unchanged.  \n",
    "\n",
    "**Make sure that your function returns a reasonable result for every input (assume `start` and `end` are valid indices, and `start <= end`).**\n",
    "\n",
    "*Hint: Use string slicing and indexing.*"
   ]
  },
  {
   "cell_type": "code",
   "execution_count": 212,
   "id": "f7f9a220-4980-4a49-8bdd-2c9593740b76",
   "metadata": {},
   "outputs": [
    {
     "name": "stdout",
     "output_type": "stream",
     "text": [
      "Hello\n",
      "el\n"
     ]
    }
   ],
   "source": [
    "s = \"Hello\"\n",
    "start = 1\n",
    "end = 2\n",
    "print(s[0:len(s)])\n",
    "reverse = s[start:end + 1]\n",
    "print(reverse)"
   ]
  },
  {
   "cell_type": "code",
   "execution_count": 223,
   "id": "375811f0-99f8-41bc-b5ed-8fb915e64a41",
   "metadata": {},
   "outputs": [
    {
     "name": "stdout",
     "output_type": "stream",
     "text": [
      "el\n",
      "l\n",
      "le\n"
     ]
    }
   ],
   "source": [
    "s = \"Hello\"\n",
    "new_string = \"\"\n",
    "for x in range(len(s)):\n",
    "    rs = s[start:end + 1]\n",
    "print(rs)\n",
    "nrs = \"\"\n",
    "for y in range(len(rs)-1,-1,-1):\n",
    "    nrs += rs[y]\n",
    "    print(nrs)"
   ]
  },
  {
   "cell_type": "code",
   "execution_count": null,
   "id": "5b8224b6-a908-4648-97ab-8325e63e7f38",
   "metadata": {},
   "outputs": [],
   "source": [
    "s = \"Hello\"\n",
    "new_string = \"\"\n",
    "start = 1\n",
    "end = 2\n",
    "print(s[0])"
   ]
  },
  {
   "cell_type": "code",
   "execution_count": null,
   "id": "8ecb2e0d-7ff2-4968-9e5d-a8cd6eb465c3",
   "metadata": {},
   "outputs": [],
   "source": [
    "s = \"Hello\"\n",
    "new_string = \"\"\n",
    "start = 1\n",
    "end = 2\n",
    "for x in range(len(s)):\n",
    "    rs = s[start:end + 1]\n",
    "print(rs)\n",
    "nrs = \"\"\n",
    "for y in range(len(rs)-1,-1,-1):\n",
    "    nrs += rs[y]\n",
    "    print(nrs)"
   ]
  },
  {
   "cell_type": "code",
   "execution_count": 235,
   "id": "b0744982-6422-4027-b7f4-591ca43de14e",
   "metadata": {
    "nbgrader": {
     "cell_type": "code",
     "checksum": "607e7709d1b8ba1d59029057d02636a3",
     "grade": false,
     "grade_id": "cell-70c2a1b68e7165d8",
     "locked": false,
     "schema_version": 3,
     "solution": true,
     "task": false
    }
   },
   "outputs": [
    {
     "name": "stdout",
     "output_type": "stream",
     "text": [
      "Hlello\n"
     ]
    }
   ],
   "source": [
    "def reverse_substring(s, start, end):\n",
    "    new_string = \"\"\n",
    "    for x in range(len(s)):\n",
    "        if x == start:\n",
    "            for y in range(end, start - 1, -1): # end = 2, start = \n",
    "                new_string += s[y]\n",
    "        else:\n",
    "            new_string += s[x]\n",
    "    return new_string\n",
    "\n",
    "s = \"Hello\"\n",
    "print(reverse_substring(s,1,2))\n",
    "   "
   ]
  },
  {
   "cell_type": "code",
   "execution_count": 246,
   "id": "f2819b84-c783-460f-b527-e04009f4ae44",
   "metadata": {},
   "outputs": [
    {
     "name": "stdout",
     "output_type": "stream",
     "text": [
      "0 H\n",
      "-1 o\n",
      "-2 l\n",
      "-3 l\n",
      "-4 e\n",
      "o\n"
     ]
    }
   ],
   "source": [
    "s = \"Hello\"\n",
    "for i in range(len(s)):\n",
    "    print(-i, s[-i])\n",
    "print(s[-1])"
   ]
  },
  {
   "cell_type": "code",
   "execution_count": 254,
   "id": "8c0ed7d6-2c82-4cae-ab6c-6ca7d4319a3e",
   "metadata": {},
   "outputs": [
    {
     "name": "stdout",
     "output_type": "stream",
     "text": [
      "olleH\n"
     ]
    }
   ],
   "source": [
    "start = 1\n",
    "end = 4\n",
    "s = \"Hello\"\n",
    "print(s[::-1])"
   ]
  },
  {
   "cell_type": "code",
   "execution_count": 257,
   "id": "f675cd4b-e1be-4609-ac8f-9aa3af90d47a",
   "metadata": {},
   "outputs": [
    {
     "name": "stdout",
     "output_type": "stream",
     "text": [
      "Hlelo\n"
     ]
    }
   ],
   "source": [
    "def reverse_substring(s, start, end):\n",
    "    new_string = s[:start] + s[start:end+1][::-1] + s[end+1:]\n",
    "    return new_string      #   2  : 0 : -1  \n",
    "    \n",
    "s = \"Hello\"\n",
    "    \n",
    "print(reverse_substring(s,1,2))\n",
    "   "
   ]
  },
  {
   "cell_type": "code",
   "execution_count": 258,
   "id": "3acfa1fd-0754-4bcb-a409-9573f01777e6",
   "metadata": {
    "editable": false,
    "nbgrader": {
     "cell_type": "code",
     "checksum": "9142a5d1328eaa4954c32006501367e8",
     "grade": true,
     "grade_id": "cell-c793f233248fc05c",
     "locked": true,
     "points": 2,
     "schema_version": 3,
     "solution": false,
     "task": false
    }
   },
   "outputs": [
    {
     "name": "stdout",
     "output_type": "stream",
     "text": [
      "Success!\n"
     ]
    }
   ],
   "source": [
    "# This tests your implementation:\n",
    "from hashlib import sha1\n",
    "assert str(type(reverse_substring(\"Hello World!\", 3, 6))) == \"\"\"<class 'str'>\"\"\", \"\"\"type of reverse_substring(\\\"Hello World!\\\", 3, 6) is not str. reverse_substring(\\\"Hello World!\\\", 3, 6) should be an str\"\"\"\n",
    "assert str(len(reverse_substring(\"Hello World!\", 3, 6))) == \"\"\"12\"\"\", \"\"\"length of reverse_substring(\\\"Hello World!\\\", 3, 6) is not correct\"\"\"\n",
    "assert str(reverse_substring(\"Hello World!\", 3, 6).lower()) == \"\"\"helw olorld!\"\"\", \"\"\"value of reverse_substring(\\\"Hello World!\\\", 3, 6) is not correct\"\"\"\n",
    "assert str(reverse_substring(\"Hello World!\", 3, 6)) == \"\"\"HelW olorld!\"\"\", \"\"\"correct string value of reverse_substring(\\\"Hello World!\\\", 3, 6) but incorrect case of letters\"\"\"\n",
    "\n",
    "assert str(type(reverse_substring(\"Hi\", 0, 1))) == \"\"\"<class 'str'>\"\"\", \"\"\"type of reverse_substring(\\\"Hi\\\", 0, 1) is not str. reverse_substring(\\\"Hi\\\", 0, 1) should be an str\"\"\"\n",
    "assert str(len(reverse_substring(\"Hi\", 0, 1))) == \"\"\"2\"\"\", \"\"\"length of reverse_substring(\\\"Hi\\\", 0, 1) is not correct\"\"\"\n",
    "assert str(reverse_substring(\"Hi\", 0, 1).lower()) == \"\"\"ih\"\"\", \"\"\"value of reverse_substring(\\\"Hi\\\", 0, 1) is not correct\"\"\"\n",
    "assert str(reverse_substring(\"Hi\", 0, 1)) == \"\"\"iH\"\"\", \"\"\"correct string value of reverse_substring(\\\"Hi\\\", 0, 1) but incorrect case of letters\"\"\"\n",
    "\n",
    "print('Success!')"
   ]
  },
  {
   "cell_type": "markdown",
   "id": "e27362bc-812b-4c52-be93-63538fee1d20",
   "metadata": {
    "editable": false,
    "nbgrader": {
     "cell_type": "markdown",
     "checksum": "bed27fe047c3630798b9b47263018047",
     "grade": false,
     "grade_id": "cell-b548426becd8d222",
     "locked": true,
     "schema_version": 3,
     "solution": false,
     "task": false
    }
   },
   "source": [
    "## Task (2P.)\n",
    "\n",
    "Write a function, that given two strings `text1` and `text2`, checks whether they are equal if case is ignored, so \"hELLO\" should be equal to \"HellO\".\n",
    "\n",
    "*Remember that you are not allowed to use build-in string methods such as `s.isupper()`.*\n",
    "\n",
    "*Hint: Use lexicographic comparison.*\n",
    "\n",
    "*Hint: Remember `break` and `continue`.*"
   ]
  },
  {
   "cell_type": "code",
   "execution_count": 261,
   "id": "d56e79ab-fd87-43bd-8137-09a05048ca4f",
   "metadata": {},
   "outputs": [
    {
     "name": "stdout",
     "output_type": "stream",
     "text": [
      "Hollo\n"
     ]
    }
   ],
   "source": [
    "g = \"Hello\"\n",
    "g = g.replace(g[1],g[-1])\n",
    "print(g)"
   ]
  },
  {
   "cell_type": "code",
   "execution_count": 269,
   "id": "fdcb54c8-f331-4b85-8ee6-3794a995a205",
   "metadata": {
    "nbgrader": {
     "cell_type": "code",
     "checksum": "9d9bf022b6f8d4db72226a10e1c7be45",
     "grade": false,
     "grade_id": "cell-8a5009af8b821f0f",
     "locked": false,
     "schema_version": 3,
     "solution": true,
     "task": false
    }
   },
   "outputs": [
    {
     "data": {
      "text/plain": [
       "True"
      ]
     },
     "execution_count": 269,
     "metadata": {},
     "output_type": "execute_result"
    }
   ],
   "source": [
    "def equal_without_case(text1, text2):\n",
    "    for i in text1:\n",
    "        if 65 <= ord(i) < 91:\n",
    "            new = chr(ord(i) + 32)\n",
    "            text1 = text1.replace(i,new)\n",
    "        #else:\n",
    "         #   continue\n",
    "    for x in text2:\n",
    "        if 65 <= ord(x) < 91:\n",
    "            n = chr(ord(x) + 32)\n",
    "            text2 = text2.replace(x,n)\n",
    "\n",
    "    if text1 == text2:\n",
    "        return True\n",
    "    else:\n",
    "        return False\n",
    "        \n",
    "\n",
    "\n",
    "t1 = \"HELLO\"\n",
    "t2 = \"HeLlO\"\n",
    "equal_without_case(t1,t2)"
   ]
  },
  {
   "cell_type": "markdown",
   "id": "8195b52f-c9b9-4b8f-bd5b-9bb93cf48d76",
   "metadata": {},
   "source": [
    "##### Without using in built methods like  `s.replace()`"
   ]
  },
  {
   "cell_type": "code",
   "execution_count": 281,
   "id": "b99e3c5e-4af3-4998-8d75-4920dcf1d10e",
   "metadata": {},
   "outputs": [
    {
     "data": {
      "text/plain": [
       "True"
      ]
     },
     "execution_count": 281,
     "metadata": {},
     "output_type": "execute_result"
    }
   ],
   "source": [
    "def equal_without_case(text1, text2):\n",
    "    lt1 = \"\"\n",
    "    for i in text1:\n",
    "        if 65 <= ord(i) < 91: #If letter is capital\n",
    "            lt1 += chr(ord(i) + 32) # Convert to small and add it to lt\n",
    "        else:\n",
    "            lt1 += i\n",
    "            \n",
    "    lt2 = \"\"  \n",
    "    for x in text2: #If letter is capital\n",
    "        \n",
    "        if 65 <= ord(x) < 91:\n",
    "            lt2 += chr(ord(x) + 32)\n",
    "        else:\n",
    "            lt2 += x\n",
    "\n",
    "    if lt1 == lt2:\n",
    "        return True\n",
    "    else:\n",
    "        return False\n",
    "        \n",
    "\n",
    "\n",
    "t1 = \"HELLO\"\n",
    "t2 = \"HeLlO\"\n",
    "equal_without_case(t1,t2)"
   ]
  },
  {
   "cell_type": "markdown",
   "id": "175223e1-1ae9-4387-83ee-e7e1ecd36dbc",
   "metadata": {},
   "source": [
    "##### Using break and continue"
   ]
  },
  {
   "cell_type": "code",
   "execution_count": 284,
   "id": "36688623-172d-4855-a49b-b28c6aad2366",
   "metadata": {},
   "outputs": [
    {
     "data": {
      "text/plain": [
       "False"
      ]
     },
     "execution_count": 284,
     "metadata": {},
     "output_type": "execute_result"
    }
   ],
   "source": [
    "def equal_without_case(text1, text2):\n",
    "    lt1 = \"\"\n",
    "    for i in text1:\n",
    "        if 65 <= ord(i) < 91: #If letter is capital\n",
    "            lt1 += chr(ord(i) + 32) # Convert to small and add it to lt\n",
    "            continue\n",
    "        lt1 += i\n",
    "            \n",
    "    lt2 = \"\"  \n",
    "    for x in text2: #If letter is capital\n",
    "        \n",
    "        if 65 <= ord(x) < 91:\n",
    "            lt2 += chr(ord(x) + 32)\n",
    "            continue\n",
    "        lt2 += x\n",
    "\n",
    "    if lt1 == lt2:\n",
    "        return True\n",
    "    else:\n",
    "        return False\n",
    "        \n",
    "\n",
    "\n",
    "t1 = \"HEwd\"\n",
    "t2 = \"HeLlO\"\n",
    "equal_without_case(t1,t2)"
   ]
  },
  {
   "cell_type": "code",
   "execution_count": 285,
   "id": "d7784797-54ec-48b8-937e-c19de5637ac8",
   "metadata": {
    "editable": false,
    "nbgrader": {
     "cell_type": "code",
     "checksum": "d2d1d0e4822ac588538e89ffd0994fab",
     "grade": true,
     "grade_id": "cell-81dbc76ec9ba6ce1",
     "locked": true,
     "points": 2,
     "schema_version": 3,
     "solution": false,
     "task": false
    }
   },
   "outputs": [
    {
     "name": "stdout",
     "output_type": "stream",
     "text": [
      "Success!\n"
     ]
    }
   ],
   "source": [
    "# This tests your implementation:\n",
    "from hashlib import sha1\n",
    "assert str(type(equal_without_case(\"hELLO\", \"HellO\"))) == \"\"\"<class 'bool'>\"\"\", \"\"\"type of equal_without_case(\\\"hELLO\\\", \\\"HellO\\\") is not bool. equal_without_case(\\\"hELLO\\\", \\\"HellO\\\") should be a bool\"\"\"\n",
    "assert str(equal_without_case(\"hELLO\", \"HellO\")) == \"\"\"True\"\"\", \"\"\"boolean value of equal_without_case(\\\"hELLO\\\", \\\"HellO\\\") is not correct\"\"\"\n",
    "\n",
    "assert str(type(equal_without_case(\"hello\", \"HELLO\"))) == \"\"\"<class 'bool'>\"\"\", \"\"\"type of equal_without_case(\\\"hello\\\", \\\"HELLO\\\") is not bool. equal_without_case(\\\"hello\\\", \\\"HELLO\\\") should be a bool\"\"\"\n",
    "assert str(equal_without_case(\"hello\", \"HELLO\")) == \"\"\"True\"\"\", \"\"\"boolean value of equal_without_case(\\\"hello\\\", \\\"HELLO\\\") is not correct\"\"\"\n",
    "\n",
    "print('Success!')"
   ]
  },
  {
   "cell_type": "markdown",
   "id": "80cfae35-dfe6-40be-9b7f-dfec095f82bf",
   "metadata": {
    "editable": false,
    "nbgrader": {
     "cell_type": "markdown",
     "checksum": "8ad24d13fc9fd3a732423e6af3325074",
     "grade": false,
     "grade_id": "cell-95b4e71fa9955892",
     "locked": true,
     "schema_version": 3,
     "solution": false,
     "task": false
    }
   },
   "source": [
    "## Task (2P.)\n",
    "\n",
    "In this task, you are meant to re-create simple [ASCII art](https://en.wikipedia.org/wiki/ASCII_art).  \n",
    "Write a function that returns the following pattern for different given heights:\n",
    "\n",
    "### Example Height = 10\n",
    "\n",
    "```\n",
    "*        *\n",
    " *      *\n",
    "  *    *\n",
    "   *  *\n",
    "++++++++++\n",
    "   *  *\n",
    "  *    *\n",
    " *      *\n",
    "*        *\n",
    "```\n",
    "\n",
    "### Example Height = 7\n",
    "\n",
    "```\n",
    "*     *\n",
    " *   *\n",
    "  * *\n",
    "+++++++\n",
    "  * *\n",
    " *   *\n",
    "*     *\n",
    "```\n",
    "\n",
    "The function should receive the height as an input and return a string containing the pattern.\n",
    "\n",
    "**Hints**:\n",
    "1. To add a new line to a string `s`, use `s += \"\\n\"`. To see the resulting string formatted correctly, you must use `print(s)`; evaluating `s` alone won’t display the line breaks correctly in JupyterHub.\n",
    "2. Treat even and odd heights differently to maintain symmetry, as seen in the examples.\n",
    "3. The lowest height for which the function must produce a meaningful string is `3`."
   ]
  },
  {
   "cell_type": "code",
   "execution_count": 371,
   "id": "9771b358-a7a1-4d93-bad2-626912618bcf",
   "metadata": {},
   "outputs": [
    {
     "name": "stdout",
     "output_type": "stream",
     "text": [
      "$$$$$\n",
      "$$$\n",
      "$\n"
     ]
    }
   ],
   "source": [
    "height = 7\n",
    "for i in range(height-1,0,-2):\n",
    "    for x in range(1,i):\n",
    "        print(\"$\", end = \"\")\n",
    "    print()\n",
    "    "
   ]
  },
  {
   "cell_type": "code",
   "execution_count": 396,
   "id": "7f9ac886-df2b-4139-91e3-6015af3a088c",
   "metadata": {},
   "outputs": [
    {
     "name": "stdout",
     "output_type": "stream",
     "text": [
      "!*\n",
      "!!*\n",
      "!!!*\n",
      "\n"
     ]
    }
   ],
   "source": [
    "for x in range(1,(height // 2) + 1):\n",
    "    for y in range(x):\n",
    "        print(\"!\", end = \"\")\n",
    "    print(\"*\")\n",
    "print()"
   ]
  },
  {
   "cell_type": "code",
   "execution_count": 474,
   "id": "0d72f6ff-c63f-4ec9-b28d-10079dac6cc1",
   "metadata": {},
   "outputs": [
    {
     "name": "stdout",
     "output_type": "stream",
     "text": [
      "!*\n",
      "!!*\n",
      "!!!*\n",
      "$$$$\n",
      "$$\n",
      "\n"
     ]
    }
   ],
   "source": [
    "for x in range(1,(height // 2) + 1):\n",
    "    for y in range(x):\n",
    "        print(\"!\", end = \"\")\n",
    "    print(\"*\")  \n",
    "\n",
    "for i in range(height-2,0,-2):\n",
    "       for j in range(1,i):\n",
    "           print(\"$\", end = \"\")\n",
    "       print()\n",
    "    \n"
   ]
  },
  {
   "cell_type": "code",
   "execution_count": 475,
   "id": "dcba9a64-34bc-4104-963b-af37851ca370",
   "metadata": {},
   "outputs": [
    {
     "name": "stdout",
     "output_type": "stream",
     "text": [
      "*\n",
      "!*\n",
      "!!*\n",
      "$$$\n"
     ]
    }
   ],
   "source": [
    "for x in range((height // 2)):\n",
    "    for y in range(x):\n",
    "        print(\"!\", end = \"\")\n",
    "    print(\"*\")  \n",
    "\n",
    "for i in range(y):\n",
    "       for j in range(5,0,-2):\n",
    "           print(\"$\", end = \"\")\n",
    "       print()\n",
    "    \n"
   ]
  },
  {
   "cell_type": "code",
   "execution_count": 473,
   "id": "262dfb45-84c5-44e8-b146-dd59538b3d7b",
   "metadata": {},
   "outputs": [
    {
     "name": "stdout",
     "output_type": "stream",
     "text": [
      "5\n",
      "3\n",
      "1\n"
     ]
    }
   ],
   "source": [
    "for i in range(5,0,-2):\n",
    "    print(i)"
   ]
  },
  {
   "cell_type": "code",
   "execution_count": 476,
   "id": "281d1583-1849-46cd-b295-868fd6e31a1a",
   "metadata": {},
   "outputs": [
    {
     "name": "stdout",
     "output_type": "stream",
     "text": [
      "*\n",
      "!*\n",
      "!!*\n",
      "$$$$$\n",
      "$$$\n",
      "$\n"
     ]
    }
   ],
   "source": [
    "for x in range((height // 2)):\n",
    "    for y in range(x):\n",
    "        print(\"!\", end = \"\")\n",
    "    print(\"*\")  \n",
    "\n",
    "for i in range(height-1,0,-2):\n",
    "       for j in range(1,i):\n",
    "           print(\"$\", end = \"\")\n",
    "       print()\n",
    "    \n"
   ]
  },
  {
   "cell_type": "code",
   "execution_count": 512,
   "id": "cf6f9d42-e184-4d3e-9f93-688cc7f9adbf",
   "metadata": {},
   "outputs": [
    {
     "name": "stdout",
     "output_type": "stream",
     "text": [
      "*\n",
      "!*\n",
      "!!*\n",
      "$$$$$\n",
      "$$$\n",
      "$\n"
     ]
    }
   ],
   "source": [
    "for x in range((height // 2)):\n",
    "    for y in range(x):\n",
    "        print(\"!\", end = \"\")\n",
    "    print(\"*\")  \n",
    "\n",
    "for i in range(height-1,0,-2):\n",
    "       for j in range(1,i):\n",
    "           print(\"$\", end = \"\")\n",
    "       print()\n",
    "    \n"
   ]
  },
  {
   "cell_type": "code",
   "execution_count": 542,
   "id": "31200145-172b-4683-b30b-ea0979ec749e",
   "metadata": {},
   "outputs": [
    {
     "name": "stdout",
     "output_type": "stream",
     "text": [
      "\n",
      "!\n",
      "!!\n",
      "*$$$$$\n",
      "*$$$\n",
      "*$\n",
      "\n"
     ]
    }
   ],
   "source": [
    "for x in range((height // 2)):\n",
    "    for y in range(x):\n",
    "        print(\"!\", end = \"\")\n",
    "    print()  \n",
    "\n",
    "for i in range(height-1,0,-2):\n",
    "    print(\"*\",end = \"\")\n",
    "    for j in range(1,i):\n",
    "       print(\"$\", end = \"\")\n",
    "    print()\n",
    "print()\n",
    "    \n"
   ]
  },
  {
   "cell_type": "code",
   "execution_count": 528,
   "id": "76d31f45-1393-453a-a6c5-4f80fbe6167a",
   "metadata": {},
   "outputs": [
    {
     "name": "stdout",
     "output_type": "stream",
     "text": [
      "1 *\n",
      "2 *2 *\n",
      "3 *3 *3 *\n",
      "4 *4 *4 *4 *\n",
      "$\n"
     ]
    }
   ],
   "source": [
    "star = \"$\"\n",
    "for i in range(1,5):\n",
    "    for j in range(i):\n",
    "        print(i,\"*\",end = \"\")\n",
    "    print()\n",
    "print(star)\n",
    "    "
   ]
  },
  {
   "cell_type": "code",
   "execution_count": null,
   "id": "a4fd0e8e-3fe2-44e9-bb5d-2f6d3cf5143f",
   "metadata": {},
   "outputs": [],
   "source": []
  },
  {
   "cell_type": "code",
   "execution_count": 481,
   "id": "410efc7a-8a97-4e75-8d66-a71f9e916a12",
   "metadata": {},
   "outputs": [
    {
     "name": "stdout",
     "output_type": "stream",
     "text": [
      "*\n",
      "$$$!*\n",
      "$$$$!!*\n",
      "$$$$\n"
     ]
    }
   ],
   "source": [
    "for x in range((height // 2)):\n",
    "    for y in range(x):\n",
    "        print(\"!\", end = \"\")\n",
    "    print(\"*\")  \n",
    "\n",
    "    for i in range(x + (height-1),0,-2):\n",
    "           print(\"$\", end = \"\")\n",
    "print()\n",
    "    \n"
   ]
  },
  {
   "cell_type": "code",
   "execution_count": 5,
   "id": "a1196295-7193-4f74-8c6d-00f3253f9843",
   "metadata": {},
   "outputs": [
    {
     "name": "stdout",
     "output_type": "stream",
     "text": [
      "*\n",
      "$$$$$$\n",
      "!*\n",
      "$$$$\n",
      "!!*\n",
      "$$\n"
     ]
    }
   ],
   "source": [
    "for x in range((height // 2)):\n",
    "    for y in range(x):\n",
    "        print(\"!\", end = \"\")\n",
    "        \n",
    "    print(\"*\")  \n",
    "\n",
    "    for j in range(1, height - (2 * x)):  # Keeping your logic for 'j' loop\n",
    "        print(\"$\", end=\"\")\n",
    "    \n",
    "    print()\n",
    "    \n"
   ]
  },
  {
   "cell_type": "code",
   "execution_count": 2,
   "id": "b6039fda-6bce-4574-92da-42815e32d294",
   "metadata": {},
   "outputs": [
    {
     "name": "stdout",
     "output_type": "stream",
     "text": [
      "*\n",
      "!*\n",
      "!!*\n"
     ]
    }
   ],
   "source": [
    "height = 7\n",
    "for x in range((height // 2)):\n",
    "    for y in range(x):\n",
    "        print(\"!\", end = \"\")\n",
    "    print(\"*\")  "
   ]
  },
  {
   "cell_type": "markdown",
   "id": "3110149a-d730-42b8-a999-ec048c371911",
   "metadata": {},
   "source": [
    "```\n",
    "*     *    x = 1, $ = 7 - 2 = 5\n",
    " *   *     $ = 3\n",
    "  * *      $ = 1\n",
    "+++++++\n",
    "  * *\n",
    " *   *\n",
    "*     *"
   ]
  },
  {
   "cell_type": "code",
   "execution_count": 372,
   "id": "ccc00add-45e9-4f07-876b-fe40bcdc4e23",
   "metadata": {},
   "outputs": [],
   "source": [
    "height = 7\n",
    "half = height // 2\n",
    "for x in range(1, half + 1):\n",
    "    for y in range(x):\n",
    "        space = \"$\" * (height - x)"
   ]
  },
  {
   "cell_type": "code",
   "execution_count": 353,
   "id": "93933c54-e2a5-46d7-8537-4eb5d84aae27",
   "metadata": {},
   "outputs": [
    {
     "name": "stdout",
     "output_type": "stream",
     "text": [
      "* $$$$$$* $$$$$$\n",
      "* $$$$$* $$$$$\n",
      "* $$$$* $$$$\n",
      "+++++++\n"
     ]
    }
   ],
   "source": [
    "height = 7\n",
    "half = height // 2\n",
    "for x in range(1, half + 1):\n",
    "    for y in range(x):\n",
    "        space = \"$\" * (height - x)\n",
    "    for j in range(x, x + 2):\n",
    "        print(\"*\", space, end = \"\")\n",
    "    print()\n",
    "\n",
    "    #for z in range(1, half + 1):\n",
    "       # if z == x:\n",
    "            \n",
    "    \n",
    "for i in range(half,half + 1):\n",
    "    for j in range(height):\n",
    "        print(\"+\", end = \"\")\n",
    "    print()"
   ]
  },
  {
   "cell_type": "code",
   "execution_count": 47,
   "id": "f2485e2c-4464-418e-a18d-09f5f9816ae3",
   "metadata": {},
   "outputs": [
    {
     "name": "stdout",
     "output_type": "stream",
     "text": [
      "*$$$$$$*\n",
      " *$$$$*\n",
      "  *$$*\n",
      "+++++++"
     ]
    }
   ],
   "source": [
    "height = 7\n",
    "\n",
    "# Printing '!' part\n",
    "for x in range(height // 2):\n",
    "    for y in range(x):\n",
    "        print(\" \", end=\"\")  # Print '!' without moving to a new line\n",
    "    \n",
    "    print(\"*\", end=\"\")  # Print '*' in the same line as '!'\n",
    "\n",
    "    # Start the second loop for '$' (your logic)\n",
    "    for j in range(1, height - (2 * x)):  # Keeping your logic for 'j' loop\n",
    "        print(\"$\", end=\"\")\n",
    "\n",
    "    print(\"*\", end=\"\")\n",
    "    print()\n",
    "\n",
    "half = height // 2\n",
    "for i in range(half,half + 1):\n",
    "    for j in range(height):\n",
    "        print(\"+\", end = \"\")\n",
    "      # Move to the next line"
   ]
  },
  {
   "cell_type": "code",
   "execution_count": 54,
   "id": "d39b7b54-0b68-48a5-aef5-8d39f4c355e4",
   "metadata": {},
   "outputs": [
    {
     "name": "stdout",
     "output_type": "stream",
     "text": [
      "$$\n"
     ]
    }
   ],
   "source": [
    "for j in range(1, 7 - (2 * x)):  # Keeping your logic for 'j' loop\n",
    "        print(\"$\", end=\"\")\n",
    "\n",
    "   \n",
    "print()"
   ]
  },
  {
   "cell_type": "code",
   "execution_count": 45,
   "id": "4e069f3d-2b98-432a-9726-11014125a761",
   "metadata": {},
   "outputs": [
    {
     "name": "stdout",
     "output_type": "stream",
     "text": [
      "$$"
     ]
    }
   ],
   "source": [
    " for j in range(1, height - (2 * x)):  # Keeping your logic for 'j' loop\n",
    "        print(\"$\", end=\"\")"
   ]
  },
  {
   "cell_type": "code",
   "execution_count": 57,
   "id": "ec1543fe-230e-4095-95da-0503d422f429",
   "metadata": {},
   "outputs": [
    {
     "name": "stdout",
     "output_type": "stream",
     "text": [
      "*      *\n",
      " *    *\n",
      "  *  *\n",
      "+++++++\n",
      "      *\n"
     ]
    }
   ],
   "source": [
    "height = 7\n",
    "\n",
    "# Printing the upper triangle part\n",
    "for x in range(height // 2):\n",
    "    for y in range(x):  \n",
    "        print(\" \", end=\"\")  # Print leading spaces\n",
    "    \n",
    "    print(\"*\", end=\"\")  # Print the first '*'\n",
    "    \n",
    "    # Printing spaces between '*'\n",
    "    for j in range(1, height - (2 * x)):  # Keeping your logic for spacing\n",
    "        print(\" \", end=\"\")\n",
    "\n",
    "    print(\"*\")  # Print the second '*' and move to the next line\n",
    "\n",
    "# Printing the base row of '+'\n",
    "half = height // 2\n",
    "for i in range(half, half + 1):\n",
    "    for j in range(height):\n",
    "        print(\"+\", end = \"\")  # Print '+' without space\n",
    "    print()  # Move to the next line\n",
    "\n",
    "height = 7\n",
    "half = height // 2 # Adjusted for the given pattern\n",
    "\n",
    "# Printing the upper triangle part\n",
    "for x in range(half // 2):\n",
    "    for y in range(height - x - 1):  \n",
    "        print(\" \", end=\"\")  # Print leading spaces for alignment\n",
    "    \n",
    "    print(\"*\", end=\"\")  # Print the first '*'\n",
    "    \n",
    "    # Printing spaces between '*' characters\n",
    "    if x > 0:  # Ensure spaces appear only when x > 0\n",
    "        for j in range(2 * x - 1):  \n",
    "            print(\" \", end=\"\")\n",
    "        print(\"*\")  # Print the second '*'\n",
    "    else:\n",
    "        print()  # Move to the next line\n"
   ]
  },
  {
   "cell_type": "code",
   "execution_count": 39,
   "id": "f19e6760-163b-403a-b5f0-b589457d01e2",
   "metadata": {},
   "outputs": [
    {
     "name": "stdout",
     "output_type": "stream",
     "text": [
      "$$$\n",
      "$$\n",
      "$\n"
     ]
    }
   ],
   "source": [
    "height = 7\n",
    "half = height // 2\n",
    "for l in range(half + 1, height):\n",
    "    for m in range(height-l):  \n",
    "        print(\"$\", end=\"\")  # Print leading spaces \n",
    "    print()  #Print the first'*'\n",
    "    \n"
   ]
  },
  {
   "cell_type": "code",
   "execution_count": 35,
   "id": "e8fb261d-27d3-406b-b29e-25f272dd24ba",
   "metadata": {},
   "outputs": [
    {
     "name": "stdout",
     "output_type": "stream",
     "text": [
      "$$$\n",
      "$$\n",
      "$\n"
     ]
    }
   ],
   "source": [
    "for l in range(4, 7):\n",
    "    for m in range(7-l):  \n",
    "        print(\"$\", end=\"\")\n",
    "    print()# Print leading spaces "
   ]
  },
  {
   "cell_type": "code",
   "execution_count": 29,
   "id": "e47c7ff1-403f-455b-847f-30defe4df54e",
   "metadata": {},
   "outputs": [
    {
     "data": {
      "text/plain": [
       "4"
      ]
     },
     "execution_count": 29,
     "metadata": {},
     "output_type": "execute_result"
    }
   ],
   "source": [
    "8 // 2"
   ]
  },
  {
   "cell_type": "code",
   "execution_count": 26,
   "id": "e90311a4-5614-4da8-b9b5-e71976d008e6",
   "metadata": {},
   "outputs": [
    {
     "name": "stdout",
     "output_type": "stream",
     "text": [
      "$$$$$$$\n",
      "$$$$$$\n",
      "$$$$$\n",
      "$$$$\n",
      "$$$\n",
      "$$\n",
      "$\n"
     ]
    }
   ],
   "source": [
    "for x in range(7):\n",
    "    for y in range(7-x):\n",
    "        print(\"$\", end = \"\")\n",
    "    print()"
   ]
  },
  {
   "cell_type": "code",
   "execution_count": null,
   "id": "22927675-68b7-43a2-8830-79dd51021ffc",
   "metadata": {},
   "outputs": [],
   "source": [
    " # Printing spaces between '*'\n",
    "    for j in range(1, height - (2 * x)):  # Keeping your logic for spacing\n",
    "        print(\" \", end=\"\")\n",
    "\n",
    "    print(\"*\")"
   ]
  },
  {
   "cell_type": "code",
   "execution_count": 349,
   "id": "7ce6a67c-0014-4dff-bffb-89cf3a40520d",
   "metadata": {},
   "outputs": [
    {
     "name": "stdout",
     "output_type": "stream",
     "text": [
      "$$$"
     ]
    }
   ],
   "source": [
    "height = 7\n",
    "for y in range(1, (height // 2) + 1):\n",
    "        print(\"$\", end = \"\")\n",
    "    #print()"
   ]
  },
  {
   "cell_type": "code",
   "execution_count": 4,
   "id": "9dc7c581-bf89-449b-b9db-2f7eacf35ac1",
   "metadata": {},
   "outputs": [
    {
     "name": "stdout",
     "output_type": "stream",
     "text": [
      "$\n",
      "$$\n",
      "$$$\n"
     ]
    }
   ],
   "source": [
    "height = 7\n",
    "for x in range(1,(height // 2) + 1):\n",
    "    for y in range(x):\n",
    "        print(\"$\", end = \"\")\n",
    "    print()"
   ]
  },
  {
   "cell_type": "code",
   "execution_count": 2,
   "id": "f16eaf16-3a5f-462f-a44e-1b63ef6f6380",
   "metadata": {},
   "outputs": [
    {
     "data": {
      "text/plain": [
       "3"
      ]
     },
     "execution_count": 2,
     "metadata": {},
     "output_type": "execute_result"
    }
   ],
   "source": [
    "7 // 2"
   ]
  },
  {
   "cell_type": "code",
   "execution_count": 3,
   "id": "800e5f4b-a7f7-4acb-a71b-4ff06340bfc1",
   "metadata": {},
   "outputs": [
    {
     "name": "stdout",
     "output_type": "stream",
     "text": [
      "$\n",
      "$\n",
      "$$\n",
      "$$\n",
      "$$$\n",
      "$$$\n",
      "$$$$\n"
     ]
    }
   ],
   "source": [
    "height = 7\n",
    "for x in range(1, height + 1):\n",
    "    for y in range(0,(x + 1) // 2):\n",
    "        print(\"$\", end = \"\")\n",
    "    print()"
   ]
  },
  {
   "cell_type": "code",
   "execution_count": null,
   "id": "cf6debca-f53a-4a92-bdfd-f77e59038edb",
   "metadata": {
    "nbgrader": {
     "cell_type": "code",
     "checksum": "1f3d6baa50aef0337f80f5099b788d19",
     "grade": false,
     "grade_id": "cell-2d0414bef2c32926",
     "locked": false,
     "schema_version": 3,
     "solution": true,
     "task": false
    }
   },
   "outputs": [],
   "source": [
    "def generate_pattern(height):\n",
    "    pattern = \"\"\n",
    "# YOUR SOLUTION HERE\n",
    "    return pattern"
   ]
  },
  {
   "cell_type": "code",
   "execution_count": 5,
   "id": "1c93e74b-cdda-4083-be94-0bb10b6e546d",
   "metadata": {
    "editable": false,
    "nbgrader": {
     "cell_type": "code",
     "checksum": "dff6922de42c96f221cf63ff90de26a1",
     "grade": true,
     "grade_id": "cell-1a8eb14a86a88b76",
     "locked": true,
     "points": 2,
     "schema_version": 3,
     "solution": false,
     "task": false
    }
   },
   "outputs": [
    {
     "ename": "NameError",
     "evalue": "name 'generate_pattern' is not defined",
     "output_type": "error",
     "traceback": [
      "\u001b[0;31m---------------------------------------------------------------------------\u001b[0m",
      "\u001b[0;31mNameError\u001b[0m                                 Traceback (most recent call last)",
      "Cell \u001b[0;32mIn[5], line 3\u001b[0m\n\u001b[1;32m      1\u001b[0m \u001b[38;5;66;03m# This tests your implementation:\u001b[39;00m\n\u001b[1;32m      2\u001b[0m \u001b[38;5;28;01mfrom\u001b[39;00m \u001b[38;5;21;01mhashlib\u001b[39;00m \u001b[38;5;28;01mimport\u001b[39;00m sha1\n\u001b[0;32m----> 3\u001b[0m \u001b[38;5;28;01massert\u001b[39;00m \u001b[38;5;28mstr\u001b[39m(\u001b[38;5;28mtype\u001b[39m(\u001b[43mgenerate_pattern\u001b[49m(\u001b[38;5;241m10\u001b[39m))) \u001b[38;5;241m==\u001b[39m \u001b[38;5;124m\"\"\"\u001b[39m\u001b[38;5;124m<class \u001b[39m\u001b[38;5;124m'\u001b[39m\u001b[38;5;124mstr\u001b[39m\u001b[38;5;124m'\u001b[39m\u001b[38;5;124m>\u001b[39m\u001b[38;5;124m\"\"\"\u001b[39m, \u001b[38;5;124m\"\"\"\u001b[39m\u001b[38;5;124mtype of generate_pattern(10) is not str. generate_pattern(10) should be an str\u001b[39m\u001b[38;5;124m\"\"\"\u001b[39m\n\u001b[1;32m      4\u001b[0m \u001b[38;5;28;01massert\u001b[39;00m \u001b[38;5;28mstr\u001b[39m(\u001b[38;5;28mlen\u001b[39m(generate_pattern(\u001b[38;5;241m10\u001b[39m))) \u001b[38;5;241m==\u001b[39m \u001b[38;5;124m\"\"\"\u001b[39m\u001b[38;5;124m87\u001b[39m\u001b[38;5;124m\"\"\"\u001b[39m, \u001b[38;5;124m\"\"\"\u001b[39m\u001b[38;5;124mlength of generate_pattern(10) is not correct\u001b[39m\u001b[38;5;124m\"\"\"\u001b[39m\n\u001b[1;32m      5\u001b[0m \u001b[38;5;28;01massert\u001b[39;00m \u001b[38;5;28mstr\u001b[39m(generate_pattern(\u001b[38;5;241m10\u001b[39m)\u001b[38;5;241m.\u001b[39mlower()) \u001b[38;5;241m==\u001b[39m \u001b[38;5;124m\"\"\"\u001b[39m\u001b[38;5;124m*        *\u001b[39m\u001b[38;5;130;01m\\n\u001b[39;00m\u001b[38;5;124m *      *\u001b[39m\u001b[38;5;130;01m\\n\u001b[39;00m\u001b[38;5;124m  *    *\u001b[39m\u001b[38;5;130;01m\\n\u001b[39;00m\u001b[38;5;124m   *  *\u001b[39m\u001b[38;5;130;01m\\n\u001b[39;00m\u001b[38;5;124m++++++++++\u001b[39m\u001b[38;5;130;01m\\n\u001b[39;00m\u001b[38;5;124m   *  *\u001b[39m\u001b[38;5;130;01m\\n\u001b[39;00m\u001b[38;5;124m  *    *\u001b[39m\u001b[38;5;130;01m\\n\u001b[39;00m\u001b[38;5;124m *      *\u001b[39m\u001b[38;5;130;01m\\n\u001b[39;00m\u001b[38;5;124m*        *\u001b[39m\u001b[38;5;130;01m\\n\u001b[39;00m\u001b[38;5;124m\"\"\"\u001b[39m, \u001b[38;5;124m\"\"\"\u001b[39m\u001b[38;5;124mvalue of generate_pattern(10) is not correct\u001b[39m\u001b[38;5;124m\"\"\"\u001b[39m\n",
      "\u001b[0;31mNameError\u001b[0m: name 'generate_pattern' is not defined"
     ]
    }
   ],
   "source": [
    "# This tests your implementation:\n",
    "from hashlib import sha1\n",
    "assert str(type(generate_pattern(10))) == \"\"\"<class 'str'>\"\"\", \"\"\"type of generate_pattern(10) is not str. generate_pattern(10) should be an str\"\"\"\n",
    "assert str(len(generate_pattern(10))) == \"\"\"87\"\"\", \"\"\"length of generate_pattern(10) is not correct\"\"\"\n",
    "assert str(generate_pattern(10).lower()) == \"\"\"*        *\\n *      *\\n  *    *\\n   *  *\\n++++++++++\\n   *  *\\n  *    *\\n *      *\\n*        *\\n\"\"\", \"\"\"value of generate_pattern(10) is not correct\"\"\"\n",
    "assert str(generate_pattern(10)) == \"\"\"*        *\\n *      *\\n  *    *\\n   *  *\\n++++++++++\\n   *  *\\n  *    *\\n *      *\\n*        *\\n\"\"\", \"\"\"correct string value of generate_pattern(10) but incorrect case of letters\"\"\"\n",
    "\n",
    "assert str(type(generate_pattern(6))) == \"\"\"<class 'str'>\"\"\", \"\"\"type of generate_pattern(6) is not str. generate_pattern(6) should be an str\"\"\"\n",
    "assert str(len(generate_pattern(6))) == \"\"\"33\"\"\", \"\"\"length of generate_pattern(6) is not correct\"\"\"\n",
    "assert str(generate_pattern(6).lower()) == \"\"\"*    *\\n *  *\\n++++++\\n *  *\\n*    *\\n\"\"\", \"\"\"value of generate_pattern(6) is not correct\"\"\"\n",
    "assert str(generate_pattern(6)) == \"\"\"*    *\\n *  *\\n++++++\\n *  *\\n*    *\\n\"\"\", \"\"\"correct string value of generate_pattern(6) but incorrect case of letters\"\"\"\n",
    "\n",
    "assert str(type(generate_pattern(3))) == \"\"\"<class 'str'>\"\"\", \"\"\"type of generate_pattern(3) is not str. generate_pattern(3) should be an str\"\"\"\n",
    "assert str(len(generate_pattern(3))) == \"\"\"12\"\"\", \"\"\"length of generate_pattern(3) is not correct\"\"\"\n",
    "assert str(generate_pattern(3).lower()) == \"\"\"* *\\n+++\\n* *\\n\"\"\", \"\"\"value of generate_pattern(3) is not correct\"\"\"\n",
    "assert str(generate_pattern(3)) == \"\"\"* *\\n+++\\n* *\\n\"\"\", \"\"\"correct string value of generate_pattern(3) but incorrect case of letters\"\"\"\n",
    "\n",
    "print('Success!')"
   ]
  },
  {
   "cell_type": "code",
   "execution_count": null,
   "id": "27ae2fa7-ab12-4cad-b0e2-7f013eedc2f8",
   "metadata": {},
   "outputs": [],
   "source": []
  }
 ],
 "metadata": {
  "kernelspec": {
   "display_name": "Python 3 (ipykernel)",
   "language": "python",
   "name": "python3"
  },
  "language_info": {
   "codemirror_mode": {
    "name": "ipython",
    "version": 3
   },
   "file_extension": ".py",
   "mimetype": "text/x-python",
   "name": "python",
   "nbconvert_exporter": "python",
   "pygments_lexer": "ipython3",
   "version": "3.12.9"
  }
 },
 "nbformat": 4,
 "nbformat_minor": 5
}
