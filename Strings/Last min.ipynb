{
 "cells": [
  {
   "cell_type": "code",
   "execution_count": null,
   "id": "491968e1-a087-4bd0-8a82-5983f52a2e6e",
   "metadata": {},
   "outputs": [],
   "source": [
    "def check(ss,s):\n",
    "    "
   ]
  },
  {
   "cell_type": "code",
   "execution_count": 4,
   "id": "28183d45-b551-4737-a5a5-830e9313eb87",
   "metadata": {},
   "outputs": [
    {
     "name": "stdout",
     "output_type": "stream",
     "text": [
      "False\n"
     ]
    }
   ],
   "source": [
    "s = \"banana\"\n",
    "g = \"adda\"\n",
    "if g in s:\n",
    "    print(True)\n",
    "else:\n",
    "    print(False)"
   ]
  },
  {
   "cell_type": "code",
   "execution_count": 19,
   "id": "f7da57e5-117a-402c-8574-fec34518f8d4",
   "metadata": {},
   "outputs": [
    {
     "name": "stdout",
     "output_type": "stream",
     "text": [
      "False\n"
     ]
    }
   ],
   "source": [
    "a = [1,4,5,6,7,8]\n",
    "b = [5,8,7]\n",
    "pres = False\n",
    "\n",
    "for i in range(len(a)):\n",
    "    for j in range(len(b)):\n",
    "        if b[j] != a[i]:\n",
    "            break\n",
    "        else:\n",
    "            pres = False\n",
    "            \n",
    "print(pres)\n"
   ]
  },
  {
   "cell_type": "code",
   "execution_count": 24,
   "id": "c87ac962-e56d-41d8-82f0-d8826b24a1d2",
   "metadata": {},
   "outputs": [
    {
     "name": "stdout",
     "output_type": "stream",
     "text": [
      "False\n"
     ]
    }
   ],
   "source": [
    "a = [1,4,5,6,7]\n",
    "b = [5,8,7]\n",
    "pres = True\n",
    "\n",
    "for i in b:\n",
    "    if i not in a:\n",
    "        pres = False\n",
    "        break\n",
    "        \n",
    "print(pres)"
   ]
  },
  {
   "cell_type": "code",
   "execution_count": 26,
   "id": "d2937885-38c2-47cb-9b02-5ef23a58b5a6",
   "metadata": {},
   "outputs": [
    {
     "name": "stdout",
     "output_type": "stream",
     "text": [
      "True\n"
     ]
    }
   ],
   "source": [
    "a = [1, 4, 5, 6, 7]\n",
    "b = [5, 7]\n",
    "pres = True\n",
    "\n",
    "i = 0  # Pointer for b\n",
    "for item in a:\n",
    "    if i < len(b) and item == b[i]:\n",
    "        i += 1  # Move to next item in b\n",
    "    if i == len(b):  # All elements of b have been matched in order\n",
    "        break\n",
    "\n",
    "if i == len(b):\n",
    "    pres = True\n",
    "else:\n",
    "    pres = False\n",
    "\n",
    "print(pres)\n"
   ]
  },
  {
   "cell_type": "code",
   "execution_count": null,
   "id": "18ea5bea-716a-406d-b5cb-2de4a9080729",
   "metadata": {},
   "outputs": [],
   "source": [
    "a = [1, 4, 5, 6, 7]\n",
    "b = [5, 7]\n",
    "pres = True\n",
    "\n",
    "i = 0  # Pointer for b\n",
    "for item in a:\n",
    "    if i < len(b) and item == b[i]:\n",
    "        i += 1  # Move to next item in b\n",
    "    if i == len(b):  # All elements of b have been matched in order\n",
    "        break\n",
    "\n",
    "if i == len(b):\n",
    "    pres = True\n",
    "else:\n",
    "    pres = False\n",
    "\n",
    "print(pres)\n"
   ]
  },
  {
   "cell_type": "code",
   "execution_count": null,
   "id": "c9552769-30e0-40b5-bbf2-b54915525fae",
   "metadata": {},
   "outputs": [],
   "source": []
  }
 ],
 "metadata": {
  "kernelspec": {
   "display_name": "Python 3 (ipykernel)",
   "language": "python",
   "name": "python3"
  },
  "language_info": {
   "codemirror_mode": {
    "name": "ipython",
    "version": 3
   },
   "file_extension": ".py",
   "mimetype": "text/x-python",
   "name": "python",
   "nbconvert_exporter": "python",
   "pygments_lexer": "ipython3",
   "version": "3.12.9"
  }
 },
 "nbformat": 4,
 "nbformat_minor": 5
}
