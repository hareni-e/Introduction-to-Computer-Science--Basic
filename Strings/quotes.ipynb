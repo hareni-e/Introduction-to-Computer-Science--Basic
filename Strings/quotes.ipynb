{
 "cells": [
  {
   "cell_type": "markdown",
   "id": "dbccd2f9-3d57-4afa-b3ca-a2768b974578",
   "metadata": {},
   "source": [
    "### String quotes"
   ]
  },
  {
   "cell_type": "code",
   "execution_count": 1,
   "id": "4263c6d4-e670-427f-81aa-e53ac653071a",
   "metadata": {},
   "outputs": [
    {
     "name": "stdout",
     "output_type": "stream",
     "text": [
      "She said, \"Hello!\"\n"
     ]
    }
   ],
   "source": [
    "s = 'She said, \"Hello!\"'\n",
    "print(s)"
   ]
  },
  {
   "cell_type": "code",
   "execution_count": 3,
   "id": "dbd55901-5cbe-4a5a-b1bd-12d834fbb9e2",
   "metadata": {},
   "outputs": [
    {
     "name": "stdout",
     "output_type": "stream",
     "text": [
      "It's a great day!\n"
     ]
    }
   ],
   "source": [
    "s = \"It's a great day!\"\n",
    "print(s)"
   ]
  },
  {
   "cell_type": "code",
   "execution_count": 6,
   "id": "d3083db8-601b-4846-9282-ba05026ffc28",
   "metadata": {},
   "outputs": [
    {
     "name": "stdout",
     "output_type": "stream",
     "text": [
      "This is a \"cool\" example.\n"
     ]
    }
   ],
   "source": [
    "print(\"This is a \\\"cool\\\" example.\")"
   ]
  },
  {
   "cell_type": "code",
   "execution_count": 8,
   "id": "e6c2f9a0-5a4d-4845-9c71-a01949bdf6c6",
   "metadata": {},
   "outputs": [
    {
     "name": "stdout",
     "output_type": "stream",
     "text": [
      "It's a great day!\n"
     ]
    }
   ],
   "source": [
    "print('It\\'s a great day!')"
   ]
  },
  {
   "cell_type": "code",
   "execution_count": 9,
   "id": "dc20d3bf-15ab-44e5-bd04-483f1b7f3cf3",
   "metadata": {},
   "outputs": [
    {
     "name": "stdout",
     "output_type": "stream",
     "text": [
      "Hello\n",
      "What is happening\n",
      "right now\n"
     ]
    }
   ],
   "source": [
    "s = '''Hello\n",
    "What is happening\n",
    "right now'''\n",
    "\n",
    "print(s)"
   ]
  },
  {
   "cell_type": "code",
   "execution_count": 10,
   "id": "1af49a4c-c2d5-4525-9675-5f3993544565",
   "metadata": {},
   "outputs": [
    {
     "name": "stdout",
     "output_type": "stream",
     "text": [
      "Hello\n",
      "What is happening\n",
      "right now\n"
     ]
    }
   ],
   "source": [
    "s = \"\"\"Hello\n",
    "What is happening\n",
    "right now\"\"\"\n",
    "\n",
    "print(s)"
   ]
  },
  {
   "cell_type": "code",
   "execution_count": 11,
   "id": "bafee164-df49-436f-8fe3-a88a7a57f070",
   "metadata": {},
   "outputs": [
    {
     "name": "stdout",
     "output_type": "stream",
     "text": [
      "\"Hello\"\n",
      "What's happening\n",
      "right now\n"
     ]
    }
   ],
   "source": [
    "s = '''\"Hello\"\n",
    "What's happening\n",
    "right now'''\n",
    "\n",
    "print(s)"
   ]
  },
  {
   "cell_type": "code",
   "execution_count": 14,
   "id": "b8c40e89-5594-49ad-82e0-da5c1618133b",
   "metadata": {},
   "outputs": [
    {
     "name": "stdout",
     "output_type": "stream",
     "text": [
      "\"Hello\" What's \n",
      "happening \n",
      "right now\n"
     ]
    }
   ],
   "source": [
    "s = \"\"\"\"Hello\" What's \n",
    "happening \n",
    "right now\"\"\"\n",
    "\n",
    "print(s)"
   ]
  },
  {
   "cell_type": "code",
   "execution_count": 17,
   "id": "4343786a-4665-48f3-ba29-fb11b112e78d",
   "metadata": {},
   "outputs": [
    {
     "name": "stdin",
     "output_type": "stream",
     "text": [
      "Enter your name. HAreni\n",
      "Enter your age. 24\n"
     ]
    },
    {
     "name": "stdout",
     "output_type": "stream",
     "text": [
      "\"Hello\", my name is HAreni and I am 24 years old.\n"
     ]
    }
   ],
   "source": [
    "name = input(\"Enter your name.\")\n",
    "age = int(input(\"Enter your age.\"))\n",
    "\n",
    "\n",
    "print(f'\"Hello\", my name is {name} and I am {age} years old.')"
   ]
  },
  {
   "cell_type": "code",
   "execution_count": null,
   "id": "06529f4c-a585-42bc-bb29-960fb13e7274",
   "metadata": {},
   "outputs": [],
   "source": []
  },
  {
   "cell_type": "markdown",
   "id": "b41eee3a-51a1-4e3a-9edc-3584f7cd3b76",
   "metadata": {},
   "source": [
    "#### Type conversion"
   ]
  },
  {
   "cell_type": "code",
   "execution_count": 18,
   "id": "dd39c9bb-5a95-4ff3-9fa5-fd02c0810199",
   "metadata": {},
   "outputs": [
    {
     "data": {
      "text/plain": [
       "10"
      ]
     },
     "execution_count": 18,
     "metadata": {},
     "output_type": "execute_result"
    }
   ],
   "source": [
    "int(\"10\")"
   ]
  },
  {
   "cell_type": "code",
   "execution_count": 19,
   "id": "a1609eb7-9628-4d4a-9d16-862e613da98a",
   "metadata": {},
   "outputs": [
    {
     "data": {
      "text/plain": [
       "True"
      ]
     },
     "execution_count": 19,
     "metadata": {},
     "output_type": "execute_result"
    }
   ],
   "source": [
    "bool(\"True\")"
   ]
  },
  {
   "cell_type": "code",
   "execution_count": 20,
   "id": "8309fa57-1920-44e0-b360-cb31456d1921",
   "metadata": {},
   "outputs": [
    {
     "data": {
      "text/plain": [
       "10.0"
      ]
     },
     "execution_count": 20,
     "metadata": {},
     "output_type": "execute_result"
    }
   ],
   "source": [
    "float(\"10\")"
   ]
  },
  {
   "cell_type": "code",
   "execution_count": 21,
   "id": "a1816e03-1ee5-4384-a766-d477e04ef60d",
   "metadata": {},
   "outputs": [
    {
     "data": {
      "text/plain": [
       "9.0"
      ]
     },
     "execution_count": 21,
     "metadata": {},
     "output_type": "execute_result"
    }
   ],
   "source": [
    "float(9)"
   ]
  },
  {
   "cell_type": "code",
   "execution_count": 22,
   "id": "87b8430c-f66e-447e-9a32-a743038ba6ef",
   "metadata": {},
   "outputs": [
    {
     "data": {
      "text/plain": [
       "9"
      ]
     },
     "execution_count": 22,
     "metadata": {},
     "output_type": "execute_result"
    }
   ],
   "source": [
    "int(9.44)"
   ]
  },
  {
   "cell_type": "code",
   "execution_count": 27,
   "id": "45f7bee2-2cd0-453d-81e8-447c03815d66",
   "metadata": {},
   "outputs": [
    {
     "data": {
      "text/plain": [
       "9"
      ]
     },
     "execution_count": 27,
     "metadata": {},
     "output_type": "execute_result"
    }
   ],
   "source": [
    "int(9.9)"
   ]
  },
  {
   "cell_type": "code",
   "execution_count": 28,
   "id": "5f179487-2a42-4203-bff1-43233c5f965d",
   "metadata": {},
   "outputs": [
    {
     "name": "stdout",
     "output_type": "stream",
     "text": [
      "0.30000000000000004\n"
     ]
    }
   ],
   "source": [
    "print(1.5 % 0.6)"
   ]
  },
  {
   "cell_type": "code",
   "execution_count": 29,
   "id": "f0dcc4ba-51e9-4024-9419-8f75ed03db3a",
   "metadata": {},
   "outputs": [
    {
     "name": "stdout",
     "output_type": "stream",
     "text": [
      "False\n"
     ]
    }
   ],
   "source": [
    "x = 0.1 + 0.2\n",
    "print(x == 0.3)"
   ]
  },
  {
   "cell_type": "code",
   "execution_count": 30,
   "id": "f3091590-72c2-472e-b52a-1764b82a0584",
   "metadata": {},
   "outputs": [
    {
     "name": "stdout",
     "output_type": "stream",
     "text": [
      "5.0\n"
     ]
    }
   ],
   "source": [
    "x = 5\n",
    "print(float(x)) # Output = 5.0"
   ]
  },
  {
   "cell_type": "markdown",
   "id": "19499e5d-e20f-47d2-8606-a290d76af170",
   "metadata": {},
   "source": [
    "#Write a program to convert all elements of the list into integers and floats where applicable. What would the converted list look like?"
   ]
  },
  {
   "cell_type": "code",
   "execution_count": 41,
   "id": "1425bbb4-57c8-4c25-8dcd-ef8af08931e2",
   "metadata": {},
   "outputs": [
    {
     "name": "stdout",
     "output_type": "stream",
     "text": [
      "[25, 30, 40, 50]\n"
     ]
    }
   ],
   "source": [
    "l = [\"25\", 30, \"40.5\", 50] \n",
    "g = []\n",
    "for i in l:\n",
    "    if type(i) != int:\n",
    "        g.append(int(float(i)))\n",
    "    else: \n",
    "        g.append(i)\n",
    "print(g)"
   ]
  },
  {
   "cell_type": "markdown",
   "id": "44d795a7-1295-4f42-9f57-bc77640c0c3b",
   "metadata": {},
   "source": [
    "Convert a non-zero number (e.g., 1) to a boolean."
   ]
  },
  {
   "cell_type": "code",
   "execution_count": 45,
   "id": "425126c2-178b-4662-bc53-35c463c34982",
   "metadata": {},
   "outputs": [
    {
     "data": {
      "text/plain": [
       "True"
      ]
     },
     "execution_count": 45,
     "metadata": {},
     "output_type": "execute_result"
    }
   ],
   "source": [
    "x = 1\n",
    "bool(x)"
   ]
  },
  {
   "cell_type": "markdown",
   "id": "e97d68f4-3473-46ea-a55f-8813e382f703",
   "metadata": {},
   "source": [
    "Convert the integer 25 and the float 4.5"
   ]
  },
  {
   "cell_type": "code",
   "execution_count": 46,
   "id": "60659b16-24a2-4bd2-bb31-738a757ce613",
   "metadata": {},
   "outputs": [
    {
     "name": "stdout",
     "output_type": "stream",
     "text": [
      "254.5\n"
     ]
    }
   ],
   "source": [
    "print(str(25) + str(4.5)) # Result = 254.5"
   ]
  },
  {
   "cell_type": "code",
   "execution_count": 54,
   "id": "104f4907-2c17-4180-869f-3a4ce8646680",
   "metadata": {},
   "outputs": [
    {
     "name": "stdout",
     "output_type": "stream",
     "text": [
      "13\n"
     ]
    }
   ],
   "source": [
    "print(int(10 + 3.5)) # Result = 13.5\n"
   ]
  },
  {
   "cell_type": "code",
   "execution_count": 57,
   "id": "07580738-ed9a-403e-839c-81e8b06782c8",
   "metadata": {},
   "outputs": [
    {
     "name": "stdout",
     "output_type": "stream",
     "text": [
      "Cannot convert 'hello' to an integer\n"
     ]
    }
   ],
   "source": [
    "try:\n",
    "    int(\"hello\")\n",
    "except ValueError:\n",
    "    print(\"Cannot convert 'hello' to an integer\")\n"
   ]
  },
  {
   "cell_type": "code",
   "execution_count": 58,
   "id": "966dfdbc-49c4-4098-be5d-17623d34a671",
   "metadata": {},
   "outputs": [
    {
     "data": {
      "text/plain": [
       "1"
      ]
     },
     "execution_count": 58,
     "metadata": {},
     "output_type": "execute_result"
    }
   ],
   "source": [
    "int(True)"
   ]
  },
  {
   "cell_type": "code",
   "execution_count": 59,
   "id": "f8f5aa35-cb51-490b-93ce-de60f74ddabf",
   "metadata": {},
   "outputs": [
    {
     "data": {
      "text/plain": [
       "'True'"
      ]
     },
     "execution_count": 59,
     "metadata": {},
     "output_type": "execute_result"
    }
   ],
   "source": [
    "str(True)"
   ]
  },
  {
   "cell_type": "code",
   "execution_count": 60,
   "id": "72555120-abc6-4ef6-91e0-390911adb384",
   "metadata": {},
   "outputs": [
    {
     "data": {
      "text/plain": [
       "'1'"
      ]
     },
     "execution_count": 60,
     "metadata": {},
     "output_type": "execute_result"
    }
   ],
   "source": [
    "str(1)"
   ]
  },
  {
   "cell_type": "code",
   "execution_count": 61,
   "id": "fd1777d0-7955-4ad3-99d8-a908eb4b047f",
   "metadata": {},
   "outputs": [
    {
     "data": {
      "text/plain": [
       "True"
      ]
     },
     "execution_count": 61,
     "metadata": {},
     "output_type": "execute_result"
    }
   ],
   "source": [
    "bool(25)"
   ]
  },
  {
   "cell_type": "code",
   "execution_count": 63,
   "id": "844939d9-0293-4683-b8c7-785d27abb406",
   "metadata": {},
   "outputs": [
    {
     "data": {
      "text/plain": [
       "True"
      ]
     },
     "execution_count": 63,
     "metadata": {},
     "output_type": "execute_result"
    }
   ],
   "source": [
    "bool(\"a\")"
   ]
  },
  {
   "cell_type": "code",
   "execution_count": 64,
   "id": "3e0534a4-14f4-4c40-84c1-9d89d63fde98",
   "metadata": {},
   "outputs": [
    {
     "data": {
      "text/plain": [
       "1.0"
      ]
     },
     "execution_count": 64,
     "metadata": {},
     "output_type": "execute_result"
    }
   ],
   "source": [
    "float(True)"
   ]
  },
  {
   "cell_type": "code",
   "execution_count": 65,
   "id": "68dd9195-4311-471a-9ae8-80a29d756320",
   "metadata": {},
   "outputs": [
    {
     "ename": "ValueError",
     "evalue": "could not convert string to float: 'True'",
     "output_type": "error",
     "traceback": [
      "\u001b[0;31m---------------------------------------------------------------------------\u001b[0m",
      "\u001b[0;31mValueError\u001b[0m                                Traceback (most recent call last)",
      "Cell \u001b[0;32mIn[65], line 1\u001b[0m\n\u001b[0;32m----> 1\u001b[0m \u001b[38;5;28;43mfloat\u001b[39;49m\u001b[43m(\u001b[49m\u001b[38;5;124;43m\"\u001b[39;49m\u001b[38;5;124;43mTrue\u001b[39;49m\u001b[38;5;124;43m\"\u001b[39;49m\u001b[43m)\u001b[49m\n",
      "\u001b[0;31mValueError\u001b[0m: could not convert string to float: 'True'"
     ]
    }
   ],
   "source": [
    "float(\"True\")"
   ]
  },
  {
   "cell_type": "markdown",
   "id": "2ff0b951-5d4c-488a-a980-8216773d9c18",
   "metadata": {},
   "source": [
    "numbers = [1, 2, 3, 4], into a string where the integers are separated by commas (e.g., \"1,2,3,4\").\n",
    "Then, write a function to reverse this: convert the string \"1,2,3,4\" back into a list of integers."
   ]
  },
  {
   "cell_type": "code",
   "execution_count": 78,
   "id": "4369f139-2fa8-4b83-9868-76ad64942ed4",
   "metadata": {},
   "outputs": [
    {
     "name": "stdout",
     "output_type": "stream",
     "text": [
      "1,2,3,4\n"
     ]
    }
   ],
   "source": [
    "numbers = [1, 2, 3, 4]\n",
    "sj = \"\"\n",
    "for i in numbers:\n",
    "    sj += str(i) + \",\"\n",
    "sj = sj[:-1]\n",
    "print(sj)"
   ]
  },
  {
   "cell_type": "code",
   "execution_count": 74,
   "id": "e195659f-5bb2-4493-ac07-4e3ff460248b",
   "metadata": {},
   "outputs": [
    {
     "name": "stdout",
     "output_type": "stream",
     "text": [
      "Hell\n"
     ]
    }
   ],
   "source": [
    "d = \"Hello\"\n",
    "print(d[:-1])"
   ]
  },
  {
   "cell_type": "markdown",
   "id": "926b5daa-a07e-42f8-a0e0-b79b6b269229",
   "metadata": {},
   "source": [
    "You’ve already worked on converting a list to a string and back. Here's another task:What happens when you try to convert a list of mixed types (e.g., [\"25\", 30, \"40.5\", 50]) to a single string directly? Can you convert all the elements of the list to strings and then concatenate them into one string?What would the result be, and how would you approach it?"
   ]
  },
  {
   "cell_type": "code",
   "execution_count": 80,
   "id": "b7870fcc-80af-4649-afac-484455227edc",
   "metadata": {},
   "outputs": [
    {
     "name": "stdout",
     "output_type": "stream",
     "text": [
      "253040.550\n"
     ]
    }
   ],
   "source": [
    "l = [\"25\", 30, \"40.5\", 50]\n",
    "s = \"\"\n",
    "\n",
    "for j in l:\n",
    "    s += str(j)\n",
    "print(s)\n",
    "\n",
    "for i in s:\n",
    "    if "
   ]
  },
  {
   "cell_type": "code",
   "execution_count": 82,
   "id": "f341dc78-0e14-4754-b105-01f8b0777c12",
   "metadata": {},
   "outputs": [
    {
     "data": {
      "text/plain": [
       "(21+0j)"
      ]
     },
     "execution_count": 82,
     "metadata": {},
     "output_type": "execute_result"
    }
   ],
   "source": [
    "complex(20 + 1)"
   ]
  },
  {
   "cell_type": "code",
   "execution_count": 83,
   "id": "a24b1003-1463-4a18-99d7-d7bd6d59bac0",
   "metadata": {},
   "outputs": [
    {
     "data": {
      "text/plain": [
       "'(21+0j)'"
      ]
     },
     "execution_count": 83,
     "metadata": {},
     "output_type": "execute_result"
    }
   ],
   "source": [
    "str(21 + 0j)"
   ]
  },
  {
   "cell_type": "code",
   "execution_count": 85,
   "id": "0eb6b13d-142a-4b2b-bc8b-26a53256a1ed",
   "metadata": {},
   "outputs": [
    {
     "data": {
      "text/plain": [
       "(21+5j)"
      ]
     },
     "execution_count": 85,
     "metadata": {},
     "output_type": "execute_result"
    }
   ],
   "source": [
    "complex(21+5j)"
   ]
  },
  {
   "cell_type": "markdown",
   "id": "a374f233-acc9-4d37-b681-ecf63f3da133",
   "metadata": {},
   "source": [
    "Write code to convert all elements of the list (including the inner list) to integers or floats where applicable, and provide the result."
   ]
  },
  {
   "cell_type": "code",
   "execution_count": 114,
   "id": "d5bd6cd7-0432-459d-8d89-8de04b0fd53f",
   "metadata": {},
   "outputs": [
    {
     "name": "stdout",
     "output_type": "stream",
     "text": [
      "[10, 20, 30, 40.5, 30]\n"
     ]
    }
   ],
   "source": [
    "nested = [\"10\", [20, \"30\"], 40.5, \"30\"]\n",
    "new = []\n",
    "for i in nested:\n",
    "    if type(i) != list:\n",
    "        if type(i) == str:\n",
    "            new.append(int(i))     \n",
    "        elif type(i) == float:\n",
    "            new.append(i)\n",
    "        else:\n",
    "            new.append(i)    \n",
    "        \n",
    "    else:\n",
    "        for j in i:\n",
    "            if type(j) == str:\n",
    "                if \".\" in j:\n",
    "                    new.append(float(j))\n",
    "                else:\n",
    "                    new.append(int(j))\n",
    "            \n",
    "            elif type(j) == float:\n",
    "                new.append(j)\n",
    "            else:\n",
    "                new.append(j) \n",
    "            \n",
    "print(new)\n",
    "    "
   ]
  },
  {
   "cell_type": "code",
   "execution_count": 106,
   "id": "b87dde20-c697-4a2e-a04a-458f5269e1e1",
   "metadata": {},
   "outputs": [
    {
     "data": {
      "text/plain": [
       "30.0"
      ]
     },
     "execution_count": 106,
     "metadata": {},
     "output_type": "execute_result"
    }
   ],
   "source": [
    "float(\"30\")"
   ]
  },
  {
   "cell_type": "code",
   "execution_count": 100,
   "id": "fccaf496-5cc9-4570-a69d-08730d38bfc9",
   "metadata": {},
   "outputs": [
    {
     "data": {
      "text/plain": [
       "30"
      ]
     },
     "execution_count": 100,
     "metadata": {},
     "output_type": "execute_result"
    }
   ],
   "source": [
    "int(\"30\")"
   ]
  },
  {
   "cell_type": "code",
   "execution_count": 105,
   "id": "aa491dd1-2f4e-404b-b36b-a6005fcca6c3",
   "metadata": {},
   "outputs": [
    {
     "data": {
      "text/plain": [
       "30"
      ]
     },
     "execution_count": 105,
     "metadata": {},
     "output_type": "execute_result"
    }
   ],
   "source": [
    "(int(float(30)))"
   ]
  },
  {
   "cell_type": "code",
   "execution_count": null,
   "id": "48441264-c6e1-4968-812b-4558a1eac538",
   "metadata": {},
   "outputs": [],
   "source": []
  },
  {
   "cell_type": "code",
   "execution_count": 115,
   "id": "fe30c534-861f-43a7-bb56-6f634157b664",
   "metadata": {},
   "outputs": [
    {
     "ename": "SyntaxError",
     "evalue": "invalid syntax (2566068657.py, line 4)",
     "output_type": "error",
     "traceback": [
      "\u001b[0;36m  Cell \u001b[0;32mIn[115], line 4\u001b[0;36m\u001b[0m\n\u001b[0;31m    l = t.copy[]\u001b[0m\n\u001b[0m               ^\u001b[0m\n\u001b[0;31mSyntaxError\u001b[0m\u001b[0;31m:\u001b[0m invalid syntax\n"
     ]
    }
   ],
   "source": [
    "t = (1, 2, 3, 4)\n",
    "s = {5, 6, 7, 8}\n",
    "l = []\n",
    "l = t.copy[]\n",
    "print(l)"
   ]
  },
  {
   "cell_type": "code",
   "execution_count": 118,
   "id": "9f44e0a4-0f42-47b2-adb5-1125cfb83817",
   "metadata": {},
   "outputs": [
    {
     "name": "stdout",
     "output_type": "stream",
     "text": [
      "(1, 2, 3, 4)\n"
     ]
    }
   ],
   "source": [
    "t = (1, 2, 3, 4)\n",
    "l = t[::]\n",
    "print(l)"
   ]
  },
  {
   "cell_type": "code",
   "execution_count": 131,
   "id": "889ba850-3c65-42d6-bb04-e53a086a27ce",
   "metadata": {},
   "outputs": [
    {
     "name": "stdout",
     "output_type": "stream",
     "text": [
      "[1, 2, 3, 4]\n"
     ]
    }
   ],
   "source": [
    "t = (1, 2, 3, 4)\n",
    "l = []\n",
    "l += t[::]\n",
    "print(l)"
   ]
  },
  {
   "cell_type": "code",
   "execution_count": 132,
   "id": "09575fad-86d0-4491-89ed-e42a0d60a00b",
   "metadata": {},
   "outputs": [
    {
     "name": "stdout",
     "output_type": "stream",
     "text": [
      "[1, 2, 3, 4]\n"
     ]
    }
   ],
   "source": [
    "t = (1, 2, 3, 4)\n",
    "l = list(t)\n",
    "print(l)"
   ]
  },
  {
   "cell_type": "code",
   "execution_count": 134,
   "id": "d5b32370-4ef8-4d29-855e-0080160cff3e",
   "metadata": {},
   "outputs": [
    {
     "name": "stdout",
     "output_type": "stream",
     "text": [
      "list to tuple (1, 2, 3, 4)\n",
      "tuple to set {1, 2, 3, 4}\n",
      "list to set {1, 2, 3, 4}\n",
      "set to list [1, 2, 3, 4]\n",
      "set to tuple (1, 2, 3, 4)\n"
     ]
    }
   ],
   "source": [
    "t = (1, 2, 3, 4)\n",
    "l = list(t)\n",
    "s = tuple(l)\n",
    "print(\"list to tuple\",s)\n",
    "\n",
    "v = set(t)\n",
    "print(\"tuple to set\",v)\n",
    "\n",
    "w = set(l)\n",
    "print(\"list to set\",w)\n",
    "\n",
    "j = list(w)\n",
    "print(\"set to list\",j)\n",
    "\n",
    "k = tuple(s)\n",
    "print(\"set to tuple\",k)"
   ]
  },
  {
   "cell_type": "markdown",
   "id": "84ebaf49-ad12-478d-94fa-54ce2ef569ef",
   "metadata": {},
   "source": [
    "#### 23. Handling Conversion Errors Gracefully\n",
    "Suppose you're trying to convert user input to an integer, but the user enters a non-numeric value (e.g., \"abc\"). How can you handle this error gracefully without crashing the program?Write a code snippet that:\n",
    "Takes input from the user.\n",
    "Tries to convert it to an integer.\n",
    "If the conversion fails, prints an error message and continues.\n",
    "What would your approach look like?"
   ]
  },
  {
   "cell_type": "code",
   "execution_count": 161,
   "id": "bed92e99-aaea-4717-b264-17aa071b8e33",
   "metadata": {},
   "outputs": [
    {
     "name": "stdin",
     "output_type": "stream",
     "text": [
      "Enter a value. $$\n"
     ]
    },
    {
     "name": "stdout",
     "output_type": "stream",
     "text": [
      "This is non numeric\n"
     ]
    }
   ],
   "source": [
    "n = input(\"Enter a value.\")\n",
    "for i in n:\n",
    "    if 47 < ord(i) < 59:\n",
    "        print(int(n))\n",
    "        break\n",
    "    else:\n",
    "        print(\"This is non numeric\")\n",
    "        break\n",
    "    "
   ]
  },
  {
   "cell_type": "code",
   "execution_count": 179,
   "id": "7dba9e52-0e4f-45b9-b1fe-5ec24d48eb32",
   "metadata": {},
   "outputs": [
    {
     "name": "stdin",
     "output_type": "stream",
     "text": [
      "Enter a value. .\n"
     ]
    },
    {
     "ename": "ValueError",
     "evalue": "could not convert string to float: '.'",
     "output_type": "error",
     "traceback": [
      "\u001b[0;31m---------------------------------------------------------------------------\u001b[0m",
      "\u001b[0;31mValueError\u001b[0m                                Traceback (most recent call last)",
      "Cell \u001b[0;32mIn[179], line 11\u001b[0m\n\u001b[1;32m      9\u001b[0m             \u001b[38;5;28;01mbreak\u001b[39;00m\n\u001b[1;32m     10\u001b[0m \u001b[38;5;28;01melse\u001b[39;00m:\n\u001b[0;32m---> 11\u001b[0m     \u001b[38;5;28mprint\u001b[39m(\u001b[38;5;28;43mfloat\u001b[39;49m\u001b[43m(\u001b[49m\u001b[43mn\u001b[49m\u001b[43m)\u001b[49m)\n",
      "\u001b[0;31mValueError\u001b[0m: could not convert string to float: '.'"
     ]
    }
   ],
   "source": [
    "n = input(\"Enter a value.\")\n",
    "if \".\" not in n:\n",
    "    for i in n:\n",
    "        if 47 < ord(i) < 59:\n",
    "            print(int(n))\n",
    "            break\n",
    "        else:\n",
    "            print(\"This is non numeric\")\n",
    "            break\n",
    "else:\n",
    "    for i in n:\n",
    "        if i == n:\n",
    "        if 47 < ord(i) < 59:\n",
    "            print(int(n))\n",
    "            break\n",
    "        else:\n",
    "            print(\"This is non numeric\")\n",
    "            break\n",
    "    print(float(n))\n",
    "    "
   ]
  },
  {
   "cell_type": "code",
   "execution_count": 187,
   "id": "b28b35c7-5df2-4a30-910e-294f9136d2cc",
   "metadata": {},
   "outputs": [
    {
     "name": "stdin",
     "output_type": "stream",
     "text": [
      "Enter a value. 1girl\n"
     ]
    },
    {
     "ename": "ValueError",
     "evalue": "invalid literal for int() with base 10: '1girl'",
     "output_type": "error",
     "traceback": [
      "\u001b[0;31m---------------------------------------------------------------------------\u001b[0m",
      "\u001b[0;31mValueError\u001b[0m                                Traceback (most recent call last)",
      "Cell \u001b[0;32mIn[187], line 5\u001b[0m\n\u001b[1;32m      3\u001b[0m \u001b[38;5;28;01mfor\u001b[39;00m i \u001b[38;5;129;01min\u001b[39;00m n:\n\u001b[1;32m      4\u001b[0m     \u001b[38;5;28;01mif\u001b[39;00m \u001b[38;5;241m47\u001b[39m \u001b[38;5;241m<\u001b[39m \u001b[38;5;28mord\u001b[39m(i) \u001b[38;5;241m<\u001b[39m \u001b[38;5;241m59\u001b[39m:\n\u001b[0;32m----> 5\u001b[0m         \u001b[38;5;28mprint\u001b[39m(\u001b[38;5;28;43mint\u001b[39;49m\u001b[43m(\u001b[49m\u001b[43mn\u001b[49m\u001b[43m)\u001b[49m)\n\u001b[1;32m      7\u001b[0m     \u001b[38;5;28;01melse\u001b[39;00m:\n\u001b[1;32m      8\u001b[0m         \u001b[38;5;28mprint\u001b[39m(\u001b[38;5;124m\"\u001b[39m\u001b[38;5;124mThis is non numeric\u001b[39m\u001b[38;5;124m\"\u001b[39m)\n",
      "\u001b[0;31mValueError\u001b[0m: invalid literal for int() with base 10: '1girl'"
     ]
    }
   ],
   "source": [
    "n = input(\"Enter a value.\")\n",
    "if \".\" not in n:\n",
    "    for i in n:\n",
    "        if 47 < ord(i) < 59:\n",
    "            print(int(n))\n",
    "            break\n",
    "        else:\n",
    "            print(\"This is non numeric\")\n",
    "            break\n",
    "elif n[-1] == \".\":\n",
    "    print(\"This is non numeric\")\n",
    "\n",
    "else:\n",
    "    print(float(n))\n",
    "    "
   ]
  },
  {
   "cell_type": "code",
   "execution_count": 188,
   "id": "fd5f754a-0b25-46b1-9969-65af980cc760",
   "metadata": {},
   "outputs": [
    {
     "name": "stdin",
     "output_type": "stream",
     "text": [
      "Enter a value. 1a3\n"
     ]
    },
    {
     "name": "stdout",
     "output_type": "stream",
     "text": [
      "This is non numeric\n"
     ]
    }
   ],
   "source": [
    "n = input(\"Enter a value.\")\n",
    "if \".\" not in n:\n",
    "    is_valid = True  # Flag to track if the number is valid\n",
    "    for i in n:\n",
    "        if not (47 < ord(i) < 59):  # Check if character is not a digit\n",
    "            is_valid = False\n",
    "            print(\"This is non numeric\")\n",
    "            break  # Stop checking after the first invalid character\n",
    "    if is_valid:  # Only print if all characters are digits\n",
    "        print(int(n))\n",
    "elif n[-1] == \".\":\n",
    "    print(\"This is non numeric\")\n",
    "else:\n",
    "    print(float(n))\n"
   ]
  },
  {
   "cell_type": "code",
   "execution_count": 169,
   "id": "27daae4c-e03b-4a47-aea3-e0f67e846ba3",
   "metadata": {},
   "outputs": [
    {
     "name": "stdin",
     "output_type": "stream",
     "text": [
      "Enter a value. 79\n"
     ]
    },
    {
     "name": "stdout",
     "output_type": "stream",
     "text": [
      "79\n"
     ]
    }
   ],
   "source": [
    "n = input(\"Enter a value.\")\n",
    "for i in n:\n",
    "    if 47 < ord(i) < 59:\n",
    "        print(int(n))\n",
    "        break\n",
    "    else:\n",
    "        print(\"This is non numeric\")\n",
    "        break\n",
    "    "
   ]
  },
  {
   "cell_type": "code",
   "execution_count": 173,
   "id": "8f1ef21e-fa8d-467d-96d9-e68eda149a3c",
   "metadata": {},
   "outputs": [
    {
     "name": "stdin",
     "output_type": "stream",
     "text": [
      "Enter a value. 6.5\n"
     ]
    },
    {
     "name": "stdout",
     "output_type": "stream",
     "text": [
      "Error\n"
     ]
    }
   ],
   "source": [
    "n = input(\"Enter a value.\")\n",
    "if n.isdigit():\n",
    "    print(int(n))\n",
    "else:\n",
    "     print(\"Error\")"
   ]
  },
  {
   "cell_type": "code",
   "execution_count": null,
   "id": "0fcfcbcc-b618-4b35-a91b-ef7101c851cc",
   "metadata": {},
   "outputs": [],
   "source": [
    "n = 1"
   ]
  },
  {
   "cell_type": "code",
   "execution_count": 142,
   "id": "ba416af8-f9f0-4132-8061-578697ff10b3",
   "metadata": {},
   "outputs": [
    {
     "data": {
      "text/plain": [
       "57"
      ]
     },
     "execution_count": 142,
     "metadata": {},
     "output_type": "execute_result"
    }
   ],
   "source": [
    "ord(\"9\")"
   ]
  },
  {
   "cell_type": "code",
   "execution_count": null,
   "id": "9a9ec8db-ccd4-48fc-98a2-a03422c50074",
   "metadata": {},
   "outputs": [],
   "source": []
  }
 ],
 "metadata": {
  "kernelspec": {
   "display_name": "Python 3 (ipykernel)",
   "language": "python",
   "name": "python3"
  },
  "language_info": {
   "codemirror_mode": {
    "name": "ipython",
    "version": 3
   },
   "file_extension": ".py",
   "mimetype": "text/x-python",
   "name": "python",
   "nbconvert_exporter": "python",
   "pygments_lexer": "ipython3",
   "version": "3.12.9"
  }
 },
 "nbformat": 4,
 "nbformat_minor": 5
}
