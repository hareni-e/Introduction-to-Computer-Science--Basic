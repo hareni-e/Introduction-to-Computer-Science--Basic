{
 "cells": [
  {
   "cell_type": "markdown",
   "id": "0b4f831e-d4bd-4f46-bbf5-630358ea32a2",
   "metadata": {},
   "source": [
    "## **Python String Exercises (Beginner to Advanced)**\n",
    "\n",
    "### **Beginner Level: Basic String Manipulation**\n",
    "\n"
   ]
  },
  {
   "cell_type": "markdown",
   "id": "433e47e0-8618-46c6-800e-d4a4561440bb",
   "metadata": {},
   "source": [
    "#### **1. Concatenation**\n",
    "Write a program that takes two strings as input and prints them concatenated together.\n",
    "\n"
   ]
  },
  {
   "cell_type": "code",
   "execution_count": 1,
   "id": "6b65e102-9abf-4e16-b845-68b9912b54e1",
   "metadata": {},
   "outputs": [
    {
     "name": "stdout",
     "output_type": "stream",
     "text": [
      "Hello\n"
     ]
    }
   ],
   "source": [
    "def con(s,m):\n",
    "    return s + m\n",
    "\n",
    "print(con(\"He\",\"llo\"))"
   ]
  },
  {
   "cell_type": "markdown",
   "id": "91b94423-cbd1-4ecc-b2c5-ff71fb9689db",
   "metadata": {},
   "source": [
    "#### **2. String Indexing & Slicing**\n",
    "- Print the first and last character of a given string.\n",
    "- Print a substring containing only the first 5 characters.\n",
    "\n"
   ]
  },
  {
   "cell_type": "code",
   "execution_count": null,
   "id": "a58beab4-eb41-4be3-99fe-d6b6b5a3751f",
   "metadata": {},
   "outputs": [],
   "source": []
  },
  {
   "cell_type": "code",
   "execution_count": null,
   "id": "75c4a2db-0b51-4a6a-86d6-f7777f5cdc89",
   "metadata": {},
   "outputs": [],
   "source": []
  },
  {
   "cell_type": "code",
   "execution_count": 2,
   "id": "30101996-0cd5-47ec-8d3f-1fa5b5be299a",
   "metadata": {},
   "outputs": [
    {
     "name": "stdout",
     "output_type": "stream",
     "text": [
      "Hakehdy\n"
     ]
    }
   ],
   "source": [
    "string = \"Hakehdy\"\n",
    "print(string[:len(string)])"
   ]
  },
  {
   "cell_type": "code",
   "execution_count": 3,
   "id": "3fc1d44a-6db7-472c-8605-96ae33f099ba",
   "metadata": {},
   "outputs": [
    {
     "name": "stdout",
     "output_type": "stream",
     "text": [
      "H y\n"
     ]
    }
   ],
   "source": [
    "string = \"Hakehdy\"\n",
    "print(string[0],string[-1])"
   ]
  },
  {
   "cell_type": "code",
   "execution_count": 4,
   "id": "e2c48c32-2ea5-445f-b3f7-621a1865062a",
   "metadata": {},
   "outputs": [
    {
     "name": "stdout",
     "output_type": "stream",
     "text": [
      "Ho"
     ]
    }
   ],
   "source": [
    "def first_and_last(string):\n",
    "    for i in range(len(string)):\n",
    "        if i == 0 or  i == len(string) -1:\n",
    "            print(string[i], end = \"\")\n",
    "    #return None\n",
    "\n",
    "first_and_last(\"Hello\")"
   ]
  },
  {
   "cell_type": "code",
   "execution_count": 5,
   "id": "0fc5d0ee-0e4e-404b-8b3d-b0fac2813e04",
   "metadata": {},
   "outputs": [
    {
     "name": "stdout",
     "output_type": "stream",
     "text": [
      "h\n",
      "e\n",
      "l\n",
      "l\n"
     ]
    }
   ],
   "source": [
    "def prnt(st):\n",
    "    for i in range(len(st)-1):\n",
    "        print(st[i])\n",
    "        \n",
    "        \n",
    "prnt(\"hello\")"
   ]
  },
  {
   "cell_type": "markdown",
   "id": "ab6ccc81-127f-48a0-835a-1d7ce453391e",
   "metadata": {},
   "source": [
    "#### **3. String Methods**\n",
    "Convert a given string to:\n",
    "- Uppercase\n",
    "- Lowercase\n",
    "- Title case (first letter capitalized)\n",
    "\n"
   ]
  },
  {
   "cell_type": "code",
   "execution_count": 6,
   "id": "e70a2b7a-da13-447f-9419-87cf3520d3e0",
   "metadata": {},
   "outputs": [
    {
     "name": "stdout",
     "output_type": "stream",
     "text": [
      "HAKEHDY\n",
      "HAKEHDY\n"
     ]
    }
   ],
   "source": [
    "# Using a method\n",
    "\n",
    "def upperC(string):\n",
    "    string = string.upper()\n",
    "    return string\n",
    "\n",
    "# Using a method\n",
    "\n",
    "def upperC(string):\n",
    "    string = string.upper()\n",
    "    return string\n",
    "\n",
    "print(upperC(string))\n",
    "\n",
    "print(upperC(string))"
   ]
  },
  {
   "cell_type": "code",
   "execution_count": 26,
   "id": "a4804692-59ef-4742-9b5a-0b04751c34d4",
   "metadata": {},
   "outputs": [
    {
     "name": "stdout",
     "output_type": "stream",
     "text": [
      "HELLO\n"
     ]
    }
   ],
   "source": [
    "# Lexicographic with numbers\n",
    "def up(string):\n",
    "    new = \"\"\n",
    "    for i in string:\n",
    "        if 97< ord(i) <122 or 64 < ord(i) < 91:\n",
    "            if 97 <= ord(i) <= 122:\n",
    "                new += chr(ord(i)-32)\n",
    "            else:\n",
    "                new += i\n",
    "        else:\n",
    "            return (\"Special letters are present\")\n",
    "    return new\n",
    "\n",
    "print(up(\"hElLo\"))"
   ]
  },
  {
   "cell_type": "code",
   "execution_count": null,
   "id": "da4895e2-8d42-4c19-bd1d-e9eafaa255d7",
   "metadata": {},
   "outputs": [],
   "source": []
  },
  {
   "cell_type": "code",
   "execution_count": 15,
   "id": "88134651-603b-4626-a022-b6b56bc01b4c",
   "metadata": {},
   "outputs": [
    {
     "name": "stdout",
     "output_type": "stream",
     "text": [
      "HELLO\n"
     ]
    }
   ],
   "source": [
    "# Lexicographic with alphabets\n",
    "def up(string):\n",
    "    new = \"\"\n",
    "    for i in string:\n",
    "        if \"a\" <= i <= \"z\":\n",
    "            new += chr(ord(i)-32)\n",
    "        else:\n",
    "            new += i\n",
    "    return new\n",
    "\n",
    "print(up(\"hEllo\"))"
   ]
  },
  {
   "cell_type": "code",
   "execution_count": 8,
   "id": "d1915479-6fa9-4a47-921c-ec538886f2bb",
   "metadata": {},
   "outputs": [
    {
     "name": "stdout",
     "output_type": "stream",
     "text": [
      "hello\n"
     ]
    }
   ],
   "source": [
    "# Lexicographic lower with numbers\n",
    "def low(string):\n",
    "    new = \"\"\n",
    "    for i in string:\n",
    "        if 65 <= ord(i) <= 91:\n",
    "            new += chr(ord(i)+32)\n",
    "        else:\n",
    "            new += i\n",
    "    return new\n",
    "\n",
    "print(low(\"heLLo\"))"
   ]
  },
  {
   "cell_type": "code",
   "execution_count": 17,
   "id": "e92a35e4-4433-4f8e-8b78-5b9caf2dfd3e",
   "metadata": {},
   "outputs": [
    {
     "name": "stdout",
     "output_type": "stream",
     "text": [
      "hello\n"
     ]
    }
   ],
   "source": [
    "# Lexicographic lower with alpha\n",
    "def low(string):\n",
    "    new = \"\"\n",
    "    for i in string:\n",
    "        if \"A\" <= i <= \"Z\":\n",
    "            new += chr(ord(i)+32)\n",
    "        else:\n",
    "            new += i\n",
    "    return new\n",
    "\n",
    "print(low(\"heLLo\"))"
   ]
  },
  {
   "cell_type": "code",
   "execution_count": 18,
   "id": "ff3c21c3-b514-4189-9c48-ec48fe6c0235",
   "metadata": {},
   "outputs": [
    {
     "name": "stdout",
     "output_type": "stream",
     "text": [
      "He\n"
     ]
    }
   ],
   "source": [
    "# Title case\n",
    "def titl(string):\n",
    "    new = \"\"\n",
    "    for i in range(len(string)):\n",
    "        if i == 0:\n",
    "            if 97 <= ord(string[i]) <= 122:\n",
    "                new += chr(ord(string[i])-32)\n",
    "            else:\n",
    "                new += string[i]\n",
    "        else:\n",
    "            new += string[i]\n",
    "    return new\n",
    "\n",
    "print(titl(\"he\"))"
   ]
  },
  {
   "cell_type": "markdown",
   "id": "3dc1e243-7f52-40fb-96b6-3283ddf058bb",
   "metadata": {},
   "source": [
    "#### **4. Find and Replace**\n",
    "- Replace all occurrences of the word **\"apple\"** with **\"orange\"** in a given string.\n",
    "\n",
    "---\n",
    "\n"
   ]
  },
  {
   "cell_type": "code",
   "execution_count": null,
   "id": "cce5d9ee-8a6a-4dbb-b3eb-fedeb7bda15a",
   "metadata": {},
   "outputs": [],
   "source": [
    "def rep():\n",
    "    "
   ]
  },
  {
   "cell_type": "code",
   "execution_count": null,
   "id": "e2a0ab40-c332-443e-ab81-a2b56a7109e9",
   "metadata": {},
   "outputs": [],
   "source": []
  },
  {
   "cell_type": "markdown",
   "id": "3da31e35-af5b-44cb-a0dd-171d6b2456f1",
   "metadata": {},
   "source": [
    "### **Intermediate Level: Loops with Strings**\n",
    "\n",
    "#### **5. Iterate Over a String**\n",
    "Write a program that prints each character of a string on a new line.\n",
    "\n"
   ]
  },
  {
   "cell_type": "code",
   "execution_count": null,
   "id": "809e9905-b095-4241-baa9-8d2044d5050c",
   "metadata": {},
   "outputs": [],
   "source": []
  },
  {
   "cell_type": "code",
   "execution_count": null,
   "id": "bfa79428-c7b6-470a-a763-1f6b35ee2497",
   "metadata": {},
   "outputs": [],
   "source": []
  },
  {
   "cell_type": "markdown",
   "id": "1e0cbb7b-e65f-49d5-a087-a404b6c65274",
   "metadata": {},
   "source": [
    "#### **6. Count Vowels in a String**\n",
    "Write a function that counts the number of vowels (`a, e, i, o, u`) in a string.\n",
    "\n"
   ]
  },
  {
   "cell_type": "code",
   "execution_count": null,
   "id": "5f1d3221-41d6-4cb1-a819-9827fdb11425",
   "metadata": {},
   "outputs": [],
   "source": []
  },
  {
   "cell_type": "code",
   "execution_count": null,
   "id": "f75cd625-bd0e-42ed-97c6-f2edaf2f1bb0",
   "metadata": {},
   "outputs": [],
   "source": []
  },
  {
   "cell_type": "markdown",
   "id": "9c3e557b-89a2-443f-bd2d-98572dd2bf71",
   "metadata": {},
   "source": [
    "#### **7. Reverse a String Using a Loop**\n",
    "Write a program to reverse a string manually using a loop.\n",
    "\n"
   ]
  },
  {
   "cell_type": "code",
   "execution_count": null,
   "id": "aac56d6e-45c3-410e-886a-ec73f867b0ec",
   "metadata": {},
   "outputs": [],
   "source": []
  },
  {
   "cell_type": "code",
   "execution_count": null,
   "id": "6e15d942-0e9a-4c58-9aeb-7cf0c57e18c3",
   "metadata": {},
   "outputs": [],
   "source": []
  },
  {
   "cell_type": "markdown",
   "id": "e027b969-5251-4a14-81ba-fc216eb15998",
   "metadata": {},
   "source": [
    "#### **8. Check if a String is a Palindrome**\n",
    "Write a function to check if a given string is a palindrome (same forward and backward).\n",
    "\n"
   ]
  },
  {
   "cell_type": "code",
   "execution_count": null,
   "id": "886f438b-f4e3-41e6-b963-722a62933e9e",
   "metadata": {},
   "outputs": [],
   "source": []
  },
  {
   "cell_type": "code",
   "execution_count": null,
   "id": "57e2896c-1ff0-4358-9af1-0ba9af3dee5c",
   "metadata": {},
   "outputs": [],
   "source": []
  },
  {
   "cell_type": "markdown",
   "id": "b5a9d0b9-a5c4-4f3e-96b3-5c7b20e81a91",
   "metadata": {},
   "source": [
    "#### **9. Find the Longest Word in a Sentence**\n",
    "Write a function that takes a sentence as input and returns the longest word.\n",
    "\n",
    "---\n",
    "\n"
   ]
  },
  {
   "cell_type": "code",
   "execution_count": null,
   "id": "b0df46ce-862e-4d88-acb9-764c0842f6cd",
   "metadata": {},
   "outputs": [],
   "source": []
  },
  {
   "cell_type": "code",
   "execution_count": null,
   "id": "f01af1df-62df-43f1-89a2-52a22c071adf",
   "metadata": {},
   "outputs": [],
   "source": []
  },
  {
   "cell_type": "markdown",
   "id": "7d5a4378-e759-46e1-8037-22e49ebe17c4",
   "metadata": {},
   "source": [
    "### **Advanced Level: Control Flow with Strings**\n",
    "\n",
    "#### **10. Word Frequency Counter**\n",
    "Count the occurrences of each word in a sentence and store the result in a dictionary.\n",
    "\n"
   ]
  },
  {
   "cell_type": "code",
   "execution_count": null,
   "id": "b57ee6e4-f417-453a-bb4f-1bee971fe562",
   "metadata": {},
   "outputs": [],
   "source": []
  },
  {
   "cell_type": "code",
   "execution_count": null,
   "id": "f55ce321-ddfe-4536-9774-d9614127f7a9",
   "metadata": {},
   "outputs": [],
   "source": []
  },
  {
   "cell_type": "markdown",
   "id": "be977326-2a7a-4480-980f-be4910d6eefd",
   "metadata": {},
   "source": [
    "#### **11. Extract Digits from a String**\n",
    "Write a function that extracts only the digits from a given string.\n",
    "\n"
   ]
  },
  {
   "cell_type": "code",
   "execution_count": null,
   "id": "9f00ae53-3fcc-4d7c-a985-0b8f2b43075f",
   "metadata": {},
   "outputs": [],
   "source": []
  },
  {
   "cell_type": "code",
   "execution_count": null,
   "id": "18baadc7-e2da-40e3-8db5-02782e0027e6",
   "metadata": {},
   "outputs": [],
   "source": []
  },
  {
   "cell_type": "markdown",
   "id": "80759d50-e88c-4d39-aa77-564878676c34",
   "metadata": {},
   "source": [
    "#### **12. Remove Special Characters from a String**\n",
    "Write a function that removes special characters (e.g., `@, !, #, $, %`) from a string.\n",
    "\n"
   ]
  },
  {
   "cell_type": "code",
   "execution_count": null,
   "id": "0ae4ed78-c5c2-4163-8869-5966180bc815",
   "metadata": {},
   "outputs": [],
   "source": []
  },
  {
   "cell_type": "code",
   "execution_count": null,
   "id": "6ca37121-4201-4ec9-9a0a-d45fe176d925",
   "metadata": {},
   "outputs": [],
   "source": []
  },
  {
   "cell_type": "markdown",
   "id": "c16b7933-6c8a-4934-8637-ade96f67228b",
   "metadata": {},
   "source": [
    "#### **13. Check for Anagrams**\n",
    "Write a function that checks if two strings are anagrams (contain the same characters in a different order).\n",
    "\n"
   ]
  },
  {
   "cell_type": "code",
   "execution_count": null,
   "id": "46271978-63d7-447f-af74-28f815975157",
   "metadata": {},
   "outputs": [],
   "source": []
  },
  {
   "cell_type": "code",
   "execution_count": null,
   "id": "f4eefcb0-fddb-4774-bffc-57b25dec0cfb",
   "metadata": {},
   "outputs": [],
   "source": []
  },
  {
   "cell_type": "markdown",
   "id": "dd81540f-8428-4536-8bfc-8f4d75b87d9a",
   "metadata": {},
   "source": [
    "#### **14. Capitalize Every Alternate Letter in a String**\n",
    "Write a function that capitalizes every alternate letter in a given string.\n",
    "\n"
   ]
  },
  {
   "cell_type": "code",
   "execution_count": null,
   "id": "5a4fbeee-b134-44ff-83a0-d8f278ef3728",
   "metadata": {},
   "outputs": [],
   "source": []
  },
  {
   "cell_type": "code",
   "execution_count": null,
   "id": "bce6a14e-47eb-4ce6-8358-781776dfa21c",
   "metadata": {},
   "outputs": [],
   "source": []
  },
  {
   "cell_type": "markdown",
   "id": "fedbd768-be88-4aed-958a-5e173bd7b222",
   "metadata": {},
   "source": [
    "#### **15. Find the Most Common Character in a String**\n",
    "Write a function that finds and returns the most frequently occurring character in a string.\n",
    "\n",
    "---\n"
   ]
  },
  {
   "cell_type": "code",
   "execution_count": null,
   "id": "5c266ca6-13d5-4495-9639-8cb4cb7469e3",
   "metadata": {},
   "outputs": [],
   "source": []
  },
  {
   "cell_type": "code",
   "execution_count": null,
   "id": "39f1d5ff-4b2b-41dc-b9d3-bb9f5d340dac",
   "metadata": {},
   "outputs": [],
   "source": []
  },
  {
   "cell_type": "markdown",
   "id": "d905baff-213c-4f27-b213-5ba2ff43ea5d",
   "metadata": {},
   "source": [
    "#### **16. Slicing**\n",
    "\n",
    "Copy the provided `text` to the returned variable `new_string` after replacing each vowel with a dash (`-`) using an `if-else` statement with a **single condition**, that consists of a single `in` operator."
   ]
  },
  {
   "cell_type": "code",
   "execution_count": null,
   "id": "3f205c14-be41-4d81-84bd-42a82dd9f7ac",
   "metadata": {},
   "outputs": [],
   "source": []
  },
  {
   "cell_type": "code",
   "execution_count": null,
   "id": "7904e82a-81b9-446d-a7f3-ed3325b50e06",
   "metadata": {},
   "outputs": [],
   "source": []
  },
  {
   "cell_type": "code",
   "execution_count": null,
   "id": "74ee349a-c5f3-409b-adc8-435e0dab4d06",
   "metadata": {},
   "outputs": [],
   "source": []
  },
  {
   "cell_type": "markdown",
   "id": "535fad55-9357-496e-838f-ab9786706006",
   "metadata": {
    "editable": false,
    "nbgrader": {
     "cell_type": "markdown",
     "checksum": "9673359790ed8e142a836c89b394a3cc",
     "grade": false,
     "grade_id": "cell-f30bfecbbd5ec293",
     "locked": true,
     "schema_version": 3,
     "solution": false,
     "task": false
    }
   },
   "source": [
    "## Task (2P.)\n",
    "\n",
    "Copy the provided `text` to the returned variable `new_string` after replacing each vowel with a dash (`-`) using an `if-else` statement with a **single condition**, that consists of a single `in` operator."
   ]
  },
  {
   "cell_type": "code",
   "execution_count": 10,
   "id": "86a3256e-1df4-46f4-9f68-06e650b97158",
   "metadata": {
    "nbgrader": {
     "cell_type": "code",
     "checksum": "db6f78ca8957d2474799afe343be2b79",
     "grade": false,
     "grade_id": "cell-38241276a7919b5a",
     "locked": false,
     "schema_version": 3,
     "solution": true,
     "task": false
    }
   },
   "outputs": [
    {
     "ename": "SyntaxError",
     "evalue": "incomplete input (1950637308.py, line 4)",
     "output_type": "error",
     "traceback": [
      "  \u001b[36mCell\u001b[39m\u001b[36m \u001b[39m\u001b[32mIn[10]\u001b[39m\u001b[32m, line 4\u001b[39m\n\u001b[31m    \u001b[39m\n    ^\n\u001b[31mSyntaxError\u001b[39m\u001b[31m:\u001b[39m incomplete input\n"
     ]
    }
   ],
   "source": [
    "def vowels(text):\n",
    "  \n",
    "\n",
    "    "
   ]
  },
  {
   "cell_type": "code",
   "execution_count": null,
   "id": "7d5e9211-09ee-46de-aae9-1c7305ac1895",
   "metadata": {
    "editable": false,
    "nbgrader": {
     "cell_type": "code",
     "checksum": "5f4409c6a0b2dfd4fb48adbb0f8c3534",
     "grade": true,
     "grade_id": "cell-f2db875188f9b58e",
     "locked": true,
     "points": 2,
     "schema_version": 3,
     "solution": false,
     "task": false
    }
   },
   "outputs": [],
   "source": [
    "# This tests your implementation:\n",
    "from hashlib import sha1\n",
    "assert str(type(vowels(\"Hello World\"))) == \"\"\"<class 'str'>\"\"\", \"\"\"type of vowels(\\\"Hello World\\\") is not str. vowels(\\\"Hello World\\\") should be an str\"\"\"\n",
    "assert str(len(vowels(\"Hello World\"))) == \"\"\"11\"\"\", \"\"\"length of vowels(\\\"Hello World\\\") is not correct\"\"\"\n",
    "assert str(vowels(\"Hello World\").lower()) == \"\"\"h-ll- w-rld\"\"\", \"\"\"value of vowels(\\\"Hello World\\\") is not correct\"\"\"\n",
    "assert str(vowels(\"Hello World\")) == \"\"\"H-ll- W-rld\"\"\", \"\"\"correct string value of vowels(\\\"Hello World\\\") but incorrect case of letters\"\"\"\n",
    "\n",
    "print('Success!')"
   ]
  },
  {
   "cell_type": "markdown",
   "id": "bb75b51d-9597-42fa-9574-d0ba0e44d3cc",
   "metadata": {
    "editable": false,
    "nbgrader": {
     "cell_type": "markdown",
     "checksum": "3cabcd79257c8b39750520ba6526b935",
     "grade": false,
     "grade_id": "cell-2c9974a6a2115184",
     "locked": true,
     "schema_version": 3,
     "solution": false,
     "task": false
    }
   },
   "source": [
    "## Task (2P.)\n",
    "\n",
    "Copy the provided `text` to the returned variable `new_string` after replacing each **letter appearing in the given string** `replace` with a dash. Note: you should replace the text given in the variable `text`, *not* the text in `replace`.\n",
    "\n",
    "\n",
    "*Warning:* Your program should work **regardless** which letters are given in the `replace` string, and even if no letters are provided at all (when `replace` is the empty string)."
   ]
  },
  {
   "cell_type": "code",
   "execution_count": null,
   "id": "1a794463-78c7-4bfc-99e7-041939a224a8",
   "metadata": {
    "nbgrader": {
     "cell_type": "code",
     "checksum": "7dcfd231c3a5b970ecf1dd571397abbb",
     "grade": false,
     "grade_id": "cell-dba35b06c5e38d24",
     "locked": false,
     "schema_version": 3,
     "solution": true,
     "task": false
    }
   },
   "outputs": [],
   "source": [
    "def general_replace(text, replace):\n",
    "   "
   ]
  },
  {
   "cell_type": "code",
   "execution_count": null,
   "id": "4672830e-4c5b-42de-bf9f-5d8e40337a83",
   "metadata": {
    "editable": false,
    "nbgrader": {
     "cell_type": "code",
     "checksum": "c3636f1b553c9dd1f103b1775060a472",
     "grade": true,
     "grade_id": "cell-ea7b28540a173711",
     "locked": true,
     "points": 2,
     "schema_version": 3,
     "solution": false,
     "task": false
    }
   },
   "outputs": [],
   "source": [
    "# This tests your implementation:\n",
    "from hashlib import sha1\n",
    "assert str(type(general_replace(\"Hello World\", \"aeiou\"))) == \"\"\"<class 'str'>\"\"\", \"\"\"type of general_replace(\\\"Hello World\\\", \\\"aeiou\\\") is not str. general_replace(\\\"Hello World\\\", \\\"aeiou\\\") should be an str\"\"\"\n",
    "assert str(len(general_replace(\"Hello World\", \"aeiou\"))) == \"\"\"11\"\"\", \"\"\"length of general_replace(\\\"Hello World\\\", \\\"aeiou\\\") is not correct\"\"\"\n",
    "assert str(general_replace(\"Hello World\", \"aeiou\").lower()) == \"\"\"h-ll- w-rld\"\"\", \"\"\"value of general_replace(\\\"Hello World\\\", \\\"aeiou\\\") is not correct\"\"\"\n",
    "assert str(general_replace(\"Hello World\", \"aeiou\")) == \"\"\"H-ll- W-rld\"\"\", \"\"\"correct string value of general_replace(\\\"Hello World\\\", \\\"aeiou\\\") but incorrect case of letters\"\"\"\n",
    "\n",
    "print('Success!')"
   ]
  },
  {
   "cell_type": "markdown",
   "id": "40417168-5947-4122-aec7-51312e46b29d",
   "metadata": {
    "editable": false,
    "nbgrader": {
     "cell_type": "markdown",
     "checksum": "536c3c67dd8bc5ef02d6fc29c64bfa26",
     "grade": false,
     "grade_id": "cell-4d23e71f95dea791",
     "locked": true,
     "schema_version": 3,
     "solution": false,
     "task": false
    }
   },
   "source": [
    "## Task (1P.)\n",
    "\n",
    "For the given string `text` return a string that consists of `n`-times the original string, for example for \"a\" and 5 you should return \"aaaaa\"."
   ]
  },
  {
   "cell_type": "code",
   "execution_count": null,
   "id": "55391e87-800f-4269-8ecb-71f8b93a5c04",
   "metadata": {
    "nbgrader": {
     "cell_type": "code",
     "checksum": "caab6baa67643de7a723831538f9738c",
     "grade": false,
     "grade_id": "cell-27137fae67d5c4b5",
     "locked": false,
     "schema_version": 3,
     "solution": true,
     "task": false
    }
   },
   "outputs": [],
   "source": [
    "def repeat(text, n):\n",
    "    "
   ]
  },
  {
   "cell_type": "code",
   "execution_count": null,
   "id": "55834639-d85d-4315-9d60-034a14ecb268",
   "metadata": {
    "editable": false,
    "nbgrader": {
     "cell_type": "code",
     "checksum": "274e0139fac1ade5b3959c9433ee48df",
     "grade": true,
     "grade_id": "cell-8defb15d0b45d3f9",
     "locked": true,
     "points": 1,
     "schema_version": 3,
     "solution": false,
     "task": false
    }
   },
   "outputs": [],
   "source": [
    "# This tests your implementation:\n",
    "from hashlib import sha1\n",
    "assert str(type(repeat(\"a\", 5))) == \"\"\"<class 'str'>\"\"\", \"\"\"type of repeat(\\\"a\\\", 5) is not str. repeat(\\\"a\\\", 5) should be an str\"\"\"\n",
    "assert str(len(repeat(\"a\", 5))) == \"\"\"5\"\"\", \"\"\"length of repeat(\\\"a\\\", 5) is not correct\"\"\"\n",
    "assert str(repeat(\"a\", 5).lower()) == \"\"\"aaaaa\"\"\", \"\"\"value of repeat(\\\"a\\\", 5) is not correct\"\"\"\n",
    "assert str(repeat(\"a\", 5)) == \"\"\"aaaaa\"\"\", \"\"\"correct string value of repeat(\\\"a\\\", 5) but incorrect case of letters\"\"\"\n",
    "\n",
    "print('Success!')"
   ]
  },
  {
   "cell_type": "markdown",
   "id": "e949e021-503c-4fc5-9ea9-1c7f9794e651",
   "metadata": {
    "editable": false,
    "nbgrader": {
     "cell_type": "markdown",
     "checksum": "d021b7cbe371c7497f23a4fa3203732c",
     "grade": false,
     "grade_id": "cell-6de949ee1541a5ad",
     "locked": true,
     "schema_version": 3,
     "solution": false,
     "task": false
    }
   },
   "source": [
    "## Task (2P.)\n",
    "\n",
    "For the given input `text`, check whether the string in `text` is the same as its reverse (the string read backwards). For example, your function should return `True` for \"level\" but not for \"lever\".\n",
    "\n",
    "*Hint: You can use slice notation for the reversing.*"
   ]
  },
  {
   "cell_type": "code",
   "execution_count": null,
   "id": "f66540fe-c79f-44da-974d-25859c780633",
   "metadata": {
    "nbgrader": {
     "cell_type": "code",
     "checksum": "c9b3d49901475af39a1c8d833e90001c",
     "grade": false,
     "grade_id": "cell-d848906595b1a870",
     "locked": false,
     "schema_version": 3,
     "solution": true,
     "task": false
    }
   },
   "outputs": [],
   "source": [
    "def backwards_equality(text):\n",
    "   "
   ]
  },
  {
   "cell_type": "code",
   "execution_count": null,
   "id": "3efa0ef7-a04c-4d5e-8b6b-5468b0a22fe3",
   "metadata": {
    "editable": false,
    "nbgrader": {
     "cell_type": "code",
     "checksum": "67686990c1a5ce1cc8eec2b300b905b5",
     "grade": true,
     "grade_id": "cell-20b294b518a836b2",
     "locked": true,
     "points": 2,
     "schema_version": 3,
     "solution": false,
     "task": false
    }
   },
   "outputs": [],
   "source": [
    "# This tests your implementation:\n",
    "from hashlib import sha1\n",
    "assert str(type(backwards_equality(\"level\"))) == \"\"\"<class 'bool'>\"\"\", \"\"\"type of backwards_equality(\\\"level\\\") is not bool. backwards_equality(\\\"level\\\") should be a bool\"\"\"\n",
    "assert str(backwards_equality(\"level\")) == \"\"\"True\"\"\", \"\"\"boolean value of backwards_equality(\\\"level\\\") is not correct\"\"\"\n",
    "\n",
    "assert str(type(backwards_equality(\"lever\"))) == \"\"\"<class 'bool'>\"\"\", \"\"\"type of backwards_equality(\\\"lever\\\") is not bool. backwards_equality(\\\"lever\\\") should be a bool\"\"\"\n",
    "assert str(backwards_equality(\"lever\")) == \"\"\"False\"\"\", \"\"\"boolean value of backwards_equality(\\\"lever\\\") is not correct\"\"\"\n",
    "\n",
    "print('Success!')"
   ]
  },
  {
   "cell_type": "markdown",
   "id": "f5192e0b-0c38-423a-bdae-8a099dfaa1d3",
   "metadata": {
    "editable": false,
    "nbgrader": {
     "cell_type": "markdown",
     "checksum": "b7e4bf6114b211165217fc7130fd699c",
     "grade": false,
     "grade_id": "cell-5bf8e830776a1064",
     "locked": true,
     "schema_version": 3,
     "solution": false,
     "task": false
    }
   },
   "source": [
    "## Task (2P.)\n",
    "\n",
    "In the return variable `new_string`, return a string where the substring of the given string `s` between the indices `start` and `end` (inclusive) is reversed, while the rest of the string remains unchanged.  \n",
    "\n",
    "**Make sure that your function returns a reasonable result for every input (assume `start` and `end` are valid indices, and `start <= end`).**\n",
    "\n",
    "*Hint: Use string slicing and indexing.*"
   ]
  },
  {
   "cell_type": "code",
   "execution_count": null,
   "id": "b0744982-6422-4027-b7f4-591ca43de14e",
   "metadata": {
    "nbgrader": {
     "cell_type": "code",
     "checksum": "607e7709d1b8ba1d59029057d02636a3",
     "grade": false,
     "grade_id": "cell-70c2a1b68e7165d8",
     "locked": false,
     "schema_version": 3,
     "solution": true,
     "task": false
    }
   },
   "outputs": [],
   "source": [
    "def reverse_substring(s, start, end):\n",
    "   "
   ]
  },
  {
   "cell_type": "code",
   "execution_count": null,
   "id": "3acfa1fd-0754-4bcb-a409-9573f01777e6",
   "metadata": {
    "editable": false,
    "nbgrader": {
     "cell_type": "code",
     "checksum": "9142a5d1328eaa4954c32006501367e8",
     "grade": true,
     "grade_id": "cell-c793f233248fc05c",
     "locked": true,
     "points": 2,
     "schema_version": 3,
     "solution": false,
     "task": false
    }
   },
   "outputs": [],
   "source": [
    "# This tests your implementation:\n",
    "from hashlib import sha1\n",
    "assert str(type(reverse_substring(\"Hello World!\", 3, 6))) == \"\"\"<class 'str'>\"\"\", \"\"\"type of reverse_substring(\\\"Hello World!\\\", 3, 6) is not str. reverse_substring(\\\"Hello World!\\\", 3, 6) should be an str\"\"\"\n",
    "assert str(len(reverse_substring(\"Hello World!\", 3, 6))) == \"\"\"12\"\"\", \"\"\"length of reverse_substring(\\\"Hello World!\\\", 3, 6) is not correct\"\"\"\n",
    "assert str(reverse_substring(\"Hello World!\", 3, 6).lower()) == \"\"\"helw olorld!\"\"\", \"\"\"value of reverse_substring(\\\"Hello World!\\\", 3, 6) is not correct\"\"\"\n",
    "assert str(reverse_substring(\"Hello World!\", 3, 6)) == \"\"\"HelW olorld!\"\"\", \"\"\"correct string value of reverse_substring(\\\"Hello World!\\\", 3, 6) but incorrect case of letters\"\"\"\n",
    "\n",
    "assert str(type(reverse_substring(\"Hi\", 0, 1))) == \"\"\"<class 'str'>\"\"\", \"\"\"type of reverse_substring(\\\"Hi\\\", 0, 1) is not str. reverse_substring(\\\"Hi\\\", 0, 1) should be an str\"\"\"\n",
    "assert str(len(reverse_substring(\"Hi\", 0, 1))) == \"\"\"2\"\"\", \"\"\"length of reverse_substring(\\\"Hi\\\", 0, 1) is not correct\"\"\"\n",
    "assert str(reverse_substring(\"Hi\", 0, 1).lower()) == \"\"\"ih\"\"\", \"\"\"value of reverse_substring(\\\"Hi\\\", 0, 1) is not correct\"\"\"\n",
    "assert str(reverse_substring(\"Hi\", 0, 1)) == \"\"\"iH\"\"\", \"\"\"correct string value of reverse_substring(\\\"Hi\\\", 0, 1) but incorrect case of letters\"\"\"\n",
    "\n",
    "print('Success!')"
   ]
  },
  {
   "cell_type": "markdown",
   "id": "e27362bc-812b-4c52-be93-63538fee1d20",
   "metadata": {
    "editable": false,
    "nbgrader": {
     "cell_type": "markdown",
     "checksum": "bed27fe047c3630798b9b47263018047",
     "grade": false,
     "grade_id": "cell-b548426becd8d222",
     "locked": true,
     "schema_version": 3,
     "solution": false,
     "task": false
    }
   },
   "source": [
    "## Task (2P.)\n",
    "\n",
    "Write a function, that given two strings `text1` and `text2`, checks whether they are equal if case is ignored, so \"hELLO\" should be equal to \"HellO\".\n",
    "\n",
    "*Remember that you are not allowed to use build-in string methods such as `s.isupper()`.*\n",
    "\n",
    "*Hint: Use lexicographic comparison.*\n",
    "\n",
    "*Hint: Remember `break` and `continue`.*"
   ]
  },
  {
   "cell_type": "code",
   "execution_count": null,
   "id": "fdcb54c8-f331-4b85-8ee6-3794a995a205",
   "metadata": {
    "nbgrader": {
     "cell_type": "code",
     "checksum": "9d9bf022b6f8d4db72226a10e1c7be45",
     "grade": false,
     "grade_id": "cell-8a5009af8b821f0f",
     "locked": false,
     "schema_version": 3,
     "solution": true,
     "task": false
    }
   },
   "outputs": [],
   "source": [
    "def equal_without_case(text1, text2):\n",
    "  \n"
   ]
  },
  {
   "cell_type": "code",
   "execution_count": null,
   "id": "d7784797-54ec-48b8-937e-c19de5637ac8",
   "metadata": {
    "editable": false,
    "nbgrader": {
     "cell_type": "code",
     "checksum": "d2d1d0e4822ac588538e89ffd0994fab",
     "grade": true,
     "grade_id": "cell-81dbc76ec9ba6ce1",
     "locked": true,
     "points": 2,
     "schema_version": 3,
     "solution": false,
     "task": false
    }
   },
   "outputs": [],
   "source": [
    "# This tests your implementation:\n",
    "from hashlib import sha1\n",
    "assert str(type(equal_without_case(\"hELLO\", \"HellO\"))) == \"\"\"<class 'bool'>\"\"\", \"\"\"type of equal_without_case(\\\"hELLO\\\", \\\"HellO\\\") is not bool. equal_without_case(\\\"hELLO\\\", \\\"HellO\\\") should be a bool\"\"\"\n",
    "assert str(equal_without_case(\"hELLO\", \"HellO\")) == \"\"\"True\"\"\", \"\"\"boolean value of equal_without_case(\\\"hELLO\\\", \\\"HellO\\\") is not correct\"\"\"\n",
    "\n",
    "assert str(type(equal_without_case(\"hello\", \"HELLO\"))) == \"\"\"<class 'bool'>\"\"\", \"\"\"type of equal_without_case(\\\"hello\\\", \\\"HELLO\\\") is not bool. equal_without_case(\\\"hello\\\", \\\"HELLO\\\") should be a bool\"\"\"\n",
    "assert str(equal_without_case(\"hello\", \"HELLO\")) == \"\"\"True\"\"\", \"\"\"boolean value of equal_without_case(\\\"hello\\\", \\\"HELLO\\\") is not correct\"\"\"\n",
    "\n",
    "print('Success!')"
   ]
  },
  {
   "cell_type": "markdown",
   "id": "80cfae35-dfe6-40be-9b7f-dfec095f82bf",
   "metadata": {
    "editable": false,
    "nbgrader": {
     "cell_type": "markdown",
     "checksum": "8ad24d13fc9fd3a732423e6af3325074",
     "grade": false,
     "grade_id": "cell-95b4e71fa9955892",
     "locked": true,
     "schema_version": 3,
     "solution": false,
     "task": false
    }
   },
   "source": [
    "## Task (2P.)\n",
    "\n",
    "In this task, you are meant to re-create simple [ASCII art](https://en.wikipedia.org/wiki/ASCII_art).  \n",
    "Write a function that returns the following pattern for different given heights:\n",
    "\n",
    "### Example Height = 10\n",
    "\n",
    "```\n",
    "*        *\n",
    " *      *\n",
    "  *    *\n",
    "   *  *\n",
    "++++++++++\n",
    "   *  *\n",
    "  *    *\n",
    " *      *\n",
    "*        *\n",
    "```\n",
    "\n",
    "### Example Height = 7\n",
    "\n",
    "```\n",
    "*     *\n",
    " *   *\n",
    "  * *\n",
    "+++++++\n",
    "  * *\n",
    " *   *\n",
    "*     *\n",
    "```\n",
    "\n",
    "The function should receive the height as an input and return a string containing the pattern.\n",
    "\n",
    "**Hints**:\n",
    "1. To add a new line to a string `s`, use `s += \"\\n\"`. To see the resulting string formatted correctly, you must use `print(s)`; evaluating `s` alone won’t display the line breaks correctly in JupyterHub.\n",
    "2. Treat even and odd heights differently to maintain symmetry, as seen in the examples.\n",
    "3. The lowest height for which the function must produce a meaningful string is `3`."
   ]
  },
  {
   "cell_type": "code",
   "execution_count": null,
   "id": "cf6debca-f53a-4a92-bdfd-f77e59038edb",
   "metadata": {
    "nbgrader": {
     "cell_type": "code",
     "checksum": "1f3d6baa50aef0337f80f5099b788d19",
     "grade": false,
     "grade_id": "cell-2d0414bef2c32926",
     "locked": false,
     "schema_version": 3,
     "solution": true,
     "task": false
    }
   },
   "outputs": [],
   "source": [
    "def generate_pattern(height):\n",
    "    pattern = \"\"\n",
    "# YOUR SOLUTION HERE\n",
    "    return pattern"
   ]
  },
  {
   "cell_type": "code",
   "execution_count": null,
   "id": "1c93e74b-cdda-4083-be94-0bb10b6e546d",
   "metadata": {
    "editable": false,
    "nbgrader": {
     "cell_type": "code",
     "checksum": "dff6922de42c96f221cf63ff90de26a1",
     "grade": true,
     "grade_id": "cell-1a8eb14a86a88b76",
     "locked": true,
     "points": 2,
     "schema_version": 3,
     "solution": false,
     "task": false
    }
   },
   "outputs": [],
   "source": [
    "# This tests your implementation:\n",
    "from hashlib import sha1\n",
    "assert str(type(generate_pattern(10))) == \"\"\"<class 'str'>\"\"\", \"\"\"type of generate_pattern(10) is not str. generate_pattern(10) should be an str\"\"\"\n",
    "assert str(len(generate_pattern(10))) == \"\"\"87\"\"\", \"\"\"length of generate_pattern(10) is not correct\"\"\"\n",
    "assert str(generate_pattern(10).lower()) == \"\"\"*        *\\n *      *\\n  *    *\\n   *  *\\n++++++++++\\n   *  *\\n  *    *\\n *      *\\n*        *\\n\"\"\", \"\"\"value of generate_pattern(10) is not correct\"\"\"\n",
    "assert str(generate_pattern(10)) == \"\"\"*        *\\n *      *\\n  *    *\\n   *  *\\n++++++++++\\n   *  *\\n  *    *\\n *      *\\n*        *\\n\"\"\", \"\"\"correct string value of generate_pattern(10) but incorrect case of letters\"\"\"\n",
    "\n",
    "assert str(type(generate_pattern(6))) == \"\"\"<class 'str'>\"\"\", \"\"\"type of generate_pattern(6) is not str. generate_pattern(6) should be an str\"\"\"\n",
    "assert str(len(generate_pattern(6))) == \"\"\"33\"\"\", \"\"\"length of generate_pattern(6) is not correct\"\"\"\n",
    "assert str(generate_pattern(6).lower()) == \"\"\"*    *\\n *  *\\n++++++\\n *  *\\n*    *\\n\"\"\", \"\"\"value of generate_pattern(6) is not correct\"\"\"\n",
    "assert str(generate_pattern(6)) == \"\"\"*    *\\n *  *\\n++++++\\n *  *\\n*    *\\n\"\"\", \"\"\"correct string value of generate_pattern(6) but incorrect case of letters\"\"\"\n",
    "\n",
    "assert str(type(generate_pattern(3))) == \"\"\"<class 'str'>\"\"\", \"\"\"type of generate_pattern(3) is not str. generate_pattern(3) should be an str\"\"\"\n",
    "assert str(len(generate_pattern(3))) == \"\"\"12\"\"\", \"\"\"length of generate_pattern(3) is not correct\"\"\"\n",
    "assert str(generate_pattern(3).lower()) == \"\"\"* *\\n+++\\n* *\\n\"\"\", \"\"\"value of generate_pattern(3) is not correct\"\"\"\n",
    "assert str(generate_pattern(3)) == \"\"\"* *\\n+++\\n* *\\n\"\"\", \"\"\"correct string value of generate_pattern(3) but incorrect case of letters\"\"\"\n",
    "\n",
    "print('Success!')"
   ]
  }
 ],
 "metadata": {
  "kernelspec": {
   "display_name": "Python 3 (ipykernel)",
   "language": "python",
   "name": "python3"
  },
  "language_info": {
   "codemirror_mode": {
    "name": "ipython",
    "version": 3
   },
   "file_extension": ".py",
   "mimetype": "text/x-python",
   "name": "python",
   "nbconvert_exporter": "python",
   "pygments_lexer": "ipython3",
   "version": "3.12.9"
  }
 },
 "nbformat": 4,
 "nbformat_minor": 5
}
