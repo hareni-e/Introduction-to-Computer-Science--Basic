{
 "cells": [
  {
   "cell_type": "code",
   "execution_count": 1,
   "id": "31051efe-a35d-45d0-81ba-4849869f98c2",
   "metadata": {},
   "outputs": [
    {
     "name": "stdout",
     "output_type": "stream",
     "text": [
      "False\n"
     ]
    }
   ],
   "source": [
    "l = [\"apple\", \"banana\", \"cherry\"]\n",
    "print(l[0] > l[1])"
   ]
  },
  {
   "cell_type": "code",
   "execution_count": 5,
   "id": "801175e9-b0f6-45e0-a1b7-36e333dd90e6",
   "metadata": {},
   "outputs": [
    {
     "name": "stdout",
     "output_type": "stream",
     "text": [
      "True\n"
     ]
    }
   ],
   "source": [
    "l = [\"apple\", \"banana\", \"cherry\"]\n",
    "print(l[0] < l[1])"
   ]
  },
  {
   "cell_type": "code",
   "execution_count": 12,
   "id": "cacebd87-5011-4650-b751-e6db3d303107",
   "metadata": {},
   "outputs": [
    {
     "name": "stdout",
     "output_type": "stream",
     "text": [
      "apple\n",
      "banana\n",
      "cherry\n"
     ]
    }
   ],
   "source": [
    "l = [\"apple\", \"banana\", \"cherry\"]\n",
    "for i in range(len(l)):\n",
    "    print(l[i])"
   ]
  },
  {
   "cell_type": "code",
   "execution_count": 6,
   "id": "6ef20549-05d0-483c-b3b4-2bb51bcba6a8",
   "metadata": {},
   "outputs": [
    {
     "name": "stdout",
     "output_type": "stream",
     "text": [
      "apple\n"
     ]
    }
   ],
   "source": [
    "def slist(l):\n",
    "    lowest = l[0]\n",
    "    for fruit in range(len(l)-1,-1,-1):\n",
    "        if l[fruit] < lowest:\n",
    "            lowest = l[fruit]\n",
    "            l[0] = lowest\n",
    "    return lowest\n",
    "\n",
    "\n",
    "l = [\"apple\", \"banana\", \"cherry\"]\n",
    "print(slist(l))"
   ]
  },
  {
   "cell_type": "code",
   "execution_count": 13,
   "id": "3ec44d2e-dd4c-4308-a9d0-e4de785b06e7",
   "metadata": {},
   "outputs": [
    {
     "name": "stdout",
     "output_type": "stream",
     "text": [
      "['apple', 'cherry', 'apple']\n"
     ]
    }
   ],
   "source": [
    "def slist(l):\n",
    "    for fruit in range(len(l)-1,-1,-1):\n",
    "        lowest = l[0]\n",
    "        if l[fruit] < lowest:\n",
    "            lowest = l[fruit]\n",
    "            l[0] = lowest\n",
    "    return l\n",
    "\n",
    "\n",
    "l = [\"banana\", \"cherry\",\"apple\"]\n",
    "print(slist(l))"
   ]
  }
 ],
 "metadata": {
  "kernelspec": {
   "display_name": "Python 3 (ipykernel)",
   "language": "python",
   "name": "python3"
  },
  "language_info": {
   "codemirror_mode": {
    "name": "ipython",
    "version": 3
   },
   "file_extension": ".py",
   "mimetype": "text/x-python",
   "name": "python",
   "nbconvert_exporter": "python",
   "pygments_lexer": "ipython3",
   "version": "3.12.9"
  }
 },
 "nbformat": 4,
 "nbformat_minor": 5
}
