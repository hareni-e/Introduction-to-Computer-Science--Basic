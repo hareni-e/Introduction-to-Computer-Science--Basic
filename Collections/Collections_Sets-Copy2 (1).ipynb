{
 "cells": [
  {
   "cell_type": "markdown",
   "id": "d92517d7-59d3-4066-9b27-161690b63913",
   "metadata": {},
   "source": [
    "### Exercise 1: Basic Set Operations\n",
    "\n",
    "Create a set with the elements `{10, 20, 30, 40}` and perform the following:\n",
    "\n",
    "1. Add an element `50` to the set.\n",
    "2. Remove `20` from the set.\n",
    "3. Try to remove `60` from the set using `remove()` and handle the exception if it raises a `KeyError`.\n",
    "4. Check if `30` is in the s\n"
   ]
  },
  {
   "cell_type": "code",
   "execution_count": 7,
   "id": "04c9b26d-b5ca-4f32-9d63-38c7f8214740",
   "metadata": {},
   "outputs": [
    {
     "name": "stdout",
     "output_type": "stream",
     "text": [
      "60 not found\n",
      "{40, 10, 50, 30}\n"
     ]
    }
   ],
   "source": [
    "s = {10, 20, 30, 40}\n",
    "s.add(50)\n",
    "s.remove(20)\n",
    "if 60 not in s:\n",
    "    print(60, \"not found\")\n",
    "else:\n",
    "    s.remove(60)\n",
    "print(s)"
   ]
  },
  {
   "cell_type": "code",
   "execution_count": null,
   "id": "6be3a6c4-2978-4b10-8c26-37ec63b19646",
   "metadata": {},
   "outputs": [],
   "source": []
  },
  {
   "cell_type": "markdown",
   "id": "2dc25e78-331b-4f28-8197-57ce830c15c7",
   "metadata": {},
   "source": [
    "### Exercise 2: Set Union, Intersection, and Difference\n",
    "\n",
    "Given two sets:\n",
    "\n",
    "```python\n",
    "set1 = {1, 2, 3, 4, 5}\n",
    "set2 = {4, 5, 6, 7, 8}\n"
   ]
  },
  {
   "cell_type": "markdown",
   "id": "2ea541f8-43a3-4327-b92e-a9f2edee0a68",
   "metadata": {},
   "source": [
    "2. Find the **intersection** of `set1` and `set2`.\n",
    "\n"
   ]
  },
  {
   "cell_type": "code",
   "execution_count": 8,
   "id": "0ec87865-2545-49a4-bdf0-2731860bcccc",
   "metadata": {},
   "outputs": [
    {
     "name": "stdout",
     "output_type": "stream",
     "text": [
      "{1, 2, 3, 4, 5, 6, 7, 8}\n"
     ]
    }
   ],
   "source": [
    "set1 = {1, 2, 3, 4, 5}\n",
    "set2 = {4, 5, 6, 7, 8}\n",
    "\n",
    "print(set1 | set2)  # {1,2,3,4,5,6,7,8}"
   ]
  },
  {
   "cell_type": "markdown",
   "id": "5462fa36-b8f9-448f-930d-3223011be291",
   "metadata": {},
   "source": [
    "3. Find the **difference** of `set1` and `set2` (elements in `set1` but not in `set2`).\n"
   ]
  },
  {
   "cell_type": "code",
   "execution_count": 9,
   "id": "8abec934-c363-47b1-811a-d083a0707d8a",
   "metadata": {},
   "outputs": [
    {
     "name": "stdout",
     "output_type": "stream",
     "text": [
      "{1, 2, 3}\n"
     ]
    }
   ],
   "source": [
    "set1 = {1, 2, 3, 4, 5}\n",
    "set2 = {4, 5, 6, 7, 8}\n",
    "\n",
    "print(set1 - set2)  # {1,2,3}"
   ]
  },
  {
   "cell_type": "markdown",
   "id": "95e6532c-782b-4fac-8d86-e86dcd7b7603",
   "metadata": {},
   "source": [
    "4. Find the **symmetric difference** (elements in either set, but not both).\n"
   ]
  },
  {
   "cell_type": "code",
   "execution_count": 10,
   "id": "beaff464-f8ce-4d20-939d-4afb27057807",
   "metadata": {},
   "outputs": [
    {
     "name": "stdout",
     "output_type": "stream",
     "text": [
      "{1, 2, 3, 6, 7, 8}\n"
     ]
    }
   ],
   "source": [
    "set1 = {1, 2, 3, 4, 5}\n",
    "set2 = {4, 5, 6, 7, 8}\n",
    "\n",
    "print(set1 ^ set2)  # {1,2,3,6,7,8}"
   ]
  },
  {
   "cell_type": "code",
   "execution_count": 12,
   "id": "d592ac8a-ef7f-4e0e-ad0b-9ac3f3975239",
   "metadata": {},
   "outputs": [
    {
     "name": "stdout",
     "output_type": "stream",
     "text": [
      "{1, 2, 3}\n"
     ]
    }
   ],
   "source": [
    "set1 = {1, 2, 3, 4, 5}\n",
    "set2 = {4, 5, 6, 7, 8}\n",
    "\n",
    "print((set1 - set2) or (set2 -set1))  # {1,2,3,6,7,8}"
   ]
  },
  {
   "cell_type": "code",
   "execution_count": 15,
   "id": "f6a8acb1-2c13-4fdf-b607-d9f641ed481b",
   "metadata": {},
   "outputs": [
    {
     "name": "stdout",
     "output_type": "stream",
     "text": [
      "{1, 2, 3, 6, 7, 8}\n"
     ]
    }
   ],
   "source": [
    "set1 = {1, 2, 3, 4, 5}\n",
    "set2 = {4, 5, 6, 7, 8}\n",
    "\n",
    "print((set1 - set2) | (set2 -set1))  # {1,2,3,6,7,8}"
   ]
  },
  {
   "cell_type": "code",
   "execution_count": null,
   "id": "4a6ed5b5-db8c-49ae-a76b-3d25ba1041e5",
   "metadata": {},
   "outputs": [],
   "source": [
    "set1 = {1, 2, 3, 4, 5}\n",
    "set2 = {4, 5, 6, 7, 8}\n",
    "\n",
    "print((set1 - set2) | (set2 -set1)) "
   ]
  },
  {
   "cell_type": "code",
   "execution_count": 20,
   "id": "e75088f3-7ee9-467f-a666-8d78f5348630",
   "metadata": {},
   "outputs": [
    {
     "name": "stdout",
     "output_type": "stream",
     "text": [
      "{4, 5, 6, 7, 8}\n"
     ]
    }
   ],
   "source": [
    "set1 = {1, 2, 3, 4, 5}\n",
    "set2 = {4, 5, 6, 7, 8}\n",
    "\n",
    "print(set1 and set2) "
   ]
  },
  {
   "cell_type": "markdown",
   "id": "54594357-cae3-4f47-9b25-d1bb8cecbb86",
   "metadata": {},
   "source": [
    "### Exercise 3: Set Comprehension\n",
    "\n",
    "1. Create a set of all **even numbers** from `1` to `20` using **set comprehension**.\n"
   ]
  },
  {
   "cell_type": "code",
   "execution_count": 21,
   "id": "7489b9e1-08f5-40fd-bfc2-f4b735cbbedf",
   "metadata": {},
   "outputs": [
    {
     "name": "stdout",
     "output_type": "stream",
     "text": [
      "{2, 4, 6, 8, 10, 12, 14, 16, 18, 20}\n"
     ]
    }
   ],
   "source": [
    "s = set()\n",
    "for i in range(1,21):\n",
    "    if i % 2 == 0:\n",
    "        s |= {i}\n",
    "print(s)"
   ]
  },
  {
   "cell_type": "code",
   "execution_count": 29,
   "id": "849ad6ea-ef40-46a8-96d9-7336949b3c4e",
   "metadata": {},
   "outputs": [
    {
     "name": "stdout",
     "output_type": "stream",
     "text": [
      "{2, 4, 6, 8, 10, 12, 14, 16, 18, 20}\n"
     ]
    }
   ],
   "source": [
    "s = {i for i in range(1,21) if i % 2 == 0}\n",
    "    \n",
    "print(s)"
   ]
  },
  {
   "cell_type": "markdown",
   "id": "df543402-d1cb-4b4a-9704-fca519c3587b",
   "metadata": {},
   "source": [
    "2. Add the number `22` to the set.\n"
   ]
  },
  {
   "cell_type": "code",
   "execution_count": 30,
   "id": "2962ee0a-4273-4490-82cc-990945f6e833",
   "metadata": {},
   "outputs": [],
   "source": [
    "s.add(22)"
   ]
  },
  {
   "cell_type": "markdown",
   "id": "255103f7-f7f2-465b-9eae-418ec6162e4e",
   "metadata": {},
   "source": [
    "3. Remove all numbers divisible by `4` from the set.\n"
   ]
  },
  {
   "cell_type": "code",
   "execution_count": 37,
   "id": "d2a71483-5b58-4cff-b1a7-6532630bcdf6",
   "metadata": {},
   "outputs": [
    {
     "name": "stdout",
     "output_type": "stream",
     "text": [
      "{2, 4, 6, 8, 10, 12, 14, 16, 18, 20}\n",
      "{16, 4, 20, 8, 12}\n",
      "{2, 6, 10, 14, 18}\n"
     ]
    }
   ],
   "source": [
    "s = {i for i in range(1,21) if i % 2 == 0}\n",
    "    \n",
    "print(s)\n",
    "\n",
    "g = set()\n",
    "for x in s:\n",
    "    if x % 4 == 0:\n",
    "        g |= {x}\n",
    "print(g)\n",
    "\n",
    "for y in g:\n",
    "    if y in s:\n",
    "        s.remove(y)\n",
    "print(s)"
   ]
  },
  {
   "cell_type": "code",
   "execution_count": 39,
   "id": "1d11ea6a-2012-4788-9a7f-da8faa2f6f62",
   "metadata": {},
   "outputs": [
    {
     "name": "stdout",
     "output_type": "stream",
     "text": [
      "{2, 4, 6, 8, 10, 12, 14, 16, 18, 20}\n",
      "{4, 8, 12, 16, 20}\n",
      "{2, 6, 10, 14, 18}\n"
     ]
    }
   ],
   "source": [
    "s = {i for i in range(1,21) if i % 2 == 0}\n",
    "    \n",
    "print(s)\n",
    "\n",
    "g = {x for x in s if  x % 4 == 0}\n",
    "print(g)\n",
    "\n",
    "s -=(g)\n",
    "print(s)"
   ]
  },
  {
   "cell_type": "markdown",
   "id": "49394420-84d3-4096-b7e4-d7857b6b60c9",
   "metadata": {},
   "source": [
    "### Exercise 4: Modify a Set (Challenge)\n",
    "\n",
    "You are given a set of student names:\n",
    "\n",
    "```python\n",
    "students = {\"Alice\", \"Bob\", \"Charlie\", \"David\"}\n",
    "\n",
    "````\n",
    "Replace \"Bob\" with \"Eve\".\n",
    "Add the student \"Grace\".\n",
    "Remove \"Charlie\".\n",
    "Check if \"David\" is in the set."
   ]
  },
  {
   "cell_type": "code",
   "execution_count": 57,
   "id": "fd636b7a-40d0-4419-90f3-c5fbe4a99eaf",
   "metadata": {},
   "outputs": [
    {
     "name": "stdout",
     "output_type": "stream",
     "text": [
      "{'Grace', 'Alice', 'David', 'Eve'}\n",
      "True\n"
     ]
    }
   ],
   "source": [
    "students = {\"Alice\", \"Bob\", \"Charlie\", \"David\"}\n",
    "s = list(students)\n",
    "s[0] = \"Eve\"\n",
    "s.append(\"Grace\")\n",
    "s.remove(\"Charlie\")\n",
    "students = set(s)\n",
    "print(students)\n",
    "if \"David\" in students:\n",
    "    print(True)\n",
    "\n"
   ]
  },
  {
   "cell_type": "code",
   "execution_count": null,
   "id": "f9d1a430-6289-4de7-9730-b65be9aa19aa",
   "metadata": {},
   "outputs": [],
   "source": []
  },
  {
   "cell_type": "markdown",
   "id": "a7ad388f-5cc4-4501-92d5-cda799dc747a",
   "metadata": {},
   "source": [
    "### Exercise 5: Set Copying\n",
    "\n",
    "Create a set `A = {1, 2, 3, 4, 5}`.\n",
    "\n",
    "1. Create a copy of set `A` and assign it to `B`.\n",
    "2. Add `6` to set `B`.\n",
    "3. Verify that set `A` is unaffected by the changes made to set `B`.\n"
   ]
  },
  {
   "cell_type": "code",
   "execution_count": 60,
   "id": "38009cbd-bf89-46a0-9f58-bbb98dc6977c",
   "metadata": {},
   "outputs": [
    {
     "name": "stdout",
     "output_type": "stream",
     "text": [
      "{1, 2, 3, 4, 5}\n",
      "{1, 2, 3, 4, 5, 6}\n"
     ]
    }
   ],
   "source": [
    "A = {1, 2, 3, 4, 5}\n",
    "B = A.copy()\n",
    "B.add(6)\n",
    "print(A)\n",
    "print(B)"
   ]
  },
  {
   "cell_type": "code",
   "execution_count": null,
   "id": "6d578567-2f44-45d5-812e-5d89cc2eee6e",
   "metadata": {},
   "outputs": [],
   "source": []
  },
  {
   "cell_type": "markdown",
   "id": "e00ec35f-2ac3-465c-b237-e20904886c00",
   "metadata": {},
   "source": [
    "### Exercise 6: Using `pop()` and `clear()`\n",
    "\n",
    "1. Create a set `numbers = {10, 20, 30, 40, 50}`.\n",
    "2. Use `pop()` to remove an arbitrary element from the set and print the set after removal.\n",
    "3. Use `clear()` to empty the set and print the set after clearing it.\n"
   ]
  },
  {
   "cell_type": "code",
   "execution_count": 66,
   "id": "ff5e224b-ca6c-4561-8a7d-af538177a398",
   "metadata": {},
   "outputs": [
    {
     "name": "stdout",
     "output_type": "stream",
     "text": [
      "{20, 40, 10, 30}\n",
      "set()\n"
     ]
    }
   ],
   "source": [
    "numbers = {10, 20, 30, 40, 50}\n",
    "numbers.pop()\n",
    "print(numbers)\n",
    "numbers.clear()\n",
    "print(numbers)"
   ]
  },
  {
   "cell_type": "code",
   "execution_count": null,
   "id": "0d2da95e-f5db-4fbb-b086-8361a047d2f8",
   "metadata": {},
   "outputs": [],
   "source": []
  },
  {
   "cell_type": "markdown",
   "id": "b87b170c-4ebc-4a8f-862c-a5ef7cc2a8e2",
   "metadata": {},
   "source": [
    "### Bonus Exercise: Set and List Operations\n",
    "\n",
    "1. Create a set of numbers from `1` to `10`.\n",
    "2. Convert the set to a list and change the first element of the list.\n",
    "3. Convert the list back to a set and print the result.\n"
   ]
  },
  {
   "cell_type": "code",
   "execution_count": null,
   "id": "10f6fc5f-82a5-4e25-a590-c6b4f9b551d1",
   "metadata": {},
   "outputs": [],
   "source": []
  }
 ],
 "metadata": {
  "kernelspec": {
   "display_name": "Python 3 (ipykernel)",
   "language": "python",
   "name": "python3"
  },
  "language_info": {
   "codemirror_mode": {
    "name": "ipython",
    "version": 3
   },
   "file_extension": ".py",
   "mimetype": "text/x-python",
   "name": "python",
   "nbconvert_exporter": "python",
   "pygments_lexer": "ipython3",
   "version": "3.12.8"
  }
 },
 "nbformat": 4,
 "nbformat_minor": 5
}
