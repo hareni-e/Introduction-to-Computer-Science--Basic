{
 "cells": [
  {
   "cell_type": "markdown",
   "id": "90a32dbb-9152-4895-8096-3ed64f0fb945",
   "metadata": {},
   "source": [
    "## Basic Level Exercise 1\n",
    "\n",
    "**Question:**  \n",
    "Create a dictionary of 5 student names and their corresponding marks. Print the dictionary.\n",
    "\n",
    "**Example Input and Output:**\n",
    "\n",
    "Input:\n",
    "```python\n",
    "students = {'Alice': 85, 'Bob': 92, 'Charlie': 78, 'David': 88, 'Eva': 95}\n"
   ]
  },
  {
   "cell_type": "code",
   "execution_count": 12,
   "id": "71c22529-ac8e-4dc4-9dfb-b622642f34f4",
   "metadata": {},
   "outputs": [
    {
     "name": "stdout",
     "output_type": "stream",
     "text": [
      "{'Alice': 93}\n"
     ]
    }
   ],
   "source": [
    "def scores(tup):\n",
    "    students = {}\n",
    "    students[tup[0]] = tup[1]\n",
    "    return students\n",
    "\n",
    "\n",
    "\n",
    "print(scores((\"Alice\",93)))    "
   ]
  },
  {
   "cell_type": "code",
   "execution_count": 18,
   "id": "215bd621-2d8f-4a00-bdf9-1adc37b5fc76",
   "metadata": {},
   "outputs": [
    {
     "name": "stdout",
     "output_type": "stream",
     "text": [
      "{'Alice': 93, 'Ben': 92}\n"
     ]
    }
   ],
   "source": [
    "def scores(*tup):\n",
    "    students = {}\n",
    "    for name,grade in tup:\n",
    "        students[name] = grade\n",
    "        \n",
    "    return students\n",
    "\n",
    "print(scores((\"Alice\",93), (\"Ben\",92)))    "
   ]
  },
  {
   "cell_type": "code",
   "execution_count": 32,
   "id": "b7f88780-0798-470e-9433-8719746c1c98",
   "metadata": {},
   "outputs": [
    {
     "name": "stdout",
     "output_type": "stream",
     "text": [
      "{'Alice': 93, 'Ben': 92}\n"
     ]
    }
   ],
   "source": [
    "def scores(tup):\n",
    "    students = {}\n",
    "    for i in range(0, len(tup),2):    \n",
    "        name, grade = tup[i] , tup[i+1]\n",
    "        students[name] = grade\n",
    "    return students\n",
    "\n",
    "print(scores((\"Alice\",93,\"Ben\",92)))    "
   ]
  },
  {
   "cell_type": "markdown",
   "id": "38db3883-c169-435d-8080-6531ed0e0bd0",
   "metadata": {},
   "source": [
    "## Basic Level Exercise 2\n",
    "\n",
    "**Question:**  \n",
    "Write a program to check if a given key exists in a dictionary or not.\n",
    "\n",
    "**Example Input and Output:**\n",
    "\n",
    "Input:\n",
    "```python\n",
    "my_dict = {'name': 'Alice', 'age': 25, 'city': 'New York'}\n",
    "key = 'age'\n"
   ]
  },
  {
   "cell_type": "code",
   "execution_count": 39,
   "id": "031315bb-611b-4877-9192-d695e6f634bb",
   "metadata": {},
   "outputs": [
    {
     "name": "stdout",
     "output_type": "stream",
     "text": [
      "age = 25\n"
     ]
    }
   ],
   "source": [
    "def check(d,key):\n",
    "    if key not in d.keys():\n",
    "        return f\"{key} Not found.\"\n",
    "    else:\n",
    "        return f\"{key} = {d[key]}\"\n",
    "\n",
    "my_dict = {'name': 'Alice', 'age': 25, 'city': 'New York'}\n",
    "key = 'age'\n",
    "print(check(my_dict,key))"
   ]
  },
  {
   "cell_type": "code",
   "execution_count": null,
   "id": "df0c0c7a-b640-4a20-9c40-ab31fc4d864e",
   "metadata": {},
   "outputs": [],
   "source": []
  },
  {
   "cell_type": "markdown",
   "id": "88c80365-2f9d-427d-b3e9-b89c5ce1477e",
   "metadata": {},
   "source": [
    "## Basic Level Exercise 3\n",
    "\n",
    "**Question:**  \n",
    "Write a Python program to iterate over a dictionary and print all keys and values.\n",
    "\n",
    "**Example Input and Output:**\n",
    "\n",
    "Input:\n",
    "```python\n",
    "my_dict = {'name': 'Alice', 'age': 25, 'city': 'New York'}\n"
   ]
  },
  {
   "cell_type": "code",
   "execution_count": 42,
   "id": "dcff2f56-3fc1-47b5-becc-3c2af0733469",
   "metadata": {},
   "outputs": [
    {
     "name": "stdout",
     "output_type": "stream",
     "text": [
      "name: Alice\n"
     ]
    }
   ],
   "source": [
    "def kv(d):\n",
    "    for i in d:\n",
    "        return f\"{i}: {d[i]}\"\n",
    "\n",
    "my_dict = {'name': 'Alice', 'age': 25, 'city': 'New York'}\n",
    "print(kv(my_dict))"
   ]
  },
  {
   "cell_type": "code",
   "execution_count": null,
   "id": "30828356-f6d0-4e09-98f2-35ae4419a7fe",
   "metadata": {},
   "outputs": [],
   "source": [
    "def kv(d):\n",
    "    for i in d:\n",
    "        return f\"{i}: {d[i]}\"\n",
    "\n",
    "my_dict = {'name': 'Alice', 'age': 25, 'city': 'New York'}\n",
    "print(kv(my_dict))"
   ]
  },
  {
   "cell_type": "code",
   "execution_count": 44,
   "id": "1ce12c1d-35f1-4917-b3e6-19d4c109f1c3",
   "metadata": {},
   "outputs": [
    {
     "data": {
      "text/plain": [
       "dict_items([('name', 'Alice'), ('age', 25), ('city', 'New York')])"
      ]
     },
     "execution_count": 44,
     "metadata": {},
     "output_type": "execute_result"
    }
   ],
   "source": [
    "my_dict = {'name': 'Alice', 'age': 25, 'city': 'New York'}\n",
    "my_dict.items()"
   ]
  },
  {
   "cell_type": "markdown",
   "id": "be3556a2-ee07-4648-8e5d-2bf7de6282bd",
   "metadata": {},
   "source": [
    "## Basic Level Exercise 4\n",
    "\n",
    "**Question:**  \n",
    "Write a program to find the sum of all values in a dictionary.\n",
    "\n",
    "**Example Input and Output:**\n",
    "\n",
    "Input:\n",
    "```python\n",
    "my_dict = {'a': 10, 'b': 20, 'c': 30}\n"
   ]
  },
  {
   "cell_type": "code",
   "execution_count": null,
   "id": "037e2f32-12f9-470b-9dfc-bba748b60262",
   "metadata": {},
   "outputs": [],
   "source": [
    "def SUM():\n",
    "    "
   ]
  },
  {
   "cell_type": "code",
   "execution_count": null,
   "id": "a8fa0951-00f6-4eda-95e2-d5e38d03c05c",
   "metadata": {},
   "outputs": [],
   "source": []
  },
  {
   "cell_type": "markdown",
   "id": "d9856a15-448c-4aef-9659-ba727de1c2b4",
   "metadata": {},
   "source": [
    "## Basic Level Exercise 5\n",
    "\n",
    "**Question:**  \n",
    "Write a Python program to remove a key from a dictionary.\n",
    "\n",
    "**Example Input and Output:**\n",
    "\n",
    "Input:\n",
    "```python\n",
    "my_dict = {'name': 'Alice', 'age': 25, 'city': 'New York'}\n",
    "key_to_remove = 'age'\n"
   ]
  },
  {
   "cell_type": "code",
   "execution_count": null,
   "id": "72bddaae-4def-498d-9c12-fc30c096c97f",
   "metadata": {},
   "outputs": [],
   "source": []
  },
  {
   "cell_type": "code",
   "execution_count": null,
   "id": "fcd97d46-ec25-4770-8fa3-a2675efd9c52",
   "metadata": {},
   "outputs": [],
   "source": []
  },
  {
   "cell_type": "markdown",
   "id": "42c1ffea-c6be-4cd4-9ba3-b6250fb854a9",
   "metadata": {},
   "source": [
    "## Intermediate Level Exercise 6\n",
    "\n",
    "**Question:**  \n",
    "Merge two dictionaries and print the resulting dictionary.\n",
    "\n",
    "**Example Input and Output:**\n",
    "\n",
    "Input:\n",
    "```python\n",
    "dict1 = {'a': 1, 'b': 2}\n",
    "dict2 = {'c': 3, 'd': 4}\n"
   ]
  },
  {
   "cell_type": "code",
   "execution_count": null,
   "id": "81dfed30-218e-4ee9-b90f-4e383fbdf8b2",
   "metadata": {},
   "outputs": [],
   "source": []
  },
  {
   "cell_type": "code",
   "execution_count": null,
   "id": "36d7ef4a-4d72-4c9e-8b3f-57585eb02a11",
   "metadata": {},
   "outputs": [],
   "source": []
  },
  {
   "cell_type": "markdown",
   "id": "a5938e9e-c386-461a-9655-4b0b6afd02ca",
   "metadata": {},
   "source": [
    "## Intermediate Level Exercise 7\n",
    "\n",
    "**Question:**  \n",
    "Count the frequency of each character in a given string using a dictionary.\n",
    "\n",
    "**Example Input and Output:**\n",
    "\n",
    "Input:\n",
    "```python\n",
    "input_string = \"hello world\"\n"
   ]
  },
  {
   "cell_type": "code",
   "execution_count": null,
   "id": "65916444-d474-49d1-b8ab-bdc088c48cbf",
   "metadata": {},
   "outputs": [],
   "source": []
  },
  {
   "cell_type": "code",
   "execution_count": null,
   "id": "43954401-8da0-4dc7-9271-fea4079e96da",
   "metadata": {},
   "outputs": [],
   "source": []
  },
  {
   "cell_type": "markdown",
   "id": "be3605b8-3e91-4a4a-91db-1cbdc2aa737a",
   "metadata": {},
   "source": [
    "## Intermediate Level Exercise 8\n",
    "\n",
    "**Question:**  \n",
    "Write a program to create a dictionary from two lists, one containing keys and the other containing values.\n",
    "\n",
    "**Example Input and Output:**\n",
    "\n",
    "Input:\n",
    "```python\n",
    "keys = ['name', 'age', 'city']\n",
    "values = ['Alice', 25, 'New York']\n"
   ]
  },
  {
   "cell_type": "code",
   "execution_count": null,
   "id": "a946724f-d6ea-4bde-8955-32721f17e082",
   "metadata": {},
   "outputs": [],
   "source": []
  },
  {
   "cell_type": "code",
   "execution_count": null,
   "id": "10cb8b9c-22d3-4886-9fa6-5fd482adc457",
   "metadata": {},
   "outputs": [],
   "source": []
  },
  {
   "cell_type": "markdown",
   "id": "f1bec73e-ee63-4728-b67c-1c62cf92bf1f",
   "metadata": {},
   "source": [
    "## Intermediate Level Exercise 9\n",
    "\n",
    "**Question:**  \n",
    "Sort a dictionary by its values in ascending and descending order.\n",
    "\n",
    "**Example Input and Output:**\n",
    "\n",
    "Input:\n",
    "```python\n",
    "my_dict = {'a': 5, 'b': 2, 'c': 8, 'd': 1}\n"
   ]
  },
  {
   "cell_type": "code",
   "execution_count": null,
   "id": "fe546721-455b-480e-ae87-b60bfe1c7db3",
   "metadata": {},
   "outputs": [],
   "source": []
  },
  {
   "cell_type": "code",
   "execution_count": null,
   "id": "68eb9131-41e1-4299-9eac-b9f333fbab97",
   "metadata": {},
   "outputs": [],
   "source": []
  },
  {
   "cell_type": "markdown",
   "id": "bbed65e0-3760-4a00-94f9-90aa147e3584",
   "metadata": {},
   "source": [
    "## Intermediate Level Exercise 10\n",
    "\n",
    "**Question:**  \n",
    "Write a Python program to invert a dictionary (swap keys and values).\n",
    "\n",
    "**Example Input and Output:**\n",
    "\n",
    "Input:\n",
    "```python\n",
    "my_dict = {'a': 1, 'b': 2, 'c': 3}\n"
   ]
  },
  {
   "cell_type": "code",
   "execution_count": null,
   "id": "fcbec816-a7fb-4dac-8fa7-af9901b9147f",
   "metadata": {},
   "outputs": [],
   "source": []
  },
  {
   "cell_type": "code",
   "execution_count": null,
   "id": "9ff7e031-cd82-4110-b298-7772ae0d980b",
   "metadata": {},
   "outputs": [],
   "source": []
  },
  {
   "cell_type": "markdown",
   "id": "f81a95f9-4fbd-4db2-b7cb-31e39d2e4e3a",
   "metadata": {},
   "source": [
    "## Advanced Level Exercise 11\n",
    "\n",
    "**Question:**  \n",
    "Write a function that takes a dictionary as input and returns a new dictionary with only the key-value pairs where the values are even numbers.\n",
    "\n",
    "**Example Input and Output:**\n",
    "\n",
    "Input:\n",
    "```python\n",
    "my_dict = {'a': 1, 'b': 2, 'c': 3, 'd': 4}\n"
   ]
  },
  {
   "cell_type": "code",
   "execution_count": null,
   "id": "72047708-54dc-4cc1-8b03-6627a3dfcd3b",
   "metadata": {},
   "outputs": [],
   "source": []
  },
  {
   "cell_type": "code",
   "execution_count": null,
   "id": "647b72d2-57bf-4ef0-aac4-91b8b978f7fe",
   "metadata": {},
   "outputs": [],
   "source": []
  },
  {
   "cell_type": "markdown",
   "id": "b5bd8918-24e3-45b1-b588-ebd7c6b45f69",
   "metadata": {},
   "source": [
    "## Advanced Level Exercise 12\n",
    "\n",
    "**Question:**  \n",
    "Given a list of dictionaries where each dictionary represents a person with keys like ‘name’ and ‘age’, write a program to sort the list based on age.\n",
    "\n",
    "**Example Input and Output:**\n",
    "\n",
    "Input:\n",
    "```python\n",
    "people = [\n",
    "    {'name': 'Alice', 'age': 30},\n",
    "    {'name': 'Bob', 'age': 25},\n",
    "    {'name': '\n"
   ]
  },
  {
   "cell_type": "code",
   "execution_count": null,
   "id": "a8347298-f82c-4fa0-bbf0-0ce4e2bbc835",
   "metadata": {},
   "outputs": [],
   "source": []
  },
  {
   "cell_type": "code",
   "execution_count": null,
   "id": "d033ade8-2913-421f-b28a-770ddd1e7de9",
   "metadata": {},
   "outputs": [],
   "source": []
  },
  {
   "cell_type": "markdown",
   "id": "94bbe277-f027-4121-a3af-8be0d878f47b",
   "metadata": {},
   "source": [
    "## Advanced Level Exercise 13\n",
    "\n",
    "**Question:**  \n",
    "Implement a caching system using a dictionary where frequently accessed results are stored and retrieved to optimize performance.\n",
    "\n",
    "**Example Input and Output:**\n",
    "\n",
    "Input:\n",
    "```python\n",
    "cache = {}\n",
    "\n",
    "def fetch_data(key):\n",
    "    if key in cache:\n",
    "        return cache[key]\n",
    "    else:\n",
    "        result = \"Data for {}\".format(key)  # Simulate data fetching\n",
    "        c\n"
   ]
  },
  {
   "cell_type": "code",
   "execution_count": null,
   "id": "6e2820d3-2a25-443f-ad6f-82fe4299359d",
   "metadata": {},
   "outputs": [],
   "source": []
  },
  {
   "cell_type": "code",
   "execution_count": null,
   "id": "616f6748-a589-4bac-ba8a-1ab9f0a1f106",
   "metadata": {},
   "outputs": [],
   "source": []
  },
  {
   "cell_type": "markdown",
   "id": "ff35c2ad-15b4-44a3-bb38-2d4a31d5253c",
   "metadata": {},
   "source": [
    "## Advanced Level Exercise 14\n",
    "\n",
    "**Question:**  \n",
    "Write a Python function that groups anagrams together from a list of words using a dictionary.\n",
    "\n",
    "**Example Input and Output:**\n",
    "\n",
    "Input:\n",
    "```python\n",
    "words = ['eat', 'tea', 'tan', 'ate', 'nat', 'bat']\n"
   ]
  },
  {
   "cell_type": "code",
   "execution_count": null,
   "id": "128efb0b-ecea-4ce8-b498-89233c5791da",
   "metadata": {},
   "outputs": [],
   "source": []
  },
  {
   "cell_type": "code",
   "execution_count": null,
   "id": "4e45de69-221d-4dc7-a9bf-21258bff83eb",
   "metadata": {},
   "outputs": [],
   "source": []
  },
  {
   "cell_type": "code",
   "execution_count": null,
   "id": "feb29bf6-6ad8-40e6-af68-a7ce54752319",
   "metadata": {},
   "outputs": [],
   "source": []
  }
 ],
 "metadata": {
  "kernelspec": {
   "display_name": "Python 3 (ipykernel)",
   "language": "python",
   "name": "python3"
  },
  "language_info": {
   "codemirror_mode": {
    "name": "ipython",
    "version": 3
   },
   "file_extension": ".py",
   "mimetype": "text/x-python",
   "name": "python",
   "nbconvert_exporter": "python",
   "pygments_lexer": "ipython3",
   "version": "3.12.9"
  }
 },
 "nbformat": 4,
 "nbformat_minor": 5
}
