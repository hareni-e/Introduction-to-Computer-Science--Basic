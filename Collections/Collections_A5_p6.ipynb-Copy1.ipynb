{
 "cells": [
  {
   "cell_type": "markdown",
   "id": "989e6ba5",
   "metadata": {},
   "source": [
    "Before you turn this problem in, make sure everything runs as expected. First, **restart the kernel** (in the menubar, select Kernel $\\rightarrow$ Restart) and then **run all cells** (in the menubar, select Cell $\\rightarrow$ Run All).\n",
    "\n",
    "Make sure you fill in any place that says `YOUR CODE HERE` or \"YOUR ANSWER HERE\", as well as your name and collaborators below:"
   ]
  },
  {
   "cell_type": "code",
   "execution_count": null,
   "id": "31baf59c",
   "metadata": {},
   "outputs": [],
   "source": [
    "NAME = \"\"\n",
    "COLLABORATORS = \"\""
   ]
  },
  {
   "cell_type": "markdown",
   "id": "974a5c64",
   "metadata": {},
   "source": [
    "---"
   ]
  },
  {
   "cell_type": "markdown",
   "id": "b2d19d2a-37a4-4a13-b294-939b2f9cabb6",
   "metadata": {
    "deletable": false,
    "editable": false,
    "nbgrader": {
     "cell_type": "markdown",
     "checksum": "9bb6d25f6f3658432bf1316fac2bdc60",
     "grade": false,
     "grade_id": "cell-52efc350d1f69117",
     "locked": true,
     "schema_version": 3,
     "solution": false,
     "task": false
    }
   },
   "source": [
    "# Collection Algorithms Advanced\n",
    "\n",
    "In this part your are going to work with advanced concepts on collections."
   ]
  },
  {
   "cell_type": "markdown",
   "id": "de8c5017-0fe6-49bf-bd2a-5e7d300e83df",
   "metadata": {
    "deletable": false,
    "editable": false,
    "nbgrader": {
     "cell_type": "markdown",
     "checksum": "53b09171f9fd517c216da65dea079351",
     "grade": false,
     "grade_id": "cell-427b32a31ba40dc2",
     "locked": true,
     "schema_version": 3,
     "solution": false,
     "task": false
    }
   },
   "source": [
    "## Exercise (2 Points)\n",
    "\n",
    "In this exercise we practice working with matrices, i.e. lists of lists.\n",
    "\n",
    "### Task 1\n",
    "\n",
    "Given two integer parameters `n` and `m`, write a function that returns a matrix `table` with `n` columns and `m` rows filled with numbers between `1` and `n*m` in the order left-to right, top to bottom. For example, for `n = 5` and `m = 6` the matrix should look as follows:\n",
    "```\n",
    "[[ 1,  2,  3,  4,  5,  6], \n",
    "[ 7,  8,  9, 10, 11, 12], \n",
    "[13, 14, 15, 16, 17, 18], \n",
    "[19, 20, 21, 22, 23, 24], \n",
    "[25, 26, 27, 28, 29, 30]]\n",
    "```"
   ]
  },
  {
   "cell_type": "code",
   "execution_count": null,
   "id": "ad1db9df-6f94-4e08-8584-60978d384d21",
   "metadata": {
    "deletable": false,
    "nbgrader": {
     "cell_type": "code",
     "checksum": "ff43b120befa8f2280a8441cd03a1f7c",
     "grade": false,
     "grade_id": "cell-1e49c16c9b32e1d2",
     "locked": false,
     "schema_version": 3,
     "solution": true,
     "task": false
    }
   },
   "outputs": [],
   "source": [
    "def create_matrix(n,m):\n",
    "    table = []\n",
    "# YOUR SOLUTION HERE\n",
    "    return table"
   ]
  },
  {
   "cell_type": "code",
   "execution_count": null,
   "id": "96a9c3a3-8e78-48ef-acc2-c086a98dea26",
   "metadata": {
    "deletable": false,
    "editable": false,
    "nbgrader": {
     "cell_type": "code",
     "checksum": "d5f6c40148771e9b142dfb100d9c3312",
     "grade": true,
     "grade_id": "cell-399e01d64b13268c",
     "locked": true,
     "points": 1,
     "schema_version": 3,
     "solution": false,
     "task": false
    }
   },
   "outputs": [],
   "source": [
    "# This tests your implementation:\n",
    "assert create_matrix(5,6) == [\n",
    "     [1, 2, 3, 4, 5, 6],\n",
    "     [7, 8, 9, 10, 11, 12],\n",
    "     [13, 14, 15, 16, 17, 18],\n",
    "     [19, 20, 21, 22, 23, 24],\n",
    "     [25, 26, 27, 28, 29, 30]\n",
    "]\n",
    "print('Success!')"
   ]
  },
  {
   "cell_type": "markdown",
   "id": "911dc303-a768-45ac-a497-c68f8656f495",
   "metadata": {
    "deletable": false,
    "editable": false,
    "nbgrader": {
     "cell_type": "markdown",
     "checksum": "01691b9c7b2d48b4baf9b87f2ad247b9",
     "grade": false,
     "grade_id": "cell-9d99cd64ae1b090a",
     "locked": true,
     "schema_version": 3,
     "solution": false,
     "task": false
    }
   },
   "source": [
    "### Task 2\n",
    "\n",
    "Write a function that returns an (ordinary 1-dimensional) list `columnProducts` that contains the product of elements of the matrix `table` for each column of this matrix. For the example matrix given in Task 1 the array should be:\n",
    "\n",
    "```\n",
    "[43225, 116480, 229635, 394240, 623645, 933120]\n",
    "```"
   ]
  },
  {
   "cell_type": "code",
   "execution_count": null,
   "id": "78906aee-42d3-458b-95c2-1b5baf11df14",
   "metadata": {
    "deletable": false,
    "nbgrader": {
     "cell_type": "code",
     "checksum": "ee9599fb1021005f9283a72736aaf73f",
     "grade": false,
     "grade_id": "cell-ba9b91a79aeb711d",
     "locked": false,
     "schema_version": 3,
     "solution": true,
     "task": false
    }
   },
   "outputs": [],
   "source": [
    "def column_products(table):\n",
    "    column_products = []\n",
    "# YOUR SOLUTION HERE\n",
    "    return column_products"
   ]
  },
  {
   "cell_type": "code",
   "execution_count": null,
   "id": "0576021a-b0aa-4275-bbcd-6dc287eb8b75",
   "metadata": {
    "deletable": false,
    "editable": false,
    "nbgrader": {
     "cell_type": "code",
     "checksum": "a0318906399b63b8feab41b7e693ff30",
     "grade": true,
     "grade_id": "cell-eade967df283b142",
     "locked": true,
     "points": 1,
     "schema_version": 3,
     "solution": false,
     "task": false
    }
   },
   "outputs": [],
   "source": [
    "# This tests your implementation:\n",
    "table = [\n",
    "     [1, 2, 3, 4, 5, 6],\n",
    "     [7, 8, 9, 10, 11, 12],\n",
    "     [13, 14, 15, 16, 17, 18],\n",
    "     [19, 20, 21, 22, 23, 24],\n",
    "     [25, 26, 27, 28, 29, 30]\n",
    "]\n",
    "assert column_products(table) == [43225, 116480, 229635, 394240, 623645, 933120]\n",
    "print('Success!')"
   ]
  },
  {
   "cell_type": "markdown",
   "id": "2ae474fb-ed13-4ee6-810c-1cc16d67af19",
   "metadata": {
    "deletable": false,
    "editable": false,
    "nbgrader": {
     "cell_type": "markdown",
     "checksum": "6e58e5c5fe6f87c3aaa1da4fcc0cb086",
     "grade": false,
     "grade_id": "cell-ddbc5543880b1b77",
     "locked": true,
     "schema_version": 3,
     "solution": false,
     "task": false
    }
   },
   "source": [
    "## Exercise (2 Points)\n",
    "\n",
    "In this exercise we deal with the problems arising from references and variable bindings.\n",
    "In lecture 8 we discussed the difference between assignment of list variables and assignment of list values. In particular, since lists are internally represented as pointers to memory locations, it may happen that changing a value of one list changes the value of another list. In this exercise we practice with understanding and predicting such effects.\n",
    "\n",
    "Consider the following Python program that operates with lists:"
   ]
  },
  {
   "cell_type": "code",
   "execution_count": null,
   "id": "24577619-693d-4a25-be26-4ddf9a996192",
   "metadata": {
    "deletable": false,
    "editable": false,
    "nbgrader": {
     "cell_type": "code",
     "checksum": "65657f6ddef185a67213711b3c88e56f",
     "grade": false,
     "grade_id": "cell-71794b14da2e9ff6",
     "locked": true,
     "schema_version": 3,
     "solution": false,
     "task": false
    }
   },
   "outputs": [],
   "source": [
    "a = [0,1]\n",
    "b = a[1]\n",
    "b += 1\n",
    "a[0] = b\n",
    "c = [1,0]\n",
    "for i in range(2): c[i] = a[i]\n",
    "a[0] = a[1]\n",
    "a[1] += 2\n",
    "d = a\n",
    "d[0] += d[1]\n",
    "a[0] = d[1]\n",
    "d[1] += 2\n",
    "a = c\n",
    "c = None"
   ]
  },
  {
   "cell_type": "markdown",
   "id": "14fe1e19-74f0-49b0-bc22-f6055991fca9",
   "metadata": {
    "deletable": false,
    "editable": false,
    "nbgrader": {
     "cell_type": "markdown",
     "checksum": "adfd29e315ce01a29cd180b205d76c04",
     "grade": false,
     "grade_id": "cell-52abafae2f522fae",
     "locked": true,
     "schema_version": 3,
     "solution": false,
     "task": false
    }
   },
   "source": [
    "Simulate the execution of this program by completing the following table with the values of each variable after execution of the statement on the corresponding line. (Line numbers can be enabled from the menu `View` $\\to$ `Show Line Numbers`)\n",
    "\n",
    "Write `?` for a variable that has not been initialized yet, `None` for variables with the value `None` and provide array contents as comma separated lists in square brackets. The first two lines are already given as examples. Double click on this cell, copy the table to the answer cell below, and add extend the table with your answers.\n",
    "\n",
    "| Line | a   | b | c | d |\n",
    "|:----:|:---:|:-:|:-:|:-:|\n",
    "|1     |[0,1]| ? | ? | ? |\n",
    "|2     |[0,1]| 1 | ? | ? |"
   ]
  },
  {
   "cell_type": "markdown",
   "id": "d004f566-e891-4470-9472-78069362a2ea",
   "metadata": {
    "deletable": false,
    "nbgrader": {
     "cell_type": "markdown",
     "checksum": "d7475c183a2be86a2e5d9cb4b32fd487",
     "grade": true,
     "grade_id": "cell-238eb3de3d3fda9b",
     "locked": false,
     "points": 2,
     "schema_version": 3,
     "solution": true,
     "task": false
    }
   },
   "source": [
    "YOUR ANSWER HERE"
   ]
  }
 ],
 "metadata": {
  "kernelspec": {
   "display_name": "Python 3 (ipykernel)",
   "language": "python",
   "name": "python3"
  },
  "language_info": {
   "codemirror_mode": {
    "name": "ipython",
    "version": 3
   },
   "file_extension": ".py",
   "mimetype": "text/x-python",
   "name": "python",
   "nbconvert_exporter": "python",
   "pygments_lexer": "ipython3",
   "version": "3.12.9"
  }
 },
 "nbformat": 4,
 "nbformat_minor": 5
}
