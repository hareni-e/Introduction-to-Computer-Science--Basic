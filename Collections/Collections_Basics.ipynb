{
 "cells": [
  {
   "cell_type": "markdown",
   "id": "cc4daae0-ab7d-4060-b95d-a2243a9c2d5b",
   "metadata": {},
   "source": [
    "#### Dictionaries and tuples combination"
   ]
  },
  {
   "cell_type": "code",
   "execution_count": 2,
   "id": "0cf9cf03-46ff-4afe-9a4e-0e748297281a",
   "metadata": {},
   "outputs": [],
   "source": [
    "def organize_names(names):\n",
    "    \"\"\"\n",
    "    Organize a List of names into a dictionary, categorized by the First Letter Of each last name.\n",
    "    This function takes a list of name tuples, where each tuple consists of a first name and a last name,\n",
    "    and organizes them into a dictionary. The keys of the dictionary are the first letters of the last names,\n",
    "    and the values are lists of tuples of names that have last names starting with that letter. It is assumed that \n",
    "    all names start with an uppercase letter.\n",
    "\n",
    "    Parameters:\n",
    "    - names (list of tuple): a List of tuples, where each tuple is (first name, last name).\n",
    "    \n",
    "    Returns:\n",
    "    - dict: A dictionary where each key is an uppercase letter that represents the first letter of last names, \n",
    "    and each value is a list of name tuples (first name, last name) with last names starting with that letter. \n",
    "    \"\"\"\n",
    "\n",
    "    # YOUR SOLUTION HERE\n",
    "    "
   ]
  },
  {
   "cell_type": "code",
   "execution_count": 3,
   "id": "c033ed36-60fe-422b-9328-b1f51af5b0ed",
   "metadata": {},
   "outputs": [],
   "source": [
    "l = [(\"Ana\",\"Kat\"), (\"Bana\",\"Bob\"),(\"Sam\", \"Ben\")]\n",
    "d = {\"B\": [(\"Bana\",\"Bob\"),(\"Sam\", \"Ben\")]}"
   ]
  },
  {
   "cell_type": "code",
   "execution_count": null,
   "id": "db6ce7b4-e91f-4db4-b173-965c8de6a36e",
   "metadata": {},
   "outputs": [],
   "source": [
    "def organize_names(names):\n",
    "    d = {}\n",
    "    for person in l:\n",
    "        if person[1][0] not in d:\n",
    "            d[person[[1][0]] = person\n",
    "        "
   ]
  },
  {
   "cell_type": "code",
   "execution_count": null,
   "id": "736a4480-84c2-493d-924b-7e4eb7e8b6db",
   "metadata": {},
   "outputs": [],
   "source": [
    "def organize_names(names):\n",
    "    d = {}\n",
    "    for first,last in l:\n",
    "        if last[0] not in d:\n",
    "            d[last[0]] = (first,last)\n",
    "        "
   ]
  },
  {
   "cell_type": "code",
   "execution_count": null,
   "id": "34c3f839-644f-48f8-a600-08a2cc637456",
   "metadata": {},
   "outputs": [],
   "source": [
    "\n",
    "l = (\"Bana\",\"Bob\"),(\"Sam\", \"Ben\")\n",
    "    \n",
    "for first,last in l:\n",
    "        \n",
    "    "
   ]
  },
  {
   "cell_type": "code",
   "execution_count": 6,
   "id": "7c1a124f-7fff-4ad6-afa9-4433ed796db7",
   "metadata": {},
   "outputs": [
    {
     "name": "stdout",
     "output_type": "stream",
     "text": [
      "True\n"
     ]
    }
   ],
   "source": [
    "d = {\"B\": [(\"Bana\",\"Bob\"),(\"Sam\", \"Ben\")]}\n",
    "print(\"B\"  in d)"
   ]
  },
  {
   "cell_type": "markdown",
   "id": "a70cecbf-3a4e-4447-bf6a-bd4223784de3",
   "metadata": {},
   "source": [
    "## Tuple and dictionary\n",
    "\n",
    "For a given tuple of words, return a dictionary that maps each word to the total number of characters it contains. For example, for the tuple (\"apple\", \"banana\", \"cherry\", \"apple\"), you should return {\"apple\": 5, \"banana\": 6, \"cherry\": 6}."
   ]
  },
  {
   "cell_type": "code",
   "execution_count": 8,
   "id": "f5434e85-23e3-4235-8fc0-7154bf3727af",
   "metadata": {},
   "outputs": [
    {
     "name": "stdout",
     "output_type": "stream",
     "text": [
      "[3, 5]\n"
     ]
    }
   ],
   "source": [
    "results = [3,5,6]\n",
    "new_list = results[:-1]\n",
    "print(new_list)"
   ]
  }
 ],
 "metadata": {
  "kernelspec": {
   "display_name": "Python 3 (ipykernel)",
   "language": "python",
   "name": "python3"
  },
  "language_info": {
   "codemirror_mode": {
    "name": "ipython",
    "version": 3
   },
   "file_extension": ".py",
   "mimetype": "text/x-python",
   "name": "python",
   "nbconvert_exporter": "python",
   "pygments_lexer": "ipython3",
   "version": "3.12.9"
  }
 },
 "nbformat": 4,
 "nbformat_minor": 5
}
