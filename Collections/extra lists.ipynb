{
 "cells": [
  {
   "cell_type": "code",
   "execution_count": 1,
   "id": "dcc32223-2b2d-4f4e-b108-22be4a9db940",
   "metadata": {},
   "outputs": [],
   "source": [
    "# not identical ´, but to check if all elements of list1 are in list2"
   ]
  },
  {
   "cell_type": "code",
   "execution_count": null,
   "id": "276420a2-b5c1-4735-b691-6d844679f6d0",
   "metadata": {},
   "outputs": [],
   "source": []
  }
 ],
 "metadata": {
  "kernelspec": {
   "display_name": "Python 3 (ipykernel)",
   "language": "python",
   "name": "python3"
  },
  "language_info": {
   "codemirror_mode": {
    "name": "ipython",
    "version": 3
   },
   "file_extension": ".py",
   "mimetype": "text/x-python",
   "name": "python",
   "nbconvert_exporter": "python",
   "pygments_lexer": "ipython3",
   "version": "3.12.8"
  }
 },
 "nbformat": 4,
 "nbformat_minor": 5
}
