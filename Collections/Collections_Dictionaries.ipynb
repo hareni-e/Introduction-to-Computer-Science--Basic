{
 "cells": [
  {
   "cell_type": "code",
   "execution_count": 1,
   "id": "72610348-d0e3-4486-ab91-c8d223be0921",
   "metadata": {},
   "outputs": [
    {
     "name": "stdout",
     "output_type": "stream",
     "text": [
      "4\n"
     ]
    }
   ],
   "source": [
    "my_dict = {'a': 1, 'b': 2, 'c': 3}\n",
    "print(my_dict.get('d', 4))"
   ]
  },
  {
   "cell_type": "code",
   "execution_count": 15,
   "id": "8a985e03-3267-4839-bb5e-f6b8d0fd62f6",
   "metadata": {},
   "outputs": [
    {
     "name": "stdout",
     "output_type": "stream",
     "text": [
      "Alice\n"
     ]
    }
   ],
   "source": [
    "d = {'name': 'Alice', 'age': 22, 'course': 'Computer Science'}\n",
    " \n",
    "print(d[\"name\"])"
   ]
  },
  {
   "cell_type": "code",
   "execution_count": 24,
   "id": "0af73dbe-a986-4a41-8846-35bf65e2926c",
   "metadata": {},
   "outputs": [
    {
     "name": "stdout",
     "output_type": "stream",
     "text": [
      "dict_values(['Alice', 22, 'Computer Science', 'Female'])\n"
     ]
    }
   ],
   "source": [
    "d = {'name': 'Alice', 'age': 22, 'course': 'Computer Science'}\n",
    "d[\"gender\"] = \"Female\"\n",
    "\n",
    "print(d.values())\n"
   ]
  },
  {
   "cell_type": "code",
   "execution_count": 27,
   "id": "95c2b956-12fc-498b-aba8-c89c67ffa1a3",
   "metadata": {},
   "outputs": [
    {
     "name": "stdout",
     "output_type": "stream",
     "text": [
      "24\n"
     ]
    }
   ],
   "source": [
    "d = {'name': 'Alice', 'age': 22, 'course': 'Computer Science'} | {'name': 'Ben', 'age': 24}\n",
    "print(d[\"age\"])"
   ]
  },
  {
   "cell_type": "code",
   "execution_count": 32,
   "id": "2ce17b81-9a15-4f44-ba78-0cd8ff79ac11",
   "metadata": {},
   "outputs": [
    {
     "name": "stdout",
     "output_type": "stream",
     "text": [
      "['name', 'age', 'course', 'gender']\n"
     ]
    }
   ],
   "source": [
    "d = {'name': 'Alice', 'age': 22, 'course': 'Computer Science'}\n",
    "d[\"gender\"] = \"Female\"\n",
    "\n",
    "print(list(d.keys()))\n"
   ]
  },
  {
   "cell_type": "code",
   "execution_count": 40,
   "id": "5df98e29-dc7c-45c3-b3e9-59efd5c6c0ca",
   "metadata": {},
   "outputs": [
    {
     "name": "stdout",
     "output_type": "stream",
     "text": [
      "('course', 'Computer Science')\n"
     ]
    }
   ],
   "source": [
    "d = {'name': 'Alice', 'age': 22, 'course': 'Computer Science'}\n",
    "d[\"gender\"] = \"Female\"\n",
    "\n",
    "print(list(d.items())[2])\n"
   ]
  },
  {
   "cell_type": "code",
   "execution_count": 44,
   "id": "a7cbd87d-cada-45c9-8ec9-eab2aaf63e91",
   "metadata": {},
   "outputs": [
    {
     "name": "stdout",
     "output_type": "stream",
     "text": [
      "[('name', 'Alice'), ('age', 22)]\n"
     ]
    }
   ],
   "source": [
    "d = {'name': 'Alice', 'age': 22, 'course': 'Computer Science'}\n",
    "d.pop(\"course\")\n",
    "\n",
    "print(list(d.items()))\n"
   ]
  },
  {
   "cell_type": "code",
   "execution_count": null,
   "id": "7624203e-b385-4700-a76d-5eb69ebfd53c",
   "metadata": {},
   "outputs": [],
   "source": []
  },
  {
   "cell_type": "code",
   "execution_count": null,
   "id": "741c1fd5-258a-4e8d-88bd-4fc6da48e6f3",
   "metadata": {},
   "outputs": [],
   "source": []
  }
 ],
 "metadata": {
  "kernelspec": {
   "display_name": "Python 3 (ipykernel)",
   "language": "python",
   "name": "python3"
  },
  "language_info": {
   "codemirror_mode": {
    "name": "ipython",
    "version": 3
   },
   "file_extension": ".py",
   "mimetype": "text/x-python",
   "name": "python",
   "nbconvert_exporter": "python",
   "pygments_lexer": "ipython3",
   "version": "3.12.9"
  }
 },
 "nbformat": 4,
 "nbformat_minor": 5
}
