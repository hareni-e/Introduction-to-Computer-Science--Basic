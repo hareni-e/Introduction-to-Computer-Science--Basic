{
 "cells": [
  {
   "cell_type": "markdown",
   "id": "dd8ebcfb-b027-4577-8dc1-bc56ee1bdd94",
   "metadata": {},
   "source": [
    "### Tuples"
   ]
  },
  {
   "cell_type": "code",
   "execution_count": 3,
   "id": "7cb0732e-c39f-4fd1-a1bb-f77abd472dbb",
   "metadata": {},
   "outputs": [
    {
     "data": {
      "text/plain": [
       "1"
      ]
     },
     "execution_count": 3,
     "metadata": {},
     "output_type": "execute_result"
    }
   ],
   "source": [
    "t = (\"a\",\"b\",3)\n",
    "t.count(\"a\")"
   ]
  },
  {
   "cell_type": "code",
   "execution_count": 17,
   "id": "6a3922bd-5c4d-4c5a-86ea-f79a8d6ac1b5",
   "metadata": {},
   "outputs": [
    {
     "name": "stdout",
     "output_type": "stream",
     "text": [
      "1\n",
      "(2, 1)\n"
     ]
    }
   ],
   "source": [
    "def swap(x,y):\n",
    "    x,y = y,x\n",
    "    return x,y\n",
    "\n",
    "x = 1\n",
    "y = 2\n",
    "    \n",
    "swap(x,y)\n",
    "print(x)\n",
    "\n",
    "print(swap(x,y))"
   ]
  },
  {
   "cell_type": "code",
   "execution_count": 15,
   "id": "808120ac-76f4-4187-a94f-56e1f145f5b0",
   "metadata": {},
   "outputs": [
    {
     "ename": "TypeError",
     "evalue": "'NoneType' object is not callable",
     "output_type": "error",
     "traceback": [
      "\u001b[31m---------------------------------------------------------------------------\u001b[39m",
      "\u001b[31mTypeError\u001b[39m                                 Traceback (most recent call last)",
      "\u001b[36mCell\u001b[39m\u001b[36m \u001b[39m\u001b[32mIn[15]\u001b[39m\u001b[32m, line 9\u001b[39m\n\u001b[32m      6\u001b[39m y = \u001b[32m2\u001b[39m\n\u001b[32m      8\u001b[39m y = swap(x,y)\n\u001b[32m----> \u001b[39m\u001b[32m9\u001b[39m \u001b[38;5;28mprint\u001b[39m(\u001b[43my\u001b[49m\u001b[43m(\u001b[49m\u001b[43mx\u001b[49m\u001b[43m)\u001b[49m)\n",
      "\u001b[31mTypeError\u001b[39m: 'NoneType' object is not callable"
     ]
    }
   ],
   "source": [
    "def swap(x,y):  \n",
    "    x,y = y,x\n",
    "\n",
    "\n",
    "x = 1\n",
    "y = 2\n",
    "\n",
    "y = swap(x,y)\n",
    "print()"
   ]
  },
  {
   "cell_type": "code",
   "execution_count": 14,
   "id": "c65b0498-7dff-423a-95ad-473ea001aaec",
   "metadata": {},
   "outputs": [
    {
     "name": "stdout",
     "output_type": "stream",
     "text": [
      "(2, 1)\n",
      "2\n"
     ]
    }
   ],
   "source": [
    "def swap(x,y):  \n",
    "    x,y = y,x\n",
    "    return x,y\n",
    "\n",
    "x = 1\n",
    "y = 2\n",
    "\n",
    "\n",
    "print(swap(x,y))\n",
    "print(2)"
   ]
  },
  {
   "cell_type": "code",
   "execution_count": 11,
   "id": "b6f87d68-d910-4fc3-b68c-116c1dd2db81",
   "metadata": {},
   "outputs": [
    {
     "name": "stdout",
     "output_type": "stream",
     "text": [
      "2\n"
     ]
    }
   ],
   "source": [
    "x = 1\n",
    "y = 2\n",
    "x,y = y,x\n",
    "print(x)"
   ]
  },
  {
   "cell_type": "code",
   "execution_count": 24,
   "id": "aa61afaf-54a5-4bcd-9aeb-cd280c9942ea",
   "metadata": {},
   "outputs": [
    {
     "ename": "SyntaxError",
     "evalue": "positional argument follows keyword argument (3626230264.py, line 4)",
     "output_type": "error",
     "traceback": [
      "  \u001b[36mCell\u001b[39m\u001b[36m \u001b[39m\u001b[32mIn[24]\u001b[39m\u001b[32m, line 4\u001b[39m\n\u001b[31m    \u001b[39m\u001b[31mfoo(x = 1,2)\u001b[39m\n               ^\n\u001b[31mSyntaxError\u001b[39m\u001b[31m:\u001b[39m positional argument follows keyword argument\n"
     ]
    }
   ],
   "source": [
    "def foo(x, y = 1, z = 2):\n",
    "    print(x +y + z)\n",
    "\n",
    "foo(x = 1,2)\n"
   ]
  },
  {
   "cell_type": "code",
   "execution_count": 27,
   "id": "c45dcdc4-dc4c-4b1b-92b8-af355e250ed4",
   "metadata": {},
   "outputs": [],
   "source": [
    "x = 1\n",
    "y = 1 if x > 0 else x < 0"
   ]
  },
  {
   "cell_type": "code",
   "execution_count": 28,
   "id": "90911bfd-1470-42ff-ad2d-ed650107bcb2",
   "metadata": {},
   "outputs": [],
   "source": [
    "x = 1\n",
    "y = [1 if x > 0 else x < 0][0]"
   ]
  },
  {
   "cell_type": "code",
   "execution_count": 2,
   "id": "f1f819ee-21ba-4f81-bdd4-d63abb9c4056",
   "metadata": {},
   "outputs": [
    {
     "name": "stdout",
     "output_type": "stream",
     "text": [
      "1\n"
     ]
    }
   ],
   "source": [
    "print(range(5)[1])"
   ]
  },
  {
   "cell_type": "code",
   "execution_count": 3,
   "id": "54bd75cf-5eb6-4bd7-bf29-1e10476050e6",
   "metadata": {},
   "outputs": [
    {
     "data": {
      "text/plain": [
       "False"
      ]
     },
     "execution_count": 3,
     "metadata": {},
     "output_type": "execute_result"
    }
   ],
   "source": [
    "[] is []"
   ]
  },
  {
   "cell_type": "code",
   "execution_count": 8,
   "id": "dd1715fa-0555-4d1e-bd46-bc7438eaf32c",
   "metadata": {},
   "outputs": [
    {
     "name": "stdout",
     "output_type": "stream",
     "text": [
      "False\n"
     ]
    }
   ],
   "source": [
    "a = (1,2,3)\n",
    "b = a\n",
    "print(not b is a)"
   ]
  },
  {
   "cell_type": "code",
   "execution_count": 12,
   "id": "010218b5-4030-4644-8cd1-2d1d24004f44",
   "metadata": {},
   "outputs": [
    {
     "data": {
      "text/plain": [
       "['In',\n",
       " 'Out',\n",
       " '_',\n",
       " '_10',\n",
       " '_11',\n",
       " '_3',\n",
       " '__',\n",
       " '___',\n",
       " '__builtin__',\n",
       " '__builtins__',\n",
       " '__doc__',\n",
       " '__loader__',\n",
       " '__name__',\n",
       " '__package__',\n",
       " '__session__',\n",
       " '__spec__',\n",
       " '_dh',\n",
       " '_i',\n",
       " '_i1',\n",
       " '_i10',\n",
       " '_i11',\n",
       " '_i12',\n",
       " '_i2',\n",
       " '_i3',\n",
       " '_i4',\n",
       " '_i5',\n",
       " '_i6',\n",
       " '_i7',\n",
       " '_i8',\n",
       " '_i9',\n",
       " '_ih',\n",
       " '_ii',\n",
       " '_iii',\n",
       " '_oh',\n",
       " 'a',\n",
       " 'b',\n",
       " 'exit',\n",
       " 'get_ipython',\n",
       " 'open',\n",
       " 'quit']"
      ]
     },
     "execution_count": 12,
     "metadata": {},
     "output_type": "execute_result"
    }
   ],
   "source": [
    "dir()"
   ]
  },
  {
   "cell_type": "code",
   "execution_count": 13,
   "id": "1fd38afe-89df-4130-ac73-6ba28fb85aca",
   "metadata": {},
   "outputs": [
    {
     "data": {
      "text/plain": [
       "False"
      ]
     },
     "execution_count": 13,
     "metadata": {},
     "output_type": "execute_result"
    }
   ],
   "source": [
    "{\"a\",\"b\",\"b\"} < {\"a\",\"b\"}"
   ]
  },
  {
   "cell_type": "code",
   "execution_count": 15,
   "id": "44bf7095-5bd9-4aae-9e06-6ed1eb975f59",
   "metadata": {},
   "outputs": [
    {
     "data": {
      "text/plain": [
       "{'a': 1, 'b': 4, 'c': 5}"
      ]
     },
     "execution_count": 15,
     "metadata": {},
     "output_type": "execute_result"
    }
   ],
   "source": [
    "{\"a\": 1,\"b\":3} | {\"b\":4,\"c\":5}"
   ]
  },
  {
   "cell_type": "code",
   "execution_count": 16,
   "id": "16d5b366-02ac-42d8-9aea-f2e955ba1030",
   "metadata": {},
   "outputs": [
    {
     "name": "stdout",
     "output_type": "stream",
     "text": [
      "The special character \\n breaks lines in strings\n"
     ]
    }
   ],
   "source": [
    "print(\"The special character \\\\n breaks lines in strings\")"
   ]
  },
  {
   "cell_type": "code",
   "execution_count": 10,
   "id": "bc2a94b5-8604-4e1d-af89-15dc37443baa",
   "metadata": {},
   "outputs": [
    {
     "name": "stdout",
     "output_type": "stream",
     "text": [
      "Robin Hood\n"
     ]
    }
   ],
   "source": [
    "data = \"Robin Hood\", 5.7, True\n",
    "#(title, price, in_stock) = data\n",
    "#(title, price) = data # ValueError: too many values to unpack (expected 2)\n",
    "title, price, _ = data\n",
    "print(title)"
   ]
  },
  {
   "cell_type": "code",
   "execution_count": 19,
   "id": "e03b6555-a2b1-4989-a5bd-82c2793cd827",
   "metadata": {},
   "outputs": [
    {
     "name": "stdout",
     "output_type": "stream",
     "text": [
      "False\n"
     ]
    }
   ],
   "source": [
    "a = (1,2)\n",
    "b = (1,2)\n",
    "print(a is b)"
   ]
  },
  {
   "cell_type": "code",
   "execution_count": 32,
   "id": "0a1a4d88-f9ae-4b1e-a7c6-27510f2a1298",
   "metadata": {},
   "outputs": [
    {
     "name": "stdout",
     "output_type": "stream",
     "text": [
      "True\n"
     ]
    }
   ],
   "source": [
    "a = {1,2}\n",
    "b = {1,2}\n",
    "print(a == b)"
   ]
  },
  {
   "cell_type": "code",
   "execution_count": 36,
   "id": "2f9a7c49-5859-4739-86f8-9c55e108e3b9",
   "metadata": {},
   "outputs": [
    {
     "name": "stdout",
     "output_type": "stream",
     "text": [
      "True\n"
     ]
    }
   ],
   "source": [
    "a = {'n': 1, 'a': 2, 'c': 'W', 'i': 0}\n",
    "b = a\n",
    "b.update({\"h\":4})\n",
    "print(a is b)"
   ]
  },
  {
   "cell_type": "code",
   "execution_count": 37,
   "id": "af40f3f0-6ec7-4b28-8519-e39c6f44d0b1",
   "metadata": {},
   "outputs": [
    {
     "name": "stdout",
     "output_type": "stream",
     "text": [
      "{'n': 1, 'a': 2, 'c': 'W', 'i': 0, 'h': 5}\n"
     ]
    }
   ],
   "source": [
    "a = {'n': 1, 'a': 2, 'c': 'W', 'i': 0}\n",
    "b = a\n",
    "b[\"h\"] = 5\n",
    "print(a)"
   ]
  },
  {
   "cell_type": "code",
   "execution_count": null,
   "id": "88bd212f-e59f-40ba-8af1-c67be1ae383b",
   "metadata": {},
   "outputs": [],
   "source": []
  }
 ],
 "metadata": {
  "kernelspec": {
   "display_name": "Python 3 (ipykernel)",
   "language": "python",
   "name": "python3"
  },
  "language_info": {
   "codemirror_mode": {
    "name": "ipython",
    "version": 3
   },
   "file_extension": ".py",
   "mimetype": "text/x-python",
   "name": "python",
   "nbconvert_exporter": "python",
   "pygments_lexer": "ipython3",
   "version": "3.12.9"
  }
 },
 "nbformat": 4,
 "nbformat_minor": 5
}
