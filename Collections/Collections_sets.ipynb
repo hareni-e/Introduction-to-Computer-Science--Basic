{
 "cells": [
  {
   "cell_type": "markdown",
   "id": "38f3288a-c2ca-4ee8-b05e-e1107b4119c0",
   "metadata": {
    "jp-MarkdownHeadingCollapsed": true
   },
   "source": [
    "# Beginner Level - Output-Based Question 2\n",
    "\n",
    "## Question:\n",
    "Predict the output of the following code:\n",
    "\n",
    "```python\n",
    "s = {1, 2, 3, 3, 4, 4, 5}\n",
    "print(s)\n"
   ]
  },
  {
   "cell_type": "code",
   "execution_count": 3,
   "id": "9ddce81c-efe4-4a10-891b-5f9925abf8e9",
   "metadata": {},
   "outputs": [
    {
     "name": "stdout",
     "output_type": "stream",
     "text": [
      "{1, 2, 3, 4, 5}\n"
     ]
    }
   ],
   "source": [
    "s = {1, 2, 3, 3, 4, 4, 5} # Sets ignore dupliates\n",
    "print(s)"
   ]
  },
  {
   "cell_type": "markdown",
   "id": "aff38748-fea1-4554-8c89-bacbf5eca0c4",
   "metadata": {},
   "source": [
    "# Beginner Level - Output-Based Question 3\n",
    "\n",
    "## Question 3:\n",
    "What will be the output of the following code?\n",
    "\n",
    "```python\n",
    "s1 = {1, 2, 3}\n",
    "s2 = {3, 4, 5}\n",
    "print(s1 | s2)\n"
   ]
  },
  {
   "cell_type": "code",
   "execution_count": 5,
   "id": "b715518a-3176-4510-a7f8-aad86f8e12e1",
   "metadata": {},
   "outputs": [
    {
     "name": "stdout",
     "output_type": "stream",
     "text": [
      "{1, 2, 3, 4, 5}\n"
     ]
    }
   ],
   "source": [
    "s1 = {1, 2, 3}\n",
    "s2 = {3, 4, 5}\n",
    "print(s1 | s2)"
   ]
  },
  {
   "cell_type": "code",
   "execution_count": 8,
   "id": "5d877ae9-72ad-44b0-9ca6-ec766f409fc3",
   "metadata": {},
   "outputs": [
    {
     "name": "stdout",
     "output_type": "stream",
     "text": [
      "{1}\n"
     ]
    }
   ],
   "source": [
    "s = set()\n",
    "s.add(1)\n",
    "print(s)"
   ]
  },
  {
   "cell_type": "code",
   "execution_count": 9,
   "id": "3e544e0f-cd81-4a69-8f12-ca82a8ee5053",
   "metadata": {},
   "outputs": [
    {
     "name": "stdout",
     "output_type": "stream",
     "text": [
      "{1, 2}\n"
     ]
    }
   ],
   "source": [
    "s1 = {1, 2, 3}\n",
    "s2 = {3, 4, 5}\n",
    "print(s1 - s2)"
   ]
  },
  {
   "cell_type": "code",
   "execution_count": 10,
   "id": "fcaf84e7-59b6-4f9c-9c96-95b97efaeb22",
   "metadata": {},
   "outputs": [
    {
     "name": "stdout",
     "output_type": "stream",
     "text": [
      "{4, 5}\n"
     ]
    }
   ],
   "source": [
    "s1 = {1, 2, 3}\n",
    "s2 = {3, 4, 5}\n",
    "print(s2 - s1)"
   ]
  },
  {
   "cell_type": "code",
   "execution_count": 13,
   "id": "0e6c1f85-d0e7-4e5d-ba11-370aea4bfd0a",
   "metadata": {},
   "outputs": [
    {
     "ename": "TypeError",
     "evalue": "set.remove() takes exactly one argument (2 given)",
     "output_type": "error",
     "traceback": [
      "\u001b[0;31m---------------------------------------------------------------------------\u001b[0m",
      "\u001b[0;31mTypeError\u001b[0m                                 Traceback (most recent call last)",
      "Cell \u001b[0;32mIn[13], line 2\u001b[0m\n\u001b[1;32m      1\u001b[0m s \u001b[38;5;241m=\u001b[39m {\u001b[38;5;241m10\u001b[39m, \u001b[38;5;241m20\u001b[39m, \u001b[38;5;241m30\u001b[39m, \u001b[38;5;241m40\u001b[39m, \u001b[38;5;241m50\u001b[39m,\u001b[38;5;241m20\u001b[39m}\n\u001b[0;32m----> 2\u001b[0m \u001b[43ms\u001b[49m\u001b[38;5;241;43m.\u001b[39;49m\u001b[43mremove\u001b[49m\u001b[43m(\u001b[49m\u001b[38;5;241;43m20\u001b[39;49m\u001b[43m,\u001b[49m\u001b[38;5;241;43m1\u001b[39;49m\u001b[43m)\u001b[49m\n\u001b[1;32m      3\u001b[0m \u001b[38;5;28mprint\u001b[39m(s)\n",
      "\u001b[0;31mTypeError\u001b[0m: set.remove() takes exactly one argument (2 given)"
     ]
    }
   ],
   "source": [
    "s = {10, 20, 30, 40, 50,20}\n",
    "s.remove(20,1)\n",
    "print(s)"
   ]
  },
  {
   "cell_type": "code",
   "execution_count": 17,
   "id": "f7147807-ce74-4c7d-a78c-1b30ea52dd91",
   "metadata": {},
   "outputs": [
    {
     "name": "stdout",
     "output_type": "stream",
     "text": [
      "False\n"
     ]
    }
   ],
   "source": [
    "s = {1, 2, 3, 4, 5}\n",
    "num = 6\n",
    "if num in s:\n",
    "    print(\"True\")\n",
    "else:\n",
    "    print(False)"
   ]
  },
  {
   "cell_type": "code",
   "execution_count": 18,
   "id": "3cdf8d15-7a05-4f3b-b098-23b275e364a4",
   "metadata": {},
   "outputs": [
    {
     "name": "stdout",
     "output_type": "stream",
     "text": [
      "{3}\n"
     ]
    }
   ],
   "source": [
    "s1 = {1, 2, 3}\n",
    "s2 = {3, 4, 5}\n",
    "print(s2 & s1)"
   ]
  },
  {
   "cell_type": "code",
   "execution_count": 19,
   "id": "e7c91b5d-3a69-4f19-b064-c88eaebf9a95",
   "metadata": {},
   "outputs": [
    {
     "name": "stdout",
     "output_type": "stream",
     "text": [
      "{1, 2, 4, 5}\n"
     ]
    }
   ],
   "source": [
    "s1 = {1, 2, 3}\n",
    "s2 = {3, 4, 5}\n",
    "print(s2 ^ s1)"
   ]
  },
  {
   "cell_type": "code",
   "execution_count": 21,
   "id": "2737ff95-5b2b-40b4-a01c-63616e4b5897",
   "metadata": {},
   "outputs": [
    {
     "name": "stdout",
     "output_type": "stream",
     "text": [
      "False\n"
     ]
    }
   ],
   "source": [
    "s1 = {1}\n",
    "s2 = {1,2}\n",
    "print(s2 < s1)"
   ]
  },
  {
   "cell_type": "code",
   "execution_count": 24,
   "id": "d5fbc402-89d3-4860-8460-7e7454fc151e",
   "metadata": {},
   "outputs": [
    {
     "name": "stdout",
     "output_type": "stream",
     "text": [
      "True\n"
     ]
    }
   ],
   "source": [
    "print({1} < {1,2})"
   ]
  },
  {
   "cell_type": "code",
   "execution_count": 25,
   "id": "8960130c-fdfc-4f99-a963-0ba51f3479ad",
   "metadata": {},
   "outputs": [
    {
     "name": "stdout",
     "output_type": "stream",
     "text": [
      "True\n"
     ]
    }
   ],
   "source": [
    "print({1} < {1,2} > {2} <= {2,1} >= {1,2})"
   ]
  },
  {
   "cell_type": "code",
   "execution_count": 26,
   "id": "5a0deb69-9a03-4bab-9dcc-0057dec374ef",
   "metadata": {},
   "outputs": [
    {
     "name": "stdout",
     "output_type": "stream",
     "text": [
      "True\n"
     ]
    }
   ],
   "source": [
    "print({1} < {1,2})"
   ]
  },
  {
   "cell_type": "code",
   "execution_count": 28,
   "id": "556a2b88-c133-4502-903a-387aa340ef35",
   "metadata": {},
   "outputs": [
    {
     "name": "stdout",
     "output_type": "stream",
     "text": [
      "True\n"
     ]
    }
   ],
   "source": [
    "print({2} <= {2,1})"
   ]
  },
  {
   "cell_type": "code",
   "execution_count": 30,
   "id": "db9cee9f-f88c-44d6-a3c7-5cef6e8e03c9",
   "metadata": {},
   "outputs": [
    {
     "ename": "TypeError",
     "evalue": "'>=' not supported between instances of 'bool' and 'set'",
     "output_type": "error",
     "traceback": [
      "\u001b[0;31m---------------------------------------------------------------------------\u001b[0m",
      "\u001b[0;31mTypeError\u001b[0m                                 Traceback (most recent call last)",
      "Cell \u001b[0;32mIn[30], line 1\u001b[0m\n\u001b[0;32m----> 1\u001b[0m \u001b[38;5;28mprint\u001b[39m( \u001b[38;5;28;43;01mTrue\u001b[39;49;00m\u001b[43m \u001b[49m\u001b[38;5;241;43m>\u001b[39;49m\u001b[38;5;241;43m=\u001b[39;49m\u001b[43m \u001b[49m\u001b[43m{\u001b[49m\u001b[38;5;241;43m1\u001b[39;49m\u001b[43m,\u001b[49m\u001b[38;5;241;43m2\u001b[39;49m\u001b[43m}\u001b[49m)\n",
      "\u001b[0;31mTypeError\u001b[0m: '>=' not supported between instances of 'bool' and 'set'"
     ]
    }
   ],
   "source": [
    "print( True >= {1,2})"
   ]
  },
  {
   "cell_type": "code",
   "execution_count": 31,
   "id": "b367e783-a3b0-4639-a625-effe3450561f",
   "metadata": {},
   "outputs": [
    {
     "name": "stdout",
     "output_type": "stream",
     "text": [
      "True\n"
     ]
    }
   ],
   "source": [
    "print({1} < {1,2})"
   ]
  },
  {
   "cell_type": "code",
   "execution_count": 32,
   "id": "5ea32811-5371-4557-9827-d6e3cde033b8",
   "metadata": {},
   "outputs": [
    {
     "name": "stdout",
     "output_type": "stream",
     "text": [
      "True\n"
     ]
    }
   ],
   "source": [
    "print({1,2} > {2})"
   ]
  },
  {
   "cell_type": "code",
   "execution_count": 33,
   "id": "47d6d469-765e-43c1-8b98-64957fec6a13",
   "metadata": {},
   "outputs": [
    {
     "name": "stdout",
     "output_type": "stream",
     "text": [
      "True\n"
     ]
    }
   ],
   "source": [
    "print({2} <= {2,1})"
   ]
  },
  {
   "cell_type": "code",
   "execution_count": 34,
   "id": "e18c5346-6061-46e6-aab7-78d594572c69",
   "metadata": {},
   "outputs": [
    {
     "name": "stdout",
     "output_type": "stream",
     "text": [
      "True\n"
     ]
    }
   ],
   "source": [
    "print({2,1} >= {1,2})"
   ]
  },
  {
   "cell_type": "code",
   "execution_count": 35,
   "id": "e839638a-1615-41d9-a607-0d97fabf0967",
   "metadata": {},
   "outputs": [
    {
     "data": {
      "text/plain": [
       "True"
      ]
     },
     "execution_count": 35,
     "metadata": {},
     "output_type": "execute_result"
    }
   ],
   "source": [
    "True and True and True and True"
   ]
  },
  {
   "cell_type": "code",
   "execution_count": 43,
   "id": "c289fda9-c760-41f2-9632-1d42f7f584c6",
   "metadata": {},
   "outputs": [
    {
     "name": "stdout",
     "output_type": "stream",
     "text": [
      "{1, 2, 3}\n",
      "{3}\n"
     ]
    }
   ],
   "source": [
    "s1 = {1}\n",
    "s1 |= {1,2,3}\n",
    "print(s1)\n",
    "s1 -= {2,1}\n",
    "print(s1)"
   ]
  },
  {
   "cell_type": "code",
   "execution_count": 49,
   "id": "ca043a03-04f9-4343-bf9c-af472ebef48b",
   "metadata": {},
   "outputs": [
    {
     "name": "stdout",
     "output_type": "stream",
     "text": [
      "{1}\n",
      "{1, 2, 4}\n"
     ]
    }
   ],
   "source": [
    "s1 = {1}\n",
    "s2 = {1,2}\n",
    "print(s1)\n",
    "s2.update({4})\n",
    "print(s2)"
   ]
  },
  {
   "cell_type": "code",
   "execution_count": 51,
   "id": "e3395e35-0891-4263-978f-e72653338f11",
   "metadata": {},
   "outputs": [
    {
     "name": "stdout",
     "output_type": "stream",
     "text": [
      "{1}\n"
     ]
    },
    {
     "ename": "AttributeError",
     "evalue": "'set' object has no attribute 'modify'",
     "output_type": "error",
     "traceback": [
      "\u001b[0;31m---------------------------------------------------------------------------\u001b[0m",
      "\u001b[0;31mAttributeError\u001b[0m                            Traceback (most recent call last)",
      "Cell \u001b[0;32mIn[51], line 4\u001b[0m\n\u001b[1;32m      2\u001b[0m s2 \u001b[38;5;241m=\u001b[39m {\u001b[38;5;241m1\u001b[39m,\u001b[38;5;241m2\u001b[39m}\n\u001b[1;32m      3\u001b[0m \u001b[38;5;28mprint\u001b[39m(s1)\n\u001b[0;32m----> 4\u001b[0m \u001b[43ms2\u001b[49m\u001b[38;5;241;43m.\u001b[39;49m\u001b[43mmodify\u001b[49m(\u001b[38;5;241m2\u001b[39m,\u001b[38;5;241m1\u001b[39m)\n\u001b[1;32m      5\u001b[0m \u001b[38;5;28mprint\u001b[39m(s2)\n",
      "\u001b[0;31mAttributeError\u001b[0m: 'set' object has no attribute 'modify'"
     ]
    }
   ],
   "source": [
    "s1 = {1}\n",
    "s2 = {1,2}\n",
    "print(s1)\n",
    "s2.modify(2,1)\n",
    "print(s2)"
   ]
  },
  {
   "cell_type": "code",
   "execution_count": null,
   "id": "3f601cc0-ebc1-4e6a-9880-4e987afc62bd",
   "metadata": {},
   "outputs": [],
   "source": []
  }
 ],
 "metadata": {
  "kernelspec": {
   "display_name": "Python 3 (ipykernel)",
   "language": "python",
   "name": "python3"
  },
  "language_info": {
   "codemirror_mode": {
    "name": "ipython",
    "version": 3
   },
   "file_extension": ".py",
   "mimetype": "text/x-python",
   "name": "python",
   "nbconvert_exporter": "python",
   "pygments_lexer": "ipython3",
   "version": "3.12.8"
  }
 },
 "nbformat": 4,
 "nbformat_minor": 5
}
