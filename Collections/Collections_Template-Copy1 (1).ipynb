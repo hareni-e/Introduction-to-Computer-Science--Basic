{
 "cells": [
  {
   "cell_type": "markdown",
   "id": "c2782930-e1ad-4e13-be78-c1efc7d7a877",
   "metadata": {},
   "source": [
    "# Tuple Practice Challenges\n",
    "\n",
    "## Beginner Level\n",
    "\n",
    "### 1. Creating Tuples\n",
    "**Challenge**:  \n",
    "Create a tuple with 5 elements of different data types (e.g., an integer, string, float, list, and boolean). Print the tuple.\n",
    "\n",
    "**Goal**: Understand how to create and store different data types in a tuple.\n",
    "\n",
    "---\n",
    "\n",
    "\n",
    "\n"
   ]
  },
  {
   "cell_type": "code",
   "execution_count": null,
   "id": "205fb089-bc1c-446f-a293-f8d8764c36f4",
   "metadata": {},
   "outputs": [],
   "source": []
  },
  {
   "cell_type": "markdown",
   "id": "6a821e35-f469-4f67-9732-f1ac4f6c5f7a",
   "metadata": {},
   "source": [
    "### 2. Accessing Tuple Elements\n",
    "**Challenge**:  \n",
    "Given the tuple `t = (10, 20, 30, 40, 50)`, access and print the 3rd and 5th elements.\n",
    "\n",
    "**Goal**: Practice indexing and accessing elements from tuples."
   ]
  },
  {
   "cell_type": "code",
   "execution_count": null,
   "id": "a0fc402d-772b-41b5-bd3a-a20dbfb45451",
   "metadata": {},
   "outputs": [],
   "source": []
  },
  {
   "cell_type": "markdown",
   "id": "8201872e-646b-428b-b719-084ea0a7e8a1",
   "metadata": {},
   "source": [
    "---\n",
    "\n",
    "### 3. Slicing Tuples\n",
    "**Challenge**:  \n",
    "Given the tuple `t = ('apple', 'banana', 'cherry', 'date')`, slice and print the second and third elements.\n",
    "\n",
    "**Goal**: Learn tuple slicing.\n",
    "\n",
    "---\n",
    "\n"
   ]
  },
  {
   "cell_type": "code",
   "execution_count": null,
   "id": "a6cae70b-c235-442e-853c-c97646b50de5",
   "metadata": {},
   "outputs": [],
   "source": []
  },
  {
   "cell_type": "markdown",
   "id": "84f85d43-0f18-4858-8cf7-79a004817d4c",
   "metadata": {},
   "source": [
    "\n",
    "\n",
    "### 4. Tuple Immutability\n",
    "**Challenge**:  \n",
    "Try to change an element in the tuple `t = (1, 2, 3)` (e.g., try to set `t[0] = 5`) and see what happens.\n",
    "\n",
    "**Goal**: Understand that tuples are immutable.\n",
    "\n"
   ]
  },
  {
   "cell_type": "code",
   "execution_count": null,
   "id": "138913aa-87fc-4703-9286-95c299817c1d",
   "metadata": {},
   "outputs": [],
   "source": []
  },
  {
   "cell_type": "markdown",
   "id": "93b2511b-360c-4bc4-80e7-aaee7f39a901",
   "metadata": {},
   "source": [
    "\n",
    "## Intermediate Level\n",
    "\n",
    "### 5. Tuple Packing and Unpacking\n",
    "**Challenge**:  \n",
    "- Pack the values `1, 'hello', 3.14` into a tuple and unpack it into individual variables.\n",
    "- Print each variable.\n",
    "\n",
    "**Goal**: Understand how to pack and unpack tuple values.\n",
    "\n"
   ]
  },
  {
   "cell_type": "code",
   "execution_count": null,
   "id": "b248ca5a-6f20-41d2-b10e-aea7477c35c9",
   "metadata": {},
   "outputs": [],
   "source": []
  },
  {
   "cell_type": "markdown",
   "id": "7234532d-2c02-4528-a277-a30a8e056db8",
   "metadata": {},
   "source": [
    "\n",
    "### 6. Nested Tuples\n",
    "**Challenge**:  \n",
    "Create a tuple that contains another tuple. Access and print the inner tuple as well as specific elements from it.\n",
    "\n",
    "**Goal**: Learn how to handle nested tuples.\n",
    "\n"
   ]
  },
  {
   "cell_type": "code",
   "execution_count": null,
   "id": "56b4bb35-e766-4a26-87ab-a4263e327fa3",
   "metadata": {},
   "outputs": [],
   "source": []
  },
  {
   "cell_type": "markdown",
   "id": "fd751f56-9d0a-41da-ae6c-5dc660d72027",
   "metadata": {},
   "source": [
    "\n",
    "### 7. Tuple Length and Membership\n",
    "**Challenge**:  \n",
    "Given a tuple `t = (1, 2, 3, 4, 5)`, check if the number `3` is in the tuple, and also print the length of the tuple.\n",
    "\n",
    "**Goal**: Practice using the `len()` function and `in` keyword for tuples.\n",
    "\n"
   ]
  },
  {
   "cell_type": "code",
   "execution_count": null,
   "id": "7ba59ef8-f91e-469b-895e-3c941bed0711",
   "metadata": {},
   "outputs": [],
   "source": []
  },
  {
   "cell_type": "markdown",
   "id": "12246f25-9b99-4eb6-a991-9ad65e3c9619",
   "metadata": {},
   "source": [
    "\n",
    "### 8. Tuple Concatenation and Repetition\n",
    "**Challenge**:  \n",
    "- Concatenate the tuple `(1, 2, 3)` with `(4, 5, 6)` and print the result.\n",
    "- Repeat the tuple `(1, 2)` three times and print the result.\n",
    "\n",
    "**Goal**: Learn how to concatenate and repeat tuples.\n",
    "\n"
   ]
  },
  {
   "cell_type": "code",
   "execution_count": null,
   "id": "b049e358-dc49-4e2a-bd4a-d3b0980ee81f",
   "metadata": {},
   "outputs": [],
   "source": []
  },
  {
   "cell_type": "markdown",
   "id": "7dd38a10-584f-48d9-bb20-f28641b21b13",
   "metadata": {},
   "source": [
    "\n",
    "## Advanced Level\n",
    "\n",
    "### 9. Tuple as Dictionary Keys\n",
    "**Challenge**:  \n",
    "Create a dictionary where the keys are tuples (e.g., `(1, 2)`, `(3, 4)`), and the values are strings (e.g., `'a'`, `'b'`). Print the dictionary and access a value using a tuple key.\n",
    "\n",
    "**Goal**: Understand that tuples can be used as keys in dictionaries (because they are hashable).\n",
    "\n"
   ]
  },
  {
   "cell_type": "code",
   "execution_count": null,
   "id": "5d2d3603-6d90-4ecf-9aa5-b3d2e40afc7e",
   "metadata": {},
   "outputs": [],
   "source": []
  },
  {
   "cell_type": "markdown",
   "id": "1c31627f-3d70-4d1a-90b1-d90a982ebd2a",
   "metadata": {},
   "source": [
    "\n",
    "### 10. Advanced Tuple Unpacking\n",
    "**Challenge**:  \n",
    "- Given the tuple `t = (1, (2, 3), 4)`, unpack it into three variables such that the second element is unpacked as a nested tuple.\n",
    "- Example: `a, (b, c), d = t`. Print each value.\n",
    "\n",
    "**Goal**: Practice advanced tuple unpacking, including nested tuples.\n",
    "\n"
   ]
  },
  {
   "cell_type": "code",
   "execution_count": null,
   "id": "37d379cc-4c1f-4828-9c7a-785a59909dde",
   "metadata": {},
   "outputs": [],
   "source": []
  },
  {
   "cell_type": "markdown",
   "id": "22545bfa-4fa8-43e0-990c-889af0988983",
   "metadata": {},
   "source": [
    "### 11. Working with Tuple Methods\n",
    "**Challenge**:  \n",
    "- Create a tuple `t = (1, 2, 3, 4, 5, 6)`.\n",
    "- Use the `count()` method to count occurrences of a number (e.g., `2`), and the `index()` method to find the index of a value (e.g., `4`).\n",
    "\n",
    "**Goal**: Learn to use tuple methods like `count()` and `index()`.\n"
   ]
  },
  {
   "cell_type": "code",
   "execution_count": null,
   "id": "f54f2ea7-31e2-4048-9132-aac0d04a7107",
   "metadata": {},
   "outputs": [],
   "source": []
  },
  {
   "cell_type": "markdown",
   "id": "a1095608-1612-4c3e-bd1c-338608e2d478",
   "metadata": {},
   "source": [
    "\n",
    "### 12. Using Tuples for Swap Operations\n",
    "**Challenge**:  \n",
    "- Write a program to swap the values of two variables using tuple unpacking.\n",
    "- Example: `a = 10`, `b = 20`. After swapping, `a = 20`, `b = 10`.\n",
    "\n",
    "**Goal**: Understand how tuples can be used to perform operations like variable swapping in a concise way.\n",
    "\n"
   ]
  },
  {
   "cell_type": "code",
   "execution_count": null,
   "id": "ffa3e5b7-7cde-43fa-a523-a9dd7fa4a255",
   "metadata": {},
   "outputs": [],
   "source": []
  },
  {
   "cell_type": "markdown",
   "id": "abd8d6eb-7eb8-4da8-a5e3-78116e92f805",
   "metadata": {},
   "source": [
    "### 13. Tuple vs List Performance Comparison\n",
    "**Challenge**:  \n",
    "- Measure and compare the time taken to append 1,000,000 elements to a list and a tuple.\n",
    "- Note: You can use `time` module to measure execution time.\n",
    "\n",
    "**Goal**: Explore performance differences between lists and tuples for certain operations."
   ]
  },
  {
   "cell_type": "code",
   "execution_count": null,
   "id": "db570037-4a24-4a62-8a9f-622ae8659245",
   "metadata": {},
   "outputs": [],
   "source": []
  },
  {
   "cell_type": "markdown",
   "id": "0f797a8a-a5dc-4f07-9691-0dc3c2759220",
   "metadata": {},
   "source": [
    "### 14. Working with Tuples in Functions\n",
    "**Challenge**:  \n",
    "- Write a function that takes a tuple as an argument, adds 1 to each element (if possible), and returns the modified tuple.\n",
    "- Example: `t = (1, 2, 3)` should return `(2, 3, 4)`.\n",
    "\n",
    "**Goal**: Learn how to manipulate tuples in functions, considering their immutability.\n",
    "\n",
    "\n"
   ]
  },
  {
   "cell_type": "code",
   "execution_count": null,
   "id": "fd070966-c817-437f-871e-103c2eba8f62",
   "metadata": {},
   "outputs": [],
   "source": []
  },
  {
   "cell_type": "markdown",
   "id": "d6d976e7-3c17-43d4-a7c3-9a4d1d863d64",
   "metadata": {},
   "source": [
    "## Expert Level\n",
    "\n",
    "### 15. Using Tuples in Comprehensions\n",
    "**Challenge**:  \n",
    "- Create a tuple using a comprehension. For example, create a tuple of squares of numbers from 1 to 10.\n",
    "- Example: `(x**2 for x in range(1, 11))`.\n",
    "\n",
    "**Goal**: Practice using tuple comprehensions.\n"
   ]
  },
  {
   "cell_type": "code",
   "execution_count": null,
   "id": "8c181e7d-4f49-464b-855f-1ef2075d4885",
   "metadata": {},
   "outputs": [],
   "source": []
  },
  {
   "cell_type": "markdown",
   "id": "c07da645-a1f1-43cf-88ca-9c8a0dfcf446",
   "metadata": {},
   "source": [
    "### 16. Tuple Sorting and Conversion\n",
    "**Challenge**:  \n",
    "- Sort a tuple `(5, 1, 8, 3, 7)` in ascending order without converting it to a list (use `sorted()`), and print the result.\n",
    "- Convert the tuple to a set and print it (removing duplicates).\n",
    "\n",
    "**Goal**: Learn how to sort and convert tuples.\n"
   ]
  },
  {
   "cell_type": "code",
   "execution_count": null,
   "id": "28a66195-8e4f-4198-9087-db2a562f8cb7",
   "metadata": {},
   "outputs": [],
   "source": []
  },
  {
   "cell_type": "markdown",
   "id": "70707bd7-dc90-4ba0-9c24-45c0f3de18ac",
   "metadata": {},
   "source": [
    "### 17. Handling Large Tuples Efficiently\n",
    "**Challenge**:  \n",
    "- Write code to work with a large tuple (e.g., `10^6` elements), calculating the sum or other operations, and ensuring efficiency.\n",
    "- Measure performance and memory usage.\n",
    "\n",
    "**Goal**: Work with large data efficiently using tuples.\n"
   ]
  },
  {
   "cell_type": "code",
   "execution_count": null,
   "id": "04fc36d1-6b02-47cd-aea8-e79a0ceed2d2",
   "metadata": {},
   "outputs": [],
   "source": []
  },
  {
   "cell_type": "markdown",
   "id": "2c5ea8e8-9f3e-4985-b43f-d324d4c16dde",
   "metadata": {},
   "source": [
    "\n",
    "### 18. Immutability in Action: Use Case\n",
    "**Challenge**:  \n",
    "- Implement a program where using tuples makes more sense than lists (e.g., for representing fixed, unchanging data such as coordinates or RGB values).\n",
    "\n",
    "**Goal**: Understand the advantages of immutability in real-world applications.\n"
   ]
  },
  {
   "cell_type": "code",
   "execution_count": null,
   "id": "ffcca22a-97e7-47f6-a0da-00873e51bb7c",
   "metadata": {},
   "outputs": [],
   "source": []
  }
 ],
 "metadata": {
  "kernelspec": {
   "display_name": "Python 3 (ipykernel)",
   "language": "python",
   "name": "python3"
  },
  "language_info": {
   "codemirror_mode": {
    "name": "ipython",
    "version": 3
   },
   "file_extension": ".py",
   "mimetype": "text/x-python",
   "name": "python",
   "nbconvert_exporter": "python",
   "pygments_lexer": "ipython3",
   "version": "3.12.8"
  }
 },
 "nbformat": 4,
 "nbformat_minor": 5
}
