{
 "cells": [
  {
   "cell_type": "code",
   "execution_count": 25,
   "id": "f6ec902d-e17b-4074-9313-4872bf4ac9dc",
   "metadata": {},
   "outputs": [],
   "source": [
    "class Car:\n",
    "    def __init__(self,brand=None,model=None,year=None, distance =None, fuel= None): # connecting the variables to this class\n",
    "        self.brand = brand\n",
    "        self.model = model\n",
    "        self.year = year\n",
    "        self.distance = distance\n",
    "        self.fuel = fuel\n",
    "\n",
    "    def display(self):\n",
    "        if not self.brand and not self.model and not self.year:\n",
    "            print(\"Details not available\")\n",
    "        else:\n",
    "            print(f\"Car Brand : {self.brand}\")\n",
    "            print(f\"Car Model : {self.model}\")\n",
    "            print(f\"Car Year : {self.year}\")\n",
    "\n",
    "    def mileage(self):\n",
    "        mil = self.distance / self.fuel\n",
    "        #print(f\"Car Mileage : {mil}\")\n",
    "        return mil"
   ]
  },
  {
   "cell_type": "code",
   "execution_count": 26,
   "id": "5e583584-c4cc-4f51-9854-956440f3443e",
   "metadata": {},
   "outputs": [],
   "source": [
    "hareniCar = Car(\"Skoda\", \"Rapid\",\"2020\", 25,5) # Object"
   ]
  },
  {
   "cell_type": "code",
   "execution_count": 27,
   "id": "a9d5f331-35c4-46eb-9934-f43673750019",
   "metadata": {},
   "outputs": [
    {
     "name": "stdout",
     "output_type": "stream",
     "text": [
      "Car Brand : Skoda\n",
      "Car Model : Rapid\n",
      "Car Year : 2020\n"
     ]
    }
   ],
   "source": [
    "hareniCar.display()"
   ]
  },
  {
   "cell_type": "code",
   "execution_count": 28,
   "id": "80bd6c1b-8214-49bf-a278-5e798dd6fb02",
   "metadata": {},
   "outputs": [
    {
     "data": {
      "text/plain": [
       "5.0"
      ]
     },
     "execution_count": 28,
     "metadata": {},
     "output_type": "execute_result"
    }
   ],
   "source": [
    "hareniCar.mileage()"
   ]
  },
  {
   "cell_type": "code",
   "execution_count": 29,
   "id": "d0a07625-c7a0-4eb5-ba6c-75b5af1729ff",
   "metadata": {},
   "outputs": [
    {
     "name": "stdout",
     "output_type": "stream",
     "text": [
      "Car Brand : Skoda\n",
      "Car Model : Rapid\n",
      "Car Year : 2020\n"
     ]
    }
   ],
   "source": [
    "Car(\"Skoda\", \"Rapid\",\"2020\").display()"
   ]
  },
  {
   "cell_type": "code",
   "execution_count": 30,
   "id": "0d939228-42d5-419a-b35e-a3b6c567b5e2",
   "metadata": {},
   "outputs": [],
   "source": [
    "hareniCarMil = hareniCar.mileage()"
   ]
  },
  {
   "cell_type": "code",
   "execution_count": 31,
   "id": "9ab7b4df-d7c4-4190-9865-78094863bbb7",
   "metadata": {},
   "outputs": [
    {
     "name": "stdout",
     "output_type": "stream",
     "text": [
      "5.0\n"
     ]
    }
   ],
   "source": [
    "print(hareniCarMil)"
   ]
  },
  {
   "cell_type": "code",
   "execution_count": 32,
   "id": "6c88573a-fdd6-437e-8799-fded39e09035",
   "metadata": {},
   "outputs": [],
   "source": [
    "#acm = 3"
   ]
  },
  {
   "cell_type": "code",
   "execution_count": 35,
   "id": "7a5c6c86-e69e-4496-9468-b0e9f7970a38",
   "metadata": {},
   "outputs": [],
   "source": [
    "acm = Car(distance=30,fuel=5)"
   ]
  },
  {
   "cell_type": "code",
   "execution_count": 34,
   "id": "8f65cee8-8d8c-4504-a730-96a61d3075a2",
   "metadata": {},
   "outputs": [
    {
     "name": "stdout",
     "output_type": "stream",
     "text": [
      "Details not available\n"
     ]
    }
   ],
   "source": [
    "acm.display()"
   ]
  },
  {
   "cell_type": "code",
   "execution_count": null,
   "id": "42f91a30-8974-411e-9ec4-eb1e268fb578",
   "metadata": {},
   "outputs": [],
   "source": []
  },
  {
   "cell_type": "code",
   "execution_count": 45,
   "id": "1be57b7d-8497-4322-b43f-02ca67c2d388",
   "metadata": {},
   "outputs": [],
   "source": [
    "class Bike:\n",
    "    def __init__(self,params): # connecting the variables to this class\n",
    "        self.brand = params[\"brand\"]\n",
    "        self.model = params[\"model\"]\n",
    "        self.year = params[\"year\"]\n",
    "        self.distance = params[\"distance\"]\n",
    "        self.fuel = params[\"fuel\"]\n",
    "\n",
    "    def display(self):\n",
    "        if not self.brand and not self.model and not self.year:\n",
    "            print(\"Details not available\")\n",
    "        else:\n",
    "            print(f\"Bike Brand : {self.brand}\")\n",
    "            print(f\"Bike Model : {self.model}\")\n",
    "            print(f\"Bike Year : {self.year}\")\n",
    "\n",
    "    def mileage(self):\n",
    "        mil = self.distance / self.fuel\n",
    "        #print(f\"Car Mileage : {mil}\")\n",
    "        return mil"
   ]
  },
  {
   "cell_type": "code",
   "execution_count": 40,
   "id": "e63a746c-e27c-416a-b1a9-d319e29f59f0",
   "metadata": {},
   "outputs": [],
   "source": [
    "harenibdetail = {\"brand\":\"Lambo\",\n",
    "                \"model\": \"TH2\",\n",
    "                \"year\": 2002,\n",
    "                \"distance\" : 55,\n",
    "                \"fuel\": 5}"
   ]
  },
  {
   "cell_type": "code",
   "execution_count": 44,
   "id": "43a02375-80f8-4575-bab1-497e8bf0635c",
   "metadata": {},
   "outputs": [
    {
     "data": {
      "text/plain": [
       "'Lambo'"
      ]
     },
     "execution_count": 44,
     "metadata": {},
     "output_type": "execute_result"
    }
   ],
   "source": [
    "harenibdetail[\"brand\"]"
   ]
  },
  {
   "cell_type": "code",
   "execution_count": 46,
   "id": "22bda08c-25ab-4fa5-9a40-fd8b9fcd9872",
   "metadata": {},
   "outputs": [],
   "source": [
    "hareniBike = Bike(harenibdetail)"
   ]
  },
  {
   "cell_type": "code",
   "execution_count": 47,
   "id": "74da73ce-351d-4d94-ae7b-11528503eb5b",
   "metadata": {},
   "outputs": [
    {
     "name": "stdout",
     "output_type": "stream",
     "text": [
      "Bike Brand : Lambo\n",
      "Bike Model : TH2\n",
      "Bike Year : 2002\n"
     ]
    }
   ],
   "source": [
    "hareniBike.display()"
   ]
  },
  {
   "cell_type": "code",
   "execution_count": null,
   "id": "195245ae-ef59-4a7f-9299-01f0db02f776",
   "metadata": {},
   "outputs": [],
   "source": []
  }
 ],
 "metadata": {
  "kernelspec": {
   "display_name": "Python 3 (ipykernel)",
   "language": "python",
   "name": "python3"
  },
  "language_info": {
   "codemirror_mode": {
    "name": "ipython",
    "version": 3
   },
   "file_extension": ".py",
   "mimetype": "text/x-python",
   "name": "python",
   "nbconvert_exporter": "python",
   "pygments_lexer": "ipython3",
   "version": "3.12.8"
  }
 },
 "nbformat": 4,
 "nbformat_minor": 5
}
